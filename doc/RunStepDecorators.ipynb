{
 "cells": [
  {
   "cell_type": "markdown",
   "metadata": {},
   "source": [
    "# How to decorate the run_step() method (and why)\n",
    "\n",
    "The use of decorators is optional and intended to structure and make the `run_step()`method clearer and more compact.\n",
    "In order to use the decorators you have to import them as follows:"
   ]
  },
  {
   "cell_type": "code",
   "execution_count": 1,
   "metadata": {},
   "outputs": [],
   "source": [
    "import progressivis.core.decorators"
   ]
  },
  {
   "cell_type": "markdown",
   "metadata": {},
   "source": [
    "or :"
   ]
  },
  {
   "cell_type": "code",
   "execution_count": 2,
   "metadata": {},
   "outputs": [],
   "source": [
    "from progressivis.core.decorators import process_slot, run_if_any # , etc."
   ]
  },
  {
   "cell_type": "markdown",
   "metadata": {},
   "source": [
    "Currently there are two categories of decorators:\n",
    "\n",
    "* Slot processing decorators [sp-decorators]\n",
    "* Run condition decorators [rc-decorators]\n",
    "\n",
    "The two categories are inseparable.\n",
    "Of course you can develop run_step without decorators but if you choose to use the decorators, the `run_step()` method must be decorated by at least one sp-decorator followed by at least one rc-decorator\n",
    "\n",
    "## Slot processing decorators\n",
    "\n",
    "For now this category has only one decorator but it can be applied multiple times.\n"
   ]
  },
  {
   "cell_type": "code",
   "execution_count": 3,
   "metadata": {},
   "outputs": [],
   "source": [
    "def process_slot(*names, reset_if=('update', 'delete'), reset_cb=None):\n",
    "    pass"
   ]
  },
  {
   "cell_type": "markdown",
   "metadata": {},
   "source": [
    "* `reset_if` indicates if resetting is required and in which case. By default all (names) slots are reseted if deletions or modifications occurred on the input data (i.e. on at least one slot). Possible values are:\n",
    "  * `reset_if='update'` slots are reseted only if modifications occurred\n",
    "  * `reset_if='delete'` slots are reseted only if deletions occurred\n",
    "  * `reset_if='False'` slot are NOT reseted in any case\n",
    "* `reset_cb` is pertinent only when `reset_if` is not **False**. For now `reset_cb` can contain a method name (i.e. a string) to be called after the slot has been reseted. The method must not have arguments (except `self`)\n",
    "\n",
    "We will apply `process_slot()` once for all slots requiring the same treatment :"
   ]
  },
  {
   "cell_type": "code",
   "execution_count": 4,
   "metadata": {},
   "outputs": [],
   "source": [
    "from progressivis.table.module import TableModule\n",
    "from progressivis.core.slot import SlotDescriptor\n",
    "from progressivis.table.table import Table\n",
    "from progressivis.core.decorators import *\n",
    "\n",
    "class FooModule(TableModule):\n",
    "    inputs = [SlotDescriptor('a', type=Table, required=True),\n",
    "              SlotDescriptor('b', type=Table, required=True),\n",
    "              SlotDescriptor('c', type=Table, required=True),\n",
    "              SlotDescriptor('d', type=Table, required=True),\n",
    "    ]\n",
    "\n",
    "    @process_slot(\"a\", \"b\", \"c\", \"d\", reset_if=False)    \n",
    "    @run_if_any # mandatory run condition decorator, explained below\n",
    "    def run_step(self, run_number, step_size, quantum):\n",
    "        with self.context as ctx:\n",
    "            pass # do something"
   ]
  },
  {
   "cell_type": "markdown",
   "metadata": {},
   "source": [
    "We can  apply process_slot() many times when the treatments on slots differ:"
   ]
  },
  {
   "cell_type": "code",
   "execution_count": 5,
   "metadata": {},
   "outputs": [],
   "source": [
    "class FooModule(TableModule):\n",
    "    inputs = [SlotDescriptor('a', type=Table, required=True),\n",
    "              SlotDescriptor('b', type=Table, required=True),\n",
    "              SlotDescriptor('c', type=Table, required=True),\n",
    "              SlotDescriptor('d', type=Table, required=True),\n",
    "    ]\n",
    "\n",
    "    def reset(self):\n",
    "        pass # do some reset related treatments\n",
    "    \n",
    "    @process_slot(\"a\", \"b\", reset_cb='reset') # by default reset_if=('update', 'delete')\n",
    "    @process_slot(\"c\", reset_if='update')\n",
    "    @process_slot(\"d\", reset_if=False)\n",
    "    @run_if_any # mandatory run condition decorator, explained below\n",
    "    def run_step(self, run_number, step_size, quantum):\n",
    "        with self.context as ctx:\n",
    "            pass # do something"
   ]
  },
  {
   "cell_type": "markdown",
   "metadata": {},
   "source": [
    "## Run condition decorators\n",
    "\n",
    "These decorators define the conditions that allow the execution of the decorated run_step () method.\n",
    "\n",
    "They are :\n",
    "\n",
    "* @run_if_any with possible extension @and_any\n",
    "* @run_if_all with possible extension @or_all\n",
    "* @run_always\n",
    "\n",
    "### The @run_if_any decorator\n",
    "\n",
    "Allows execution of the decorated run_step() method if and only if at least one entry contains new data. It can be used with or without arguments which are slot names. When called without arguments it applies to all entry slots:"
   ]
  },
  {
   "cell_type": "code",
   "execution_count": 6,
   "metadata": {},
   "outputs": [],
   "source": [
    "    # @run_if_any without arguments\n",
    "    @process_slot(\"a\", \"b\", \"c\", \"d\") \n",
    "    @run_if_any # run if at least one among \"a\", \"b\", \"c\", \"d\" slots contains new data\n",
    "    def run_step(self, run_number, step_size, quantum):\n",
    "        with self.context as ctx:\n",
    "            pass # do something"
   ]
  },
  {
   "cell_type": "code",
   "execution_count": 7,
   "metadata": {},
   "outputs": [],
   "source": [
    "    # @run_if_any with arguments    \n",
    "    @process_slot(\"a\", \"b\", \"c\", \"d\") \n",
    "    @run_if_any(\"b\", \"d\") # run if at least one between b\" and \"d\" slots contains new data\n",
    "    def run_step(self, run_number, step_size, quantum):\n",
    "        with self.context as ctx:\n",
    "            pass # do something"
   ]
  },
  {
   "cell_type": "markdown",
   "metadata": {},
   "source": [
    "### The @and_any extension decorator\n",
    "\n",
    "It makes possible nested conditions (2 levels) in the form :\n",
    "`(a | b | ...) & (x | y | ...) & ...`"
   ]
  },
  {
   "cell_type": "code",
   "execution_count": 8,
   "metadata": {},
   "outputs": [],
   "source": [
    "    # (a|c) & (b|d)\n",
    "    @process_slot(\"a\", \"b\", \"c\", \"d\") \n",
    "    @run_if_any(\"a\", \"c\")\n",
    "    @and_any(\"b\", \"d\") \n",
    "    def run_step(self, run_number, step_size, quantum):\n",
    "        with self.context as ctx:\n",
    "            pass # do something"
   ]
  },
  {
   "cell_type": "markdown",
   "metadata": {},
   "source": [
    "### The @run_if_all decorator\n",
    "\n",
    "Allows execution of the decorated run_step() method if and only if all entries contain new data. It can be used with or without arguments which are slot names. When called without arguments it applies to all entry slots:"
   ]
  },
  {
   "cell_type": "code",
   "execution_count": 9,
   "metadata": {},
   "outputs": [],
   "source": [
    "    # @run_if_all without arguments\n",
    "    @process_slot(\"a\", \"b\", \"c\", \"d\") \n",
    "    @run_if_all # all \"a\", \"b\", \"c\", \"d\" slots contains new data\n",
    "    def run_step(self, run_number, step_size, quantum):\n",
    "        with self.context as ctx:\n",
    "            pass # do something"
   ]
  },
  {
   "cell_type": "code",
   "execution_count": 10,
   "metadata": {},
   "outputs": [],
   "source": [
    "    # @run_if_all with arguments\n",
    "    @process_slot(\"a\", \"b\", \"c\", \"d\") \n",
    "    @run_if_all(\"b\", \"d\") # run if both b\" and \"d\" slots contains new data\n",
    "    def run_step(self, run_number, step_size, quantum):\n",
    "        with self.context as ctx:\n",
    "            pass # do something"
   ]
  },
  {
   "cell_type": "markdown",
   "metadata": {},
   "source": [
    "### The @or_all extension decorator\n",
    "\n",
    "It makes possible nested conditions (2 levels) in the form :\n",
    "`(a & b & ...) | (x & y & ...) | ...`"
   ]
  },
  {
   "cell_type": "code",
   "execution_count": 11,
   "metadata": {},
   "outputs": [],
   "source": [
    "    # (a&c) | (b&d)\n",
    "    @process_slot(\"a\", \"b\", \"c\", \"d\") \n",
    "    @run_if_all(\"a\", \"c\")\n",
    "    @or_all(\"b\", \"d\") \n",
    "    def run_step(self, run_number, step_size, quantum):\n",
    "        with self.context as ctx:\n",
    "            pass # do something"
   ]
  },
  {
   "cell_type": "markdown",
   "metadata": {},
   "source": [
    "### The @run_always decorator\n",
    "\n",
    "Allows the execution of the decorated run_step() method **always**.\n"
   ]
  },
  {
   "cell_type": "code",
   "execution_count": 12,
   "metadata": {},
   "outputs": [],
   "source": [
    "    @process_slot(\"a\", \"b\", \"c\", \"d\") \n",
    "    @run_always\n",
    "    def run_step(self, run_number, step_size, quantum):\n",
    "        with self.context as ctx:\n",
    "            pass # do something"
   ]
  }
 ],
 "metadata": {
  "kernelspec": {
   "display_name": "Python 3",
   "language": "python",
   "name": "python3"
  },
  "language_info": {
   "codemirror_mode": {
    "name": "ipython",
    "version": 3
   },
   "file_extension": ".py",
   "mimetype": "text/x-python",
   "name": "python",
   "nbconvert_exporter": "python",
   "pygments_lexer": "ipython3",
   "version": "3.7.4"
  }
 },
 "nbformat": 4,
 "nbformat_minor": 2
}

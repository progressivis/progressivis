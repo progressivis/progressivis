{
 "cells": [
  {
   "cell_type": "markdown",
   "metadata": {},
   "source": [
    "# Writing a module\n",
    "\n",
    "Calculation modules are most often subclasses of the *progressivis.table.module.TableModule* class. A lower level class exists (*progressivis.core.Module*) but it is unsuitable for direct use.\n",
    "\n",
    "As a general rule, to define a new module you must:\n",
    "\n",
    "1. Create a subclass of TableModule\n",
    "2. Define the input slots on this class via a class attribute called `inputs`\n",
    "3. Define on this class, only if necessary, additional output slots via a class attribute called `outputs` , knowing that the default output named `\"table\"`  is already defined in TableModule and inherited by your class.\n",
    "4. Define the `run_step()` method on this class. This method implements your algorithm.\n",
    "\n",
    "**NB:** For the sake of brevity, the examples which follow are devoid of a certain number of validity checks, however essential in a \"real life\", reliable software."
   ]
  },
  {
   "cell_type": "code",
   "execution_count": null,
   "metadata": {},
   "outputs": [],
   "source": [
    "from progressivis.table.module import TableModule, Table\n",
    "from progressivis import SlotDescriptor\n",
    "\n",
    "class MyModule(TableModule):\n",
    "    inputs = [SlotDescriptor('first', type=Table, required=True), \n",
    "              SlotDescriptor('second', type=Table, required=True)]\n",
    "    # defining the \"outputs\" attribute is not necessary when \n",
    "    # only one output is requested. Just use the already defined \"table\" output\n",
    "    def run_step(self, run_number, step_size, quantum):\n",
    "        \"\"\"\n",
    "        * run_number: identifies the current run step\n",
    "        * step_size: number of rows to be processed in this step\n",
    "        * quantum: assigned time for this step\n",
    "        \"\"\" \n",
    "        pass # your algorithm "
   ]
  },
  {
   "cell_type": "markdown",
   "metadata": {},
   "source": [
    "## Writing a `run_step()` method \n",
    "\n",
    "Regardless of the algorithm implemented, we can identify eight parts in the method which will be more or less well separated:\n",
    "\n",
    "1. Analysis of input slots\n",
    "2. Special actions if the state of the slots requires it\n",
    "3. Choice of the size of the data that will be consumed on the slots\n",
    "4. Effective reading on slots\n",
    "5. Processing itself\n",
    "6. Creation of output objects (only once, before the first output write)\n",
    "7. Writing output data\n",
    "8. Return of the next module state and number of steps taken\n",
    "\n",
    "**NB:** in the next examples focused lines are commented like that: # /!\\\n",
    "\n",
    "### Analyze input slots\n",
    "\n",
    "Analysis is possible via several methods available on an input slot object.\n",
    "\n",
    "Access to the entry slots can be done by name:"
   ]
  },
  {
   "cell_type": "code",
   "execution_count": null,
   "metadata": {},
   "outputs": [],
   "source": [
    "class MyModule(TableModule):\n",
    "    inputs = [SlotDescriptor('first', type=Table, required=True), \n",
    "              SlotDescriptor('second', type=Table, required=True)]\n",
    "    def run_step(self, run_number, step_size, quantum):\n",
    "        slot = self.get_input_slot('first') # /!\\\n",
    "        # ..."
   ]
  },
  {
   "cell_type": "markdown",
   "metadata": {},
   "source": [
    "We can also process slots in a loop:"
   ]
  },
  {
   "cell_type": "code",
   "execution_count": null,
   "metadata": {},
   "outputs": [],
   "source": [
    "class MyModule(TableModule):\n",
    "    inputs = [SlotDescriptor('first', type=Table, required=True), \n",
    "              SlotDescriptor('second', type=Table, required=True)]\n",
    "    def run_step(self, run_number, step_size, quantum):\n",
    "        for slot_name, slot in self._input_slots.items(): # /!\\\n",
    "            if slot is None: # e.g. _params slot not provided\n",
    "                continue\n",
    "            # ..."
   ]
  },
  {
   "cell_type": "markdown",
   "metadata": {},
   "source": [
    "Available methods:\n",
    "\n",
    "* `slot.has_buffered()`: informs if data has been created / modified / deleted, without distinction since the last run\n",
    "* `slot.created.any()`: data has been created since the last run\n",
    "* `slot.updated.any()`: data has been modified since the last run\n",
    "* `slot.deleted.any()`: data has been deleted since the last run\n",
    "* `slot.created.length()`: number of rows created since the last run\n",
    "* `slot.updated.length()`: number of rows modified since the last run\n",
    "* `slot.deleted.length()`: number of rows deleted since the last run\n",
    "\n",
    "All of these methods are idempotent.\n",
    "\n",
    "### Special actions if the state of the slots requires it\n",
    "\n",
    "After analysis, depending on the state of the inputs and the semantics of your module, several situations may arise:\n",
    "\n",
    "* If one or more slots have not changed since the last execution (according to your processing needs) the execution stops and the module switches to \"blocked\" state (waiting for new data):"
   ]
  },
  {
   "cell_type": "code",
   "execution_count": null,
   "metadata": {},
   "outputs": [],
   "source": [
    "class MyModule(TableModule):\n",
    "    inputs = [SlotDescriptor('first', type=Table, required=True), \n",
    "              SlotDescriptor('second', type=Table, required=True)]\n",
    "    def run_step(self, run_number, step_size, quantum):\n",
    "        slot = self.get_input_slot('first')\n",
    "        if not slot.has_buffered():\n",
    "            return self._return_run_step(self.state_blocked, steps_run=0) # /!\\\n",
    "        # ..."
   ]
  },
  {
   "cell_type": "markdown",
   "metadata": {},
   "source": [
    "* Most of the time, the modification or deletion of data already processed invalidates the result already produced. When this happens, your `run_step()` method should:\n",
    "     * repair the results already produced when possible\n",
    "     * or reinitialize the concerned slot (and sometimes other slots involved in the operation) as well as the output and start the processing from scratch.\n",
    "\n",
    "Repair, when possible, is closely related to the semantics of your algorithm so this is not covered here, but the reset operation is algorithm-agnostic:"
   ]
  },
  {
   "cell_type": "code",
   "execution_count": null,
   "metadata": {},
   "outputs": [],
   "source": [
    "class Max(TableModule):\n",
    "    inputs = [SlotDescriptor('table', type=Table, required=True)]\n",
    "    def run_step(self, run_number, step_size, quantum):\n",
    "        slot = self.get_input_slot('table')\n",
    "        if slot.updated.any() or slot.deleted.any():\n",
    "            slot.reset()\n",
    "            if self._table is not None:\n",
    "                self._table.resize(0)\n",
    "            slot.update(run_number)\n",
    "        # ..."
   ]
  },
  {
   "cell_type": "markdown",
   "metadata": {},
   "source": [
    "**NB:** The most common cases requiring a reset can be expressed in a simplified form based on decorators. For more details consult the [notebook](./RunStepDecorators.ipynb)\n",
    "\n",
    "**NB:** sometimes resetting only the impacted slot is not sufficient:"
   ]
  },
  {
   "cell_type": "code",
   "execution_count": null,
   "metadata": {},
   "outputs": [],
   "source": [
    "class Hadamard(TableModule):\n",
    "    inputs = [SlotDescriptor('x1', type=Table, required=True), \n",
    "              SlotDescriptor('x2', type=Table, required=True)]\n",
    "    def run_step(self, run_number, step_size, quantum):\n",
    "        x1 = self.get_input_slot('x1')\n",
    "        x2 = self.get_input_slot('x2')\n",
    "        if x1.updated.any() or x1.deleted.any() or x2.updated.any() or x2.deleted.any():\n",
    "            x1.reset()\n",
    "            x2.reset()\n",
    "            if self._table is not None:\n",
    "                self._table.resize(0)\n",
    "            x1.update(run_number)        \n",
    "            x2.update(run_number)\n",
    "        # ... process element-wise x1 * x2"
   ]
  },
  {
   "cell_type": "markdown",
   "metadata": {},
   "source": [
    "**NB:** Always call slot.update() after a slot.reset()\n",
    "\n",
    "### Choice of the size of the data that will be consumed on the slots\n",
    "\n",
    "When there is only one input slot, the data size is given by the `step_size` argument but when there are several slots, you have to choose the size of data that you are able to process in a step:"
   ]
  },
  {
   "cell_type": "code",
   "execution_count": null,
   "metadata": {},
   "outputs": [],
   "source": [
    "class Hadamard(TableModule):\n",
    "    inputs = [SlotDescriptor('x1', type=Table, required=True), \n",
    "              SlotDescriptor('x2', type=Table, required=True)]\n",
    "    def run_step(self, run_number, step_size, quantum):\n",
    "        x1 = self.get_input_slot('x1')\n",
    "        x2 = self.get_input_slot('x2')\n",
    "        if x1.updated.any() or x1.deleted.any() or x2.updated.any() or x2.deleted.any():\n",
    "            x1.reset()\n",
    "            x2.reset()\n",
    "            if self._table is not None:\n",
    "                self._table.resize(0)\n",
    "            x1.update(run_number)        \n",
    "            x2.update(run_number)\n",
    "        step_size = min(x1.created.length(), x2.created.length(), step_size) # /!\\\n",
    "        # ... process element-wise x1 * x2"
   ]
  },
  {
   "cell_type": "markdown",
   "metadata": {},
   "source": [
    "### Effective reading on the slots\n",
    "\n",
    "The key method in this step is the `next()` method called with the size estimated in the previous step. \n",
    "Calling `slot.created.next(step_size)` can get `n <=step_size` rows if `slot.created.length() <=step_size` but never more rows than asked:"
   ]
  },
  {
   "cell_type": "code",
   "execution_count": null,
   "metadata": {},
   "outputs": [],
   "source": [
    "class Max(TableModule):\n",
    "    inputs = [SlotDescriptor('table', type=Table, required=True)]\n",
    "    def run_step(self, run_number, step_size, quantum):\n",
    "        slot = self.get_input_slot('table')\n",
    "        if slot.updated.any() or slot.deleted.any():\n",
    "            slot.reset()\n",
    "            if self._table is not None:\n",
    "                self._table.resize(0)\n",
    "            slot.update(run_number)\n",
    "        indices = slot.created.next(step_size) # /!\\ \n",
    "        steps = indices_len(indices)\n",
    "        if steps==0:\n",
    "            return self._return_run_step(self.state_blocked, steps_run=0)\n",
    "        # ..."
   ]
  },
  {
   "cell_type": "markdown",
   "metadata": {},
   "source": [
    "And also:"
   ]
  },
  {
   "cell_type": "code",
   "execution_count": null,
   "metadata": {},
   "outputs": [],
   "source": [
    "class Hadamard(TableModule):\n",
    "    inputs = [SlotDescriptor('x1', type=Table, required=True), \n",
    "              SlotDescriptor('x2', type=Table, required=True)]\n",
    "    def run_step(self, run_number, step_size, quantum):\n",
    "        x1 = self.get_input_slot('x1')\n",
    "        x2 = self.get_input_slot('x2')\n",
    "        if x1.updated.any() or x1.deleted.any() or x2.updated.any() or x2.deleted.any():\n",
    "            x1.reset()\n",
    "            x2.reset()\n",
    "            if self._table is not None:\n",
    "                self._table.resize(0)\n",
    "            x1.update(run_number)        \n",
    "            x2.update(run_number)\n",
    "        step_size = min(x1.created.length(), x2.created.length(), step_size) \n",
    "        x1_indices = x1.created.next(step_size) # /!\\ \n",
    "        x2_indices = x2.created.next(step_size) # /!\\ \n",
    "        # ... process element-wise x1 * x2"
   ]
  },
  {
   "cell_type": "markdown",
   "metadata": {},
   "source": [
    "**NB:** the `next()` method is NOT idempotent! One has to run it only after having checked that all the conditions to finalize the step are met.\n",
    "\n",
    "### The treatment itself\n",
    "\n",
    "This part is related to your algorithm. You can access the data of a slot via the `data()` method. The data associated with a slot are most of the time `Table` objects and sometimes` PsDict` objects. `Table` objects have a **Pandas-alike** interface (a subset, actually) while` PsDict` objects are Python dictionaries (`PsDict` inherits from` dict`).\n",
    "\n",
    "As the `next()` method could return a slice (numpy-alike) when the indices are contiguous or the set of indices if they are not (actually a Roaring bitmap), two other functions are important for this step:\n",
    "\n",
    "* `indices_len(indices)`: get the number of indices regardless of the nature of `indices` (slice or bitmap)\n",
    "* `fix_loc(indices)` : get a valid Pandas-alike `loc` index regardless of the nature of `indices` (slice or bitmap)\n",
    "\n",
    "For example:"
   ]
  },
  {
   "cell_type": "code",
   "execution_count": null,
   "metadata": {},
   "outputs": [],
   "source": [
    "class Max(TableModule):\n",
    "    inputs = [SlotDescriptor('table', type=Table, required=True)]\n",
    "    def run_step(self, run_number, step_size, quantum):\n",
    "        slot = self.get_input_slot('table')\n",
    "        if slot.updated.any() or slot.deleted.any():\n",
    "            slot.reset()\n",
    "            if self._table is not None:\n",
    "                self._table.resize(0)\n",
    "            slot.update(run_number)\n",
    "        indices = slot.created.next(step_size) # /!\\ \n",
    "        steps = indices_len(indices) # /!\\\n",
    "        if steps==0:\n",
    "            return self._return_run_step(self.state_blocked, steps_run=0)\n",
    "        op = data.loc[fix_loc(indices)].max(keepdims=False) # /!\\\n",
    "        # ..."
   ]
  },
  {
   "cell_type": "markdown",
   "metadata": {},
   "source": [
    "### Creation of output objects\n",
    "\n",
    "This creation takes place only once before the first write out. \n",
    "The following times, the created object will be updated, emptied at the time of resets but it must not be re-created in order not to mislead the change manager.\n",
    "The default output slot is called `\"table\"` and is inherited from the `TableModule` superclass. It is associated with the `_table` attribute assigned to `None` initially.\n",
    "The type could be `PsDict` or `Table`:\n"
   ]
  },
  {
   "cell_type": "code",
   "execution_count": null,
   "metadata": {},
   "outputs": [],
   "source": [
    "    def run_step(self, run_number, step_size, quantum):\n",
    "        slot = self.get_input_slot('table')\n",
    "        if slot.updated.any() or slot.deleted.any():\n",
    "            slot.reset()\n",
    "            if self._table is not None:\n",
    "                self._table.resize(0)\n",
    "            slot.update(run_number)\n",
    "        indices = slot.created.next(step_size) \n",
    "        steps = indices_len(indices)\n",
    "        if steps==0:\n",
    "            return self._return_run_step(self.state_blocked, steps_run=0)\n",
    "        data = slot.data()\n",
    "        op = data.loc[fix_loc(indices)].max(keepdims=False)\n",
    "        if self._table is None:\n",
    "            self._table = PsDict(op) # /!\\"
   ]
  },
  {
   "cell_type": "markdown",
   "metadata": {},
   "source": [
    "### Writing output data\n",
    "\n",
    "This step cannot be completely dissociated from the previous one (see the previous example). When the output object is a `PsDict` things are pretty simple:"
   ]
  },
  {
   "cell_type": "code",
   "execution_count": null,
   "metadata": {},
   "outputs": [],
   "source": [
    "    def run_step(self, run_number, step_size, quantum):\n",
    "        slot = self.get_input_slot('table')\n",
    "        if slot.updated.any() or slot.deleted.any():\n",
    "            slot.reset()\n",
    "            if self._table is not None:\n",
    "                self._table.resize(0)\n",
    "            slot.update(run_number)\n",
    "        indices = slot.created.next(step_size) \n",
    "        steps = indices_len(indices)\n",
    "        if steps==0:\n",
    "            return self._return_run_step(self.state_blocked, steps_run=0)\n",
    "        data = slot.data()\n",
    "        op = data.loc[fix_loc(indices)].max(keepdims=False)\n",
    "        if self._table is None:\n",
    "            self._table = PsDict(op)\n",
    "        else: # /!\\\n",
    "            for k, v in self._table.items():\n",
    "                self._table[k] = np.maximum(op[k], v)"
   ]
  },
  {
   "cell_type": "markdown",
   "metadata": {},
   "source": [
    "### Return of the module next state and number of steps performed\n",
    "\n",
    "We saw previously that when the conditions are not met to produce a result, the `run_step()` method calls the `_return_run_step()` method. This same method is used to produce the return value after finishing the job:"
   ]
  },
  {
   "cell_type": "code",
   "execution_count": null,
   "metadata": {},
   "outputs": [],
   "source": [
    "    def run_step(self, run_number, step_size, quantum):\n",
    "        slot = self.get_input_slot('table')\n",
    "        if slot.updated.any() or slot.deleted.any():\n",
    "            slot.reset()\n",
    "            if self._table is not None:\n",
    "                self._table.resize(0)\n",
    "            slot.update(run_number)\n",
    "        indices = slot.created.next(step_size) \n",
    "        steps = indices_len(indices)\n",
    "        if steps==0:\n",
    "            return self._return_run_step(self.state_blocked, steps_run=0)\n",
    "        data = slot.data()\n",
    "        op = data.loc[fix_loc(indices)].max(keepdims=False)\n",
    "        if self._table is None:\n",
    "            self._table = PsDict(op)\n",
    "        else:\n",
    "            for k, v in self._table.items():\n",
    "                self._table[k] = np.maximum(op[k], v)\n",
    "        return self._return_run_step(self.next_state(slot), steps_run=steps) # /!\\"
   ]
  },
  {
   "cell_type": "markdown",
   "metadata": {},
   "source": [
    "The case where the output is a table is illustrated by the following module:"
   ]
  },
  {
   "cell_type": "code",
   "execution_count": null,
   "metadata": {},
   "outputs": [],
   "source": [
    "class Hadamard(TableModule):\n",
    "    inputs = [SlotDescriptor('x1', type=Table, required=True), \n",
    "              SlotDescriptor('x2', type=Table, required=True)]\n",
    "\n",
    "    def reset(self):\n",
    "        if self._table is not None:\n",
    "            self._table.resize(0)\n",
    "    \n",
    "    def run_step(self, run_number, step_size, quantum):\n",
    "        x1 = self.get_input_slot('x1')\n",
    "        x2 = self.get_input_slot('x2')\n",
    "        if x1.updated.any() or x1.deleted.any() or x2.updated.any() or x2.deleted.any():\n",
    "            x1.reset()\n",
    "            x2.reset()\n",
    "            if self._table is not None:\n",
    "                self._table.resize(0)\n",
    "            x1.update(run_number)        \n",
    "            x2.update(run_number)\n",
    "        step_size = min(x1.created.length(), x2.created.length(), step_size)\n",
    "        x1_indices = x1.created.next(step_size)\n",
    "        x2_indices = x2.created.next(step_size) \n",
    "        res = {}\n",
    "        data1 = x1.data().loc[fix_loc(x1_indices)]\n",
    "        data2 = x2.data().loc[fix_loc(x2_indices)]\n",
    "        assert data1.columns == data2.columns\n",
    "        for col in  data1.columns:\n",
    "            res[col] = np.multiply(data1[col],\n",
    "                              data2[col])\n",
    "        if self._table is None:\n",
    "            self._table = Table(name='simple_hadamard', data=res, create=True)\n",
    "        else:\n",
    "            self._table.append(res)\n",
    "        return self._return_run_step(self.next_state(x1), steps_run=step_size)"
   ]
  },
  {
   "cell_type": "markdown",
   "metadata": {},
   "source": [
    "## Running a module\n",
    "\n",
    "In order to run the previous module we will use the `RandomTable` module to provide inputs as well as the `Print` module. \n",
    "These modules are part of **Progressivis**.\n",
    "Since the execution of **Progressivis** is asynchronous, the `start()` method of the scheduler is a coroutine and is executed with **`await`**.\n",
    "\n",
    "**NB:** A recent version of **Jupyter** is required"
   ]
  },
  {
   "cell_type": "code",
   "execution_count": null,
   "metadata": {},
   "outputs": [],
   "source": [
    "from progressivis.core import Scheduler\n",
    "from progressivis.core import aio\n",
    "from progressivis import Print\n",
    "from progressivis.stats import RandomTable\n",
    "from progressivis.core.utils import indices_len, fix_loc\n",
    "import numpy as np\n",
    "\n",
    "s = Scheduler()\n",
    "random1 = RandomTable(3, rows=100000, scheduler=s)\n",
    "random2 = RandomTable(3, rows=100000, scheduler=s)\n",
    "module = Hadamard(scheduler=s)\n",
    "module.input.x1 = random1.output.table\n",
    "module.input.x2 = random2.output.table        \n",
    "pr=Print(scheduler=s)\n",
    "pr.input.df = module.output.table\n",
    "await s.start()\n",
    "res1 = np.multiply(random1.table().to_array(),\n",
    "                random2.table().to_array())\n",
    "res2 = module.table().to_array()\n",
    "print(\"Check:\", np.allclose(res1, res2, equal_nan=True))"
   ]
  }
 ],
 "metadata": {
  "kernelspec": {
   "display_name": "Python 3",
   "language": "python",
   "name": "python3"
  },
  "language_info": {
   "codemirror_mode": {
    "name": "ipython",
    "version": 3
   },
   "file_extension": ".py",
   "mimetype": "text/x-python",
   "name": "python",
   "nbconvert_exporter": "python",
   "pygments_lexer": "ipython3",
   "version": "3.7.4"
  }
 },
 "nbformat": 4,
 "nbformat_minor": 2
}

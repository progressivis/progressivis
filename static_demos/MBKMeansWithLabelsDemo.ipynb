{
 "cells": [
  {
   "cell_type": "code",
   "execution_count": 1,
   "metadata": {},
   "outputs": [],
   "source": [
    "from progressivis_nb_widgets import *"
   ]
  },
  {
   "cell_type": "code",
   "execution_count": 2,
   "metadata": {},
   "outputs": [],
   "source": [
    "from progressivis import Scheduler, Every#, log_level\n",
    "from progressivis.cluster import MBKMeans, MBKMeansFilter\n",
    "from progressivis.io import CSVLoader\n",
    "from progressivis.vis import MCScatterPlot\n",
    "from progressivis.datasets import get_dataset\n",
    "from progressivis.stats import RandomTable\n",
    "from progressivis.core.utils import gather_and_run\n",
    "from progressivis.utils.psdict import PsDict\n",
    "import pandas as pd\n",
    "import numpy as np\n",
    "import os.path\n",
    "import tempfile\n",
    "from progressivis.datasets.random import generate_random_multivariate_normal_csv as gen_csv\n",
    "try:\n",
    "    s = scheduler\n",
    "except NameError:\n",
    "    s = Scheduler()\n",
    "    #log_level(package=\"progressivis.cluster\")\n",
    "\n",
    "dir_name = os.path.join(tempfile.gettempdir(), 'progressivis_tmp_')\n",
    "os.makedirs(dir_name, exist_ok=True)\n",
    "file_name = os.path.join(dir_name, \"foobar.csv\")\n",
    "gen_csv(file_name, rows=1_000_000, reset=True) \n",
    "data = CSVLoader(file_name, skipinitialspace=True, header=None, index_col=False,scheduler=s)\n",
    "n_clusters = 3\n",
    "mbkmeans = MBKMeans(columns=['_0', '_1'], n_clusters=n_clusters, \n",
    "                    batch_size=100, tol=0.01, is_input=False, scheduler=s)\n",
    "mbkmeans.create_dependent_modules(data)\n",
    "classes = []\n",
    "for i in range(n_clusters):\n",
    "    cname = f\"k{i}\"\n",
    "    filt = MBKMeansFilter(i, scheduler=s)\n",
    "    filt.create_dependent_modules(mbkmeans, data, 'result')\n",
    "    classes.append({'name': cname, 'x_column': '_0',\n",
    "                    'y_column': '_1', 'sample': mbkmeans if i==0 else None,\n",
    "                    'sample_slot': 'result',\n",
    "                    'input_module': filt, 'input_slot': 'result'})\n",
    "sp = MCScatterPlot(scheduler=s, classes=classes)\n",
    "sp.create_dependent_modules()\n",
    "for i in range(n_clusters):\n",
    "    cname = f\"k{i}\"\n",
    "    sp[cname].min_value.result = PsDict({'_0': -np.inf, '_1': -np.inf})\n",
    "    sp[cname].max_value.result = PsDict({'_0': np.inf, '_1': np.inf})\n",
    "\n",
    "sp.move_point = mbkmeans.moved_center # for input management\n",
    "# Create the dashboard object\n",
    "psboard = PsBoard(s, order='desc')\n",
    "# Visualisations require registration :\n",
    "# 1) When widget provides the link_module() method do :\n",
    "psboard.register_visualisation(Scatterplot(disable=['filter']), sp)\n",
    "# 2) When widget is generic or for overloading the link_module() method do:\n",
    "# psboard.register_visualisation(FooWidget(), bar_module, glue=glue_func)\n",
    "# NB: glue_func(widget, module)-> [coroutine] must be provided\n",
    "# Start application :\n",
    "gather_and_run(s.start(), *psboard.coroutines)"
   ]
  },
  {
   "cell_type": "markdown",
   "metadata": {},
   "source": [
    "#### Click  _&#x1f441; mc_scatter_plot_1_ below to display the scatterplot:"
   ]
  },
  {
   "cell_type": "code",
   "execution_count": 3,
   "metadata": {
    "scrolled": false
   },
   "outputs": [
    {
     "data": {
      "application/vnd.jupyter.widget-view+json": {
       "model_id": "89d89c4e1bf1474cafd9d135f8a8e46e",
       "version_major": 2,
       "version_minor": 0
      },
      "text/plain": [
       "PsBoard(children=(ControlPanel(children=(Button(description='Resume', disabled=True, icon='play', style=Button…"
      ]
     },
     "metadata": {},
     "output_type": "display_data"
    }
   ],
   "source": [
    "display(psboard)"
   ]
  }
 ],
 "metadata": {
  "kernelspec": {
   "display_name": "Python 3",
   "language": "python",
   "name": "python3"
  },
  "language_info": {
   "codemirror_mode": {
    "name": "ipython",
    "version": 3
   },
   "file_extension": ".py",
   "mimetype": "text/x-python",
   "name": "python",
   "nbconvert_exporter": "python",
   "pygments_lexer": "ipython3",
   "version": "3.8.8"
  }
 },
 "nbformat": 4,
 "nbformat_minor": 2
}

{
 "cells": [
  {
   "cell_type": "code",
   "execution_count": 1,
   "metadata": {
    "lines_to_next_cell": 2
   },
   "outputs": [],
   "source": [
    "from ipyprogressivis.nbwidgets import ControlPanel, Scatterplot, ModuleGraph# , wait_for_click\n",
    "sc = Scatterplot()\n",
    "gr = ModuleGraph()"
   ]
  },
  {
   "cell_type": "code",
   "execution_count": 2,
   "metadata": {},
   "outputs": [],
   "source": [
    "import time\n",
    "import pandas as pd\n",
    "import copy\n",
    "from progressivis.core import Scheduler, Every, JSONEncoderNp, asynchronize\n",
    "from progressivis.table import PTable\n",
    "from progressivis.vis import MCScatterPlot\n",
    "from progressivis.io import CSVLoader\n",
    "#from progressivis.datasets import get_dataset\n",
    "from progressivis.table.constant import Constant\n",
    "import asyncio as aio\n",
    "import functools as ft\n",
    "\n",
    "def _quiet(x): pass\n",
    "\n",
    "\n",
    "def _filter(df):\n",
    "    pklon = df['pickup_longitude']\n",
    "    pklat = df['pickup_latitude']\n",
    "    dolon = df['dropoff_longitude']\n",
    "    dolat = df['dropoff_latitude']\n",
    "\n",
    "    return df[(pklon > -74.08) & (pklon < -73.5) & (pklat > 40.55) & (pklat < 41.00) &\n",
    "                  (dolon > -74.08) & (dolon < -73.5) & (dolat > 40.55) & (dolat < 41.00)]\n",
    "\n",
    "def feed_widget(wg, val):\n",
    "    wg.data = JSONEncoderNp.dumps(val)\n",
    "\n",
    "try:\n",
    "    s = scheduler\n",
    "except NameError:\n",
    "    s = Scheduler()\n",
    "    \n",
    "cpanel = ControlPanel(s)\n",
    "\n",
    "#PREFIX= 'https://storage.googleapis.com/tlc-trip-data/2015/'\n",
    "#SUFFIX= ''\n",
    "PREFIX = '../../nyc-taxi/'\n",
    "\n",
    "SUFFIX = '.bz2'\n",
    "\n",
    "URLS = [\n",
    "    PREFIX+'yellow_tripdata_2015-01.csv'+SUFFIX,\n",
    "    PREFIX+'yellow_tripdata_2015-02.csv'+SUFFIX,\n",
    "    PREFIX+'yellow_tripdata_2015-03.csv'+SUFFIX,\n",
    "    PREFIX+'yellow_tripdata_2015-04.csv'+SUFFIX,\n",
    "    PREFIX+'yellow_tripdata_2015-05.csv'+SUFFIX,\n",
    "    PREFIX+'yellow_tripdata_2015-06.csv'+SUFFIX,\n",
    "]\n",
    "\n",
    "FILENAMES = pd.DataFrame({'filename': URLS})\n",
    "#import pdb;pdb.set_trace()\n",
    "CST = Constant(PTable('filenames', data=FILENAMES), scheduler=s)\n",
    "CSV = CSVLoader(index_col=False, skipinitialspace=True,\n",
    "                usecols=['pickup_longitude', 'pickup_latitude',\n",
    "                             'dropoff_longitude', 'dropoff_latitude'],\n",
    "                filter_=_filter, scheduler=s) # TODO: reimplement filter in read_csv.py\n",
    "\n",
    "CSV.input.filenames = CST.output[0]\n",
    "PR = Every(scheduler=s, proc=_quiet)\n",
    "PR.input.df = CSV.output[0]\n",
    "\n",
    "MULTICLASS = MCScatterPlot(scheduler=s, classes=[\n",
    "    ('pickup', 'pickup_longitude', 'pickup_latitude'),\n",
    "    ('dropoff', 'dropoff_longitude', 'dropoff_latitude')], approximate=True)\n",
    "MULTICLASS.create_dependent_modules(CSV, 'result')\n",
    "\n",
    "async def control_panel(action):\n",
    "    btn, cb =  cpanel.cb_args(action)\n",
    "    while True:\n",
    "        await wait_for_click(btn, cb)\n",
    "\n",
    "\n",
    "# aio.create_task(s.start())\n",
    "# coros=sc.link_module(MULTICLASS)+[control_panel(\"resume\"), control_panel(\"stop\"), control_panel(\"step\")]\n",
    "# for coro in coros:\n",
    "#     aio.create_task(coro)"
   ]
  },
  {
   "cell_type": "code",
   "execution_count": 3,
   "metadata": {},
   "outputs": [
    {
     "data": {
      "text/plain": [
       "<Task pending name='Task-5' coro=<Scheduler.start() running at /home/fekete/src/progressivis/progressivis/core/scheduler.py:273>>"
      ]
     },
     "execution_count": 3,
     "metadata": {},
     "output_type": "execute_result"
    },
    {
     "name": "stdout",
     "output_type": "stream",
     "text": [
      "Starting scheduler\n",
      "# Scheduler added module(s): ['constant_1', 'csv_loader_1', 'every_1', 'histogram_index_1', 'histogram_index_2', 'mc_histogram2_d_1', 'mc_histogram2_d_2', 'mc_scatter_plot_1', 'range_query2d_1', 'range_query2d_2', 'sample_1', 'sample_2', 'variable_1', 'variable_2']\n"
     ]
    }
   ],
   "source": [
    "import ipywidgets as ipw\n",
    "\n",
    "tab = ipw.Tab()\n",
    "tab.children = [sc, gr]\n",
    "tab.set_title(0, 'Scatterplot')\n",
    "tab.set_title(1, 'Module graph')\n",
    "vbox = ipw.VBox([tab, cpanel])\n",
    "\n",
    "s.task_start()"
   ]
  },
  {
   "cell_type": "code",
   "execution_count": 4,
   "metadata": {},
   "outputs": [
    {
     "data": {
      "application/vnd.jupyter.widget-view+json": {
       "model_id": "b2867ae663bf419a8a1138cfcc070065",
       "version_major": 2,
       "version_minor": 0
      },
      "text/plain": [
       "VBox(children=(Tab(children=(Scatterplot(), ModuleGraph()), selected_index=0, titles=('Scatterplot', 'Module g…"
      ]
     },
     "execution_count": 4,
     "metadata": {},
     "output_type": "execute_result"
    }
   ],
   "source": [
    "vbox"
   ]
  },
  {
   "cell_type": "code",
   "execution_count": 5,
   "metadata": {},
   "outputs": [
    {
     "data": {
      "text/plain": [
       "<Task pending name='Task-8' coro=<Scheduler.stop() running at /home/fekete/src/progressivis/progressivis/core/scheduler.py:610>>"
      ]
     },
     "execution_count": 5,
     "metadata": {},
     "output_type": "execute_result"
    },
    {
     "name": "stdout",
     "output_type": "stream",
     "text": [
      "Leaving run loop\n"
     ]
    }
   ],
   "source": [
    "# s.task_stop()"
   ]
  }
 ],
 "metadata": {
  "jupytext": {
   "encoding": "# -*- coding: utf-8 -*-",
   "formats": "ipynb,py:light"
  },
  "kernelspec": {
   "display_name": "Python 3 (ipykernel)",
   "language": "python",
   "name": "python3"
  },
  "language_info": {
   "codemirror_mode": {
    "name": "ipython",
    "version": 3
   },
   "file_extension": ".py",
   "mimetype": "text/x-python",
   "name": "python",
   "nbconvert_exporter": "python",
   "pygments_lexer": "ipython3",
   "version": "3.11.7"
  }
 },
 "nbformat": 4,
 "nbformat_minor": 4
}

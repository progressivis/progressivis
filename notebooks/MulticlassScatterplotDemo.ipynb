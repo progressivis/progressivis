{
 "cells": [
  {
   "cell_type": "code",
   "execution_count": 1,
   "metadata": {
    "lines_to_next_cell": 2
   },
   "outputs": [],
   "source": [
    "from progressivis_nb_widgets import ControlPanel, Scatterplot, ModuleGraph, wait_for_click\n",
    "sc = Scatterplot()\n",
    "gr = ModuleGraph()"
   ]
  },
  {
   "cell_type": "code",
   "execution_count": 2,
   "metadata": {},
   "outputs": [
    {
     "name": "stdout",
     "output_type": "stream",
     "text": [
      "# Scheduler added module(s): ['constant_1', 'csv_loader_1', 'every_1', 'histogram_index_1', 'histogram_index_2', 'histogram_index_3', 'histogram_index_4', 'max_1', 'max_2', 'max_3', 'max_4', 'mc_histogram2_d_1', 'mc_histogram2_d_2', 'mc_scatter_plot_1', 'merge_dict_1', 'merge_dict_2', 'merge_dict_3', 'merge_dict_4', 'min_1', 'min_2', 'min_3', 'min_4', 'range_query2d_1', 'range_query2d_2', 'sample_1', 'sample_2', 'variable_1', 'variable_2', 'variable_3', 'variable_4', 'virtual_variable_1', 'virtual_variable_2']\n",
      "*****"
     ]
    }
   ],
   "source": [
    "import time\n",
    "import pandas as pd\n",
    "import copy\n",
    "from progressivis.core import Scheduler, Every, JSONEncoderNp, asynchronize\n",
    "from progressivis.table import PTable\n",
    "from progressivis.vis import MCScatterPlot\n",
    "from progressivis.io import CSVLoader\n",
    "#from progressivis.datasets import get_dataset\n",
    "from progressivis.table.constant import Constant\n",
    "import asyncio as aio\n",
    "import functools as ft\n",
    "\n",
    "def _quiet(x): pass\n",
    "\n",
    "\n",
    "def _filter(df):\n",
    "    pklon = df['pickup_longitude']\n",
    "    pklat = df['pickup_latitude']\n",
    "    dolon = df['dropoff_longitude']\n",
    "    dolat = df['dropoff_latitude']\n",
    "\n",
    "    return df[(pklon > -74.08) & (pklon < -73.5) & (pklat > 40.55) & (pklat < 41.00) &\n",
    "                  (dolon > -74.08) & (dolon < -73.5) & (dolat > 40.55) & (dolat < 41.00)]\n",
    "\n",
    "def feed_widget(wg, val):\n",
    "    wg.data = JSONEncoderNp.dumps(val)\n",
    "\n",
    "try:\n",
    "    s = scheduler\n",
    "except NameError:\n",
    "    s = Scheduler()\n",
    "    \n",
    "cpanel = ControlPanel(s)\n",
    "\n",
    "#PREFIX= 'https://storage.googleapis.com/tlc-trip-data/2015/'\n",
    "#SUFFIX= ''\n",
    "PREFIX = '../../nyc-taxi/'\n",
    "\n",
    "SUFFIX = '.bz2'\n",
    "\n",
    "URLS = [\n",
    "    PREFIX+'yellow_tripdata_2015-01.csv'+SUFFIX,\n",
    "    PREFIX+'yellow_tripdata_2015-02.csv'+SUFFIX,\n",
    "    PREFIX+'yellow_tripdata_2015-03.csv'+SUFFIX,\n",
    "    PREFIX+'yellow_tripdata_2015-04.csv'+SUFFIX,\n",
    "    PREFIX+'yellow_tripdata_2015-05.csv'+SUFFIX,\n",
    "    PREFIX+'yellow_tripdata_2015-06.csv'+SUFFIX,\n",
    "]\n",
    "\n",
    "FILENAMES = pd.DataFrame({'filename': URLS})\n",
    "#import pdb;pdb.set_trace()\n",
    "CST = Constant(PTable('filenames', data=FILENAMES), scheduler=s)\n",
    "CSV = CSVLoader(index_col=False, skipinitialspace=True,\n",
    "                usecols=['pickup_longitude', 'pickup_latitude',\n",
    "                             'dropoff_longitude', 'dropoff_latitude'],\n",
    "                filter_=_filter, scheduler=s) # TODO: reimplement filter in read_csv.py\n",
    "\n",
    "CSV.input.filenames = CST.output[0]\n",
    "PR = Every(scheduler=s, proc=_quiet)\n",
    "PR.input.df = CSV.output[0]\n",
    "\n",
    "MULTICLASS = MCScatterPlot(scheduler=s, classes=[\n",
    "    ('pickup', 'pickup_longitude', 'pickup_latitude'),\n",
    "    ('dropoff', 'dropoff_longitude', 'dropoff_latitude')], approximate=True)\n",
    "MULTICLASS.create_dependent_modules(CSV, 'result')\n",
    "\n",
    "async def control_panel(action):\n",
    "    btn, cb =  cpanel.cb_args(action)\n",
    "    while True:\n",
    "        await wait_for_click(btn, cb)\n",
    "    \n",
    "aio.create_task(s.start())\n",
    "coros=sc.link_module(MULTICLASS)+[control_panel(\"resume\"), control_panel(\"stop\"), control_panel(\"step\")]\n",
    "for coro in coros:\n",
    "    aio.create_task(coro)"
   ]
  },
  {
   "cell_type": "code",
   "execution_count": 3,
   "metadata": {},
   "outputs": [
    {
     "data": {
      "application/vnd.jupyter.widget-view+json": {
       "model_id": "74fbc19ebd554b408b0b7a04255cd56e",
       "version_major": 2,
       "version_minor": 0
      },
      "text/plain": [
       "VBox(children=(Tab(children=(Scatterplot(data='{\"is_running\": true, \"is_terminated\": false, \"run_number\": 124,…"
      ]
     },
     "metadata": {},
     "output_type": "display_data"
    },
    {
     "name": "stdout",
     "output_type": "stream",
     "text": [
      "******************In scheduler, tasks {<Task finished name='Task-12' coro=<Scheduler.shortcut_manager() done, defined at /home/fekete/src/progressivis/progressivis/core/scheduler.py:126> result=None>, <Task finished name='Task-11' coro=<Scheduler._run_loop() done, defined at /home/fekete/src/progressivis/progressivis/core/scheduler.py:364> result=None>} done\n",
      "Leaving run()\n",
      "In scheduler, tasks {<Task finished name='Task-16' coro=<Scheduler.shortcut_manager() done, defined at /home/fekete/src/progressivis/progressivis/core/scheduler.py:126> result=None>, <Task finished name='Task-15' coro=<Scheduler._run_loop() done, defined at /home/fekete/src/progressivis/progressivis/core/scheduler.py:364> result=None>} done\n",
      "Leaving run()\n",
      "*In scheduler, tasks {<Task finished name='Task-20' coro=<Scheduler.shortcut_manager() done, defined at /home/fekete/src/progressivis/progressivis/core/scheduler.py:126> result=None>, <Task finished name='Task-19' coro=<Scheduler._run_loop() done, defined at /home/fekete/src/progressivis/progressivis/core/scheduler.py:364> result=None>} done\n",
      "Leaving run()\n"
     ]
    }
   ],
   "source": [
    "import ipywidgets as ipw\n",
    "tab = ipw.Tab()\n",
    "tab.children = [sc, gr]\n",
    "tab.set_title(0, 'Scatterplot')\n",
    "tab.set_title(1, 'Module graph')\n",
    "vbox = ipw.VBox([tab, cpanel])\n",
    "vbox"
   ]
  },
  {
   "cell_type": "code",
   "execution_count": null,
   "metadata": {},
   "outputs": [],
   "source": []
  }
 ],
 "metadata": {
  "jupytext": {
   "encoding": "# -*- coding: utf-8 -*-",
   "formats": "ipynb,py:light"
  },
  "kernelspec": {
   "display_name": "Python 3 (ipykernel)",
   "language": "python",
   "name": "python3"
  },
  "language_info": {
   "codemirror_mode": {
    "name": "ipython",
    "version": 3
   },
   "file_extension": ".py",
   "mimetype": "text/x-python",
   "name": "python",
   "nbconvert_exporter": "python",
   "pygments_lexer": "ipython3",
   "version": "3.9.9"
  }
 },
 "nbformat": 4,
 "nbformat_minor": 4
}

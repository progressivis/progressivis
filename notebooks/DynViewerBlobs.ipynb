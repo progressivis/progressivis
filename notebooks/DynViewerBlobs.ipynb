{
 "cells": [
  {
   "cell_type": "markdown",
   "id": "partial-springer",
   "metadata": {},
   "source": [
    "## Data viewer"
   ]
  },
  {
   "cell_type": "code",
   "execution_count": 1,
   "id": "geographic-shannon",
   "metadata": {},
   "outputs": [],
   "source": [
    "from progressivis import Scheduler, Print\n",
    "from progressivis.datasets import get_dataset\n",
    "from progressivis.vis import DataShape, StatsFactory\n",
    "from progressivis_nb_widgets.nbwidgets import DynViewer\n",
    "from progressivis.stats.blobs_table import BlobsTable\n",
    "from progressivis.core import Sink\n",
    "\n",
    "s = Scheduler.default = Scheduler()\n",
    "n_samples = 100_000_000\n",
    "centers = [(0.1, 0.3, 0.5), (0.7, 0.5, 3.3), (-0.4, -0.3, -11.1)]\n",
    "cols = ['A', 'B', 'C']\n",
    "with s as dataflow:\n",
    "    data = BlobsTable(columns=cols,  centers=centers,\n",
    "                              cluster_std=0.2, rows=n_samples, scheduler=s)\n",
    "    ds = DataShape(scheduler=s)\n",
    "    ds.input.table = data.output.result\n",
    "    factory = StatsFactory(input_module=data, scheduler=s)\n",
    "    factory.create_dependent_modules()\n",
    "    factory.input.table = data.output.result\n",
    "    sink = Sink(scheduler=s)\n",
    "    sink.input.inp = ds.output.result\n",
    "    sink.input.inp = factory.output.result"
   ]
  },
  {
   "cell_type": "markdown",
   "id": "revised-kuwait",
   "metadata": {},
   "source": [
    "**NB:** the results will appear below after running all cells :"
   ]
  },
  {
   "cell_type": "code",
   "execution_count": 2,
   "id": "fleet-final",
   "metadata": {
    "scrolled": false
   },
   "outputs": [
    {
     "data": {
      "application/vnd.jupyter.widget-view+json": {
       "model_id": "87690fd7d4ba476bbea82a36ca158e3c",
       "version_major": 2,
       "version_minor": 0
      },
      "text/plain": [
       "DynViewer()"
      ]
     },
     "metadata": {},
     "output_type": "display_data"
    },
    {
     "name": "stdout",
     "output_type": "stream",
     "text": [
      "Starting scheduler\n",
      "# Scheduler added module(s): ['blobs_table_1', 'data_shape_1', 'dyn_var_1', 'sink_1', 'stats_factory_1']\n",
      "Trace\n",
      ".....................True C max\n",
      "True B min\n",
      "True A var\n",
      "self._to_delete []\n",
      ".# Scheduler added module(s): ['max_1', 'min_1', 'sink_2', 'sink_3', 'sink_4', 'var_1']\n",
      "........True C max\n",
      "True A var\n",
      "self._to_delete ['min_1']\n",
      "min_1 {'min_1', 'sink_3'}\n",
      "# Scheduler deleted module(s): {'min_1', 'sink_3'}\n",
      ".......True C max\n",
      "True A var\n",
      "True A hist\n",
      "add hist col\n",
      "True C hist\n",
      "add hist col\n",
      "self._to_delete []\n",
      "# Scheduler added module(s): ['dyn_var_2', 'dyn_var_3', 'dyn_var_4', 'dyn_var_5', 'histogram1_d_1', 'histogram1_d_2', 'histogram1d_pattern_1', 'histogram1d_pattern_2', 'histogram_index_1', 'histogram_index_2', 'kll_sketch_1', 'kll_sketch_2', 'max_2', 'max_3', 'min_1', 'min_2', 'range_query_1', 'range_query_2', 'sink_3', 'sink_5', 'sink_6', 'sink_7']\n",
      "..................."
     ]
    }
   ],
   "source": [
    "import ipywidgets as ipw\n",
    "from IPython.display import display\n",
    "isco = DynViewer(ds, factory)\n",
    "display(isco)\n",
    "s.task_start();"
   ]
  }
 ],
 "metadata": {
  "kernelspec": {
   "display_name": "Python 3 (ipykernel)",
   "language": "python",
   "name": "python3"
  },
  "language_info": {
   "codemirror_mode": {
    "name": "ipython",
    "version": 3
   },
   "file_extension": ".py",
   "mimetype": "text/x-python",
   "name": "python",
   "nbconvert_exporter": "python",
   "pygments_lexer": "ipython3",
   "version": "3.9.10"
  }
 },
 "nbformat": 4,
 "nbformat_minor": 5
}

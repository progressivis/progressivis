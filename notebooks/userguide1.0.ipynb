{
 "cells": [
  {
   "cell_type": "markdown",
   "id": "10199596",
   "metadata": {},
   "source": [
    "# Progressive Loading and Visualization\n",
    "\n",
    "This notebook shows the simplest code to download and visualize all the New York Yellow Taxi trips from January 2015. \n",
    "The trip data is stored in multiple CSV files, containing geolocated taxi trips.\n",
    "We visualize progressively the pickup locations (where people have been picked up by the taxis)."
   ]
  },
  {
   "cell_type": "code",
   "execution_count": 1,
   "id": "0178817e",
   "metadata": {},
   "outputs": [],
   "source": [
    "# We make sure the libraries are reloaded when modified, and avoid warning messages\n",
    "# %load_ext autoreload\n",
    "# %autoreload 2\n",
    "import warnings\n",
    "warnings.filterwarnings(\"ignore\")"
   ]
  },
  {
   "cell_type": "code",
   "execution_count": 2,
   "id": "b6e828aa",
   "metadata": {},
   "outputs": [],
   "source": [
    "# Some constants we'll need: the data file to download and final image size\n",
    "LARGE_TAXI_FILE = \"https://www.aviz.fr/nyc-taxi/yellow_tripdata_2015-01.csv.bz2\"\n",
    "RESOLUTION=512"
   ]
  },
  {
   "cell_type": "markdown",
   "id": "a1ca571a-17f1-4e4b-9bc5-b377fa3ee5ab",
   "metadata": {},
   "source": [
    "## Create Modules\n",
    "First, create the four modules we need."
   ]
  },
  {
   "cell_type": "code",
   "execution_count": 3,
   "id": "33f5089b",
   "metadata": {},
   "outputs": [],
   "source": [
    "from progressivis import CSVLoader, Histogram2D, Quantiles, Heatmap\n",
    "\n",
    "# Create a CSVLoader module, a Quantile module, a Histogram2D module, and a Heatmap module.\n",
    "\n",
    "# The CSV Loader only loads two columns of interest here with the 'usecols' keyword.\n",
    "csv = CSVLoader(LARGE_TAXI_FILE, usecols=['pickup_longitude', 'pickup_latitude'])\n",
    "quantiles = Quantiles()\n",
    "# This Histogram2D column will compute a 2D histogram from the 2 columns with a resolution\n",
    "histogram2d = Histogram2D('pickup_longitude', 'pickup_latitude', xbins=RESOLUTION, ybins=RESOLUTION)\n",
    "heatmap = Heatmap()"
   ]
  },
  {
   "cell_type": "markdown",
   "id": "ec05b25d-a2c9-452f-b44c-70625cf80887",
   "metadata": {},
   "source": [
    "## Connect Modules\n",
    "\n",
    "Then, connect the modules."
   ]
  },
  {
   "cell_type": "code",
   "execution_count": 4,
   "id": "df5e82fb-9488-4a5f-abf9-643624fa6a60",
   "metadata": {},
   "outputs": [],
   "source": [
    "# Now, connect the modules to create the Dataflow graph\n",
    "# Quantiles inputs a table and outputs the quantiles of all the numeric columns\n",
    "quantiles.input.table = csv.output.result \n",
    "\n",
    "# Histogram inputs a table, the minimum values for the columns, and the maximum values.\n",
    "histogram2d.input.table = csv.output.result\n",
    "histogram2d.input.min = quantiles.output.result[0.03]  # 0.03 quantile\n",
    "histogram2d.input.max = quantiles.output.result[0.97]  # 0.97 quantile\n",
    "heatmap.input.array = histogram2d.output.result"
   ]
  },
  {
   "cell_type": "markdown",
   "id": "cd02eed0-d72b-4a59-988b-76b1ed1192f6",
   "metadata": {},
   "source": [
    "## Display the Heatmap"
   ]
  },
  {
   "cell_type": "code",
   "execution_count": 5,
   "id": "bbd6937a",
   "metadata": {},
   "outputs": [
    {
     "data": {
      "application/vnd.jupyter.widget-view+json": {
       "model_id": "d5f5e074b559404ca9b3de153175446a",
       "version_major": 2,
       "version_minor": 0
      },
      "text/plain": [
       "VBox(children=(HBox(children=(IntProgress(value=0, description='0/0', max=1000), Button(description='Save', ic…"
      ]
     },
     "metadata": {},
     "output_type": "display_data"
    }
   ],
   "source": [
    "heatmap.display_notebook()"
   ]
  },
  {
   "cell_type": "markdown",
   "id": "639c1a1d-e374-45b2-8eeb-ce439344e0d4",
   "metadata": {},
   "source": [
    "## Start the scheduler"
   ]
  },
  {
   "cell_type": "code",
   "execution_count": 6,
   "id": "b0b12ed3",
   "metadata": {},
   "outputs": [
    {
     "data": {
      "text/plain": [
       "<Task pending name='Task-9' coro=<Scheduler.start() running at /home/fekete/src/progressivis/progressivis/core/scheduler.py:277>>"
      ]
     },
     "execution_count": 6,
     "metadata": {},
     "output_type": "execute_result"
    },
    {
     "name": "stdout",
     "output_type": "stream",
     "text": [
      "Starting scheduler\n",
      "# Scheduler added module(s): ['csv_loader_1', 'heatmap_1', 'histogram2_d_1', 'quantiles_1']\n"
     ]
    }
   ],
   "source": [
    "csv.scheduler.task_start()"
   ]
  },
  {
   "cell_type": "markdown",
   "id": "68ed1b29-31b3-4df8-bca4-84e2ae668ad0",
   "metadata": {},
   "source": [
    "## Show the modules\n",
    "printing the scheduler shows all the modules and their states"
   ]
  },
  {
   "cell_type": "code",
   "execution_count": 7,
   "id": "6db5ae33",
   "metadata": {},
   "outputs": [
    {
     "data": {
      "text/html": [
       "\n",
       "<style scoped>\n",
       "    .dataframe tbody tr th:only-of-type {\n",
       "        vertical-align: middle;\n",
       "    }\n",
       "\n",
       "    .dataframe tbody tr th {\n",
       "        vertical-align: top;\n",
       "    }\n",
       "\n",
       "    .dataframe thead th {\n",
       "        text-align: right;\n",
       "    }\n",
       "</style>\n",
       "<p><b>Scheduler</b> 0x7ee6e0dac2f0\n",
       "        <b>running</b>,\n",
       "        <b>modules:</b> 4,\n",
       "        <b>run number:</b> 75\n",
       "</p>\n",
       "<table border=\"1\" class=\"dataframe\">\n",
       "  <thead>\n",
       "    <tr style=\"text-align: right;\">\n",
       "      <th>Id</th><th>Class</th><th>State</th><th>Last Update</th><th>Order</th>\n",
       "    </tr>\n",
       "  </thead>\n",
       "  <tbody><tr><td>csv_loader_1</td><td>csv_loader</td><td>state_ready</td><td>73</td><td>0</td><tr><td>quantiles_1</td><td>quantiles</td><td>state_blocked</td><td>74</td><td>1</td><tr><td>histogram2_d_1</td><td>histogram2_d</td><td>state_blocked</td><td>75</td><td>2</td><tr><td>heatmap_1</td><td>heatmap</td><td>state_blocked</td><td>72</td><td>3</td></tbody></table>"
      ],
      "text/plain": [
       "<progressivis.core.scheduler.Scheduler at 0x7ee6e0dac2f0>"
      ]
     },
     "execution_count": 7,
     "metadata": {},
     "output_type": "execute_result"
    }
   ],
   "source": [
    "csv.scheduler"
   ]
  },
  {
   "cell_type": "markdown",
   "id": "642e0885-3101-4c11-a8dc-4491542f92f1",
   "metadata": {},
   "source": [
    "## Stop the scheduler\n",
    "To stop the scheduler, uncomment the next cell and run it"
   ]
  },
  {
   "cell_type": "code",
   "execution_count": 9,
   "id": "dd92c066",
   "metadata": {},
   "outputs": [
    {
     "data": {
      "text/plain": [
       "<Task pending name='Task-12' coro=<Scheduler.stop() running at /home/fekete/miniforge3/envs/pvenv/lib/python3.13/site-packages/progressivis/core/scheduler.py:616>>"
      ]
     },
     "execution_count": 9,
     "metadata": {},
     "output_type": "execute_result"
    }
   ],
   "source": [
    "\n",
    "# csv.scheduler.task_stop()"
   ]
  }
 ],
 "metadata": {
  "jupytext": {
   "comment_magics": false,
   "formats": "ipynb,py:percent",
   "rst2md": false
  },
  "kernelspec": {
   "display_name": "Python 3 (ipykernel)",
   "language": "python",
   "name": "python3"
  },
  "language_info": {
   "codemirror_mode": {
    "name": "ipython",
    "version": 3
   },
   "file_extension": ".py",
   "mimetype": "text/x-python",
   "name": "python",
   "nbconvert_exporter": "python",
   "pygments_lexer": "ipython3",
   "version": "3.13.7"
  },
  "widgets": {
   "application/vnd.jupyter.widget-state+json": {
    "state": {},
    "version_major": 2,
    "version_minor": 0
   }
  }
 },
 "nbformat": 4,
 "nbformat_minor": 5
}

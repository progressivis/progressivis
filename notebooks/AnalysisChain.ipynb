{
 "cells": [
  {
   "cell_type": "markdown",
   "id": "partial-springer",
   "metadata": {},
   "source": [
    "## Analysis chain"
   ]
  },
  {
   "cell_type": "code",
   "execution_count": null,
   "id": "b9deba98",
   "metadata": {},
   "outputs": [],
   "source": [
    "PREFIX = '../../nyc-taxi/'\n",
    "\n",
    "SUFFIX = '.bz2'\n",
    "\n",
    "URLS = [\n",
    "    PREFIX+'yellow_tripdata_2015-01.csv'+SUFFIX,\n",
    "    PREFIX+'yellow_tripdata_2015-02.csv'+SUFFIX,\n",
    "    PREFIX+'yellow_tripdata_2015-03.csv'+SUFFIX,\n",
    "    PREFIX+'yellow_tripdata_2015-04.csv'+SUFFIX,\n",
    "    PREFIX+'yellow_tripdata_2015-05.csv'+SUFFIX,\n",
    "    PREFIX+'yellow_tripdata_2015-06.csv'+SUFFIX,\n",
    "]"
   ]
  },
  {
   "cell_type": "code",
   "execution_count": null,
   "id": "fleet-final",
   "metadata": {
    "scrolled": false
   },
   "outputs": [],
   "source": [
    "from progressivis_nb_widgets.nbwidgets import AnalysisChain\n",
    "import ipywidgets as ipw\n",
    "from IPython.display import display\n",
    "chain = AnalysisChain(URLS)\n",
    "display(chain)"
   ]
  }
 ],
 "metadata": {
  "kernelspec": {
   "display_name": "Python 3 (ipykernel)",
   "language": "python",
   "name": "python3"
  },
  "language_info": {
   "codemirror_mode": {
    "name": "ipython",
    "version": 3
   },
   "file_extension": ".py",
   "mimetype": "text/x-python",
   "name": "python",
   "nbconvert_exporter": "python",
   "pygments_lexer": "ipython3",
   "version": "3.9.13"
  }
 },
 "nbformat": 4,
 "nbformat_minor": 5
}

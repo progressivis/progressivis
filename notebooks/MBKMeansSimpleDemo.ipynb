{
 "cells": [
  {
   "cell_type": "code",
   "execution_count": null,
   "metadata": {},
   "outputs": [],
   "source": [
    "from progressivis_nb_widgets import *"
   ]
  },
  {
   "cell_type": "code",
   "execution_count": null,
   "metadata": {
    "scrolled": true
   },
   "outputs": [],
   "source": [
    "\"\"\"\n",
    "Clustering datasets may be found at\n",
    "http://cs.joensuu.fi/sipu/datasets/\n",
    "\"\"\"\n",
    "from progressivis import Scheduler, Every#, log_level\n",
    "from progressivis.cluster import MBKMeans\n",
    "from progressivis.io import CSVLoader\n",
    "from progressivis.vis import MCScatterPlot\n",
    "from progressivis.datasets import get_dataset\n",
    "from progressivis.stats import RandomTable\n",
    "from progressivis.core.utils import gather_and_run\n",
    "from progressivis.utils.psdict import PsDict\n",
    "import pandas as pd\n",
    "import numpy as np\n",
    "from progressivis.datasets.random import generate_random_multivariate_normal_csv as gen_csv\n",
    "from progressivis.stats.blobs_table import BlobsTable, MVBlobsTable\n",
    "try:\n",
    "    s = scheduler\n",
    "except NameError:\n",
    "    s = Scheduler()\n",
    "\n",
    "MULTIVARIATE_NORMAL = True\n",
    "\n",
    "if not MULTIVARIATE_NORMAL: # simple isotropic blobs (using scikit-learn make_blobs)\n",
    "    centers = [(0.1, 0.3), (0.7, 0.5), (-0.4, -0.3)]\n",
    "    data = BlobsTable(columns=['_0', '_1'],  centers=centers, cluster_std=0.2, rows=999999, scheduler=s)\n",
    "else: # i.e. control each cluster's covariance matrix (using numpy.random.multivariate_normal)\n",
    "    means = [0.1, 0.3], [0.7, 0.5], [-0.4, -0.3]\n",
    "    covs = [[0.01, 0], [0, 0.09]], [[0.04, 0], [0, 0.01]], [[0.09, 0.04], [0.04, 0.02]]\n",
    "    data = MVBlobsTable(columns=['_0', '_1'], means=means, covs=covs, rows=999999, scheduler=s)\n",
    "mbkmeans = MBKMeans(columns=['_0', '_1'], n_clusters=3, batch_size=100, tol=0.01, is_input=False, scheduler=s)\n",
    "sp = MCScatterPlot(scheduler=s, classes=[('Scatterplot', '_0', '_1', mbkmeans)])\n",
    "sp.create_dependent_modules(data,'result')\n",
    "sp['Scatterplot'].min_value.result = PsDict({'_0': -np.inf, '_1': -np.inf})\n",
    "sp['Scatterplot'].max_value.result = PsDict({'_0': np.inf, '_1': np.inf})\n",
    "#mbkmeans.input.table = data.output.table\n",
    "mbkmeans.create_dependent_modules(sp['Scatterplot'].range_query_2d)\n",
    "sp.move_point = mbkmeans.moved_center # for input management\n",
    "# Create the dashboard object\n",
    "\n",
    "psboard = PsBoard(s)\n",
    "# Visualisations require registration :\n",
    "# 1) When widget provides the link_module() method do :\n",
    "psboard.register_visualisation(Scatterplot(), sp)\n",
    "# 2) When widget is generic or for overloading the link_module() method do:\n",
    "#psboard.register_visualisation(FooWidget(), bar_module, glue=glue_func)\n",
    "# NB: glue_func(widget, module)-> [coroutine] must be provided\n",
    "# Start application :\n",
    "gather_and_run(s.start(), *psboard.coroutines)"
   ]
  },
  {
   "cell_type": "code",
   "execution_count": null,
   "metadata": {
    "scrolled": false
   },
   "outputs": [],
   "source": [
    "#print(psboard.viz_register)\n",
    "#display(psboard.viz_register['mc_scatter_plot_1'][0][0])\n",
    "display(psboard)"
   ]
  }
 ],
 "metadata": {
  "kernelspec": {
   "display_name": "Python 3",
   "language": "python",
   "name": "python3"
  },
  "language_info": {
   "codemirror_mode": {
    "name": "ipython",
    "version": 3
   },
   "file_extension": ".py",
   "mimetype": "text/x-python",
   "name": "python",
   "nbconvert_exporter": "python",
   "pygments_lexer": "ipython3",
   "version": "3.7.9"
  }
 },
 "nbformat": 4,
 "nbformat_minor": 2
}

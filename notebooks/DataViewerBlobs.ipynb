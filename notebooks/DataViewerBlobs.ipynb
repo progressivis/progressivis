{
 "cells": [
  {
   "cell_type": "markdown",
   "id": "partial-springer",
   "metadata": {},
   "source": [
    "## Data viewer"
   ]
  },
  {
   "cell_type": "code",
   "execution_count": 1,
   "id": "geographic-shannon",
   "metadata": {},
   "outputs": [],
   "source": [
    "from progressivis import Scheduler, Print\n",
    "from progressivis.datasets import get_dataset\n",
    "from progressivis.vis import StatsExtender\n",
    "from progressivis_nb_widgets.nbwidgets import DataViewer\n",
    "from progressivis.stats.blobs_table import BlobsTable\n",
    "from progressivis.core import Sink\n",
    "\n",
    "s = Scheduler.default = Scheduler()\n",
    "n_samples = 100_000_000\n",
    "centers = [(0.1, 0.3, 0.5), (0.7, 0.5, 3.3), (-0.4, -0.3, -11.1)]\n",
    "cols = ['A', 'B', 'C']\n",
    "data = BlobsTable(columns=cols,  centers=centers,\n",
    "                          cluster_std=0.2, rows=n_samples, scheduler=s)\n",
    "stext = StatsExtender(usecols=cols, scheduler=s)\n",
    "stext.create_dependent_modules(data, hist=True, min_=True,\n",
    "                              max_=True,\n",
    "                              var=True, distinct=True, \n",
    "                              corr=True)\n",
    "sink = Sink(scheduler=s)\n",
    "sink.input.inp = stext.output.result"
   ]
  },
  {
   "cell_type": "markdown",
   "id": "revised-kuwait",
   "metadata": {},
   "source": [
    "**NB:** the results will appear below after running all cells :"
   ]
  },
  {
   "cell_type": "code",
   "execution_count": 2,
   "id": "fleet-final",
   "metadata": {
    "scrolled": false
   },
   "outputs": [
    {
     "data": {
      "application/vnd.jupyter.widget-view+json": {
       "model_id": "e6b2e77c8b25420791bfe094e804e2c8",
       "version_major": 2,
       "version_minor": 0
      },
      "text/plain": [
       "DataViewer()"
      ]
     },
     "metadata": {},
     "output_type": "display_data"
    },
    {
     "name": "stdout",
     "output_type": "stream",
     "text": [
      "# Scheduler added module(s): ['blobs_table_1', 'corr_1', 'distinct_1', 'dyn_var_1', 'dyn_var_2', 'dyn_var_3', 'dyn_var_4', 'dyn_var_5', 'dyn_var_6', 'histogram1_d_categorical_if_1', 'histogram1_d_categorical_if_2', 'histogram1_d_categorical_if_3', 'histogram1_d_if_1', 'histogram1_d_if_2', 'histogram1_d_if_3', 'histogram_index_if_1', 'histogram_index_if_2', 'histogram_index_if_3', 'kll_sketch_if_1', 'kll_sketch_if_2', 'kll_sketch_if_3', 'max_1', 'min_1', 'print_1', 'range_query_if_1', 'range_query_if_2', 'range_query_if_3', 'sink_0af39d7e-0525-4455-a91e-8a8ce1efdd2a', 'sink_1', 'sink_2', 'sink_3', 'sink_4', 'sink_5', 'sink_6', 'sink_7', 'sink_8', 'sink_9', 'stats_extender_1', 'var_1']\n"
     ]
    }
   ],
   "source": [
    "import ipywidgets as ipw\n",
    "from IPython.display import display\n",
    "isco = DataViewer(stext)\n",
    "display(isco)\n",
    "s.task_start();"
   ]
  }
 ],
 "metadata": {
  "kernelspec": {
   "display_name": "Python 3 (ipykernel)",
   "language": "python",
   "name": "python3"
  },
  "language_info": {
   "codemirror_mode": {
    "name": "ipython",
    "version": 3
   },
   "file_extension": ".py",
   "mimetype": "text/x-python",
   "name": "python",
   "nbconvert_exporter": "python",
   "pygments_lexer": "ipython3",
   "version": "3.9.10"
  }
 },
 "nbformat": 4,
 "nbformat_minor": 5
}

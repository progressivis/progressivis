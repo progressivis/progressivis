{
 "cells": [
  {
   "cell_type": "markdown",
   "id": "partial-springer",
   "metadata": {},
   "source": [
    "## Data viewer"
   ]
  },
  {
   "cell_type": "code",
   "execution_count": null,
   "id": "geographic-shannon",
   "metadata": {},
   "outputs": [],
   "source": [
    "from progressivis import Scheduler, Print\n",
    "from progressivis.datasets import get_dataset\n",
    "from progressivis.vis import StatsExtender\n",
    "from progressivis_nb_widgets.nbwidgets import DataViewer\n",
    "from progressivis.stats.blobs_table import BlobsTable\n",
    "\n",
    "s = Scheduler.default = Scheduler()\n",
    "n_samples = 100_000_000\n",
    "centers = [(0.1, 0.3, 0.5), (0.7, 0.5, 3.3), (-0.4, -0.3, -11.1)]\n",
    "cols = ['A', 'B', 'C']\n",
    "data = BlobsTable(columns=cols,  centers=centers,\n",
    "                          cluster_std=0.2, rows=n_samples, scheduler=s)\n",
    "stext = StatsExtender(usecols=cols, scheduler=s)\n",
    "stext.create_dependent_modules(data, hist=True, min_=True,\n",
    "                              max_=True,\n",
    "                              var=True, distinct=True, \n",
    "                              corr=True)"
   ]
  },
  {
   "cell_type": "markdown",
   "id": "revised-kuwait",
   "metadata": {},
   "source": [
    "**NB:** the results will appear below after running all cells :"
   ]
  },
  {
   "cell_type": "code",
   "execution_count": null,
   "id": "fleet-final",
   "metadata": {
    "scrolled": false
   },
   "outputs": [],
   "source": [
    "import ipywidgets as ipw\n",
    "from IPython.display import display\n",
    "isco = DataViewer(stext)\n",
    "display(isco)\n",
    "s.task_start();"
   ]
  }
 ],
 "metadata": {
  "kernelspec": {
   "display_name": "Python 3 (ipykernel)",
   "language": "python",
   "name": "python3"
  },
  "language_info": {
   "codemirror_mode": {
    "name": "ipython",
    "version": 3
   },
   "file_extension": ".py",
   "mimetype": "text/x-python",
   "name": "python",
   "nbconvert_exporter": "python",
   "pygments_lexer": "ipython3",
   "version": "3.9.7"
  }
 },
 "nbformat": 4,
 "nbformat_minor": 5
}

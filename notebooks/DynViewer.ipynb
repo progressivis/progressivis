{
 "cells": [
  {
   "cell_type": "markdown",
   "id": "partial-springer",
   "metadata": {},
   "source": [
    "## Data viewer"
   ]
  },
  {
   "cell_type": "code",
   "execution_count": null,
   "id": "geographic-shannon",
   "metadata": {},
   "outputs": [],
   "source": [
    "import pandas as pd\n",
    "import numpy as np\n",
    "import tempfile as tf\n",
    "import os\n",
    "from progressivis import Scheduler, Print\n",
    "from progressivis.io import SimpleCSVLoader, DynVar\n",
    "from progressivis.stats import Histogram2D, Min, Max\n",
    "from progressivis.datasets import get_dataset\n",
    "from progressivis.vis import DataShape, StatsFactory\n",
    "from progressivis.table import PTable\n",
    "from progressivis.table.constant import Constant\n",
    "from progressivis.utils.psdict import PDict\n",
    "from progressivis.stats.scaling import MinMaxScaler\n",
    "from progressivis_nb_widgets.nbwidgets import DynViewer\n",
    "from progressivis.datasets import get_dataset\n",
    "from progressivis.core import Sink\n",
    "\n",
    "s = Scheduler.default = Scheduler()\n",
    "\n",
    "PREFIX = '../../nyc-taxi/'\n",
    "\n",
    "SUFFIX = '.bz2'\n",
    "\n",
    "URLS = [\n",
    "    PREFIX+'yellow_tripdata_2015-01.csv'+SUFFIX,\n",
    "    PREFIX+'yellow_tripdata_2015-02.csv'+SUFFIX,\n",
    "    PREFIX+'yellow_tripdata_2015-03.csv'+SUFFIX,\n",
    "    PREFIX+'yellow_tripdata_2015-04.csv'+SUFFIX,\n",
    "    PREFIX+'yellow_tripdata_2015-05.csv'+SUFFIX,\n",
    "    PREFIX+'yellow_tripdata_2015-06.csv'+SUFFIX,\n",
    "]\n",
    "cols = ['pickup_longitude', 'pickup_latitude','dropoff_longitude',\n",
    "        'dropoff_latitude', 'trip_distance', 'store_and_fwd_flag', 'RateCodeID']\n",
    "#cols = ['pickup_longitude', 'pickup_latitude']\n",
    "#df = pd.read_csv(URLS[0], nrows=1000)\n",
    "#cols = df.dtypes.to_dict()\n",
    "FILENAMES = pd.DataFrame({'filename': URLS})\n",
    "CST = Constant(PTable('filenames', data=FILENAMES), scheduler=s)\n",
    "CSV = SimpleCSVLoader(index_col=False, skipinitialspace=True,\n",
    "                usecols=cols, scheduler=s, throttle=100)\n",
    "CSV.input.filenames = CST.output[0]\n",
    "ds = DataShape(scheduler=s)\n",
    "factory = StatsFactory(input_module=CSV, scheduler=s)\n",
    "factory.create_dependent_modules()\n",
    "ds.input.table = CSV.output.result\n",
    "factory.input.table = CSV.output.result\n",
    "sink = Sink(scheduler=s)\n",
    "sink.input.inp = ds.output.result\n",
    "sink.input.inp = factory.output.result"
   ]
  },
  {
   "cell_type": "markdown",
   "id": "revised-kuwait",
   "metadata": {},
   "source": [
    "**NB:** the results will appear below after running all cells :"
   ]
  },
  {
   "cell_type": "code",
   "execution_count": null,
   "id": "fleet-final",
   "metadata": {
    "scrolled": false
   },
   "outputs": [],
   "source": [
    "import ipywidgets as ipw\n",
    "from IPython.display import display\n",
    "isco = DynViewer(ds, factory)\n",
    "#print(isco)\n",
    "display(isco)\n",
    "s.task_start();"
   ]
  }
 ],
 "metadata": {
  "kernelspec": {
   "display_name": "Python 3 (ipykernel)",
   "language": "python",
   "name": "python3"
  },
  "language_info": {
   "codemirror_mode": {
    "name": "ipython",
    "version": 3
   },
   "file_extension": ".py",
   "mimetype": "text/x-python",
   "name": "python",
   "nbconvert_exporter": "python",
   "pygments_lexer": "ipython3",
   "version": "3.9.13"
  }
 },
 "nbformat": 4,
 "nbformat_minor": 5
}

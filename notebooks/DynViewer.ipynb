{
 "cells": [
  {
   "cell_type": "markdown",
   "id": "partial-springer",
   "metadata": {},
   "source": [
    "## Data viewer"
   ]
  },
  {
   "cell_type": "code",
   "execution_count": 1,
   "id": "geographic-shannon",
   "metadata": {},
   "outputs": [],
   "source": [
    "import pandas as pd\n",
    "import numpy as np\n",
    "import tempfile as tf\n",
    "import os\n",
    "from progressivis import Scheduler, Print\n",
    "from progressivis.io import SimpleCSVLoader, DynVar\n",
    "from progressivis.stats import Histogram2D, Min, Max\n",
    "from progressivis.datasets import get_dataset\n",
    "from progressivis.vis import DataShape, StatsFactory\n",
    "from progressivis.table import Table\n",
    "from progressivis.table.constant import Constant\n",
    "from progressivis.utils.psdict import PsDict\n",
    "from progressivis.stats.scaling import MinMaxScaler\n",
    "from progressivis_nb_widgets.nbwidgets import DynViewer\n",
    "from progressivis.datasets import get_dataset\n",
    "from progressivis.core import Sink\n",
    "\n",
    "s = Scheduler.default = Scheduler()\n",
    "\n",
    "PREFIX = '../../nyc-taxi/'\n",
    "\n",
    "SUFFIX = '.bz2'\n",
    "\n",
    "URLS = [\n",
    "    PREFIX+'yellow_tripdata_2015-01.csv'+SUFFIX,\n",
    "    PREFIX+'yellow_tripdata_2015-02.csv'+SUFFIX,\n",
    "    PREFIX+'yellow_tripdata_2015-03.csv'+SUFFIX,\n",
    "    PREFIX+'yellow_tripdata_2015-04.csv'+SUFFIX,\n",
    "    PREFIX+'yellow_tripdata_2015-05.csv'+SUFFIX,\n",
    "    PREFIX+'yellow_tripdata_2015-06.csv'+SUFFIX,\n",
    "]\n",
    "cols = ['pickup_longitude', 'pickup_latitude','dropoff_longitude',\n",
    "        'dropoff_latitude', 'trip_distance', 'store_and_fwd_flag', 'RateCodeID']\n",
    "#cols = ['pickup_longitude', 'pickup_latitude']\n",
    "#df = pd.read_csv(URLS[0], nrows=1000)\n",
    "#cols = df.dtypes.to_dict()\n",
    "FILENAMES = pd.DataFrame({'filename': URLS})\n",
    "CST = Constant(Table('filenames', data=FILENAMES), scheduler=s)\n",
    "CSV = SimpleCSVLoader(index_col=False, skipinitialspace=True,\n",
    "                usecols=cols, scheduler=s, throttle=100)\n",
    "CSV.input.filenames = CST.output[0]\n",
    "ds = DataShape(scheduler=s)\n",
    "factory = StatsFactory(input_module=CSV, scheduler=s)\n",
    "factory.create_dependent_modules()\n",
    "ds.input.table = CSV.output.result\n",
    "factory.input.table = CSV.output.result\n",
    "sink = Sink(scheduler=s)\n",
    "sink.input.inp = ds.output.result\n",
    "sink.input.inp = factory.output.result"
   ]
  },
  {
   "cell_type": "markdown",
   "id": "revised-kuwait",
   "metadata": {},
   "source": [
    "**NB:** the results will appear below after running all cells :"
   ]
  },
  {
   "cell_type": "code",
   "execution_count": 2,
   "id": "fleet-final",
   "metadata": {
    "scrolled": false
   },
   "outputs": [
    {
     "data": {
      "application/vnd.jupyter.widget-view+json": {
       "model_id": "aeadeafd972d4447b62f114674bbdc69",
       "version_major": 2,
       "version_minor": 0
      },
      "text/plain": [
       "DynViewer()"
      ]
     },
     "metadata": {},
     "output_type": "display_data"
    },
    {
     "name": "stdout",
     "output_type": "stream",
     "text": [
      "Starting scheduler\n",
      "# Scheduler added module(s): ['constant_1', 'data_shape_1', 'dyn_var_1', 'simple_csv_loader_1', 'sink_1', 'stats_factory_1']\n",
      "Trace\n",
      ".No children\n",
      "Refresh main\n",
      ".........................................................................................................................................................................................................................................................................................................................................................................................................................................................................................................................................................................................................................................................................................................................................................................................................................................................................................................................................................................................................................................................................................................................................................................................................................................................................................................begin edit btn\n",
      "dyn_viewer.unlock_conf()\n",
      "...........................................................................................................................................................................................................................................................................................................................................................................................................................................................................................................................................................................................................................................................................................................................................................................................................................................................................................................................................before send widget\n",
      "send Widget\n",
      "df                              max    min    var   hist  distinct\n",
      "trip_distance:float64      False  False  False  False      True\n",
      "pickup_longitude:float64   False  False  False  False      True\n",
      "pickup_latitude:float64    False  False  False  False      True\n",
      "RateCodeID:int64           False  False  False  False      True\n",
      "store_and_fwd_flag:string  False  False  False  False      True\n",
      "dropoff_longitude:float64  False  False  False  False      True\n",
      "dropoff_latitude:float64   False  False  False  False      True\n",
      "True trip_distance:float64 distinct\n",
      "True pickup_longitude:float64 distinct\n",
      "True pickup_latitude:float64 distinct\n",
      "True RateCodeID:int64 distinct\n",
      "True store_and_fwd_flag:string distinct\n",
      "True dropoff_longitude:float64 distinct\n",
      "True dropoff_latitude:float64 distinct\n",
      "to_delete []\n",
      ".# Scheduler added module(s): ['distinct_1', 'distinct_2', 'distinct_3', 'distinct_4', 'distinct_5', 'distinct_6', 'distinct_7', 'sink_2', 'sink_3', 'sink_4', 'sink_5', 'sink_6', 'sink_7', 'sink_8']\n",
      ".................................................................................................................................................................................................................................................................................................................................................................................................................................................................................................................................................................................................................................................................................................................................................................................................................................................................................................................................................................................................................................................................................................................................................................................................................................................................................................................................................................................................................................................................................................................................................................................................................................................................................................................................................................................................................................................................................................................................................................................................................................................................................................................................................................................................................................................................................................................................................................................................................................................................................................................................................................................................................................................................................................................................................................................................................................................................................................................................................................................................................................................................................................................................................................................................................................................................................................................................................................................................................................................................................................................................................................................................................................................................................................................................."
     ]
    }
   ],
   "source": [
    "import ipywidgets as ipw\n",
    "from IPython.display import display\n",
    "isco = DynViewer(ds, factory)\n",
    "#print(isco)\n",
    "display(isco)\n",
    "s.task_start();"
   ]
  }
 ],
 "metadata": {
  "kernelspec": {
   "display_name": "Python 3 (ipykernel)",
   "language": "python",
   "name": "python3"
  },
  "language_info": {
   "codemirror_mode": {
    "name": "ipython",
    "version": 3
   },
   "file_extension": ".py",
   "mimetype": "text/x-python",
   "name": "python",
   "nbconvert_exporter": "python",
   "pygments_lexer": "ipython3",
   "version": "3.9.10"
  }
 },
 "nbformat": 4,
 "nbformat_minor": 5
}

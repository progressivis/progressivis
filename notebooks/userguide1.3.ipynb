{
 "cells": [
  {
   "cell_type": "markdown",
   "id": "a1c1f631",
   "metadata": {},
   "source": [
    "# Progressive Loading and Visualization with Interactions\n",
    "This notebook shows the simplest code to download all the New York Yellow Taxi trips from 2015. They were all geolocated and the trip data is stored in multiple CSV files.\n",
    "We visualize progressively the pickup locations (where people have been picked up by the taxis).\n",
    "\n",
    "First, we define a few constants, where the file is located, the desired resolution, and the url of the taxi file."
   ]
  },
  {
   "cell_type": "code",
   "execution_count": null,
   "id": "fa0e0e9a",
   "metadata": {},
   "outputs": [],
   "source": [
    "# We make sure the libraries are reloaded when modified, and avoid warning messages\n",
    "# %load_ext autoreload\n",
    "# %autoreload 2\n",
    "import warnings\n",
    "warnings.filterwarnings(\"ignore\")"
   ]
  },
  {
   "cell_type": "code",
   "execution_count": null,
   "id": "4b9ad9f2",
   "metadata": {},
   "outputs": [],
   "source": [
    "# Some constants we'll need: the data file to download and final image size\n",
    "LARGE_TAXI_FILE = \"https://www.aviz.fr/nyc-taxi/yellow_tripdata_2015-01.csv.bz2\"\n",
    "RESOLUTION=512"
   ]
  },
  {
   "cell_type": "markdown",
   "id": "c811b9b6",
   "metadata": {},
   "source": [
    "## Define NYC Bounds\n",
    "If we know the bounds, this will simplify the code.\n",
    "See https://en.wikipedia.org/wiki/Module:Location_map/data/USA_New_York_City"
   ]
  },
  {
   "cell_type": "code",
   "execution_count": null,
   "id": "788fac5f",
   "metadata": {},
   "outputs": [],
   "source": [
    "from dataclasses import dataclass\n",
    "@dataclass\n",
    "class Bounds:\n",
    "    top: float = 40.92\n",
    "    bottom: float = 40.49\n",
    "    left: float = -74.27\n",
    "    right: float = -73.68\n",
    "\n",
    "bounds = Bounds()"
   ]
  },
  {
   "cell_type": "markdown",
   "id": "1a098318",
   "metadata": {},
   "source": [
    "## Create Modules\n",
    "First, create the four modules we need."
   ]
  },
  {
   "cell_type": "code",
   "execution_count": null,
   "id": "0eb3f267",
   "metadata": {},
   "outputs": [],
   "source": [
    "from progressivis import (\n",
    "    CSVLoader, Histogram2D, ConstDict, Heatmap, PDict,\n",
    "    BinningIndexND, RangeQuery2D, Variable\n",
    ")\n",
    "import progressivis.core.aio as aio\n",
    "\n",
    "col_x = \"pickup_longitude\"\n",
    "col_y = \"pickup_latitude\"\n",
    "\n",
    "csv = CSVLoader(LARGE_TAXI_FILE, usecols=[col_x, col_y])\n",
    "# Create an indexing module on the csv loader output columns\n",
    "index = BinningIndexND()\n",
    "# Create a querying module\n",
    "query = RangeQuery2D(column_x=col_x, column_y=col_y)\n",
    "# Variable modules allow to dynamically modify their values; here, the query ranges\n",
    "var_min = Variable(name=\"var_min\")\n",
    "var_max = Variable(name=\"var_max\")\n",
    "histogram2d = Histogram2D(col_x, col_y, xbins=RESOLUTION, ybins=RESOLUTION)\n",
    "heatmap = Heatmap()"
   ]
  },
  {
   "cell_type": "markdown",
   "id": "3a2b1f2d",
   "metadata": {},
   "source": [
    "## Connect Modules\n",
    "\n",
    "Then, connect the modules."
   ]
  },
  {
   "cell_type": "code",
   "execution_count": null,
   "id": "361167f6",
   "metadata": {},
   "outputs": [],
   "source": [
    "# Creates one index per numeric column\n",
    "index.input.table = csv.output.result[col_x, col_y]\n",
    "query.input.lower = var_min.output.result\n",
    "query.input.upper = var_max.output.result\n",
    "query.input.index = index.output.result\n",
    "query.input.min = index.output.min_out\n",
    "query.input.max = index.output.max_out\n",
    "histogram2d.input.table = query.output.result\n",
    "histogram2d.input.min = query.output.min\n",
    "histogram2d.input.max = query.output.max\n",
    "heatmap.input.array = histogram2d.output.result"
   ]
  },
  {
   "cell_type": "markdown",
   "id": "f9e25337",
   "metadata": {},
   "source": [
    "## Visualize the Graph"
   ]
  },
  {
   "cell_type": "code",
   "execution_count": null,
   "id": "36d1aa41",
   "metadata": {},
   "outputs": [],
   "source": [
    "try:\n",
    "    import graphviz\n",
    "    src = csv.scheduler.to_graphviz()\n",
    "    gvz = graphviz.Source(src)\n",
    "    display(gvz)\n",
    "except ImportError:\n",
    "    pass"
   ]
  },
  {
   "cell_type": "markdown",
   "id": "06f7c574",
   "metadata": {},
   "source": [
    "## Display the Heatmap"
   ]
  },
  {
   "cell_type": "code",
   "execution_count": null,
   "id": "922bb735",
   "metadata": {
    "lines_to_next_cell": 0
   },
   "outputs": [],
   "source": [
    "heatmap.display_notebook()"
   ]
  },
  {
   "cell_type": "markdown",
   "id": "6a8dee9c",
   "metadata": {},
   "source": [
    "## Start the scheduler"
   ]
  },
  {
   "cell_type": "code",
   "execution_count": null,
   "id": "da27af41",
   "metadata": {},
   "outputs": [],
   "source": [
    "csv.scheduler.task_start()"
   ]
  },
  {
   "cell_type": "markdown",
   "id": "5b8f3b80",
   "metadata": {},
   "source": [
    "## Initialize the Variable values"
   ]
  },
  {
   "cell_type": "code",
   "execution_count": null,
   "id": "0e3bd91e",
   "metadata": {},
   "outputs": [],
   "source": [
    "# Give it a bit of time to start\n",
    "await aio.sleep(1)\n",
    "\n",
    "bnds_min = PDict({col_x: bounds.left, col_y: bounds.bottom})\n",
    "bnds_max = PDict({col_x: bounds.right, col_y: bounds.top})\n",
    "\n",
    "await var_min.from_input(bnds_min)\n",
    "await var_max.from_input(bnds_max)"
   ]
  },
  {
   "cell_type": "markdown",
   "id": "c833cad3",
   "metadata": {},
   "source": [
    "## Create the Widgets"
   ]
  },
  {
   "cell_type": "code",
   "execution_count": null,
   "id": "1520cf03",
   "metadata": {},
   "outputs": [],
   "source": [
    "import ipywidgets as widgets\n",
    "long_slider = widgets.FloatRangeSlider(\n",
    "    value=[bnds_min[col_x], bnds_max[col_x]],\n",
    "    min=bnds_min[col_x],\n",
    "    max=bnds_max[col_x],\n",
    "    step=(bnds_max[col_x]-bnds_min[col_x])/10,\n",
    "    description='Longitude:',\n",
    "    disabled=False,\n",
    "    continuous_update=False,\n",
    "    orientation='horizontal',\n",
    "    readout=True,\n",
    "    readout_format='.1f',\n",
    ")\n",
    "lat_slider = widgets.FloatRangeSlider(\n",
    "    value=[bnds_min[col_y], bnds_max[col_y]],\n",
    "    min=bnds_min[col_y],\n",
    "    max=bnds_max[col_y],\n",
    "    step=(bnds_max[col_y]-bnds_min[col_y])/10,\n",
    "    description='Latitude:',\n",
    "    disabled=False,\n",
    "    continuous_update=False,\n",
    "    orientation='horizontal',\n",
    "    readout=True,\n",
    "    readout_format='.1f',\n",
    ")\n",
    "\n",
    "def observer(_):\n",
    "    async def _coro():\n",
    "        long_min, long_max = long_slider.value\n",
    "        lat_min, lat_max = lat_slider.value\n",
    "        await var_min.from_input({col_x: long_min, col_y: lat_min})\n",
    "        await var_max.from_input({col_x: long_max, col_y: lat_max})\n",
    "    aio.create_task(_coro())\n",
    "\n",
    "\n",
    "long_slider.observe(observer, \"value\")\n",
    "lat_slider.observe(observer, \"value\")\n",
    "widgets.VBox([long_slider, lat_slider])"
   ]
  },
  {
   "cell_type": "markdown",
   "id": "56f110a8",
   "metadata": {},
   "source": [
    "## Show the modules\n",
    "printing the scheduler shows all the modules and their states"
   ]
  },
  {
   "cell_type": "code",
   "execution_count": null,
   "id": "da2271ba",
   "metadata": {},
   "outputs": [],
   "source": [
    "# Show what runs\n",
    "csv.scheduler"
   ]
  },
  {
   "cell_type": "markdown",
   "id": "f206ed51",
   "metadata": {},
   "source": [
    "## Stop the scheduler\n",
    "To stop the scheduler, uncomment the next cell and run it"
   ]
  },
  {
   "cell_type": "code",
   "execution_count": null,
   "id": "5753412b",
   "metadata": {
    "lines_to_next_cell": 2
   },
   "outputs": [],
   "source": [
    "# csv.scheduler.task_stop()"
   ]
  }
 ],
 "metadata": {
  "jupytext": {
   "comment_magics": false,
   "formats": "ipynb,py:percent"
  },
  "kernelspec": {
   "display_name": "Python 3 (ipykernel)",
   "language": "python",
   "name": "python3"
  }
 },
 "nbformat": 4,
 "nbformat_minor": 5
}

{
 "cells": [
  {
   "cell_type": "markdown",
   "id": "68e6958a-9327-4c15-95c5-0773c0e8b16a",
   "metadata": {},
   "source": [
    "# Progressive Loading and Visualization\n",
    "\n",
    "This notebook shows the simplest code to download all the New York Yellow Taxi trips from 2015. They were all geolocated and the trip data is stored in multiple CSV files.\n",
    "We visualize progressively the pickup locations (where people have been picked up by the taxis).\n",
    "\n",
    "First, we define a few constants, where the file is located, the desired resolution, and the url of the taxi file."
   ]
  },
  {
   "cell_type": "code",
   "execution_count": null,
   "id": "a6f94d61-ae60-4b69-bef0-3289f9fe2f56",
   "metadata": {
    "jupyter": {
     "source_hidden": true
    },
    "lines_to_next_cell": 2
   },
   "outputs": [],
   "source": [
    "import warnings\n",
    "warnings.filterwarnings(\"ignore\")\n",
    "LARGE_TAXI_FILE = \"https://www.aviz.fr/nyc-taxi/yellow_tripdata_2015-01.csv.bz2\"\n",
    "RESOLUTION=512"
   ]
  },
  {
   "cell_type": "code",
   "execution_count": null,
   "id": "111d0243-4f2c-4c3e-8c73-b9482bbeed12",
   "metadata": {
    "jupyter": {
     "source_hidden": true
    },
    "lines_to_next_cell": 2
   },
   "outputs": [],
   "source": [
    "# See https://en.wikipedia.org/wiki/Module:Location_map/data/USA_New_York_City\n",
    "from dataclasses import dataclass\n",
    "@dataclass\n",
    "class Bounds:\n",
    "    top: float = 40.92\n",
    "    bottom: float = 40.49\n",
    "    left: float = -74.27\n",
    "    right: float = -73.68\n",
    "\n",
    "bounds = Bounds()"
   ]
  },
  {
   "cell_type": "code",
   "execution_count": null,
   "id": "bbbd6ce8-a031-4981-945c-8925e7211b22",
   "metadata": {
    "jupyter": {
     "source_hidden": true
    }
   },
   "outputs": [],
   "source": [
    "from progressivis import (CSVLoader, Histogram2D, ConstDict, Heatmap, PDict, \n",
    "    BinningIndexND, RangeQuery2d, Variable)\n",
    "import progressivis.core.aio as aio\n",
    "\n",
    "col_x = \"pickup_longitude\"\n",
    "col_y = \"pickup_latitude\"\n",
    "lo_bnds = PDict({col_x: bounds.left, col_y: bounds.bottom})\n",
    "up_bnds = PDict({col_x: bounds.right, col_y: bounds.top})\n",
    "# Create a csv loader filtering out data outside NYC\n",
    "csv = CSVLoader(LARGE_TAXI_FILE, index_col=False, usecols=[col_x, col_y])\n",
    "# Create an indexing module on csv loader output columns\n",
    "index = BinningIndexND()\n",
    "# actually one index per column\n",
    "index.input.table = csv.output.result[col_x, col_y]\n",
    "# Create a querying module\n",
    "query = RangeQuery2d(column_x=col_x, \n",
    "                     column_y=col_y\n",
    "                    )\n",
    "# Variable modules allow to dynamically modify queries ranges\n",
    "var_lo = Variable()\n",
    "var_up = Variable()\n",
    "query.input.lower = var_lo.output.result\n",
    "query.input.upper = var_up.output.result\n",
    "query.input.index = index.output.result\n",
    "query.input.min = index.output.min_out\n",
    "query.input.max = index.output.max_out\n",
    "# Create a module to compute the 2D histogram of the two columns specified\n",
    "# with the given resolution\n",
    "histogram2d = Histogram2D(col_x, col_y, xbins=RESOLUTION, ybins=RESOLUTION)\n",
    "# Connect the module to the csv results and the min,max bounds to rescale\n",
    "histogram2d.input.table = query.output.result\n",
    "histogram2d.input.min = query.output.min\n",
    "histogram2d.input.max = query.output.max\n",
    "# Create a module to create an heatmap image from the histogram2d\n",
    "heatmap = Heatmap()\n",
    "# Connect it to the histogram2d\n",
    "heatmap.input.array = histogram2d.output.result"
   ]
  },
  {
   "cell_type": "code",
   "execution_count": null,
   "id": "e29f7146-2212-4955-a81a-33c7d66234d3",
   "metadata": {
    "jupyter": {
     "source_hidden": true
    }
   },
   "outputs": [],
   "source": [
    "# Show the dataflow\n",
    "import graphviz \n",
    "src = csv.scheduler().to_graphviz()\n",
    "gvz=graphviz.Source(src)\n",
    "display(gvz)"
   ]
  },
  {
   "cell_type": "code",
   "execution_count": null,
   "id": "95e97dd2-d99a-4f04-90ca-1fae2409dc74",
   "metadata": {
    "jupyter": {
     "source_hidden": true
    }
   },
   "outputs": [],
   "source": [
    "heatmap.display_notebook()\n",
    "# Start the scheduler\n",
    "csv.scheduler().task_start();\n",
    "await aio.sleep(1)\n",
    "await var_lo.from_input(lo_bnds)\n",
    "await var_up.from_input(up_bnds);"
   ]
  },
  {
   "cell_type": "code",
   "execution_count": null,
   "id": "4f8c279b-4a2f-4aef-af62-78a2dcc1829d",
   "metadata": {
    "jupyter": {
     "source_hidden": true
    }
   },
   "outputs": [],
   "source": [
    "import ipywidgets as widgets\n",
    "long_slider = widgets.FloatRangeSlider(\n",
    "    value=[lo_bnds[col_x], up_bnds[col_x]],\n",
    "    min=lo_bnds[col_x],\n",
    "    max=up_bnds[col_x],\n",
    "    step=(up_bnds[col_x]-lo_bnds[col_x])/10,\n",
    "    description='Longitude:',\n",
    "    disabled=False,\n",
    "    continuous_update=False,\n",
    "    orientation='horizontal',\n",
    "    readout=True,\n",
    "    readout_format='.1f',\n",
    ")\n",
    "lat_slider = widgets.FloatRangeSlider(\n",
    "    value=[lo_bnds[col_y], up_bnds[col_y]],\n",
    "    min=lo_bnds[col_y],\n",
    "    max=up_bnds[col_y],\n",
    "    step=(up_bnds[col_y]-lo_bnds[col_y])/10,\n",
    "    description='Latitude:',\n",
    "    disabled=False,\n",
    "    continuous_update=False,\n",
    "    orientation='horizontal',\n",
    "    readout=True,\n",
    "    readout_format='.1f',\n",
    ")\n",
    "def observer(_):\n",
    "    async def _coro():\n",
    "        long_lo, long_up = long_slider.value\n",
    "        lat_lo, lat_up = lat_slider.value\n",
    "        await var_lo.from_input({col_x: long_lo, col_y: lat_lo})\n",
    "        await var_up.from_input({col_x: long_up, col_y: lat_up})\n",
    "    aio.create_task(_coro())\n",
    "long_slider.observe(observer, \"value\")\n",
    "lat_slider.observe(observer, \"value\")\n",
    "widgets.VBox([long_slider, lat_slider])"
   ]
  },
  {
   "cell_type": "code",
   "execution_count": null,
   "id": "db3beba1-49a7-4ead-9262-fc9e48572c3a",
   "metadata": {},
   "outputs": [],
   "source": [
    "# Show what runs\n",
    "csv.scheduler()"
   ]
  },
  {
   "cell_type": "code",
   "execution_count": null,
   "id": "ea0675db-976b-43b7-a456-3ee810039641",
   "metadata": {
    "jupyter": {
     "source_hidden": true
    }
   },
   "outputs": [],
   "source": [
    "csv.scheduler().task_stop();"
   ]
  }
 ],
 "metadata": {
  "kernelspec": {
   "display_name": "Python 3 (ipykernel)",
   "language": "python",
   "name": "python3"
  },
  "language_info": {
   "codemirror_mode": {
    "name": "ipython",
    "version": 3
   },
   "file_extension": ".py",
   "mimetype": "text/x-python",
   "name": "python",
   "nbconvert_exporter": "python",
   "pygments_lexer": "ipython3",
   "version": "3.11.4"
  },
  "widgets": {
   "application/vnd.jupyter.widget-state+json": {
    "state": {},
    "version_major": 2,
    "version_minor": 0
   }
  }
 },
 "nbformat": 4,
 "nbformat_minor": 5
}

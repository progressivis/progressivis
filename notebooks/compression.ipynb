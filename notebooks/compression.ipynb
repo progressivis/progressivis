{
 "cells": [
  {
   "cell_type": "code",
   "execution_count": 1,
   "id": "standard-saint",
   "metadata": {},
   "outputs": [],
   "source": [
    "import numpy as np\n",
    "nbins = 128\n",
    "nsamples=100_000\n",
    "steps = 1000\n",
    "mean = [0.1, 0.3]\n",
    "cov = [[0.01, 0], [0, 0.09]]\n",
    "rdata = np.random.multivariate_normal(mean, cov, size=(nsamples))\n",
    "h, *_ = np.histogram2d(rdata[:,0],rdata[:,1], bins=nbins, range=((-1.0,1.0),(-1.0,1.0)))\n",
    "hist = np.ascontiguousarray(h)"
   ]
  },
  {
   "cell_type": "code",
   "execution_count": 2,
   "id": "prerequisite-duration",
   "metadata": {},
   "outputs": [
    {
     "data": {
      "text/plain": [
       "<matplotlib.image.AxesImage at 0x7f4bd78139d0>"
      ]
     },
     "execution_count": 2,
     "metadata": {},
     "output_type": "execute_result"
    },
    {
     "data": {
      "image/png": "[encoded data removed]",
      "text/plain": [
       "<Figure size 432x288 with 1 Axes>"
      ]
     },
     "metadata": {
      "needs_background": "light"
     },
     "output_type": "display_data"
    }
   ],
   "source": [
    "import matplotlib.pyplot as plt\n",
    "plt.imshow(hist, cmap='hot', interpolation='nearest')"
   ]
  },
  {
   "cell_type": "code",
   "execution_count": 3,
   "id": "electric-usage",
   "metadata": {},
   "outputs": [
    {
     "name": "stdout",
     "output_type": "stream",
     "text": [
      "1.23 ms ± 8.21 µs per loop (mean ± std. dev. of 7 runs, 1000 loops each)\n"
     ]
    }
   ],
   "source": [
    "import gzip\n",
    "\n",
    "mv = memoryview(hist)\n",
    "\n",
    "%timeit gzip.compress(mv, compresslevel=6)\n",
    "gzip_comp = gzip.compress(mv, compresslevel=6)\n",
    "gzip_len = len(gzip_comp)"
   ]
  },
  {
   "cell_type": "code",
   "execution_count": 4,
   "id": "broad-deputy",
   "metadata": {},
   "outputs": [
    {
     "name": "stdout",
     "output_type": "stream",
     "text": [
      "40.8 µs ± 427 ns per loop (mean ± std. dev. of 7 runs, 10000 loops each)\n"
     ]
    }
   ],
   "source": [
    "import lz4.frame\n",
    "\n",
    "mv = memoryview(hist)\n",
    "\n",
    "%timeit lz4.frame.compress(mv, compression_level=lz4.frame.COMPRESSIONLEVEL_MIN)\n",
    "lz4_comp = lz4.frame.compress(mv, compression_level=lz4.frame.COMPRESSIONLEVEL_MIN)\n",
    "lz4_len = len(lz4_comp)"
   ]
  },
  {
   "cell_type": "code",
   "execution_count": 5,
   "id": "opening-genre",
   "metadata": {},
   "outputs": [
    {
     "data": {
      "text/plain": [
       "0.4320797536067434"
      ]
     },
     "execution_count": 5,
     "metadata": {},
     "output_type": "execute_result"
    }
   ],
   "source": [
    "gzip_len / lz4_len"
   ]
  },
  {
   "cell_type": "code",
   "execution_count": 21,
   "id": "clear-floor",
   "metadata": {},
   "outputs": [
    {
     "name": "stdout",
     "output_type": "stream",
     "text": [
      "2.99 ms ± 23.2 µs per loop (mean ± std. dev. of 7 runs, 100 loops each)\n"
     ]
    }
   ],
   "source": [
    "%timeit gzip_rows = [gzip.compress(hist[i], compresslevel=6) for i in range(nbins)]\n",
    "gzip_rows = [gzip.compress(hist[i], compresslevel=6) for i in range(nbins)]"
   ]
  },
  {
   "cell_type": "code",
   "execution_count": 22,
   "id": "entire-withdrawal",
   "metadata": {},
   "outputs": [
    {
     "name": "stdout",
     "output_type": "stream",
     "text": [
      "211 µs ± 4.08 µs per loop (mean ± std. dev. of 7 runs, 1000 loops each)\n"
     ]
    }
   ],
   "source": [
    "%timeit lz4_rows = [lz4.frame.compress(hist[i], compression_level=lz4.frame.COMPRESSIONLEVEL_MIN) for i in range(nbins)]\n",
    "lz4_rows = [lz4.frame.compress(hist[i], compression_level=lz4.frame.COMPRESSIONLEVEL_MIN) for i in range(nbins)]"
   ]
  },
  {
   "cell_type": "code",
   "execution_count": 23,
   "id": "reserved-illinois",
   "metadata": {},
   "outputs": [
    {
     "name": "stdout",
     "output_type": "stream",
     "text": [
      "10230 17929 0.5705839701043003\n"
     ]
    }
   ],
   "source": [
    "gzip_split_len = np.sum(list(map(len, gzip_rows)))\n",
    "lz4_split_len = np.sum(list(map(len, lz4_rows)))\n",
    "print(gzip_split_len, lz4_split_len, gzip_split_len/lz4_split_len)"
   ]
  },
  {
   "cell_type": "code",
   "execution_count": null,
   "id": "exciting-contract",
   "metadata": {},
   "outputs": [],
   "source": []
  }
 ],
 "metadata": {
  "kernelspec": {
   "display_name": "Python 3",
   "language": "python",
   "name": "python3"
  },
  "language_info": {
   "codemirror_mode": {
    "name": "ipython",
    "version": 3
   },
   "file_extension": ".py",
   "mimetype": "text/x-python",
   "name": "python",
   "nbconvert_exporter": "python",
   "pygments_lexer": "ipython3",
   "version": "3.8.5"
  }
 },
 "nbformat": 4,
 "nbformat_minor": 5
}

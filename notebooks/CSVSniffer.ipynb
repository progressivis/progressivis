{
 "cells": [
  {
   "cell_type": "code",
   "execution_count": null,
   "id": "distributed-pakistan",
   "metadata": {},
   "outputs": [],
   "source": [
    "from progressivis.io.csv_sniffer import CSVSniffer"
   ]
  },
  {
   "cell_type": "code",
   "execution_count": null,
   "id": "liquid-shield",
   "metadata": {},
   "outputs": [],
   "source": [
    "sniffer = CSVSniffer(\"https://nyc-tlc.s3.amazonaws.com/csv_backup/yellow_tripdata_2015-01.csv\")"
   ]
  },
  {
   "cell_type": "code",
   "execution_count": null,
   "id": "binary-classic",
   "metadata": {
    "scrolled": false
   },
   "outputs": [],
   "source": [
    "sniffer.box"
   ]
  },
  {
   "cell_type": "code",
   "execution_count": null,
   "id": "another-saying",
   "metadata": {},
   "outputs": [],
   "source": [
    "sniffer.cmdline.value"
   ]
  },
  {
   "cell_type": "code",
   "execution_count": null,
   "id": "based-curve",
   "metadata": {},
   "outputs": [],
   "source": []
  },
  {
   "cell_type": "code",
   "execution_count": null,
   "id": "regular-restoration",
   "metadata": {},
   "outputs": [],
   "source": []
  },
  {
   "cell_type": "code",
   "execution_count": null,
   "id": "prepared-apparatus",
   "metadata": {},
   "outputs": [],
   "source": []
  },
  {
   "cell_type": "code",
   "execution_count": null,
   "id": "requested-genius",
   "metadata": {},
   "outputs": [],
   "source": []
  },
  {
   "cell_type": "code",
   "execution_count": null,
   "id": "parallel-bruce",
   "metadata": {},
   "outputs": [],
   "source": []
  },
  {
   "cell_type": "code",
   "execution_count": null,
   "id": "unique-conclusion",
   "metadata": {},
   "outputs": [],
   "source": []
  }
 ],
 "metadata": {
  "kernelspec": {
   "display_name": "Python 3 (ipykernel)",
   "language": "python",
   "name": "python3"
  },
  "language_info": {
   "codemirror_mode": {
    "name": "ipython",
    "version": 3
   },
   "file_extension": ".py",
   "mimetype": "text/x-python",
   "name": "python",
   "nbconvert_exporter": "python",
   "pygments_lexer": "ipython3",
   "version": "3.8.12"
  }
 },
 "nbformat": 4,
 "nbformat_minor": 5
}

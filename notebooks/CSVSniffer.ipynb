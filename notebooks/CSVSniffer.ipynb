{
 "cells": [
  {
   "cell_type": "code",
   "execution_count": 1,
   "id": "distributed-pakistan",
   "metadata": {},
   "outputs": [],
   "source": [
    "from progressivis.io.csv_sniffer import CSVSniffer"
   ]
  },
  {
   "cell_type": "code",
   "execution_count": 2,
   "id": "liquid-shield",
   "metadata": {},
   "outputs": [],
   "source": [
    "sniffer = CSVSniffer(\"https://s3.amazonaws.com/nyc-tlc/trip+data/yellow_tripdata_2015-01.csv\")"
   ]
  },
  {
   "cell_type": "code",
   "execution_count": 3,
   "id": "binary-classic",
   "metadata": {
    "scrolled": false
   },
   "outputs": [
    {
     "data": {
      "application/vnd.jupyter.widget-view+json": {
       "model_id": "9a40eaac4ae44f47b3634151e37009e9",
       "version_major": 2,
       "version_minor": 0
      },
      "text/plain": [
       "VBox(children=(HBox(children=(Tab(children=(VBox(children=(RadioButtons(options=((',', ','), (';', ';'), ('<TA…"
      ]
     },
     "metadata": {},
     "output_type": "display_data"
    }
   ],
   "source": [
    "sniffer.box"
   ]
  },
  {
   "cell_type": "code",
   "execution_count": 6,
   "id": "another-saying",
   "metadata": {},
   "outputs": [
    {
     "data": {
      "text/plain": [
       "{'index_col': False,\n",
       " 'delimiter': ',',\n",
       " 'header': 0,\n",
       " 'names': None,\n",
       " 'usecols': None,\n",
       " 'squeeze': False,\n",
       " 'prefix': None,\n",
       " 'mangle_dupe_cols': True,\n",
       " 'dtype': {'store_and_fwd_flag': 'category'},\n",
       " 'engine': None,\n",
       " 'converters': None,\n",
       " 'true_values': ['ok', 'oui'],\n",
       " 'false_values': ['N'],\n",
       " 'skipinitialspace': False,\n",
       " 'skiprows': None,\n",
       " 'skipfooter': 0,\n",
       " 'nrows': None,\n",
       " 'na_values': None,\n",
       " 'keep_default_na': True,\n",
       " 'na_filter': True,\n",
       " 'verbose': False,\n",
       " 'skip_blank_lines': True,\n",
       " 'parse_dates': None,\n",
       " 'infer_datetime_format': False,\n",
       " 'keep_date_col': False,\n",
       " 'date_parser': None,\n",
       " 'dayfirst': False,\n",
       " 'cache_dates': True,\n",
       " 'iterator': False,\n",
       " 'chunksize': None,\n",
       " 'compression': 'infer',\n",
       " 'thousands': None,\n",
       " 'decimal': '.',\n",
       " 'lineterminator': None,\n",
       " 'quotechar': '\"',\n",
       " 'quoting': 0,\n",
       " 'doublequote': False,\n",
       " 'escapechar': None,\n",
       " 'comment': None,\n",
       " 'encoding': None,\n",
       " 'dialect': None,\n",
       " 'error_bad_lines': True,\n",
       " 'warn_bad_lines': True,\n",
       " 'delim_whitespace': False,\n",
       " 'low_memory': True,\n",
       " 'memory_map': False,\n",
       " 'float_precision': None,\n",
       " 'storage_options': None}"
      ]
     },
     "execution_count": 6,
     "metadata": {},
     "output_type": "execute_result"
    }
   ],
   "source": [
    "sniffer.params"
   ]
  },
  {
   "cell_type": "code",
   "execution_count": null,
   "id": "characteristic-nursery",
   "metadata": {},
   "outputs": [],
   "source": []
  },
  {
   "cell_type": "code",
   "execution_count": null,
   "id": "decimal-theater",
   "metadata": {},
   "outputs": [],
   "source": []
  },
  {
   "cell_type": "code",
   "execution_count": null,
   "id": "together-branch",
   "metadata": {},
   "outputs": [],
   "source": []
  }
 ],
 "metadata": {
  "kernelspec": {
   "display_name": "Python 3",
   "language": "python",
   "name": "python3"
  },
  "language_info": {
   "codemirror_mode": {
    "name": "ipython",
    "version": 3
   },
   "file_extension": ".py",
   "mimetype": "text/x-python",
   "name": "python",
   "nbconvert_exporter": "python",
   "pygments_lexer": "ipython3",
   "version": "3.8.5"
  }
 },
 "nbformat": 4,
 "nbformat_minor": 5
}

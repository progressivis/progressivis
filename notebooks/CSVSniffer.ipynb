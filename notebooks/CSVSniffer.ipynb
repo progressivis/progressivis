{
 "cells": [
  {
   "cell_type": "code",
   "execution_count": 1,
   "id": "distributed-pakistan",
   "metadata": {},
   "outputs": [],
   "source": [
    "from progressivis.io.csv_sniffer import CSVSniffer"
   ]
  },
  {
   "cell_type": "code",
   "execution_count": 2,
   "id": "liquid-shield",
   "metadata": {},
   "outputs": [
    {
     "name": "stdout",
     "output_type": "stream",
     "text": [
      "Column: 'VendorID'\n"
     ]
    }
   ],
   "source": [
    "sniffer = CSVSniffer(\"https://s3.amazonaws.com/nyc-tlc/trip+data/yellow_tripdata_2015-01.csv\")"
   ]
  },
  {
   "cell_type": "code",
   "execution_count": 3,
   "id": "silver-gauge",
   "metadata": {},
   "outputs": [
    {
     "data": {
      "application/vnd.jupyter.widget-view+json": {
       "model_id": "3595cda09b894b82950bccf11d223fd6",
       "version_major": 2,
       "version_minor": 0
      },
      "text/plain": [
       "VBox(children=(HBox(children=(VBox(children=(RadioButtons(options=((',', ','), (';', ';'), ('<TAB>', '\\t'), ('…"
      ]
     },
     "metadata": {},
     "output_type": "display_data"
    }
   ],
   "source": [
    "sniffer.box"
   ]
  },
  {
   "cell_type": "code",
   "execution_count": null,
   "id": "taken-lawyer",
   "metadata": {},
   "outputs": [],
   "source": []
  }
 ],
 "metadata": {
  "kernelspec": {
   "display_name": "Python 3",
   "language": "python",
   "name": "python3"
  },
  "language_info": {
   "codemirror_mode": {
    "name": "ipython",
    "version": 3
   },
   "file_extension": ".py",
   "mimetype": "text/x-python",
   "name": "python",
   "nbconvert_exporter": "python",
   "pygments_lexer": "ipython3",
   "version": "3.8.5"
  }
 },
 "nbformat": 4,
 "nbformat_minor": 5
}

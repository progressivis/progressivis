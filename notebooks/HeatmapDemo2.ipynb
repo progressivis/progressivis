{
 "cells": [
  {
   "cell_type": "markdown",
   "id": "partial-springer",
   "metadata": {},
   "source": [
    "## Listing 1. Visualizing the Heatmap of a large data table with ProgressiVis"
   ]
  },
  {
   "cell_type": "code",
   "execution_count": 1,
   "id": "geographic-shannon",
   "metadata": {},
   "outputs": [],
   "source": [
    "from progressivis import Scheduler\n",
    "from progressivis.io import SimpleCSVLoader\n",
    "from progressivis.stats import Histogram2D, Min, Max\n",
    "from progressivis.datasets import get_dataset\n",
    "from progressivis.vis import Heatmap\n",
    "from progressivis.stats.blobs_table import BlobsPTable\n",
    "s = Scheduler.default = Scheduler()\n",
    "URLS = [f\"https://s3.amazonaws.com/nyc-tlc/trip+data/yellow_tripdata_2015-0{n}.csv\" for n in range(1,7)]\n",
    "#csv_module = CSVLoader(URLS, index_col=False, skipinitialspace=True,\n",
    "#                usecols=['pickup_longitude', 'pickup_latitude']) # load many compressed CSV files\n",
    "cols = ['A', 'B']\n",
    "csv_module = SimpleCSVLoader(get_dataset('bigfile_multiscale'), usecols=cols, throttle=100)\n",
    "min_module = Min() # computes the min value of each column\n",
    "min_module.input.table = csv_module.output.result\n",
    "max_module = Max() # computes the max value of each column\n",
    "max_module.input.table = csv_module.output.result\n",
    "histogram2d = Histogram2D('A', # compute a 2d histogram\n",
    "                          'B', \n",
    "                          xbins=32, ybins=32)\n",
    "histogram2d.input.table = csv_module.output.result\n",
    "histogram2d.input.min = min_module.output.result\n",
    "histogram2d.input.max = max_module.output.result\n",
    "heatmap=Heatmap() # compute the Heatmap\n",
    "heatmap.input.array = histogram2d.output.result"
   ]
  },
  {
   "cell_type": "markdown",
   "id": "revised-kuwait",
   "metadata": {},
   "source": [
    "**NB:** the results will appear below after running all cells :"
   ]
  },
  {
   "cell_type": "code",
   "execution_count": 2,
   "id": "recent-marks",
   "metadata": {},
   "outputs": [
    {
     "data": {
      "application/vnd.jupyter.widget-view+json": {
       "model_id": "66ac4dc8fd6747f79806ade33b2098f5",
       "version_major": 2,
       "version_minor": 0
      },
      "text/plain": [
       "VegaWidget()"
      ]
     },
     "metadata": {},
     "output_type": "display_data"
    },
    {
     "data": {
      "text/plain": [
       "<Task pending name='Task-5' coro=<Scheduler.start() running at /home/fekete/src/progressivis/progressivis/core/scheduler.py:273>>"
      ]
     },
     "execution_count": 2,
     "metadata": {},
     "output_type": "execute_result"
    }
   ],
   "source": [
    "from ipyprogressivis.nbwidgets import VegaWidget\n",
    "from itertools import product\n",
    "import scipy as sp\n",
    "import numpy as np\n",
    "spec_no_data = {'$schema': 'https://vega.github.io/schema/vega-lite/v4.8.1.json',\n",
    " 'config': {'view': {'continuousHeight': 300, 'continuousWidth': 400}},\n",
    " 'encoding': {'color': {'field': 'z', 'type': 'quantitative'},\n",
    "  'x': {'field': 'x', 'type': 'ordinal'},\n",
    "  'y': {'field': 'y', 'type': 'ordinal'}, \"size\": {\"value\": 0.1}},\n",
    " 'mark': 'rect'}\n",
    "wg = VegaWidget(spec=spec_no_data)\n",
    "async def _after_run(m, run_number):\n",
    "    histo = m.to_json()['chart']['buffers'][0]['binnedPixels']\n",
    "    low = 0\n",
    "    high = 1.0\n",
    "    cmin = histo.min()\n",
    "    cmax = histo.max()\n",
    "    cscale = cmax - cmin\n",
    "    scale_hl = float(high - low)\n",
    "    scale = float(high - low) / cscale\n",
    "    data = (histo - cmin) * scale\n",
    "    # data[data > high] = high\n",
    "    # data[data < 0] = 0\n",
    "    #data = data.tolist()\n",
    "\n",
    "    res = []\n",
    "    spec_with_data = spec_no_data.copy()\n",
    "    for i, j, in product(range(data.shape[0]), range(data.shape[1])):\n",
    "        res.append(dict(y=i, x=j, z=(data[i,j])))\n",
    "    spec_with_data[\"data\"] = {\n",
    "        \"name\": \"data\",\n",
    "        \"values\": res,\n",
    "    }\n",
    "    wg.spec = spec_with_data\n",
    "display(wg)\n",
    "histogram2d.on_after_run(_after_run)\n",
    "s.task_start()"
   ]
  },
  {
   "cell_type": "code",
   "execution_count": 4,
   "id": "9f400972-0d67-4025-84a9-d7a73b756aef",
   "metadata": {},
   "outputs": [
    {
     "data": {
      "text/plain": [
       "<Task pending name='Task-8' coro=<Scheduler.stop() running at /home/fekete/src/progressivis/progressivis/core/scheduler.py:610>>"
      ]
     },
     "execution_count": 4,
     "metadata": {},
     "output_type": "execute_result"
    }
   ],
   "source": [
    "s.task_stop()"
   ]
  },
  {
   "cell_type": "code",
   "execution_count": null,
   "id": "058eec95-731e-4767-9b69-90de9625525e",
   "metadata": {},
   "outputs": [],
   "source": []
  }
 ],
 "metadata": {
  "kernelspec": {
   "display_name": "Python 3 (ipykernel)",
   "language": "python",
   "name": "python3"
  },
  "language_info": {
   "codemirror_mode": {
    "name": "ipython",
    "version": 3
   },
   "file_extension": ".py",
   "mimetype": "text/x-python",
   "name": "python",
   "nbconvert_exporter": "python",
   "pygments_lexer": "ipython3",
   "version": "3.11.7"
  }
 },
 "nbformat": 4,
 "nbformat_minor": 5
}

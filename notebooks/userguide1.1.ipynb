{
 "cells": [
  {
   "cell_type": "markdown",
   "id": "2fd18379",
   "metadata": {},
   "source": [
    "# Progressive Loading and Visualization with Issues\n",
    "\n",
    "This notebook shows a simple code to download and visualize all the New York Yellow Taxi trips from January 2015. \n",
    "The trip data is stored in multiple CSV files, containing geolocated taxi trips.\n",
    "We visualize progressively the pickup locations (where people have been picked up by the taxis).\n",
    "Unfortunately, with big data, unexpected results can happen."
   ]
  },
  {
   "cell_type": "code",
   "execution_count": 1,
   "id": "869f4b9f",
   "metadata": {},
   "outputs": [],
   "source": [
    "# We make sure the libraries are reloaded when modified, and avoid warning messages\n",
    "# %load_ext autoreload\n",
    "# %autoreload 2\n",
    "import warnings\n",
    "warnings.filterwarnings(\"ignore\")"
   ]
  },
  {
   "cell_type": "code",
   "execution_count": 2,
   "id": "8db3d441",
   "metadata": {},
   "outputs": [],
   "source": [
    "# Some constants we'll need: the data file to download and final image size\n",
    "LARGE_TAXI_FILE = \"https://www.aviz.fr/nyc-taxi/yellow_tripdata_2015-01.csv.bz2\"\n",
    "RESOLUTION=512"
   ]
  },
  {
   "cell_type": "markdown",
   "id": "97d0c086",
   "metadata": {},
   "source": [
    "## Create Modules\n",
    "First, create the four modules we need."
   ]
  },
  {
   "cell_type": "code",
   "execution_count": 3,
   "id": "74218cfa",
   "metadata": {
    "lines_to_next_cell": 2
   },
   "outputs": [],
   "source": [
    "from progressivis import CSVLoader, Histogram2D, Min, Max, Heatmap\n",
    "\n",
    "# Create a CSVLoader module, a Min and Max module, a Histogram2D module, and a Heatmap module.\n",
    "\n",
    "# The CSV Loader only loads two columns of interest here with the 'usecols' keyword.\n",
    "csv = CSVLoader(LARGE_TAXI_FILE, usecols=['pickup_longitude', 'pickup_latitude'])\n",
    "min = Min()\n",
    "max = Max()\n",
    "# This Histogram2D column will compute a 2D histogram from the 2 columns with a resolution\n",
    "histogram2d = Histogram2D('pickup_longitude', 'pickup_latitude', xbins=RESOLUTION, ybins=RESOLUTION)\n",
    "heatmap = Heatmap()"
   ]
  },
  {
   "cell_type": "markdown",
   "id": "36223694",
   "metadata": {},
   "source": [
    "## Connect Modules\n",
    "\n",
    "Then, connect the modules."
   ]
  },
  {
   "cell_type": "code",
   "execution_count": 4,
   "id": "197544c4",
   "metadata": {},
   "outputs": [],
   "source": [
    "# Now, connect the modules to create the Dataflow graph\n",
    "# Min/Max input a table and output the min/max values of all the numeric columns\n",
    "min.input.table = csv.output.result\n",
    "max.input.table = csv.output.result\n",
    "histogram2d.input.table = csv.output.result\n",
    "histogram2d.input.min = min.output.result\n",
    "histogram2d.input.max = max.output.result\n",
    "# Connect the Histogram2D to the Heatmap module\n",
    "heatmap.input.array = histogram2d.output.result"
   ]
  },
  {
   "cell_type": "markdown",
   "id": "df0c0fe4",
   "metadata": {},
   "source": [
    "## Display the Heatmap\n",
    "\n",
    "The displayed image only shows two small points instead of the revealing the map of Manhattan.\n",
    "This is because a few taxi trips go to Florida and other far away locations with their meter on. The image is thus scaled down to show most of the US instead of Manhattan only."
   ]
  },
  {
   "cell_type": "code",
   "execution_count": 5,
   "id": "da25f44b",
   "metadata": {},
   "outputs": [
    {
     "data": {
      "application/vnd.jupyter.widget-view+json": {
       "model_id": "643a98695ef442b08611021a0392da1e",
       "version_major": 2,
       "version_minor": 0
      },
      "text/plain": [
       "VBox(children=(HBox(children=(IntProgress(value=0, description='0/0', max=1000), Button(description='Save', ic…"
      ]
     },
     "metadata": {},
     "output_type": "display_data"
    }
   ],
   "source": [
    "heatmap.display_notebook()"
   ]
  },
  {
   "cell_type": "markdown",
   "id": "b55ddad5",
   "metadata": {},
   "source": [
    "## Start the scheduler"
   ]
  },
  {
   "cell_type": "code",
   "execution_count": 6,
   "id": "581a45dd",
   "metadata": {},
   "outputs": [
    {
     "data": {
      "text/plain": [
       "<Task pending name='Task-15' coro=<Scheduler.start() running at /home/fekete/src/progressivis/progressivis/core/scheduler.py:277>>"
      ]
     },
     "execution_count": 6,
     "metadata": {},
     "output_type": "execute_result"
    },
    {
     "name": "stdout",
     "output_type": "stream",
     "text": [
      "Starting scheduler\n",
      "# Scheduler added module(s): ['csv_loader_1', 'heatmap_1', 'histogram2_d_1', 'max_1', 'min_1']\n"
     ]
    }
   ],
   "source": [
    "csv.scheduler.task_start()"
   ]
  },
  {
   "cell_type": "markdown",
   "id": "25451bd3",
   "metadata": {},
   "source": [
    "## Show the modules\n",
    "printing the scheduler shows all the modules and their states"
   ]
  },
  {
   "cell_type": "code",
   "execution_count": 7,
   "id": "a1cc20ac",
   "metadata": {},
   "outputs": [
    {
     "data": {
      "text/html": [
       "\n",
       "<style scoped>\n",
       "    .dataframe tbody tr th:only-of-type {\n",
       "        vertical-align: middle;\n",
       "    }\n",
       "\n",
       "    .dataframe tbody tr th {\n",
       "        vertical-align: top;\n",
       "    }\n",
       "\n",
       "    .dataframe thead th {\n",
       "        text-align: right;\n",
       "    }\n",
       "</style>\n",
       "<p><b>Scheduler</b> 0x7eacb0db42f0\n",
       "        <b>running</b>,\n",
       "        <b>modules:</b> 5,\n",
       "        <b>run number:</b> 73\n",
       "</p>\n",
       "<table border=\"1\" class=\"dataframe\">\n",
       "  <thead>\n",
       "    <tr style=\"text-align: right;\">\n",
       "      <th>Id</th><th>Class</th><th>State</th><th>Last Update</th><th>Order</th>\n",
       "    </tr>\n",
       "  </thead>\n",
       "  <tbody><tr><td>csv_loader_1</td><td>csv_loader</td><td>state_ready</td><td>71</td><td>0</td><tr><td>min_1</td><td>min</td><td>state_blocked</td><td>72</td><td>1</td><tr><td>max_1</td><td>max</td><td>state_blocked</td><td>73</td><td>2</td><tr><td>histogram2_d_1</td><td>histogram2_d</td><td>state_blocked</td><td>69</td><td>3</td><tr><td>heatmap_1</td><td>heatmap</td><td>state_blocked</td><td>70</td><td>4</td></tbody></table>"
      ],
      "text/plain": [
       "<progressivis.core.scheduler.Scheduler at 0x7eacb0db42f0>"
      ]
     },
     "execution_count": 7,
     "metadata": {},
     "output_type": "execute_result"
    }
   ],
   "source": [
    "csv.scheduler"
   ]
  },
  {
   "cell_type": "markdown",
   "id": "c44d95ce",
   "metadata": {},
   "source": [
    "## Stop the scheduler\n",
    "To stop the scheduler, uncomment the next cell and run it"
   ]
  },
  {
   "cell_type": "code",
   "execution_count": null,
   "id": "aa6eb96b",
   "metadata": {},
   "outputs": [],
   "source": [
    "\n",
    "# csv.scheduler.task_stop()"
   ]
  }
 ],
 "metadata": {
  "jupytext": {
   "comment_magics": false,
   "formats": "ipynb,py:percent"
  },
  "kernelspec": {
   "display_name": "Python 3 (ipykernel)",
   "language": "python",
   "name": "python3"
  },
  "language_info": {
   "codemirror_mode": {
    "name": "ipython",
    "version": 3
   },
   "file_extension": ".py",
   "mimetype": "text/x-python",
   "name": "python",
   "nbconvert_exporter": "python",
   "pygments_lexer": "ipython3",
   "version": "3.13.7"
  },
  "widgets": {
   "application/vnd.jupyter.widget-state+json": {
    "state": {
     "0c22f8f2eb604f30bbb25d28b12b4569": {
      "model_module": "@jupyter-widgets/controls",
      "model_module_version": "2.0.0",
      "model_name": "IntProgressModel",
      "state": {
       "description": "21%",
       "layout": "IPY_MODEL_69c52f7d506d4a3eba16bd91ef1e93a3",
       "max": 38179020,
       "style": "IPY_MODEL_f85af710f9b04c84bdeaaf72232c7dc8",
       "value": 8241729
      }
     },
     "3091d8a72e2d440db5d6f77e26e503a8": {
      "model_module": "@jupyter-widgets/base",
      "model_module_version": "2.0.0",
      "model_name": "LayoutModel",
      "state": {}
     },
     "37fff47ce3b9471186cb3c7d8a3de2f6": {
      "model_module": "@jupyter-widgets/controls",
      "model_module_version": "2.0.0",
      "model_name": "ButtonModel",
      "state": {
       "description": "Save",
       "icon": "save",
       "layout": "IPY_MODEL_8ef4117f2e7b430b98ef0ad01cbcc767",
       "style": "IPY_MODEL_e40d4406a1064b71b8f1ccf68eea32f3",
       "tooltip": null
      }
     },
     "4bd3cd4c32b8434fba91beb5a6eaee6a": {
      "model_module": "@jupyter-widgets/base",
      "model_module_version": "2.0.0",
      "model_name": "LayoutModel",
      "state": {}
     },
     "643a98695ef442b08611021a0392da1e": {
      "model_module": "@jupyter-widgets/controls",
      "model_module_version": "2.0.0",
      "model_name": "VBoxModel",
      "state": {
       "children": [
        "IPY_MODEL_e2fae913cd06405c813508eb221468e2",
        "IPY_MODEL_84a120380ffe4617bb58060f706acd34"
       ],
       "layout": "IPY_MODEL_77cd91586b7e41ac8cb38a669cc315b3"
      }
     },
     "69c52f7d506d4a3eba16bd91ef1e93a3": {
      "model_module": "@jupyter-widgets/base",
      "model_module_version": "2.0.0",
      "model_name": "LayoutModel",
      "state": {}
     },
     "77cd91586b7e41ac8cb38a669cc315b3": {
      "model_module": "@jupyter-widgets/base",
      "model_module_version": "2.0.0",
      "model_name": "LayoutModel",
      "state": {}
     },
     "84a120380ffe4617bb58060f706acd34": {
      "buffers": [
       {
        "data": "iVBORw0KGgoAAAANSUhEUgAAAgAAAAIAEAAAAACBg1dlAAADsElEQVR4nO3dsWoUQRgA4FG0mwR0mxOEgGjwBWRKrS2EdBb7BMr1NpLSzsJ7AJtg4wtYaX21pW8giM01YhGLJOTQzbGG3M7uzPdVx3HH/cX9M/8/s7sTAgAAAAAAAAAAAAAAAAAAAAAAAAAAAAAA62LKHQEAAAAAAAAAAAAAAAAAAAAAAAAAAAAAAAAAAAAAAAAAABQgptwRAAAAAAAA/VjVh1GSmgAAAAAAAAAAAAAAAAAAAFAiTxQAAM6oCwAAAAAAAAAAAAAAAAAAAAAAAACgfJ4/CAAAANOghweAKdnGzK0aAAAAAICBWZQDALqoEQAAoFiXL/c1ClC1mIYcBgw4ALBNZloAKJu5HgAA6DCb//ue9gEmrl8Sn39qNj95LfnZlmu5A2Czk+RfLXPHQZkMAKO1t7h5a7UM4ffPH0e5Y6FU13MHUI//K+Sbdvf97a/3nt44Tf/ub2sOoEhN+/jB4Z1HH0Jo2tyxAAO72x7sHx8/3332OoSYzPT0459ShKa9f/Ry5/ubz+8eLnLHAgwspv1PT96+2Dn4aESHysQUwt6iaZX+bJtdgFGazVfLX99CWC2HfQgIkMF5iq+/GkMNkPv3oVLrlwHH1HV/AFCcs31/9wEAAH2oFqBSkh8mTxoDAFdDVQEAAAAAAADZ2K4DAC6mUoCiDZnihhMAAAAA2LquZThLc8BGBgkG56hqgAE4CgQA6qGzhwpJfADgqqgrAAAAAGBELNgBABdTKQDAtJnLAQCgetoCAGATtQIAAAAAAEyd05gAAIBTLgYCAAAAAAAAAAAAAAAAAAAAAAAAAAAAAAAAAAAAAAAAAACgTDHljgAAAJgQLQQAAAAAAAAAAAAAAAAAAAAAAAAAAAAAAAAAAAAAAAAAAAAAAAAAAAAAAAAA4xZT7ggAAAAAAAAAAAAAAAAAAAAAAAAAAAAAAAAAAAAAAACgcg4dBwAAAAAAAAAAAAAAAAAAoA7usAcAAAAAAAB6sLUIAAAAAAAAAAAAAAAAAAAAAAAAAAAAAAAAAAAAAAAAAAAAAAAAAAAAAAAAAAAAAAAAAAAAAAAAAAAAAAAAAAAAAAAAAAAAAAAAAAAAAAAAAAAAAAAAAAAAAAAAAAAAAAAAAAAAAAAAAAAAAAAAAAAAAAAAAAAAAAAUJabcEQAAAAAAAAAAAAAAAAAAAAAAAAAAAAAAAAAAAAAAAAAAAAAAAAAAAAAAAIzJl1e5IwAAAAAAAAAAAAAAAAAAAAAAAAAAAAAA/vIHt0k7sSFqUzsAAAAASUVORK5CYII=",
        "encoding": "base64",
        "path": [
         "value"
        ]
       }
      ],
      "model_module": "@jupyter-widgets/controls",
      "model_module_version": "2.0.0",
      "model_name": "ImageModel",
      "state": {
       "height": "512",
       "layout": "IPY_MODEL_4bd3cd4c32b8434fba91beb5a6eaee6a",
       "width": "512"
      }
     },
     "8ef4117f2e7b430b98ef0ad01cbcc767": {
      "model_module": "@jupyter-widgets/base",
      "model_module_version": "2.0.0",
      "model_name": "LayoutModel",
      "state": {}
     },
     "e2fae913cd06405c813508eb221468e2": {
      "model_module": "@jupyter-widgets/controls",
      "model_module_version": "2.0.0",
      "model_name": "HBoxModel",
      "state": {
       "children": [
        "IPY_MODEL_0c22f8f2eb604f30bbb25d28b12b4569",
        "IPY_MODEL_37fff47ce3b9471186cb3c7d8a3de2f6"
       ],
       "layout": "IPY_MODEL_3091d8a72e2d440db5d6f77e26e503a8"
      }
     },
     "e40d4406a1064b71b8f1ccf68eea32f3": {
      "model_module": "@jupyter-widgets/controls",
      "model_module_version": "2.0.0",
      "model_name": "ButtonStyleModel",
      "state": {
       "font_family": null,
       "font_size": null,
       "font_style": null,
       "font_variant": null,
       "font_weight": null,
       "text_color": null,
       "text_decoration": null
      }
     },
     "f85af710f9b04c84bdeaaf72232c7dc8": {
      "model_module": "@jupyter-widgets/controls",
      "model_module_version": "2.0.0",
      "model_name": "ProgressStyleModel",
      "state": {
       "description_width": ""
      }
     }
    },
    "version_major": 2,
    "version_minor": 0
   }
  }
 },
 "nbformat": 4,
 "nbformat_minor": 5
}

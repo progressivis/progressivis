{
 "cells": [
  {
   "cell_type": "markdown",
   "id": "68e6958a-9327-4c15-95c5-0773c0e8b16a",
   "metadata": {},
   "source": [
    "# Progressive Loading and Visualization\n",
    "\n",
    "This notebook shows the simplest code to download all the New York Yellow Taxi trips from 2015. They were all geolocated and the trip data is stored in multiple CSV files.\n",
    "We visualize progressively the pickup locations (where people have been picked up by the taxis).\n",
    "\n",
    "First, we define a few constants, where the file is located, the desired resolution, and the url of the taxi file."
   ]
  },
  {
   "cell_type": "code",
   "execution_count": null,
   "id": "a6f94d61-ae60-4b69-bef0-3289f9fe2f56",
   "metadata": {
    "lines_to_next_cell": 2
   },
   "outputs": [],
   "source": [
    "LARGE_TAXI_FILE = \"https://www.aviz.fr/nyc-taxi/yellow_tripdata_2015-01.csv.bz2\"\n",
    "RESOLUTION=512"
   ]
  },
  {
   "cell_type": "code",
   "execution_count": null,
   "id": "111d0243-4f2c-4c3e-8c73-b9482bbeed12",
   "metadata": {},
   "outputs": [],
   "source": [
    "# Function to filter out trips outside of NYC.\n",
    "\n",
    "# See https://en.wikipedia.org/wiki/Module:Location_map/data/USA_New_York_City\n",
    "bounds = {\n",
    "\t\"top\": 40.92,\n",
    "\t\"bottom\": 40.49,\n",
    "\t\"left\": -74.27,\n",
    "\t\"right\": -73.68,\n",
    "}"
   ]
  },
  {
   "cell_type": "code",
   "execution_count": null,
   "id": "bbbd6ce8-a031-4981-945c-8925e7211b22",
   "metadata": {},
   "outputs": [],
   "source": [
    "from progressivis import CSVLoader, Histogram2D, Min, Max, Heatmap\n",
    "\n",
    "# Create a csv loader filtering out data outside NYC\n",
    "csv = CSVLoader(LARGE_TAXI_FILE, index_col=False, usecols=['pickup_longitude', 'pickup_latitude']) #, filter_=filter_)\n",
    "# Create a module to compute the min value progressively\n",
    "min = Min()\n",
    "# Connect it to the output of the csv module\n",
    "min.input.table = csv.output.result\n",
    "# Create a module to compute the max value progressively\n",
    "max = Max()\n",
    "# Connect it to the output of the csv module\n",
    "max.input.table = csv.output.result\n",
    "\n",
    "# Create a module to compute the 2D histogram of the two columns specified\n",
    "# with the given resolution\n",
    "histogram2d = Histogram2D('pickup_longitude', 'pickup_latitude', xbins=RESOLUTION, ybins=RESOLUTION)\n",
    "# Connect the module to the csv results and the min,max bounds to rescale\n",
    "histogram2d.input.table = csv.output.result\n",
    "histogram2d.input.min = min.output.result\n",
    "histogram2d.input.max = max.output.result\n",
    "# Create a module to create an heatmap image from the histogram2d\n",
    "heatmap = Heatmap()\n",
    "# Connect it to the histogram2d\n",
    "heatmap.input.array = histogram2d.output.result"
   ]
  },
  {
   "cell_type": "code",
   "execution_count": null,
   "id": "95e97dd2-d99a-4f04-90ca-1fae2409dc74",
   "metadata": {},
   "outputs": [],
   "source": [
    "heatmap.display_notebook()\n",
    "# Start the scheduler\n",
    "csv.scheduler().task_start()"
   ]
  },
  {
   "cell_type": "code",
   "execution_count": null,
   "id": "db3beba1-49a7-4ead-9262-fc9e48572c3a",
   "metadata": {},
   "outputs": [],
   "source": [
    "# Show what runs\n",
    "csv.scheduler()"
   ]
  },
  {
   "cell_type": "code",
   "execution_count": null,
   "id": "ea0675db-976b-43b7-a456-3ee810039641",
   "metadata": {},
   "outputs": [],
   "source": [
    "csv.scheduler().task_stop()"
   ]
  },
  {
   "cell_type": "code",
   "execution_count": null,
   "id": "e78fb0a9-900a-4063-9117-2cbfa604fcd8",
   "metadata": {},
   "outputs": [],
   "source": []
  }
 ],
 "metadata": {
  "kernelspec": {
   "display_name": "Python 3 (ipykernel)",
   "language": "python",
   "name": "python3"
  },
  "language_info": {
   "codemirror_mode": {
    "name": "ipython",
    "version": 3
   },
   "file_extension": ".py",
   "mimetype": "text/x-python",
   "name": "python",
   "nbconvert_exporter": "python",
   "pygments_lexer": "ipython3",
   "version": "3.11.4"
  },
  "widgets": {
   "application/vnd.jupyter.widget-state+json": {
    "state": {},
    "version_major": 2,
    "version_minor": 0
   }
  }
 },
 "nbformat": 4,
 "nbformat_minor": 5
}

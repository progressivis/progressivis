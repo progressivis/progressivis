{
 "cells": [
  {
   "cell_type": "markdown",
   "id": "68e6958a-9327-4c15-95c5-0773c0e8b16a",
   "metadata": {},
   "source": [
    "# Progressive Loading and Visualization\n",
    "\n",
    "This notebook shows the simplest code to download all the New York Yellow Taxi trips from 2015. They were all geolocated and the trip data is stored in multiple CSV files.\n",
    "We visualize progressively the pickup locations (where people have been picked up by the taxis).\n",
    "\n",
    "First, we define a few constants, where the file is located, the desired resolution, and the url of the taxi file."
   ]
  },
  {
   "cell_type": "code",
   "execution_count": 1,
   "id": "a6f94d61-ae60-4b69-bef0-3289f9fe2f56",
   "metadata": {
    "lines_to_next_cell": 2
   },
   "outputs": [],
   "source": [
    "LARGE_TAXI_FILE = \"https://www.aviz.fr/nyc-taxi/yellow_tripdata_2015-01.csv.bz2\"\n",
    "RESOLUTION=512"
   ]
  },
  {
   "cell_type": "code",
   "execution_count": 2,
   "id": "111d0243-4f2c-4c3e-8c73-b9482bbeed12",
   "metadata": {},
   "outputs": [],
   "source": [
    "# Function to filter out trips outside of NYC.\n",
    "\n",
    "# See https://en.wikipedia.org/wiki/Module:Location_map/data/USA_New_York_City\n",
    "bounds = {\n",
    "\t\"top\": 40.92,\n",
    "\t\"bottom\": 40.49,\n",
    "\t\"left\": -74.27,\n",
    "\t\"right\": -73.68,\n",
    "}"
   ]
  },
  {
   "cell_type": "code",
   "execution_count": 4,
   "id": "bbbd6ce8-a031-4981-945c-8925e7211b22",
   "metadata": {},
   "outputs": [],
   "source": [
    "from progressivis import CSVLoader, Histogram2D, Min, Max, Heatmap\n",
    "\n",
    "# Create a csv loader filtering out data outside NYC\n",
    "csv = CSVLoader(LARGE_TAXI_FILE, usecols=['pickup_longitude', 'pickup_latitude']) #, filter_=filter_)\n",
    "# Create a module to compute the min value progressively\n",
    "min = Min()\n",
    "# Connect it to the output of the csv module\n",
    "min.input.table = csv.output.result\n",
    "# Create a module to compute the max value progressively\n",
    "max = Max()\n",
    "# Connect it to the output of the csv module\n",
    "max.input.table = csv.output.result\n",
    "\n",
    "# Create a module to compute the 2D histogram of the two columns specified\n",
    "# with the given resolution\n",
    "histogram2d = Histogram2D('pickup_longitude', 'pickup_latitude', xbins=RESOLUTION, ybins=RESOLUTION)\n",
    "# Connect the module to the csv results and the min,max bounds to rescale\n",
    "histogram2d.input.table = csv.output.result\n",
    "histogram2d.input.min = min.output.result\n",
    "histogram2d.input.max = max.output.result\n",
    "# Create a module to create an heatmap image from the histogram2d\n",
    "heatmap = Heatmap()\n",
    "# Connect it to the histogram2d\n",
    "heatmap.input.array = histogram2d.output.result"
   ]
  },
  {
   "cell_type": "code",
   "execution_count": 5,
   "id": "95e97dd2-d99a-4f04-90ca-1fae2409dc74",
   "metadata": {},
   "outputs": [
    {
     "data": {
      "application/vnd.jupyter.widget-view+json": {
       "model_id": "16b0722dc5184c1096c1862e204786f4",
       "version_major": 2,
       "version_minor": 0
      },
      "text/plain": [
       "VBox(children=(HBox(children=(IntProgress(value=0, description='0/0', max=1000), Button(description='Save', ic…"
      ]
     },
     "metadata": {},
     "output_type": "display_data"
    },
    {
     "data": {
      "text/plain": [
       "<Task pending name='Task-5' coro=<Scheduler.start() running at /home/poli/JDF2016/github/progressivis/progressivis/core/scheduler.py:277>>"
      ]
     },
     "execution_count": 5,
     "metadata": {},
     "output_type": "execute_result"
    },
    {
     "name": "stdout",
     "output_type": "stream",
     "text": [
      "Starting scheduler\n",
      "# Scheduler added module(s): ['csv_loader_1', 'heatmap_1', 'histogram2_d_1', 'max_1', 'min_1']\n"
     ]
    }
   ],
   "source": [
    "heatmap.display_notebook()\n",
    "# Start the scheduler\n",
    "csv.scheduler().task_start()"
   ]
  },
  {
   "cell_type": "code",
   "execution_count": 6,
   "id": "db3beba1-49a7-4ead-9262-fc9e48572c3a",
   "metadata": {},
   "outputs": [
    {
     "data": {
      "text/html": [
       "\n",
       "<style scoped>\n",
       "    .dataframe tbody tr th:only-of-type {\n",
       "        vertical-align: middle;\n",
       "    }\n",
       "\n",
       "    .dataframe tbody tr th {\n",
       "        vertical-align: top;\n",
       "    }\n",
       "\n",
       "    .dataframe thead th {\n",
       "        text-align: right;\n",
       "    }\n",
       "</style>\n",
       "<p><b>Scheduler</b> 0x7c695ccd1e80\n",
       "        <b>running</b>,\n",
       "        <b>modules:</b> 5,\n",
       "        <b>run number:</b> 98\n",
       "</p>\n",
       "<table border=\"1\" class=\"dataframe\">\n",
       "  <thead>\n",
       "    <tr style=\"text-align: right;\">\n",
       "      <th>Id</th><th>Class</th><th>State</th><th>Last Update</th><th>Order</th>\n",
       "    </tr>\n",
       "  </thead>\n",
       "  <tbody><tr><td>csv_loader_1</td><td>csv_loader</td><td>state_ready</td><td>96</td><td>0</td><tr><td>min_1</td><td>min</td><td>state_blocked</td><td>97</td><td>1</td><tr><td>max_1</td><td>max</td><td>state_blocked</td><td>98</td><td>2</td><tr><td>histogram2_d_1</td><td>histogram2_d</td><td>state_blocked</td><td>94</td><td>3</td><tr><td>heatmap_1</td><td>heatmap</td><td>state_blocked</td><td>95</td><td>4</td></tbody></table>"
      ],
      "text/plain": [
       "<progressivis.core.scheduler.Scheduler at 0x7c695ccd1e80>"
      ]
     },
     "execution_count": 6,
     "metadata": {},
     "output_type": "execute_result"
    }
   ],
   "source": [
    "# Show what runs\n",
    "csv.scheduler()"
   ]
  },
  {
   "cell_type": "code",
   "execution_count": null,
   "id": "ea0675db-976b-43b7-a456-3ee810039641",
   "metadata": {},
   "outputs": [],
   "source": [
    "csv.scheduler().task_stop()"
   ]
  },
  {
   "cell_type": "code",
   "execution_count": null,
   "id": "e78fb0a9-900a-4063-9117-2cbfa604fcd8",
   "metadata": {},
   "outputs": [],
   "source": []
  }
 ],
 "metadata": {
  "kernelspec": {
   "display_name": "Python 3 (ipykernel)",
   "language": "python",
   "name": "python3"
  },
  "language_info": {
   "codemirror_mode": {
    "name": "ipython",
    "version": 3
   },
   "file_extension": ".py",
   "mimetype": "text/x-python",
   "name": "python",
   "nbconvert_exporter": "python",
   "pygments_lexer": "ipython3",
   "version": "3.13.2"
  },
  "widgets": {
   "application/vnd.jupyter.widget-state+json": {
    "state": {
     "0be6df0e42b74835aa0660d53faf20ff": {
      "model_module": "@jupyter-widgets/controls",
      "model_module_version": "2.0.0",
      "model_name": "ButtonModel",
      "state": {
       "description": "Save",
       "icon": "save",
       "layout": "IPY_MODEL_c6c567841b274b94ab4127764a79833e",
       "style": "IPY_MODEL_a0a4302b72bd48079b7e10f2e721a09e",
       "tooltip": null
      }
     },
     "16b0722dc5184c1096c1862e204786f4": {
      "model_module": "@jupyter-widgets/controls",
      "model_module_version": "2.0.0",
      "model_name": "VBoxModel",
      "state": {
       "children": [
        "IPY_MODEL_20e0e83cb91749a8b106993a7f49efbb",
        "IPY_MODEL_72296e626f4b44a0a0daec03f6882594"
       ],
       "layout": "IPY_MODEL_8aa3d75f4a3f485ba0552ef59d3bf319"
      }
     },
     "20e0e83cb91749a8b106993a7f49efbb": {
      "model_module": "@jupyter-widgets/controls",
      "model_module_version": "2.0.0",
      "model_name": "HBoxModel",
      "state": {
       "children": [
        "IPY_MODEL_c6671df95c7f40b8b0ed7e1a6ed1b1fa",
        "IPY_MODEL_0be6df0e42b74835aa0660d53faf20ff"
       ],
       "layout": "IPY_MODEL_412be2540a894ca0a21e235bd861125c"
      }
     },
     "412be2540a894ca0a21e235bd861125c": {
      "model_module": "@jupyter-widgets/base",
      "model_module_version": "2.0.0",
      "model_name": "LayoutModel",
      "state": {}
     },
     "6bd00b6dd3e24875b6b382fd83da1223": {
      "model_module": "@jupyter-widgets/controls",
      "model_module_version": "2.0.0",
      "model_name": "ProgressStyleModel",
      "state": {
       "description_width": ""
      }
     },
     "6fdaa0003568404daa6797c90ef54ce5": {
      "model_module": "@jupyter-widgets/base",
      "model_module_version": "2.0.0",
      "model_name": "LayoutModel",
      "state": {}
     },
     "72296e626f4b44a0a0daec03f6882594": {
      "buffers": [
       {
        "data": "iVBORw0KGgoAAAANSUhEUgAAAgAAAAIAEAAAAACBg1dlAAADvElEQVR4nO3dsWobQRAA0I2LkGJBhXFWpDFpXBgi3AVM/sFF2qROl2/IX6VJkS9wmcIuXLkwwYWNe6e4GMlEFnIkbu923gMhIakYDmZ35vbuNiUAAAAAAAAAAAAAAAAAAAAAAAAAAAAAgDpyqR0BAAAAAAAAAAAAAAAAAAAAAAAAAAAAAAAAAAAAAAAAAAAMSC7b/ycAAAAAADA0zvPDqElhAAAAAAAA4FksMgIAAAAAAAAAwKC4pAcAUA8AAEBIWgEAAAAAAAAAAAAAAAAAAAAAaIAHiQAAAMDY6e4hJKkPTXpeaudiMIDBkIwAAADAMs4ZAAAP1AUAANC8dcp+rQEElsvmQ4BBBACGyRwNAFGY9QEAgJTSdDb/rE2ARi1P7u7b6Wwb6//ASOWye1g7BujPTu0A+vfUHJ/L0ae9s35jgbqCDQC5pHR3tfy3vbPJ6/0v178eDxFaAgjh4OO309krLQCEdPzj/v7z77c35vxtc0SHK1gLsMrO9+uX7y8vJk+1CPwvR5QRON7/enIyqR0F9OlF7QCGIpc3H27P767MVkSiBfgrl9vz7r12JEBPunR/SPrpbLtrAAYTGJFuB+BcFu8LAJq3e9i9zNkAwGOqAwhL+kOjJDcAsB5VAzRGUgNAq8zyAAAAEJNzAgDAIrUBhLF5uhswAAAAAGBw7AIMrGBYgAU2zwYaZUMQAIhlWa+v/4fmSXMAYD2qBgAAAAAYFaf0AIA5lQEAtMgMDwAAYWkHAIA5lQEAAAAAALTD3kcAABCci4EAAACgNbp9AAAAAAAAAAAAAAAAAAAAAAAAAAAAAAAAAAAAAABYzV7AAADAPzQKAAAQihYAAAAAAAAAAAAAAAAAAAAAAAAAAAAAAAAAAAAAAAAAAAAAAAAAAAAAgEbkUjsCAAAAAAAAAAAAAAAAAAAIxS2+AAAAAAAAAAAAAAAAAAAAEI/nDQAAAAAAAAAAAAAAQBzuIwAAAIDN6a8BAAAAAAAAC4cAAAAAAAAAAAAAAAAAAAAAAAAAAAAAAAAAAAAAAAAAAAAAAAAAAAAAAAAAAAAAAAAAAAAAAAAAAAAAAAAAAAAAAAAAAAAAAAAAAAAAAADtyaV2BAAAAAAAAAAAAAAAAAAAAAAAAAAAAAAAAAAAAAAAAAAAAAAAAAAAAAAAUEMutSMAAAAAAAAAAAAAAAAAAAAAAAAAAABgVDzYFgAAAAAAAAAAAAAAAAAAAAAAAACAlFJKP9/VjgAAAAAAAAAAAAAAAAAAAAAAAAAAAAAAoJo/mBQuClWiNGoAAAAASUVORK5CYII=",
        "encoding": "base64",
        "path": [
         "value"
        ]
       }
      ],
      "model_module": "@jupyter-widgets/controls",
      "model_module_version": "2.0.0",
      "model_name": "ImageModel",
      "state": {
       "height": "512",
       "layout": "IPY_MODEL_8fedbba8cbc84bae88cc698cdbe2be7d",
       "width": "512"
      }
     },
     "8aa3d75f4a3f485ba0552ef59d3bf319": {
      "model_module": "@jupyter-widgets/base",
      "model_module_version": "2.0.0",
      "model_name": "LayoutModel",
      "state": {}
     },
     "8fedbba8cbc84bae88cc698cdbe2be7d": {
      "model_module": "@jupyter-widgets/base",
      "model_module_version": "2.0.0",
      "model_name": "LayoutModel",
      "state": {}
     },
     "a0a4302b72bd48079b7e10f2e721a09e": {
      "model_module": "@jupyter-widgets/controls",
      "model_module_version": "2.0.0",
      "model_name": "ButtonStyleModel",
      "state": {
       "font_family": null,
       "font_size": null,
       "font_style": null,
       "font_variant": null,
       "font_weight": null,
       "text_color": null,
       "text_decoration": null
      }
     },
     "c6671df95c7f40b8b0ed7e1a6ed1b1fa": {
      "model_module": "@jupyter-widgets/controls",
      "model_module_version": "2.0.0",
      "model_name": "IntProgressModel",
      "state": {
       "description": "25%",
       "layout": "IPY_MODEL_6fdaa0003568404daa6797c90ef54ce5",
       "max": 38221767,
       "style": "IPY_MODEL_6bd00b6dd3e24875b6b382fd83da1223",
       "value": 9564423
      }
     },
     "c6c567841b274b94ab4127764a79833e": {
      "model_module": "@jupyter-widgets/base",
      "model_module_version": "2.0.0",
      "model_name": "LayoutModel",
      "state": {}
     }
    },
    "version_major": 2,
    "version_minor": 0
   }
  }
 },
 "nbformat": 4,
 "nbformat_minor": 5
}

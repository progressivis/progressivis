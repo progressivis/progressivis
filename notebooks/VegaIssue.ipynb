{
 "cells": [
  {
   "cell_type": "markdown",
   "id": "viral-longitude",
   "metadata": {},
   "source": [
    "### This progressive barchart implementation  (using widget.update()) freezes the browser\n",
    "\n",
    "NB: The final result is OK (after waiting a lot) but the ticks on the y axis are not entirely displayed"
   ]
  },
  {
   "cell_type": "code",
   "execution_count": 1,
   "id": "downtown-toronto",
   "metadata": {},
   "outputs": [
    {
     "data": {
      "application/vnd.jupyter.widget-view+json": {
       "model_id": "06762b8cea804170aaf1ed36d322c0ac",
       "version_major": 2,
       "version_minor": 0
      },
      "text/plain": [
       "VegaWidget()"
      ]
     },
     "metadata": {},
     "output_type": "display_data"
    }
   ],
   "source": [
    "import numpy as np\n",
    "import time\n",
    "import asyncio as aio\n",
    "import pandas as pd\n",
    "from vega.widget import VegaWidget\n",
    "nbins = 50\n",
    "spec_no_data = {\n",
    "    '$schema': 'https://vega.github.io/schema/vega-lite/v4.8.1.json',\n",
    "     'config': {'view': {'continuousHeight': 300, 'continuousWidth': 400}},\n",
    "     'data': {'name': 'data'},\n",
    "     'encoding': {\n",
    "                  'x': {'field': 'x', 'type': 'ordinal'},\n",
    "                  'y': {'field': 'y', 'type': 'quantitative'}\n",
    "             },\n",
    "     'mark': 'bar'}\n",
    "spec_with_data = spec_no_data.copy()\n",
    "nsamples = 100_000\n",
    "steps = 1_000\n",
    "rdata = np.random.normal(loc=0, scale=0.1, size=nsamples)\n",
    "widget = VegaWidget(spec=spec_no_data)\n",
    "display(widget)\n",
    "async def progressive_loop(widget, nbins=50):\n",
    "    hist = np.zeros(nbins)\n",
    "    for sl in np.split(rdata, steps):\n",
    "        await aio.sleep(0.1)\n",
    "        h, _ = np.histogram(sl, bins=nbins, range=(-1.0,1.0))\n",
    "        hist += h\n",
    "        source = pd.DataFrame({\n",
    "            'x': range(nbins),\n",
    "            'y': hist,\n",
    "        })\n",
    "        widget.update('data', remove='datum.x>=0')\n",
    "        widget.update('data',insert=source.to_dict(orient='records'))\n",
    "\n",
    "await progressive_loop(widget)"
   ]
  },
  {
   "cell_type": "markdown",
   "id": "planned-special",
   "metadata": {},
   "source": [
    "### The previous implementation splitted in two cells does not freeze the browser anymore\n",
    "\n",
    "NB: the widget blinks, the issue of ticks on the y axis persists \n",
    "\n",
    "#### First cell\n",
    "\n",
    "The following cell creates the empty widget and display it:"
   ]
  },
  {
   "cell_type": "code",
   "execution_count": null,
   "id": "personalized-clone",
   "metadata": {},
   "outputs": [],
   "source": [
    "import numpy as np\n",
    "import time\n",
    "import pandas as pd\n",
    "from vega.widget import VegaWidget\n",
    "nbins = 50\n",
    "spec_no_data = {\n",
    "    '$schema': 'https://vega.github.io/schema/vega-lite/v4.8.1.json',\n",
    "     'config': {'view': {'continuousHeight': 300, 'continuousWidth': 400}},\n",
    "     'data': {'name': 'data'},\n",
    "     'encoding': {\n",
    "             'x': {'field': 'x', 'type': 'ordinal'},\n",
    "              'y': {'field': 'y', 'type': 'quantitative'}\n",
    "             },\n",
    "     'mark': 'bar'}\n",
    "spec_with_data = spec_no_data.copy()\n",
    "nsamples = 100_000\n",
    "steps = 1_000\n",
    "rdata = np.random.normal(loc=0, scale=0.1, size=nsamples)\n",
    "hist = np.zeros(nbins)\n",
    "widget = VegaWidget(spec=spec_no_data)\n",
    "display(widget)"
   ]
  },
  {
   "cell_type": "markdown",
   "id": "thorough-figure",
   "metadata": {},
   "source": [
    "#### Second cell\n",
    "\n",
    "The following cell updates the widget in a loop:"
   ]
  },
  {
   "cell_type": "code",
   "execution_count": null,
   "id": "compact-costume",
   "metadata": {},
   "outputs": [],
   "source": [
    "await progressive_loop(widget)"
   ]
  },
  {
   "cell_type": "markdown",
   "id": "polish-damages",
   "metadata": {},
   "source": [
    "NB: I tried to introduce a delay between the widget creation and the update's loop instead of splitting the code in two cells but the problem wasn't fixed this way ..."
   ]
  },
  {
   "cell_type": "markdown",
   "id": "ethical-capitol",
   "metadata": {},
   "source": [
    "### This implementation works fine\n",
    "\n",
    "This implementation is almost the same but it is setting widget.spec instead of using widget.update(). It works fine: no blinks, the ticks are OK"
   ]
  },
  {
   "cell_type": "code",
   "execution_count": null,
   "id": "rental-alfred",
   "metadata": {},
   "outputs": [],
   "source": [
    "import numpy as np\n",
    "import altair as alt\n",
    "import pandas as pd\n",
    "from vega.widget import VegaWidget\n",
    "nbins = 50\n",
    "spec_no_data = {\n",
    "    '$schema': 'https://vega.github.io/schema/vega-lite/v4.8.1.json',\n",
    "     'config': {'view': {'continuousHeight': 300, 'continuousWidth': 400}},\n",
    "     'data': {'name': 'data'},\n",
    "     'encoding': {\n",
    "             'x': {'field': 'x', 'type': 'ordinal'},\n",
    "              'y': {'field': 'y', 'type': 'quantitative'}\n",
    "             },\n",
    "     'mark': 'bar'}\n",
    "spec_with_data = spec_no_data.copy()\n",
    "\n",
    "nsamples = 100_000\n",
    "steps = 1_000\n",
    "rdata = np.random.normal(loc=0, scale=0.1, size=nsamples)\n",
    "widget = VegaWidget(spec=spec_no_data)\n",
    "display(widget)\n",
    "async def progressive_loop2(widget, nbins):\n",
    "    hist = np.zeros(nbins)\n",
    "    for sl in np.split(rdata, steps):\n",
    "        await aio.sleep(0.1)\n",
    "        h, _ = np.histogram(sl, bins=nbins, range=(-1.0,1.0))\n",
    "        hist += h\n",
    "        source = pd.DataFrame({\n",
    "            'x': range(nbins),\n",
    "            'y': hist  # /np.sum(hist),\n",
    "        })\n",
    "        spec_with_data[\"data\"] = {\n",
    "            \"name\": \"data\",\n",
    "            \"values\": source.to_dict(orient='records'),\n",
    "        }\n",
    "        widget.spec = spec_with_data\n",
    "\n",
    "await progressive_loop2(widget, nbins)\n"
   ]
  },
  {
   "cell_type": "code",
   "execution_count": null,
   "id": "virgin-storm",
   "metadata": {},
   "outputs": [],
   "source": []
  }
 ],
 "metadata": {
  "kernelspec": {
   "display_name": "Python 3",
   "language": "python",
   "name": "python3"
  },
  "language_info": {
   "codemirror_mode": {
    "name": "ipython",
    "version": 3
   },
   "file_extension": ".py",
   "mimetype": "text/x-python",
   "name": "python",
   "nbconvert_exporter": "python",
   "pygments_lexer": "ipython3",
   "version": "3.8.5"
  }
 },
 "nbformat": 4,
 "nbformat_minor": 5
}

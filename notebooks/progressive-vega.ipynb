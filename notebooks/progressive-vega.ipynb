{
 "cells": [
  {
   "cell_type": "code",
   "execution_count": 1,
   "metadata": {},
   "outputs": [
    {
     "data": {
      "text/html": [
       "\n",
       "<div id=\"altair-viz-e5c089dd39e44486a36fc700fe925d31\"></div>\n",
       "<script type=\"text/javascript\">\n",
       "  (function(spec, embedOpt){\n",
       "    let outputDiv = document.currentScript.previousElementSibling;\n",
       "    if (outputDiv.id !== \"altair-viz-e5c089dd39e44486a36fc700fe925d31\") {\n",
       "      outputDiv = document.getElementById(\"altair-viz-e5c089dd39e44486a36fc700fe925d31\");\n",
       "    }\n",
       "    const paths = {\n",
       "      \"vega\": \"https://cdn.jsdelivr.net/npm//vega@5?noext\",\n",
       "      \"vega-lib\": \"https://cdn.jsdelivr.net/npm//vega-lib?noext\",\n",
       "      \"vega-lite\": \"https://cdn.jsdelivr.net/npm//vega-lite@4.8.1?noext\",\n",
       "      \"vega-embed\": \"https://cdn.jsdelivr.net/npm//vega-embed@6?noext\",\n",
       "    };\n",
       "\n",
       "    function loadScript(lib) {\n",
       "      return new Promise(function(resolve, reject) {\n",
       "        var s = document.createElement('script');\n",
       "        s.src = paths[lib];\n",
       "        s.async = true;\n",
       "        s.onload = () => resolve(paths[lib]);\n",
       "        s.onerror = () => reject(`Error loading script: ${paths[lib]}`);\n",
       "        document.getElementsByTagName(\"head\")[0].appendChild(s);\n",
       "      });\n",
       "    }\n",
       "\n",
       "    function showError(err) {\n",
       "      outputDiv.innerHTML = `<div class=\"error\" style=\"color:red;\">${err}</div>`;\n",
       "      throw err;\n",
       "    }\n",
       "\n",
       "    function displayChart(vegaEmbed) {\n",
       "      vegaEmbed(outputDiv, spec, embedOpt)\n",
       "        .catch(err => showError(`Javascript Error: ${err.message}<br>This usually means there's a typo in your chart specification. See the javascript console for the full traceback.`));\n",
       "    }\n",
       "\n",
       "    if(typeof define === \"function\" && define.amd) {\n",
       "      requirejs.config({paths});\n",
       "      require([\"vega-embed\"], displayChart, err => showError(`Error loading script: ${err.message}`));\n",
       "    } else if (typeof vegaEmbed === \"function\") {\n",
       "      displayChart(vegaEmbed);\n",
       "    } else {\n",
       "      loadScript(\"vega\")\n",
       "        .then(() => loadScript(\"vega-lite\"))\n",
       "        .then(() => loadScript(\"vega-embed\"))\n",
       "        .catch(showError)\n",
       "        .then(() => displayChart(vegaEmbed));\n",
       "    }\n",
       "  })({\"config\": {\"view\": {\"continuousWidth\": 400, \"continuousHeight\": 300}}, \"data\": {\"name\": \"foo\", \"values\": [{\"x\": \"A\", \"y\": 5}, {\"x\": \"B\", \"y\": 3}, {\"x\": \"C\", \"y\": 6}, {\"x\": \"D\", \"y\": 7}, {\"x\": \"E\", \"y\": 2}]}, \"mark\": \"bar\", \"encoding\": {\"x\": {\"type\": \"ordinal\", \"field\": \"x\"}, \"y\": {\"type\": \"quantitative\", \"field\": \"y\"}}, \"$schema\": \"https://vega.github.io/schema/vega-lite/v4.8.1.json\"}, {\"mode\": \"vega-lite\"});\n",
       "</script>"
      ],
      "text/plain": [
       "alt.Chart(...)"
      ]
     },
     "execution_count": 1,
     "metadata": {},
     "output_type": "execute_result"
    }
   ],
   "source": [
    "import altair as alt\n",
    "values=[{'x': 'A', 'y': 5},\n",
    "        {'x': 'B', 'y': 3},\n",
    "        {'x': 'C', 'y': 6},\n",
    "        {'x': 'D', 'y': 7},\n",
    "        {'x': 'E', 'y': 2}]\n",
    "data = alt.Data(name='foo',\n",
    "                values=values)\n",
    "chart = alt.Chart(data).mark_bar().encode(\n",
    "    x='x:O',  # specify ordinal data\n",
    "    y='y:Q',  # specify quantitative data\n",
    ")\n",
    "chart"
   ]
  },
  {
   "cell_type": "code",
   "execution_count": 2,
   "metadata": {},
   "outputs": [],
   "source": [
    "from vega.widget import VegaWidget\n",
    "vg = VegaWidget(chart.to_dict())"
   ]
  },
  {
   "cell_type": "code",
   "execution_count": 3,
   "metadata": {},
   "outputs": [
    {
     "data": {
      "application/vnd.jupyter.widget-view+json": {
       "model_id": "ab11324751e7400596ff512b491912b1",
       "version_major": 2,
       "version_minor": 0
      },
      "text/plain": [
       "VegaWidget()"
      ]
     },
     "metadata": {},
     "output_type": "display_data"
    }
   ],
   "source": [
    "vg"
   ]
  },
  {
   "cell_type": "code",
   "execution_count": 4,
   "metadata": {},
   "outputs": [
    {
     "data": {
      "text/plain": [
       "{'config': {'view': {'continuousWidth': 400, 'continuousHeight': 300}},\n",
       " 'data': {'name': 'foo',\n",
       "  'values': [{'x': 'A', 'y': 5},\n",
       "   {'x': 'B', 'y': 3},\n",
       "   {'x': 'C', 'y': 6},\n",
       "   {'x': 'D', 'y': 7},\n",
       "   {'x': 'E', 'y': 2}]},\n",
       " 'mark': 'bar',\n",
       " 'encoding': {'x': {'type': 'ordinal', 'field': 'x'},\n",
       "  'y': {'type': 'quantitative', 'field': 'y'}},\n",
       " '$schema': 'https://vega.github.io/schema/vega-lite/v4.8.1.json'}"
      ]
     },
     "execution_count": 4,
     "metadata": {},
     "output_type": "execute_result"
    }
   ],
   "source": [
    "vg.spec"
   ]
  },
  {
   "cell_type": "code",
   "execution_count": 6,
   "metadata": {},
   "outputs": [],
   "source": [
    "vg.update('foo', insert=[{'x': 'F', 'y': 4}])"
   ]
  },
  {
   "cell_type": "code",
   "execution_count": 7,
   "metadata": {},
   "outputs": [
    {
     "data": {
      "text/html": [
       "\n",
       "<div id=\"altair-viz-7bb950c219c54af7904b323e357f9b10\"></div>\n",
       "<script type=\"text/javascript\">\n",
       "  (function(spec, embedOpt){\n",
       "    let outputDiv = document.currentScript.previousElementSibling;\n",
       "    if (outputDiv.id !== \"altair-viz-7bb950c219c54af7904b323e357f9b10\") {\n",
       "      outputDiv = document.getElementById(\"altair-viz-7bb950c219c54af7904b323e357f9b10\");\n",
       "    }\n",
       "    const paths = {\n",
       "      \"vega\": \"https://cdn.jsdelivr.net/npm//vega@5?noext\",\n",
       "      \"vega-lib\": \"https://cdn.jsdelivr.net/npm//vega-lib?noext\",\n",
       "      \"vega-lite\": \"https://cdn.jsdelivr.net/npm//vega-lite@4.8.1?noext\",\n",
       "      \"vega-embed\": \"https://cdn.jsdelivr.net/npm//vega-embed@6?noext\",\n",
       "    };\n",
       "\n",
       "    function loadScript(lib) {\n",
       "      return new Promise(function(resolve, reject) {\n",
       "        var s = document.createElement('script');\n",
       "        s.src = paths[lib];\n",
       "        s.async = true;\n",
       "        s.onload = () => resolve(paths[lib]);\n",
       "        s.onerror = () => reject(`Error loading script: ${paths[lib]}`);\n",
       "        document.getElementsByTagName(\"head\")[0].appendChild(s);\n",
       "      });\n",
       "    }\n",
       "\n",
       "    function showError(err) {\n",
       "      outputDiv.innerHTML = `<div class=\"error\" style=\"color:red;\">${err}</div>`;\n",
       "      throw err;\n",
       "    }\n",
       "\n",
       "    function displayChart(vegaEmbed) {\n",
       "      vegaEmbed(outputDiv, spec, embedOpt)\n",
       "        .catch(err => showError(`Javascript Error: ${err.message}<br>This usually means there's a typo in your chart specification. See the javascript console for the full traceback.`));\n",
       "    }\n",
       "\n",
       "    if(typeof define === \"function\" && define.amd) {\n",
       "      requirejs.config({paths});\n",
       "      require([\"vega-embed\"], displayChart, err => showError(`Error loading script: ${err.message}`));\n",
       "    } else if (typeof vegaEmbed === \"function\") {\n",
       "      displayChart(vegaEmbed);\n",
       "    } else {\n",
       "      loadScript(\"vega\")\n",
       "        .then(() => loadScript(\"vega-lite\"))\n",
       "        .then(() => loadScript(\"vega-embed\"))\n",
       "        .catch(showError)\n",
       "        .then(() => displayChart(vegaEmbed));\n",
       "    }\n",
       "  })({\"config\": {\"view\": {\"continuousWidth\": 400, \"continuousHeight\": 300}}, \"layer\": [{\"mark\": \"bar\", \"encoding\": {\"x\": {\"type\": \"ordinal\", \"field\": \"x\"}, \"y\": {\"type\": \"quantitative\", \"field\": \"y\"}}}, {\"mark\": \"rule\", \"encoding\": {\"x\": {\"type\": \"ordinal\", \"field\": \"x\"}, \"y\": {\"type\": \"quantitative\", \"field\": \"lo\", \"title\": null}, \"y2\": {\"field\": \"hi\"}}}], \"data\": {\"name\": \"foo\", \"values\": [{\"x\": \"A\", \"y\": 5, \"lo\": 4, \"hi\": 6}, {\"x\": \"B\", \"y\": 3, \"lo\": 2, \"hi\": 5}, {\"x\": \"C\", \"y\": 6, \"lo\": 4, \"hi\": 6.5}, {\"x\": \"D\", \"y\": 7, \"lo\": 6.2, \"hi\": 7.5}, {\"x\": \"E\", \"y\": 2, \"lo\": 0.5, \"hi\": 3.5}]}, \"$schema\": \"https://vega.github.io/schema/vega-lite/v4.8.1.json\"}, {\"mode\": \"vega-lite\"});\n",
       "</script>"
      ],
      "text/plain": [
       "alt.LayerChart(...)"
      ]
     },
     "execution_count": 7,
     "metadata": {},
     "output_type": "execute_result"
    }
   ],
   "source": [
    "values2 = [{'x': 'A', 'y': 5, 'lo': 4, 'hi': 6},\n",
    "           {'x': 'B', 'y': 3, 'lo': 2, 'hi': 5},\n",
    "           {'x': 'C', 'y': 6, 'lo': 4, 'hi': 6.5},\n",
    "           {'x': 'D', 'y': 7, 'lo': 6.2, 'hi': 7.5},\n",
    "           {'x': 'E', 'y': 2, 'lo': 0.5, 'hi': 3.5}]\n",
    "data2 = alt.Data(name='foo',\n",
    "                values=values2)\n",
    "chart_base = alt.Chart(data2).encode(\n",
    "    x='x:O',  # specify ordinal data\n",
    ")\n",
    "chart_bars = chart_base.mark_bar().encode(y='y:Q')\n",
    "\n",
    "chart_ci = chart_base.mark_rule().encode(\n",
    "    alt.X('x:O'),\n",
    "    alt.Y('lo:Q',  # specify quantitative data\n",
    "          title=None\n",
    "    ),\n",
    "    alt.Y2('hi:Q'),\n",
    ")\n",
    "chart=chart_bars+chart_ci\n",
    "chart"
   ]
  },
  {
   "cell_type": "code",
   "execution_count": 8,
   "metadata": {},
   "outputs": [
    {
     "data": {
      "application/vnd.jupyter.widget-view+json": {
       "model_id": "545fb57a7b934ac68def5504b4aaf39f",
       "version_major": 2,
       "version_minor": 0
      },
      "text/plain": [
       "VegaWidget()"
      ]
     },
     "metadata": {},
     "output_type": "display_data"
    }
   ],
   "source": [
    "vg2 = VegaWidget(chart.to_dict())\n",
    "vg2"
   ]
  },
  {
   "cell_type": "code",
   "execution_count": 9,
   "metadata": {},
   "outputs": [],
   "source": [
    "vg2.update('foo', insert=[{'x': 'F', 'y': 4, 'lo': 3.6, 'hi': 4.2}])"
   ]
  },
  {
   "cell_type": "code",
   "execution_count": 10,
   "metadata": {},
   "outputs": [
    {
     "data": {
      "text/plain": [
       "[{'x': 'A', 'y': 5, 'lo': 4, 'hi': 6},\n",
       " {'x': 'B', 'y': 3, 'lo': 2, 'hi': 5},\n",
       " {'x': 'C', 'y': 6, 'lo': 4, 'hi': 6.5},\n",
       " {'x': 'D', 'y': 7, 'lo': 6.2, 'hi': 7.5},\n",
       " {'x': 'E', 'y': 2, 'lo': 0.5, 'hi': 3.5},\n",
       " {'x': 'F', 'y': 4, 'lo': 3.6, 'hi': 4.2}]"
      ]
     },
     "execution_count": 10,
     "metadata": {},
     "output_type": "execute_result"
    }
   ],
   "source": [
    "values2.append({'x': 'F', 'y': 4, 'lo': 3.6, 'hi': 4.2})\n",
    "values2"
   ]
  },
  {
   "cell_type": "code",
   "execution_count": 13,
   "metadata": {},
   "outputs": [],
   "source": [
    "vg2.update('foo', remove='true', insert=values2)"
   ]
  },
  {
   "cell_type": "code",
   "execution_count": null,
   "metadata": {},
   "outputs": [],
   "source": []
  }
 ],
 "metadata": {
  "kernelspec": {
   "display_name": "Python 3",
   "language": "python",
   "name": "python3"
  },
  "language_info": {
   "codemirror_mode": {
    "name": "ipython",
    "version": 3
   },
   "file_extension": ".py",
   "mimetype": "text/x-python",
   "name": "python",
   "nbconvert_exporter": "python",
   "pygments_lexer": "ipython3",
   "version": "3.8.5"
  }
 },
 "nbformat": 4,
 "nbformat_minor": 4
}

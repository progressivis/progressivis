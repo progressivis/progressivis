{
 "cells": [
  {
   "cell_type": "markdown",
   "id": "partial-springer",
   "metadata": {},
   "source": [
    "## Steerable MinMaxScaler"
   ]
  },
  {
   "cell_type": "code",
   "execution_count": 1,
   "id": "geographic-shannon",
   "metadata": {},
   "outputs": [],
   "source": [
    "import pandas as pd\n",
    "import numpy as np\n",
    "import tempfile as tf\n",
    "import os\n",
    "import progressivis\n",
    "from progressivis import Scheduler, Print\n",
    "from progressivis.io.api import SimpleCSVLoader, Variable\n",
    "from progressivis.stats.api import Histogram2D, Min, Max\n",
    "from progressivis.datasets import get_dataset\n",
    "from progressivis.vis import Heatmap\n",
    "from progressivis.table.constant import ConstDict\n",
    "from progressivis.utils.psdict import PDict\n",
    "from progressivis.stats.scaling import MinMaxScaler\n",
    "from ipyprogressivis.widgets.iscaler import IScalerIn, IScalerOut\n",
    "from progressivis.datasets import get_dataset\n",
    "\n",
    "s = Scheduler.default = Scheduler()\n",
    "cols = ['A', 'B']\n",
    "csv = SimpleCSVLoader(get_dataset('bigfile_multiscale'), usecols=cols, throttle=100)\n",
    "dvar = Variable({'delta': -5, 'ignore_max':10})\n",
    "sc = MinMaxScaler(reset_threshold=10_000, usecols=['A', 'B'])\n",
    "sc.create_dependent_modules(csv, hist=True)\n",
    "sc.control = dvar\n",
    "sc.input.control = dvar.output.result\n",
    "pr=Print(proc=lambda x: None, scheduler=s)\n",
    "pr.input[0] = sc.output.info\n",
    "histogram2d = Histogram2D('A', # compute a 2d histogram\n",
    "                          'B', \n",
    "                          xbins=256, ybins=256)\n",
    "histogram2d.input.table = sc.output.result\n",
    "cmin = ConstDict(pdict=PDict({'A': 0.0, 'B':0.0}))\n",
    "cmax = ConstDict(pdict=PDict({'A': 1.0, 'B':1.0}))\n",
    "histogram2d.input.min = cmin.output.result\n",
    "histogram2d.input.max = cmax.output.result\n",
    "heatmap=Heatmap() # compute the Heatmap\n",
    "heatmap.input.array = histogram2d.output.result"
   ]
  },
  {
   "cell_type": "markdown",
   "id": "revised-kuwait",
   "metadata": {},
   "source": [
    "**NB:** the results will appear below after running all cells :"
   ]
  },
  {
   "cell_type": "code",
   "execution_count": 2,
   "id": "fleet-final",
   "metadata": {},
   "outputs": [
    {
     "data": {
      "application/vnd.jupyter.widget-view+json": {
       "model_id": "5c3e7e0f2e434634a31f156c64090534",
       "version_major": 2,
       "version_minor": 0
      },
      "text/plain": [
       "IScalerIn(children=(Label(value='Reset threshold:'), IntSlider(value=1000, continuous_update=False, max=100000…"
      ]
     },
     "metadata": {},
     "output_type": "display_data"
    },
    {
     "data": {
      "application/vnd.jupyter.widget-view+json": {
       "model_id": "ce4fb2c3ad8c4bd0bd24e3c94f954e84",
       "version_major": 2,
       "version_minor": 0
      },
      "text/plain": [
       "IScalerOut(children=(GridBox(children=(Label(value='Clipped:'), Label(value=''), Label(value='Ignored:'), Labe…"
      ]
     },
     "metadata": {},
     "output_type": "display_data"
    },
    {
     "name": "stdout",
     "output_type": "stream",
     "text": [
      "Starting scheduler\n",
      "# Scheduler added module(s): ['const_dict_1', 'const_dict_2', 'heatmap_1', 'histogram1_d_1', 'histogram1_d_2', 'histogram2_d_1', 'max_1', 'min_1', 'min_max_scaler_1', 'print_1', 'simple_csv_loader_1', 'sink_1', 'sink_2', 'variable_1']\n"
     ]
    },
    {
     "data": {
      "application/vnd.jupyter.widget-view+json": {
       "model_id": "cb715c1275c84341b1b0961d27defa51",
       "version_major": 2,
       "version_minor": 0
      },
      "text/plain": [
       "Image(value=b'\\x89PNG\\r\\n\\x1a\\n\\x00\\x00\\x00\\rIHDR\\x00\\x00\\x01\\x00\\x00\\x00\\x01\\x00\\x10\\x00\\x00\\x00\\x00)\\x89+\\xf…"
      ]
     },
     "metadata": {},
     "output_type": "display_data"
    }
   ],
   "source": [
    "import ipywidgets as ipw\n",
    "from IPython.display import display\n",
    "wg = None\n",
    "async def _after_run(m, run_number):\n",
    "    global wg\n",
    "    img = m.get_image_bin()\n",
    "    if img is None:    \n",
    "        return\n",
    "    if wg is None:\n",
    "        wg = ipw.Image(value=img, width=512, height=512)\n",
    "        display(wg)\n",
    "    else:\n",
    "        wg.value = img\n",
    "heatmap.on_after_run(_after_run)\n",
    "isc = IScalerIn(sc)\n",
    "display(isc)\n",
    "isco = IScalerOut(sc)\n",
    "display(isco)\n",
    "s.task_start();"
   ]
  },
  {
   "cell_type": "code",
   "execution_count": null,
   "id": "outdoor-relative",
   "metadata": {},
   "outputs": [],
   "source": [
    "dvar.result['reset']=True"
   ]
  },
  {
   "cell_type": "code",
   "execution_count": null,
   "id": "scientific-surgeon",
   "metadata": {},
   "outputs": [],
   "source": [
    "type(dvar.result)"
   ]
  },
  {
   "cell_type": "code",
   "execution_count": null,
   "id": "appreciated-symposium",
   "metadata": {},
   "outputs": [],
   "source": [
    "dvar.result['ignore_max']=50;print(dvar.result)"
   ]
  },
  {
   "cell_type": "code",
   "execution_count": null,
   "id": "preceding-horizontal",
   "metadata": {},
   "outputs": [],
   "source": [
    "%load_ext progressivis.core.magics"
   ]
  },
  {
   "cell_type": "code",
   "execution_count": null,
   "id": "viral-influence",
   "metadata": {},
   "outputs": [],
   "source": [
    "%progressivis dvar.result"
   ]
  },
  {
   "cell_type": "code",
   "execution_count": null,
   "id": "imperial-labor",
   "metadata": {},
   "outputs": [],
   "source": [
    "reset: True\n",
    "time: 11111"
   ]
  },
  {
   "cell_type": "code",
   "execution_count": null,
   "id": "removable-rebound",
   "metadata": {},
   "outputs": [],
   "source": [
    "%%from_input dvar\n",
    "delta: -1\n",
    "ignore_max: 3\n",
    "reset: True"
   ]
  }
 ],
 "metadata": {
  "hide_input": false,
  "kernelspec": {
   "display_name": "Python 3 (ipykernel)",
   "language": "python",
   "name": "python3"
  },
  "language_info": {
   "codemirror_mode": {
    "name": "ipython",
    "version": 3
   },
   "file_extension": ".py",
   "mimetype": "text/x-python",
   "name": "python",
   "nbconvert_exporter": "python",
   "pygments_lexer": "ipython3",
   "version": "3.13.2"
  },
  "latex_envs": {
   "LaTeX_envs_menu_present": true,
   "autoclose": false,
   "autocomplete": true,
   "bibliofile": "biblio.bib",
   "cite_by": "apalike",
   "current_citInitial": 1,
   "eqLabelWithNumbers": true,
   "eqNumInitial": 1,
   "hotkeys": {
    "equation": "Ctrl-E",
    "itemize": "Ctrl-I"
   },
   "labels_anchors": false,
   "latex_user_defs": false,
   "report_style_numbering": false,
   "user_envs_cfg": false
  },
  "toc": {
   "base_numbering": 1,
   "nav_menu": {},
   "number_sections": true,
   "sideBar": true,
   "skip_h1_title": false,
   "title_cell": "PTable of Contents",
   "title_sidebar": "Contents",
   "toc_cell": true,
   "toc_position": {},
   "toc_section_display": true,
   "toc_window_display": false
  },
  "widgets": {
   "application/vnd.jupyter.widget-state+json": {
    "state": {
     "01fd105490ee4fef8ae05a801d667295": {
      "model_module": "@jupyter-widgets/controls",
      "model_module_version": "2.0.0",
      "model_name": "CheckboxModel",
      "state": {
       "disabled": false,
       "indent": false,
       "layout": "IPY_MODEL_e63db4a494ac4280a12d90ff60799d64",
       "style": "IPY_MODEL_5a33dbadc2524c7fbfd7eaf02a4b3b26",
       "value": false
      }
     },
     "042c2c224346464b99f322b3cabbf5d3": {
      "model_module": "@jupyter-widgets/controls",
      "model_module_version": "2.0.0",
      "model_name": "ButtonStyleModel",
      "state": {
       "font_family": null,
       "font_size": null,
       "font_style": null,
       "font_variant": null,
       "font_weight": null,
       "text_color": null,
       "text_decoration": null
      }
     },
     "0a15fa32f14545d488e58c6a4b07c907": {
      "model_module": "@jupyter-widgets/controls",
      "model_module_version": "2.0.0",
      "model_name": "IntSliderModel",
      "state": {
       "behavior": "drag-tap",
       "continuous_update": false,
       "layout": "IPY_MODEL_9500111de7da4ad2b702c374ffd08f48",
       "style": "IPY_MODEL_4c53a30024184bc5b46f4387da923bac",
       "value": 5
      }
     },
     "0e51953ec225414d88833adced523885": {
      "model_module": "@jupyter-widgets/controls",
      "model_module_version": "2.0.0",
      "model_name": "LabelModel",
      "state": {
       "layout": "IPY_MODEL_c348a5d90e7a4b56944d5ea8a9772028",
       "style": "IPY_MODEL_f56617edf6934880860ec44c807a63c8",
       "value": "Has buff:"
      }
     },
     "0e799edcde734e359b9972056313f7ca": {
      "model_module": "@jupyter-widgets/controls",
      "model_module_version": "2.0.0",
      "model_name": "LabelStyleModel",
      "state": {
       "description_width": "",
       "font_family": null,
       "font_size": null,
       "font_style": null,
       "font_variant": null,
       "font_weight": null,
       "text_color": null,
       "text_decoration": null
      }
     },
     "11b89d8a76194a74a70c6ab0e181de24": {
      "model_module": "@jupyter-widgets/base",
      "model_module_version": "2.0.0",
      "model_name": "LayoutModel",
      "state": {}
     },
     "17c49fafc4074d33aab2c2f7edd10ae2": {
      "model_module": "@jupyter-widgets/controls",
      "model_module_version": "2.0.0",
      "model_name": "TabModel",
      "state": {
       "children": [
        "IPY_MODEL_901662c7ba7e40e3b6b4d16aeaeecba1",
        "IPY_MODEL_c58db53346904415806ee86f2dabe87d"
       ],
       "layout": "IPY_MODEL_c65614cbc222414d806f660caa7d7712",
       "selected_index": 0,
       "titles": [
        "A",
        "B"
       ]
      }
     },
     "1c9f06dcd7c846adaea3fcba799c1cb6": {
      "model_module": "@jupyter-widgets/base",
      "model_module_version": "2.0.0",
      "model_name": "LayoutModel",
      "state": {}
     },
     "1fe9ec3d7ac44f06bf614655ed3582c6": {
      "model_module": "@jupyter-widgets/controls",
      "model_module_version": "2.0.0",
      "model_name": "LabelModel",
      "state": {
       "layout": "IPY_MODEL_ebc86f5f72bc43bc92e4d8afe8305c60",
       "style": "IPY_MODEL_504791a9b2e242378449c5f75445a4c7",
       "value": "Ignore max:"
      }
     },
     "2071f1b001544ff5bd017adc2a709203": {
      "model_module": "@jupyter-widgets/base",
      "model_module_version": "2.0.0",
      "model_name": "LayoutModel",
      "state": {}
     },
     "2144b0c66d3d482f8db743dac39f922e": {
      "model_module": "@jupyter-widgets/controls",
      "model_module_version": "2.0.0",
      "model_name": "LabelModel",
      "state": {
       "layout": "IPY_MODEL_d5eb5f78da4e419da17a8d6d504043f4",
       "style": "IPY_MODEL_ec13a0c0897a428fb8a671ce3fe5eda5",
       "value": "True"
      }
     },
     "24cb6dc4536b47bb8b062567c5af074b": {
      "model_module": "@jupyter-widgets/controls",
      "model_module_version": "2.0.0",
      "model_name": "LabelModel",
      "state": {
       "layout": "IPY_MODEL_360cabbbc69c4c5b96fd1ac36601fdb9",
       "style": "IPY_MODEL_bab3c9a2428747daa12ccddfdea2a76f",
       "value": "69490"
      }
     },
     "294ade657b6b4eb1984792680db1db63": {
      "model_module": "@jupyter-widgets/controls",
      "model_module_version": "2.0.0",
      "model_name": "LabelModel",
      "state": {
       "layout": "IPY_MODEL_aad4164b1741417890e035ffbc0a4621",
       "style": "IPY_MODEL_3d56ee0b4e4f474e97cdd1b2e49d2e76",
       "value": "Last reset:"
      }
     },
     "2da327d9caf245f1bf518036333b2da9": {
      "model_module": "@jupyter-widgets/controls",
      "model_module_version": "2.0.0",
      "model_name": "SliderStyleModel",
      "state": {
       "description_width": ""
      }
     },
     "360cabbbc69c4c5b96fd1ac36601fdb9": {
      "model_module": "@jupyter-widgets/base",
      "model_module_version": "2.0.0",
      "model_name": "LayoutModel",
      "state": {}
     },
     "3d56ee0b4e4f474e97cdd1b2e49d2e76": {
      "model_module": "@jupyter-widgets/controls",
      "model_module_version": "2.0.0",
      "model_name": "LabelStyleModel",
      "state": {
       "description_width": "",
       "font_family": null,
       "font_size": null,
       "font_style": null,
       "font_variant": null,
       "font_weight": null,
       "text_color": null,
       "text_decoration": null
      }
     },
     "439fffb4c87b40a8b625b88104b5b781": {
      "model_module": "@jupyter-widgets/controls",
      "model_module_version": "2.0.0",
      "model_name": "LabelStyleModel",
      "state": {
       "description_width": "",
       "font_family": null,
       "font_size": null,
       "font_style": null,
       "font_variant": null,
       "font_weight": null,
       "text_color": null,
       "text_decoration": null
      }
     },
     "458eeba12ee448eab43b838ff7d83bbb": {
      "model_module": "@jupyter-widgets/controls",
      "model_module_version": "2.0.0",
      "model_name": "LabelModel",
      "state": {
       "layout": "IPY_MODEL_810ace2d18a9447390b126381029852c",
       "style": "IPY_MODEL_c7dfd3fdc0a349fda939e28cdc7d2ccd",
       "value": "Tolerance (%):"
      }
     },
     "4b65a0466d6b48e284f58f015e0b0c1f": {
      "model_module": "@jupyter-widgets/controls",
      "model_module_version": "2.0.0",
      "model_name": "LabelModel",
      "state": {
       "layout": "IPY_MODEL_1c9f06dcd7c846adaea3fcba799c1cb6",
       "style": "IPY_MODEL_89366267316a48ffa915cf5884f6a894",
       "value": "Ignored:"
      }
     },
     "4b9bad2ae87847a190e3980dc67ba374": {
      "model_module": "@jupyter-widgets/base",
      "model_module_version": "2.0.0",
      "model_name": "LayoutModel",
      "state": {}
     },
     "4c2c39c45daf4a839f3077526e131e02": {
      "model_module": "@jupyter-widgets/controls",
      "model_module_version": "2.0.0",
      "model_name": "LabelModel",
      "state": {
       "layout": "IPY_MODEL_ff56a085c095439b93328e778a2a9f05",
       "style": "IPY_MODEL_aa7311f99cc745a180dc3b8b28742175",
       "value": "0"
      }
     },
     "4c53a30024184bc5b46f4387da923bac": {
      "model_module": "@jupyter-widgets/controls",
      "model_module_version": "2.0.0",
      "model_name": "SliderStyleModel",
      "state": {
       "description_width": ""
      }
     },
     "5006dba13291433aaf65932634382d2e": {
      "model_module": "@jupyter-widgets/base",
      "model_module_version": "2.0.0",
      "model_name": "LayoutModel",
      "state": {}
     },
     "504791a9b2e242378449c5f75445a4c7": {
      "model_module": "@jupyter-widgets/controls",
      "model_module_version": "2.0.0",
      "model_name": "LabelStyleModel",
      "state": {
       "description_width": "",
       "font_family": null,
       "font_size": null,
       "font_style": null,
       "font_variant": null,
       "font_weight": null,
       "text_color": null,
       "text_decoration": null
      }
     },
     "505363afb4e943a6bea28bf4df3ef3a5": {
      "model_module": "@jupyter-widgets/controls",
      "model_module_version": "2.0.0",
      "model_name": "LabelStyleModel",
      "state": {
       "description_width": "",
       "font_family": null,
       "font_size": null,
       "font_style": null,
       "font_variant": null,
       "font_weight": null,
       "text_color": null,
       "text_decoration": null
      }
     },
     "52c4891d473d47c69b72847049fe5af8": {
      "model_module": "@jupyter-widgets/base",
      "model_module_version": "2.0.0",
      "model_name": "LayoutModel",
      "state": {}
     },
     "557e3835a8214f7c98f01fc08affd91e": {
      "model_module": "@jupyter-widgets/base",
      "model_module_version": "2.0.0",
      "model_name": "LayoutModel",
      "state": {}
     },
     "5985e17b6e7c46be962fe9b51795684f": {
      "model_module": "@jupyter-widgets/controls",
      "model_module_version": "2.0.0",
      "model_name": "LabelModel",
      "state": {
       "layout": "IPY_MODEL_11b89d8a76194a74a70c6ab0e181de24",
       "style": "IPY_MODEL_850bc475de6b44e3a49abde9696b778c",
       "value": "0"
      }
     },
     "5a33dbadc2524c7fbfd7eaf02a4b3b26": {
      "model_module": "@jupyter-widgets/controls",
      "model_module_version": "2.0.0",
      "model_name": "CheckboxStyleModel",
      "state": {
       "description_width": ""
      }
     },
     "5c3e7e0f2e434634a31f156c64090534": {
      "model_module": "@jupyter-widgets/controls",
      "model_module_version": "2.0.0",
      "model_name": "GridBoxModel",
      "state": {
       "children": [
        "IPY_MODEL_a2d6c0d3ac934921b870b0781fd9b8f1",
        "IPY_MODEL_7b5a285e2e08457d8e66ae7d52d1a1f6",
        "IPY_MODEL_458eeba12ee448eab43b838ff7d83bbb",
        "IPY_MODEL_0a15fa32f14545d488e58c6a4b07c907",
        "IPY_MODEL_1fe9ec3d7ac44f06bf614655ed3582c6",
        "IPY_MODEL_b6b8cab36fc84e3ab1061b2cfce5d823",
        "IPY_MODEL_6f4386cfa0dc43fcb74cd7eb0abe7a05",
        "IPY_MODEL_01fd105490ee4fef8ae05a801d667295",
        "IPY_MODEL_65993f3e8c7341ada6ec776d34560bee"
       ],
       "layout": "IPY_MODEL_b54944a41b2448abb1711009cc905122"
      }
     },
     "63b75bc7783847c385a0afda194b3c76": {
      "model_module": "@jupyter-widgets/base",
      "model_module_version": "2.0.0",
      "model_name": "LayoutModel",
      "state": {}
     },
     "64092079b150469f973168eab0a7a62b": {
      "model_module": "@jupyter-widgets/controls",
      "model_module_version": "2.0.0",
      "model_name": "LabelModel",
      "state": {
       "layout": "IPY_MODEL_52c4891d473d47c69b72847049fe5af8",
       "style": "IPY_MODEL_64130927035a49ffb415c0a917c61477",
       "value": "26"
      }
     },
     "64130927035a49ffb415c0a917c61477": {
      "model_module": "@jupyter-widgets/controls",
      "model_module_version": "2.0.0",
      "model_name": "LabelStyleModel",
      "state": {
       "description_width": "",
       "font_family": null,
       "font_size": null,
       "font_style": null,
       "font_variant": null,
       "font_weight": null,
       "text_color": null,
       "text_decoration": null
      }
     },
     "65993f3e8c7341ada6ec776d34560bee": {
      "model_module": "@jupyter-widgets/controls",
      "model_module_version": "2.0.0",
      "model_name": "ButtonModel",
      "state": {
       "description": "Apply",
       "icon": "check",
       "layout": "IPY_MODEL_4b9bad2ae87847a190e3980dc67ba374",
       "style": "IPY_MODEL_042c2c224346464b99f322b3cabbf5d3",
       "tooltip": "Apply"
      }
     },
     "6f4386cfa0dc43fcb74cd7eb0abe7a05": {
      "model_module": "@jupyter-widgets/controls",
      "model_module_version": "2.0.0",
      "model_name": "LabelModel",
      "state": {
       "layout": "IPY_MODEL_557e3835a8214f7c98f01fc08affd91e",
       "style": "IPY_MODEL_a215d763a8a0468c804f910a4520da44",
       "value": "Reset:"
      }
     },
     "7143c4016b57421b9198401d4f5aa391": {
      "model_module": "@jupyter-widgets/base",
      "model_module_version": "2.0.0",
      "model_name": "LayoutModel",
      "state": {}
     },
     "7b5a285e2e08457d8e66ae7d52d1a1f6": {
      "model_module": "@jupyter-widgets/controls",
      "model_module_version": "2.0.0",
      "model_name": "IntSliderModel",
      "state": {
       "behavior": "drag-tap",
       "continuous_update": false,
       "layout": "IPY_MODEL_dbda1603d86540c382b3ae5254e06017",
       "max": 100000,
       "step": 1000,
       "style": "IPY_MODEL_c9f4b6382aee4f7c87b760feef14a9ae",
       "value": 1000
      }
     },
     "810ace2d18a9447390b126381029852c": {
      "model_module": "@jupyter-widgets/base",
      "model_module_version": "2.0.0",
      "model_name": "LayoutModel",
      "state": {}
     },
     "850bc475de6b44e3a49abde9696b778c": {
      "model_module": "@jupyter-widgets/controls",
      "model_module_version": "2.0.0",
      "model_name": "LabelStyleModel",
      "state": {
       "description_width": "",
       "font_family": null,
       "font_size": null,
       "font_style": null,
       "font_variant": null,
       "font_weight": null,
       "text_color": null,
       "text_decoration": null
      }
     },
     "877f284da35940e68eed99a9a45d5e6a": {
      "model_module": "@jupyter-widgets/controls",
      "model_module_version": "2.0.0",
      "model_name": "LabelModel",
      "state": {
       "layout": "IPY_MODEL_ea83630eaff249368fec450aaa39c710",
       "style": "IPY_MODEL_439fffb4c87b40a8b625b88104b5b781",
       "value": "Clipped:"
      }
     },
     "89366267316a48ffa915cf5884f6a894": {
      "model_module": "@jupyter-widgets/controls",
      "model_module_version": "2.0.0",
      "model_name": "LabelStyleModel",
      "state": {
       "description_width": "",
       "font_family": null,
       "font_size": null,
       "font_style": null,
       "font_variant": null,
       "font_weight": null,
       "text_color": null,
       "text_decoration": null
      }
     },
     "8bea52949ce9465ba16c3bd7bdf70df7": {
      "model_module": "@jupyter-widgets/base",
      "model_module_version": "2.0.0",
      "model_name": "LayoutModel",
      "state": {}
     },
     "901662c7ba7e40e3b6b4d16aeaeecba1": {
      "model_module": "jupyter-progressivis",
      "model_module_version": "^0.1.0",
      "model_name": "VegaWidgetModel",
      "state": {
       "_df": null,
       "_img_url": "{\"width\":561,\"height\":554,\"url\":\"data:image/png;base64,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\"}",
       "_model_module": "jupyter-progressivis",
       "_model_module_version": "^0.1.0",
       "_opt_source": "null",
       "_spec_source": "{\"data\": {\"name\": \"data\"}, \"height\": 500, \"width\": 500, \"layer\": [{\"mark\": \"bar\", \"$schema\": \"https://vega.github.io/schema/vega-lite/v4.8.1.json\", \"encoding\": {\"x\": {\"type\": \"ordinal\", \"field\": \"nbins\", \"title\": \"Values\", \"axis\": {\"format\": \".2e\", \"labelExpr\": \"(datum.value%10>0 ? null : datum.value)\"}}, \"y\": {\"type\": \"quantitative\", \"field\": \"level\", \"title\": \"Count\"}}}, {\"mark\": \"rule\", \"encoding\": {\"x\": {\"aggregate\": \"min\", \"field\": \"bins\", \"title\": null, \"axis\": {\"tickCount\": 0}}, \"color\": {\"value\": \"red\"}, \"size\": {\"value\": 1}}}, {\"mark\": \"rule\", \"encoding\": {\"x\": {\"aggregate\": \"max\", \"field\": \"bins\", \"title\": null, \"axis\": {\"tickCount\": 0}}, \"color\": {\"value\": \"red\"}, \"size\": {\"value\": 1}}}]}",
       "_view_module": "jupyter-progressivis",
       "_view_module_version": "^0.1.0",
       "layout": "IPY_MODEL_63b75bc7783847c385a0afda194b3c76"
      }
     },
     "9500111de7da4ad2b702c374ffd08f48": {
      "model_module": "@jupyter-widgets/base",
      "model_module_version": "2.0.0",
      "model_name": "LayoutModel",
      "state": {}
     },
     "9b24052a43084cafb6c95410ebced00c": {
      "model_module": "@jupyter-widgets/controls",
      "model_module_version": "2.0.0",
      "model_name": "LabelModel",
      "state": {
       "layout": "IPY_MODEL_9fe9c7caaf1549cbb0516b8cebcefa6c",
       "style": "IPY_MODEL_0e799edcde734e359b9972056313f7ca",
       "value": "10"
      }
     },
     "9e4095680e8048338104e7e0890277ef": {
      "model_module": "@jupyter-widgets/controls",
      "model_module_version": "2.0.0",
      "model_name": "LabelStyleModel",
      "state": {
       "description_width": "",
       "font_family": null,
       "font_size": null,
       "font_style": null,
       "font_variant": null,
       "font_weight": null,
       "text_color": null,
       "text_decoration": null
      }
     },
     "9fe9c7caaf1549cbb0516b8cebcefa6c": {
      "model_module": "@jupyter-widgets/base",
      "model_module_version": "2.0.0",
      "model_name": "LayoutModel",
      "state": {}
     },
     "a15904c18f6348b39e52152870a20a23": {
      "model_module": "@jupyter-widgets/controls",
      "model_module_version": "2.0.0",
      "model_name": "GridBoxModel",
      "state": {
       "children": [
        "IPY_MODEL_877f284da35940e68eed99a9a45d5e6a",
        "IPY_MODEL_64092079b150469f973168eab0a7a62b",
        "IPY_MODEL_4b65a0466d6b48e284f58f015e0b0c1f",
        "IPY_MODEL_9b24052a43084cafb6c95410ebced00c",
        "IPY_MODEL_b489effa505f4a50afc3d2491f94071d",
        "IPY_MODEL_2144b0c66d3d482f8db743dac39f922e",
        "IPY_MODEL_0e51953ec225414d88833adced523885",
        "IPY_MODEL_5985e17b6e7c46be962fe9b51795684f",
        "IPY_MODEL_294ade657b6b4eb1984792680db1db63",
        "IPY_MODEL_4c2c39c45daf4a839f3077526e131e02",
        "IPY_MODEL_c8931045b3c64fbdb6fbbd5b5db4c12f",
        "IPY_MODEL_24cb6dc4536b47bb8b062567c5af074b"
       ],
       "layout": "IPY_MODEL_d516eff12eea4b509dc6edbb2a53a6c4"
      }
     },
     "a215d763a8a0468c804f910a4520da44": {
      "model_module": "@jupyter-widgets/controls",
      "model_module_version": "2.0.0",
      "model_name": "LabelStyleModel",
      "state": {
       "description_width": "",
       "font_family": null,
       "font_size": null,
       "font_style": null,
       "font_variant": null,
       "font_weight": null,
       "text_color": null,
       "text_decoration": null
      }
     },
     "a2d6c0d3ac934921b870b0781fd9b8f1": {
      "model_module": "@jupyter-widgets/controls",
      "model_module_version": "2.0.0",
      "model_name": "LabelModel",
      "state": {
       "layout": "IPY_MODEL_7143c4016b57421b9198401d4f5aa391",
       "style": "IPY_MODEL_9e4095680e8048338104e7e0890277ef",
       "value": "Reset threshold:"
      }
     },
     "aa7311f99cc745a180dc3b8b28742175": {
      "model_module": "@jupyter-widgets/controls",
      "model_module_version": "2.0.0",
      "model_name": "LabelStyleModel",
      "state": {
       "description_width": "",
       "font_family": null,
       "font_size": null,
       "font_style": null,
       "font_variant": null,
       "font_weight": null,
       "text_color": null,
       "text_decoration": null
      }
     },
     "aad4164b1741417890e035ffbc0a4621": {
      "model_module": "@jupyter-widgets/base",
      "model_module_version": "2.0.0",
      "model_name": "LayoutModel",
      "state": {}
     },
     "b489effa505f4a50afc3d2491f94071d": {
      "model_module": "@jupyter-widgets/controls",
      "model_module_version": "2.0.0",
      "model_name": "LabelModel",
      "state": {
       "layout": "IPY_MODEL_ee10a92c82b340858e6a51fb2577e78e",
       "style": "IPY_MODEL_ea21ccea3bb840798b446170a4cbf498",
       "value": "Needs changes:"
      }
     },
     "b54944a41b2448abb1711009cc905122": {
      "model_module": "@jupyter-widgets/base",
      "model_module_version": "2.0.0",
      "model_name": "LayoutModel",
      "state": {
       "grid_template_columns": "repeat(2, 120px)"
      }
     },
     "b6b8cab36fc84e3ab1061b2cfce5d823": {
      "model_module": "@jupyter-widgets/controls",
      "model_module_version": "2.0.0",
      "model_name": "IntSliderModel",
      "state": {
       "behavior": "drag-tap",
       "continuous_update": false,
       "layout": "IPY_MODEL_e5e3e567eaff49159fe9234bc6e6e2f0",
       "max": 1000,
       "style": "IPY_MODEL_2da327d9caf245f1bf518036333b2da9",
       "value": 10
      }
     },
     "bab3c9a2428747daa12ccddfdea2a76f": {
      "model_module": "@jupyter-widgets/controls",
      "model_module_version": "2.0.0",
      "model_name": "LabelStyleModel",
      "state": {
       "description_width": "",
       "font_family": null,
       "font_size": null,
       "font_style": null,
       "font_variant": null,
       "font_weight": null,
       "text_color": null,
       "text_decoration": null
      }
     },
     "c348a5d90e7a4b56944d5ea8a9772028": {
      "model_module": "@jupyter-widgets/base",
      "model_module_version": "2.0.0",
      "model_name": "LayoutModel",
      "state": {}
     },
     "c58db53346904415806ee86f2dabe87d": {
      "model_module": "jupyter-progressivis",
      "model_module_version": "^0.1.0",
      "model_name": "VegaWidgetModel",
      "state": {
       "_df": null,
       "_img_url": "{\"width\":561,\"height\":549,\"url\":\"data:image/png;base64,iVBORw0KGgoAAAANSUhEUgAAAjEAAAIlCAYAAAAkKKl5AAAAAXNSR0IArs4c6QAAIABJREFUeF7svX9cVVW+///CRCB+KamAPwoBxYOGhyujXIkEk25E5qBi3+xB38Gh742GmYczpcxkY2h61Wl+Vd+ZYWL6cb/azCSFqRQXMMMEJT9yJXQQEGVU/BH+RFMEFL6Ptc64QZQUOPucvc9+7X+Oi7P3Wu/1XGufnq0fezt1dHR0gAcJkAAJkAAJkAAJ6IyAEyVGZy3GcEmABEiABEiABCQBSgw7AgmQAAmQAAmQgC4JUGJ02WwMmgRIgARIgARIgBLDPkACJEACJEACJKBLAg4pMW+99RauXLmiywZh0CRAAiRAAiRAAhYCw4YNw8KFC3vE4ZASs3btWmRkZLAPkAAJkAAJkAAJ6JjA4cOHERgYSInRcRsydBIgARIgARIwJAFKjCGbnZUmARIgARIgAf0ToMTovw1ZAxIgARIgARIwJAFKjCGbnZUmARIgARIgAf0ToMTovw1ZAxIgARIgARIwJAFKjCGbnZUmARIgARIgAf0ToMTovw1ZAxIgARIgARIwJAFKjCGbnZUmARIgARIgAf0TsJvEFBQUICsrC83NzRg3bhxWr14Nd3f3W4hWVlYiIiIC586dg4eHB+rq6pCamoq2tjZER0djzZo18prMzEwUFhbC2dlZ5msymXpsHT7sTv8dlzUgARIgARIgAbtJTExMDPLz8+Hm5obFixcjLCwMycnJt7RIQkIC6uvrsXv3bikxiYmJWLp0qRQbcX5KSgq8vb2xcuVK5Obmora2Funp6SgqKqLEsH+TAAmQAAmQgAMTsJvE3GDa0tIiZUSIx8MPP3wT6nXr1smRmvXr1+Ozzz6TEhMaGoqqqip5Xk5ODsRIjRjB8fX1lUIjjvDwcOzatQuurq63bTqOxDhwj2bVSIAESIAEDEPArhLzq1/9Sr7DaMmSJRBi0fW4dOkSnn32WWzcuFHKjZAYMYUUHx+PsrIyeWpxcbEUHC8vL8TGxmLWrFny73FxccjOzkZAQAAlxjBdmRUlARIgARIwGgG7SoyA3djYiJdffhmPP/445syZo/AXYiPeTDl+/Ph+SUxJSQlKS0tvadekpCSjtTXrSwIkQAIkQAIORaCjowNBQUE91kmVt1i3trbiww8/VNbAfPzxx/jyyy/xxhtvyECuX78up4KuXbt2U2BiJEasnbnTdJLZbJajNZxOcqi+ysqQAAmQAAmQwE0E7DIS097ejtGjR+OTTz6RC3QXLVqECRMmyDUt5eXliIyMvCnIG9NJYk3M3Llz5RTUlClTsGDBAqSlpcm1MsuWLcPmzZtRXV0t8xO7n3o6uCaGdwEJkAAJkAAJ6J+AXSRGYBMC84Mf/EBOFwkh+c1vfoOmpiZERUWhpqamR4kRO5WE7IjRHLH2Zfny5fJcsTspLy9P7nYS62GCg4MpMfrvn6wBCZAACZAACfRIwG4S01NEYvv0qlWrVG0yjsSoipeZkwAJkAAJkIBNCGhKYsQ0k3h2jHg2jJoHJUZNusybBEiABEiABGxDQFMSY5sqQ27nFutqeJAACZAACZAACeiXACVGv23HyEmABEiABEjA0AQoMYZuflaeBEiABEiABPRLgBKj37Zj5CRAAiRAAiRgaAKUGEM3PytPAiRAAiRAAvolQInRb9sxchIgARIgARIwNAFKjKGbn5UnARIgARIgAf0SoMTot+0YOQmQAAmQAAkYmgAlxtDNz8qTAAmQAAmQgH4JUGL023aMnARIgARIgAQMTYASY+jmZ+VJgARIgARIQL8EKDH6bTtGTgIkQAIkQAKGJkCJMXTzs/IkQAIkQAIkoF8ClBj9th0jJwESIAESIAFDE6DEGLr5WXkSIAESIAES0C8BSox+246RkwAJkAAJkIChCVBiDN38rDwJkAAJkAAJ6JcAJUa/bcfISYAESIAESMDQBOwmMQUFBcjKykJzczPGjRuH1atXw93dXWmMxsZGvPDCCzhy5AiGDx+ON998E0FBQairq0Nqaira2toQHR2NNWvWyGsyMzNRWFgIZ2dnma/JZOqxYdeuXYuMjAxDNzwrTwIkQAIkQAJ6J2A3iYmJiUF+fj7c3NywePFihIWFITk5WeH585//HC4uLli+fDl+/etfo6GhAb///e+RmJiIpUuXIiIiQp6fkpICb29vrFy5Erm5uaitrUV6ejqKioooMXrvnYyfBEiABEiABL6DgN0k5kZMLS0tUkaEeDz88MNKqE1NTRgwYAA8PT3xxRdf4N1338W6desQGhqKqqoqeV5OTg4qKyvlCI6vr68UGnGEh4dj165dcHV1vW3VORLDe4IESIAESIAE9E/ArhLzq1/9Sk7rLFmyBEIsbneIaaP4+Hi8/PLLUk7Ev8vKyuSpxcXFWL9+Pby8vBAbG4tZs2bJv8fFxSE7OxsBAQGUGP33UdaABEiABEiABG5LwK4SIyISa1+EoDz++OOYM2fOTUG2trbK0RUhLy+99BLOnz9PiWFHJgESIAESIAESkATsIjFCTj788ENlDczHH3+ML7/8Em+88cZNzfLTn/4UTk5O+O1vf6v8/W6mk8xmsxytEdNJJSUlKC0tvaW5k5KS2AVIgARIgARIgAR0TKCjo0Nu+unpcOoQZ1j5aG9vx+jRo/HJJ5/IBbqLFi3ChAkT5KhLeXk5IiMjkZeXJ3cbiV1JXY+5c+fKKagpU6ZgwYIFSEtLg4eHB5YtW4bNmzejurpa5id2P/V0cE2MlRuU2ZEACZAACZCAHQjYZSRG1FMIzA9+8AOMHz9eCslvfvMbiMW8UVFRqKmpkdNLp0+fxuDBgyUWYVpi63R9fb2UHTGaI9a+iN1L4hC7k4T4iN1OYj1McHAwJcYOHYpFkgAJkAAJkICtCNhNYnqqoNg+vWrVKlXrz5EYVfEycxIgARIgARKwCQFNSYyYZhLPjklISFC18pQYVfEycxIgARIgARKwCQFNSYxNagzI7dx8Yq+taLMcEiABEiABElCHACVGHa7MlQRIgARIgARIQGUClBiVATN7EiABEiABEiABdQhQYtThylxJgARIgARIgARUJkCJURkwsycBEiABEiABElCHACVGHa7MlQRIgARIgARIQGUClBiVATN7EiABEiABEiABdQhQYtThylxJgARIgARIgARUJkCJURkwsycBEiABEiABElCHACVGHa7MlQRIgARIgARIQGUClBiVATN7EiABEiABEiABdQhQYtThylxJgARIgARIgARUJkCJURkwsycBEiABEiABElCHACVGHa7MlQRIgARIgARIQGUClBiVATN7EiABEiABEiABdQhQYtThylxJgARIgARIgARUJkCJURkwsycBEiABEiABElCHACVGHa7MlQRIgARIgARIQGUClBiVATN7EiABEiABEiABdQjYTWIKCgqQlZWF5uZmjBs3DqtXr4a7u7tSyytXriAlJQUnT57EsGHD8P7778PT0xN1dXVITU1FW1sboqOjsWbNGnlNZmYmCgsL4ezsLPM1mUw9Elu7di0yMjLUIcpcSYAESIAESIAEbELAbhITExOD/Px8uLm5YfHixQgLC0NycrJS6d/97nfo6OjAz372M7zzzjtoaGjAq6++isTERCxduhQRERHyfCE63t7eWLlyJXJzc1FbW4v09HQUFRVRYmzShVgICTgegX+euoAfv1GgVCzj6X/HQ2H3O15FWSMS0DkBu0nMDW4tLS1SRoR4PPzwwwrOhIQEvPXWWwgMDERjYyPmz5+P4uJihIaGoqqqSp6Xk5ODyspKOYLj6+srhUYc4eHh2LVrF1xdXW/bPByJ0XmvZfgk0AcCW3bW3nRVdl6F/B8lccyPDUXyow8q31Ni+gCYl5CAHQjYVWJ+9atfyWmdJUuWQIhF1+N73/sePv/8c3h5eaG9vR0hISHYvXs34uPjUVZWJk8VUrN+/Xp5TmxsLGbNmiX/HhcXh+zsbAQEBFBi7NCpWCQJaJHA/716M85dbLb8RkQEYmt5vSIxs6PGIXysnxL2N+cv40+bypU0R2K02KKMiQQAu0qMaAAxyvLyyy/j8ccfx5w5c5Q26S4xYo2LkJfeSkxJSQlKS0tvaeukpCS2PwmQgIEILPvr12i63CprHBkyDF/VnlEkJmaiL4r3f6PQmGn2w9aKU0r6BzMCER50n4FosaokoA8CYjQ1KCiox2CdOm6Mt1qxPq2trfjwww+VNTAff/wxvvzyS7zxxhtKKf2ZTjKbzVJ4OJ1kxUZjViSgcwJ3GonZVNo53TRv+nh8tL2aIzE6b3OG7/gE7DISI6aHRo8ejU8++UQu0F20aBEmTJgg17SUl5cjMjJSCo2QHbHo989//jPOnj0rR2zmzp0rp6CmTJmCBQsWIC0tDR4eHli2bBk2b96M6upqmZ/Y/dTTwTUxjt+xWUMS6E6AEsM+QQKOR8AuEiMwCoH5wQ9+gPHjx0sh+c1vfoOmpiZERUWhpqZGbr0WUnPixAn4+fnhvffekwt46+vr5d+F4Ii1L8uXL5etInYn5eXlyd1OYj1McHAwJcbx+itrRAJ9JkCJ6TM6XkgCmiVgN4npiYjYPr1q1SpVgXEkRlW8zJwENEmAEqPJZmFQJNAvApqSGDHNJJ4dI9bDqHlQYtSky7xJQJsEKDHabBdGRQL9IaApielPRXpzLSWmN7R4Lgk4BoH+SMz8WBOaW64rIKZNHIWJY4Y5BhjWggR0TIASo+PGY+gkQAI9E3h7y96bvizdf+w7nxPzXbuThMRs+OKAkt/q/2cGJYadjwQ0QIASo4FGYAgkQALWJ7Do/y3EoePnZcYRIf44fPICJcb6mJkjCdiVACXGrvhZOAmQgFoEKDFqkWW+JKAdApQY7bQFIyEBErAiAUqMFWEyKxLQKAFKjEYbhmGRAAn0jwAlpn/8eDUJ6IEAJUYPrcQYSYAEek2AEtNrZLyABHRHgBKjuyZjwCRAAndDwJYSs2Vn53uXRGyPTB6De12c7yZMnkMCJNAPApSYfsDjpSRAAtolYEuJ+Xj7Abz/P5UKjA8z51BitNs1GJkDEaDEOFBjsiokYGQC3Z8LU3XktM22WFNijNzzWHd7EqDE2JM+yyYBErAageXvf4k9NSdlfkEjh8hPWz0nhhJjtWZkRiTQKwKUmF7h4skkQAJaJUCJ0WrLMC4SUI8AJUY9tsyZBEhARQJvfvx/cO5Ss1KCE8CRGBV5M2sS0CIBSowWW4UxkQAJ3JGAkJiiPYfleT5ebgj0H2wziXnxqUiMG+WjxFiw+xByd9QoaS7svWPz8QQSsAoBSoxVMDITEiABWxOwp8QkxYQip7hKqXJidAg2UmJs3QVYHgmAEsNOQAIkoEsClBhdNhuDJgGrEqDEWBUnMyMBErAVAUqMrUizHBLQLgFKjHbbhpGRAAl8BwFKDLsHCZAAJYZ9gARIQJcEKDG6bDYGTQJWJWA3iSkrK8PSpUvR1NSEsLAwZGVlYdCgQUrlamtr8corr+D8+fPw9vbGihUrEBoairq6OqSmpqKtrQ3R0dFYs2aNvCYzMxOFhYVwdnaWeZlMph5BrV27FhkZGVYFycxIgARsS4ASY1veLI0EtEjAbhITFRWF1157DdOnT0dSUhKeeeYZzJ07V2GUnp6ORx55BImJiVi/fj22bduGd999V6aF/ERERCA5ORkpKSlSclauXInc3FwI+RHXFhUVUWK02OMYEwlYiQAlxkogmQ0J6JiA3STm6NGjuP/++yU6Mcri7++P5557TkG5evVquLm5YdGiRXj77bfR0NCgjMZUVVm2Nubk5KCyshLu7u7w9fWVQiOO8PBw7Nq1C66urrdtGo7E6LjHMnTDEjhx5tJNdf9oe7XdnhNzpy3WT0wbi7ydB2W8Ls734KMV8wzbbqw4CahJwG4Sc6NSJ06cwIwZM7Bz5074+HQ+POrUqVOYNGkSpkyZggMHDsjvxVRRfHw8xFSUOIqLi+UojZeXF2JjYzFr1iz597i4OGRnZyMgIIASo2bvYd4kYEMC6wr3YcMXlv+BcXJywszJYygxNuTPokhAiwTsKjHHjx/HvHnz5LoWMa3U9Vi8eLFc17Jw4UJs2LABn3/+uTyvtxJTUlKC0tLSW9iLKSweJEAC+iHw6Z7jKNx7QpGYqeOGoqzmtEx7uw/CSB83VB1rkulRQ++Vnw1nrsjP0NHeOH6uGU2XW2U6MmQYvqo9g46ODpmOmeiL4v3fKDBmmv2wteKUkn7U7I/CCsvLJcURZ/ZHUZf0jDBfbKvsvD564nDs2N8ozx00cABeT5msH9CMlAR0REDcw0FBQT1G7NRx4y63cqVaWlrkCMyLL76IOXPm3JK7kJq//OUvGDt2LC5cuICYmBhUVFTIxb13mk4ym81ytIbTSVZuNGZHAnYkwJEYO8Jn0SSgUQJ2G4kRIy1Tp06VIzE3DrHjqLy8HJGRkXj++ecxYcIE/PjHP8aWLVvkaMy6devk4l+xs0hMMy1YsABpaWnw8PDAsmXLsHnzZlRXV8t1NAUFBT0i55oYjfZGhkUC30GAEsPuQQIk0J2A3SRGbKfuOoUkdh3Nnz8fYtdSTU2NlJHHHnsMw4YNw8iRI/HHP/4RI0aMQH19vVzA29raKte+LF++XNZJ7E7Ky8uTi4HFepjg4GBKDPs7CTgQAUqMAzUmq0ICViJgN4npKX6xfXrVqlVWqt7ts+FIjKp4mTkJqEKAEqMKVmZKAromoCmJaW9vR35+PhISElSFSolRFS8zJwFVCFBiVMHKTElA1wQ0JTG2IkmJsRVplkMC1iNAibEeS+ZEAo5CgBLjKC3JepCAgxOgxDh4A7N6JNAHApSYPkDjJSRAArYnQImxPXOWSAJaJ0CJ0XoLMT4SIAFJgBLDjkACJNCdACWGfYIESEAXBCgxumgmBkkCNiVAibEpbhZGAiTQVwKUmL6S43Uk4LgEKDGO27asGQk4FAFKjEM1JytDAlYhQImxCkZmQgIkoDYBSozahJk/CeiPACVGf23GiEnAkAQoMYZsdlaaBL6TACWGHYQESEAXBCgxumgmBkkCNiVAibEpbhZGAiTQVwKUmL6S43Uk4LgEKDGO27asGQk4FAFKjEM1JytDAlYhQImxCkZmQgIkoDYBSozahJk/CeiPACVGf23GiEnAkAQoMYZsdlaaBL6TACWGHYQESEAXBCgxumgmBkkCNiVAibEpbhZGAiTQVwKUmL6S43Uk4LgEKDGO27asGQk4FAE9S0zkhFE42HBOaY8/v/i4Q7UNK0MC9iJAibEXeZZLAiTQKwJ6l5jtFUdkff18PJC9OKFXdefJJEACtydgN4kpKyvD0qVL0dTUhLCwMGRlZWHQoEFKlB0dHViyZAnEeQEBAfjDH/4ALy8v1NXVITU1FW1tbYiOjsaaNWvkNZmZmSgsLISzs7PMy2Qy9djma9euRUZGBvsECZCAjghQYnTUWAyVBGxEwG4SExUVhddeew3Tp09HUlISnnnmGcydO1ep9qeffoq3334bmzZtwrp16/Dtt98iLS0NiYmJUn4iIiKQnJyMlJQUeHt7Y+XKlcjNzUVtbS3S09NRVFREibFRJ2IxJGALApQYW1BmGSSgLwJ2k5ijR4/i/vvvl7RWrFgBf39/PPfccwq9n/zkJ3j00UfxxBNP3EQ0NDQUVVVV8m85OTmorKyEu7s7fH19pdCIIzw8HLt27YKrq+ttW4MjMfrqpIzWmAS27KzFybOXlcoPcAI2ldbKtJOTE2ZOHoOiPYdl2sfLDYH+g7Gn5qRMB40cIj8PHT8vPyNC/HH45AWcu9gs03ERgdhaXg8x4iuO2VHjlLxFet708fhoe7VS9vxYEzZ8cUBJJ8WEIqfY8jskjsToEGzcUaOkn5g2Fnk7D8q0i/M9EGtiOJ1kzH7MWqtLwG4Sc6NaJ06cwIwZM7Bz5074+PgotV2wYAEiIyOljIwZMwYvvPCClJX4+Hg5xSSO4uJirF+/Xk4zxcbGYtasWZYfqLg4ZGdny2mo2x2UGHU7FXMnAWsQEBLz9pa9SlZdRYMSYw3CzIME9E/ArhJz/PhxzJs3T65rEdNKXQ8xbTRx4kS89NJLyMvLw5YtW/CnP/2JEqP/PscakMBdEaDE3BUmnkQChiZgN4lpaWmRIzAvvvgi5syZc0sj/PCHP5RrXmJiYuR6GLGId+/evbib6SSz2SxHa8R0UklJCUpLS2/JX6zD4UECJKBdAl/+4xt8vPOoEmDMRF8U7/9GpsVIzNRxQ1FWc1qmvd0HYaSPG6qONcn0qKH3ys+GM1fkZ+hobxw/14ymy60yHRkyDF/VnlGmk7rmLb6fafbD1opTStmPmv1RWGGZqhJHnNkfRV3SM8J8sa3SEps4oicOx479jfLfgwYOwIMBQ1Bed1am7/N0wbL/K0y74BkZCeiIgJgSDgoK6jFip44bk8ZWrtTixYsxdepUORJz4xA7jsrLy+U00t/+9jccOHBArpcRi3z//ve/ywW+YvGv2Fk0ZcoUiCknsdjXw8MDy5Ytw+bNm1FdXY1FixahoKCgx4g5nWTlxmR2JKACAY7EqACVWZKAgxGw20iM2E7ddQpJTB/Nnz8fYtdSTU0N2tvb5RZrITLCo8ROpVGjRqG+vl4u4G1tbZVrX5YvXy6bROxOEtNObm5ucj1McHAwJcbBOiurYywClBhjtTdrSwJ9IWA3iekpWLF9etWqVX2py11fw5GYu0bFE0nAbgQoMXZDz4JJQDcENCUxYvQlPz8fCQnqPs2SEqOb/slADUyAEmPgxmfVSeAuCWhKYu4y5n6fRonpN0JmQAKqE6DEqI6YBZCA7glQYnTfhKwACTgmAUqMY7Yra0UC1iRAibEmTeZFAiRgNQKUGKuhZEYk4LAEKDEO27SsGAnomwAlRt/tx+hJwBYEKDG2oMwySIAEek2AEtNrZLyABAxHgBJjuCZnhUlAHwQoMfpoJ0ZJAvYkQImxJ32WTQIk0CMBSgw7BwmQwJ0IUGLuRIjfkwAJ2IUAJcYu2FkoCeiKACVGV83FYEnAOAQoMcZpa9aUBPpKgBLTV3K8jgRIQFUCjiwxw4e440yT5Q3b3u4u+NXzj6jKkpmTgKMSoMQ4asuyXiSgMwLlNSdvinh/fSM+2l6t/G121DhsKq2VaScnJ8ycPAZFew7LtI+XGwL9B2PPv/IIGjlE/v3Q8fPyMyLEH4dPXsC5i80yHRcRiK3l9fLlsuLomrdIz5s+/qay58easOGLA0osSTGhyCmuUtKJ0SHYuKNGST8xbSzydh6UaRfnexA5YRS2VxyRaT8fDwiJqTz0jUybHhhKidFZX2W42iFAidFOWzASEjA0gZLKo1j7t10Kg+4iQYkxdPdg5UngtgQoMewYJEACmiBAidFEMzAIEtAVAUqMrpqLwZKA4xKgxDhu27JmJKAWAUqMWmSZLwmQQK8IUGJ6hYsnkwAJAKDEsBuQAAlogoCRJeZycyuONl6U7TBt4ij84pkoTbQJgyABrROgxGi9hRgfCRiEACWGEmOQrs5qWpEAJcaKMJkVCZBA3wlQYigxfe89vNKoBCgxRm151psENEaAEkOJ0ViXZDg6IGA3iSkrK8PSpUvR1NSEsLAwZGVlYdCgQbcgq6ysREREBM6dOwcPDw/U1dUhNTUVbW1tiI6Oxpo1a+Q1mZmZKCwshLOzs8zLZDL1iH/t2rXIyMjQQfMwRBIwDgFKDCXGOL2dNbUWAbtJTFRUFF577TVMnz4dSUlJeOaZZzB37txb6pWQkID6+nrs3r1bSkxiYqKUHyE2ycnJSElJgbe3N1auXInc3FzU1tYiPT0dRUVFlBhr9RLmQwI2IECJocTYoJuxCAcjYDeJOXr0KO6//36Jc8WKFfD398dzzz13E95169ahubkZ69evx2effSYlJjQ0FFVVlsd95+TkQIzUuLu7w9fXVwqNOMLDw7Fr1y64urretrk4EuNgvZjVcQgClBhKjEN0ZFbCpgTsJjE3annixAnMmDEDO3fuhI+Pj1L5S5cu4dlnn8XGjRvx8MMPS4kRU0jx8fEQU1HiKC4uloLj5eWF2NhYzJo1S/49Li4O2dnZCAgIoMTYtDuxMBLoOwFKDCWm772HVxqVgF0l5vjx45g3b55c1yKmlboeS5YswcKFCzF+/Ph+SUxJSQlKS0tvaV8xhcWDBEhAOwT2HjqL97dZXugojpmT/LD161NKOmaiL4r3W16aKF4AOXXcUJTVnJZpb/dBGOnjhqpjTTI9aui98rPhjOVN0aGjvXH8XDOaLrfKdGTIMHxVe0Z5AWTXvGXZZj9sregs+1GzPworOl9QGWf2R1GX9IwwX2yrtMQmjuiJw7Fjf6P896CBA/BgwBCU152V6fs8XeDj6YKDJyzSMsbXA80t13DqwlWZnjRmCBbODFby4j9IgAR6JiBe4hoUFNTjCU4dN17zamWKLS0tcgTmxRdfxJw5c27K/fr163Iq6Nq1azf9XYzEiEXAd5pOMpvNcrSG00lWbjRmRwIqEuBIDEdiVOxezNpBCdhtJGbx4sWYOnWqHIm5cQhJKS8vR2Rk5E24b0wniTUxYvGv2Fk0ZcoULFiwAGlpaXKtzLJly7B582ZUV1dj0aJFKCgo6LHJuCbGQXszq6VrApQYSoyuOzCDtwsBu0mM2E7ddQpJ7DqaP38+xK6lmpqaHiVG7FQSC3hbW1vl2pfly5fLc8XupLy8PLi5ucn1MMHBPQ/HUmLs0tdYKAl8JwFKDCWGtwgJ9JaA3SSmp0DF9ulVq1b1th69Op8S0ytcPJkEbEKAEkOJsUlHYyEORUBTEtPe3o78/HyIZ8OoeVBi1KTLvEng7gjsrz+Nt3L/j3Jy9MRR+LD4gJKeN308PtperaRnR43DptJamRYLe2dOHoOiPZaFwD5ebgj0H4w9NZbFt0Ejh8jPQ8fPy8+IEH8cPnkB5y42y3RcRCC2ltcrC3u75i2+7172/FgTNny6z8YFAAAgAElEQVTRGVtSTChyii2PehBHYnQINu7oHEF+YtpY5O08KL9zcb4HkRNGYXvFEZn28/HA8CHuqDxkWQhsemAo+ALIu+szPIsEuhPQlMTYqnkoMbYizXJIoGcCQmJ+8fY25YSnYkyUGL7FmrcMCfSKACWmV7h4MgmQgLUIUGI4EmOtvsR8jEuAEmPctmfNScCuBCgxlBi7dkAW7hAEKDEO0YysBAnojwAlhhKjv17LiLVGgBKjtRZhPCRgEAKUGEqMQbo6q6kiAUqMinCZNQmQQM8EKDGUGN4fJNBfApSY/hLk9SRAAn0iQImhxPSp4/AiEuhCgBLD7kACJGAXApQYSoxdOh4LdSgClBiHak5WhgT0Q4ASQ4nRT29lpFolQInRasswLhJwcAKUGEqMg3dxVs8GBCgxNoDMIkiABG4lQImhxPC+IIH+EqDE9JcgrycBEugTAUoMJaZPHYcXkUAXApQYdgcSIAGbEDh+5hL+t9bygkZxnL/UctNLFPnuJL7F2iYdkYU4FAFKjEM1JytDAtolICTm+d98pgTY/U3QlBhKjHZ7LyPTKgFKjFZbhnGRgIMRoMQckS3q5+OB4UPcUXmI00kO1sVZHTsQoMTYATqLJAEjEqDEUGKM2O9ZZ3UJUGLU5cvcSYAE/kWAEnP3EvPPU01KvwkP9sXzsyezH5EACdyGACWG3YIESMAmBCgxdy8x+w434tKVVtkuCZHBlBib9FAWokcCdpOYsrIyLF26FE1NTQgLC0NWVhYGDRqkMGxsbMQLL7yAI0eOYPjw4XjzzTcRFBSEuro6pKamoq2tDdHR0VizZo28JjMzE4WFhXB2dpZ5mUymHttj7dq1yMjI0GN7MWYS0C0BSgwlRredl4FrloDdJCYqKgqvvfYapk+fjqSkJDzzzDOYO3euAurnP/85XFxcsHz5cvz6179GQ0MDfv/73yMxMVHKT0REBJKTk5GSkgJvb2+sXLkSubm5qK2tRXp6OoqKiigxmu12DMyIBCgxlBgj9nvWWV0CdpOYo0eP4v7775e1W7FiBfz9/fHcc88ptRUjNAMGDICnpye++OILvPvuu1i3bh1CQ0NRVVUlz8vJyUFlZSXc3d3h6+srhUYc4eHh2LVrF1xdXW9LjyMx6nYq5k4CtyNAiaHE8M4gAWsTsJvE3KjIiRMnMGPGDOzcuRM+Pj631E9MG8XHx+Pll1+WciL+LaaixFFcXIz169fDy8sLsbGxmDVrlvx7XFwcsrOzERAQQImxdo9hfiTQRwKUGEpMH7sOLyOBHgnYVWKOHz+OefPmyXUtYlqp+9Ha2ipHV4S8vPTSSzh//jwlhp2ZBHRKgBJDidFp12XYGiZgN4lpaWmRIzAvvvgi5syZc1tEP/3pT+Hk5ITf/va3yvd3M51kNpvlaI2YTiopKUFpaekt+Yt1ODxIgARsR6Cx6SpWbdinFBhnHoGiihNK+lGzPworOl9LMHOSH7Z+fUr5PmaiL4r3Wx4QJ34Xpo4birKa0zLt7T4II33cUHXMsjV51NB75WfDmSvyM3S0N46fa0bTZcuOn8iQYfiq9gw6OjpkumveIj3T7IetFZ1ld48tzuyPoi6xzgjzxbZKS2ziiJ44HDv2N8p/Dxo4AA8GDEF53VmZvs/TBT6eLjh4wvKE3jG+HmhuuYZTF67K9KQxQ1B38hIuX71mySt0OOZFPaDkzX+QAAl0EhD3sNj009Ph1HHjLrcytcWLF2Pq1KlyJObGIaaOysvLERkZiby8PLnbSOxK6nqIxb9iZ9GUKVOwYMECpKWlwcPDA8uWLcPmzZtRXV2NRYsWoaCgoMeIuSbGyo3J7EjgLghwJIYjMXfRTXgKCfSKgN1GYsR26q5TSGLX0fz58yF2LdXU1ODxxx/H6dOnMXjwYFkhYVpi63R9fb2cYhJTTWLti9i9JA6xO0mIj5ubm1wPExwcTInpVVfgySSgLgFKDCVG3R7G3I1IwG4S0xNssX161apVqrYFR2JUxcvMSeC2BCgxlBjeGiRgbQKakpj29nbk5+cjISHB2vW8KT9KjKp4mTkJUGKmjUXezoOSg4vzPYicMArbKygxvDVIwNoENCUx1q5cT/lRYmxFmuWQQCcBjsRQYng/kIC1CVBirE2U+ZEACUgCV1ra8Hl5vULjwuUWbNhmeVClOJJiQpFT3Jl+KsaED4sPKN/Pmz4eH22vVtKzo8ZhU2mtTIvdSTMnj0HRnsMy7ePlhkD/wdhTY9ndFDRyiPw8dPy8/IwI8cfhkxdw7mKzTMdFBGJreb2yO6lr3uL77mXPjzVhwxedsXWPPTE6BBt31CixPsGRGN4FJGATApQYm2BmISRgPAJCYp7KzFUq3v0/9JQYy5Zs0wNDcbm5FUcbLVuup00cBb4A0nj3C2vcNwKUmL5x41UkQAJ3IECJ4ZoY3iQkoDYBSozahJk/CRiUACWGEmPQrs9q25AAJcaGsFkUCRiJACXGOhITPzUIjRcsTx4WR8jo+/D0IxOM1JVYVxLokQAlhp2DBEhAFQKUGOtJTP5Xh5Q2WjBzIiVGlR7LTPVIgBKjx1ZjzCSgAwKUGEqMDropQ9Q5AUqMzhuQ4ZOAVglQYigxWu2bjMtxCFBiHKctWRMS0BQBSgwlRlMdksE4JAFKjEM2KytFAvYnQImhxNi/FzICRydAiXH0Fmb9SMBOBCgxlBg7dT0WayAClBgDNTarSgK2JECJocTYsr+xLGMSoMQYs91ZaxJQnQAlhhKjeidjAYYnQIkxfBcgABJQhwAlhhKjTs9iriTQSYASw95AAiSgCgFKDCVGlY7FTEmgCwFKDLsDCZCAKgQoMZQYVToWMyUBSsxaZGRksCOQAAmoSIASQ4lRsXsxaxKQBDgSw45AAiSgCgFKDCVGlY7FTElACyMxZWVlWLp0KZqamhAWFoasrCwMGjRICe3KlStISUnByZMnMWzYMLz//vvw9PREXV0dUlNT0dbWhujoaKxZs0Zek5mZicLCQjg7O8u8TCZTjw29di1HYngXkIDaBCgxlBi1+xjzJwG7jcRERUXhtddew/Tp05GUlIRnnnkGc+fOVVrkd7/7HTo6OvCzn/0M77zzDhoaGvDqq68iMTFRyk9ERASSk5Ol6Hh7e2PlypXIzc1FbW0t0tPTUVRURIlh/yYBOxKgxFBi7Nj9WLRBCNhNYo4ePYr7779fYl6xYgX8/f3x3HPPKdgTEhLw1ltvITAwEI2NjZg/fz6Ki4sRGhqKqqoqeV5OTg4qKyvh7u4OX19fKTTiCA8Px65du+Dq6nrbZuRIjEF6N6tpVwKUGHUkZvZDIWg4fVFp28jQkXhsSpBd25qFk4C9CNhNYm5U+MSJE5gxYwZ27twJHx8fhcP3vvc9fP755/Dy8kJ7eztCQkKwe/duxMfHQ0xFiUNIzfr16+U5sbGxmDVrlvx7XFwcsrOzERAQQImxV89iuYYnQIlRT2I2ldQo/etHiRGUGMPfbcYFYFeJOX78OObNmyfXtYhppa5Hd4kRa1yEvPRWYkpKSlBaWnpLC4spLB4kQALqEbjadh0Z7/+vUsCMMD9sqzylpOPMI1BUcUJJP2r2R2HFSSU9c5Iftn7deX7MRF8U7/9Gfu/k5ISp44airOa0THu7D8JIHzdUHWuS6VFD75WfDWeuyM/Q0d44fq4ZTZdbZToyZBi+qj0jp6zF0TVvkZ5p9sPWis6yu8cWZ/ZHUZdYZ4T5YlulJTZxRE8cjh37G+W/Bw0cgAcDhqC87qxM3+fpAh9PFxw8YRlNGePrgeaWazh14apMTxozBHUnL+Hy1Wsy/ZBpOEoOWPKSsT7oh+J9nbE9FR2AaeOHKd/zHyRgJALiHg4K6nkk0qnjxl1uZSotLS1yBObFF1/EnDlzbsm9P9NJZrNZCg+nk6zcaMyOBHpBgCMxHInpRXfhqSTQJwJ2G4lZvHgxpk6dKkdibhxix1F5eTkiIyPxxhtvoLW1FeK8P//5zzh79ixefvllufhXPONlypQpWLBgAdLS0uDh4YFly5Zh8+bNqK6uxqJFi1BQUNAjEK6J6VNf4UUk0CsClBhKTK86DE8mgT4QsJvEiO3UXaeQxK4jsXhX7FqqqalBc3OzXKgr1sz4+fnhvffekwt46+vr5d+F4Ii1L8uXL5fVFruT8vLy4ObmJtfDBAcHU2L60CF4CQlYiwAlhhJjrb7EfEigJwJ2k5ieAhLbp1etWqVqi3EkRlW8zJwEJAFKDCWGtwIJqE1AUxIjdiHl5+dDrIdR86DEqEmXeZOAhQAlhhLDe4EE1CagKYlRu7I38qfE2Io0yzEyAUoMJcbI/Z91tw0BSoxtOLMUEjAcAUoMJcZwnZ4VtjkBSozNkbNAEjAGAUoMJcYYPZ21tCcBSow96bNsEnBgApQYSowDd29WTSMEKDEaaQiGQQKOQODEmUtKNZpbr2HRW4VKOjE6BBt3dD4uPykmFDnFlvegieOpGBM+LD6gpOdNH4+Ptlcr6dlR47CptFamxRN7Z04eg6I9h2Xax8sNgf6DsafG8sTfoJFD5Oeh4+flZ0SIPw6fvIBzF5tlOi4iEFvL65Un9nbNW3zfvez5sSZs+KIztu6xd6/bE9PGIm8nJcYR+jTroG0ClBhttw+jIwFdEZi37CO0tF2XMSdMG4tP//UfcpGmxByRXPx8PDB8iDsqD1leU2B6YCguN7fiaKPlNQTTJo7CvsONuHTF8oqE+KlByP/qUKfMPRQCvjtJV7cFg1WRACVGRbjMmgSMRoASY2lxjsQYreezvvYiQImxF3mWSwIOSIASQ4lxwG7NKmmYACVGw43D0EhAbwQoMZQYvfVZxqtvApQYfbcfoycBTRGgxFBiNNUhGYzDE6DEOHwTs4IkYDsClBhKjO16G0siAYASw15AAiRgNQKUGEqM1ToTMyKBuyBAibkLSDyFBEjg7ghQYmwvMeKZNi1t7UoDTQoejqmmkXfXYDyLBHROgBKj8wZk+CSgJQKUGPtITNeHAr7y7EOUGC3dFIxFVQJWkZji4mI8/PDDGDBggAy2tbUVFRUVmDJliqrB9zVzvsW6r+R4HQl8NwFKDCWG9wgJ2JKAVSRGPAK8ubkZrq6uMvaysjI89thjuHDhgi3rctdlUWLuGhVPJIFeEaDEUGJ61WF4Mgn0k0C/JCYrKws/+tGP0N7eOR97Ix6TyYSqqs73ovQzTqteTomxKk5mRgIKAUoMJYa3AwnYkkC/JEYEeurUKfj7+2PZsmUYOHCgjN3NzQ1PP/00Ro7U5uIySowtuxjLMhIBSgwlxkj9nXW1P4F+S0xfq3D9+nUsXboUH3zwAY4dO3ZLNrW1tXjllVdw/vx5eHt7Y8WKFQgNDUVdXR1SU1PR1taG6OhorFmzRl6bmZmJwsJCODs7Q4wQiZGgng5KTF9bjdeRwHcToMRQYniPkIAtCVhFYv7+97/jjTfewO7du2+aWuro6PhOkfDy8sLrr78uH1bT/UhPT8cjjzyCxMRErF+/Htu2bcO7774r00J+IiIikJycjJSUFCk5K1euRG5uLoT8iGuLioooMbbsSSyLBABQYigxvBFIwJYErCIxYjrp/vvvl9IhppJuHL/85S97rItYCCzODQwMvK3ErF69Wn6/aNEivP3222hoaFBGY26stcnJyUFlZSXc3d3h6+srhUYc4eHh2LVrl7LQuHsQHImxZRdjWUYiQImhxBipv7Ou9idgFYkJCAjA9u3b8cADD/S6Rj1JjFhrM2nSJLlN+8CBA9i5c6ecKoqPj5e7n8QhtnaLURoxohMbG4tZs2bJv8fFxSE7OxsirtsdlJheNxMvIIG7IkCJocTcVUfhSSRgJQJWkZiMjAy5nVos5u16xMTE3DHMniRm8eLFcl3LwoULsWHDBnz++edy/Qsl5o5IeQIJ2IxAec3Jm8pa/UEpWtquy78lTBuLT3ceVL5PjA7Bxh01SjopJhQ5xZ07GJ+KMeHD4gPK9+JJtF0f4jY7ahw2ldbK78VjHWZOHoOiPZapaB8vNwT6D8aef8UTNHKI/Puh4+flZ0SIPw6fvIBzF5tlOi4iEFvL63Fjyrtr3uL77mXPjzVhwxedsXWPvXvdnpg2Fnn/qruL8z2InDAK2yuOyLL9fDwwfIg7Kg99I9OmB4bicnMrjjZelOlpE0dh3+FGXLrSKtPxU4OQ/9Uhhcvsh0KwqaSTY/dY+bA7m3V/FqQBAlaRGPGDcrvju9bE3Di/J4mZPn06/vKXv2Ds2LFSkIQQiQfoicW9d5pOMpvNcrRGPLempKQEpaWlt4SXlJSkAfwMgQT0TWDF3ytx9lKLrMTk4Puw75/n0XrN8siF6InDsWN/o1LBGWF+2FZ5SknHmUegqOKEkn7U7I/Cik4pmjnJD1u/7jw/ZqIvivdb/sMvfnOmjhuKsprTMu3tPggjfdxQdaxJpkcNvVd+Npy5Ij9DR3vj+LlmNF22iEFkyDB8VXtGkZiueYvvZ5r9sLWis+zuscWZ/VHUJdYZYb7YVmmJrXvdBw0cgAcDhqC87qz87j5PF/h4uuDgCYu0jPH1QHPLNZy6cFWmJ40ZgrqTl3D56jWZfsg0HCUHOjnGPOiH4n2dsc00+2Nrl1hSHw3Ggw9YJI4HCTg6AeEZQUFBPVbTqeMuTERM69zu6O1IjNhxVF5ejsjISDz//POYMGECfvzjH2PLli1yNGbdunWYO3cuxMiPmGZasGAB0tLS4OHhIbd4b968GdXV1XIdTUFBQY+V4nSSo3dr1s9WBJ57/VOcOvetLG66+QGU/aOBIzEAOBJjqx7IcoxOwCojMX2RmCVLlmDv3r1ylCQqKgpPPvmknI4S/66pqZEyIp76O2zYMPm8mT/+8Y8YMWIE6uvr5QJe8WoDsfZl+fLlsg3F7qS8vDy5GFishwkODqbEGL13s/6qE6DEWBBzOkn1rsYCSOC2BKwiMf2ZTuoeldg+vWrVKlWbiyMxquJl5gYiQImhxBiou7OqGiRgFYnpOhIjtkK/+eabmDFjhvIgurutt3h9QX5+PhISEu72kj6dR4npEzZeRAK3EKDEUGJ4W5CAPQlYRWK6V0AsvJ09ezYOHuzcmWDPSnYvmxKjpdZgLHomQImhxOi5/zJ2/ROwisS89tprComrV6/Kx/8fOXIEjY2dK+q1hIoSo6XWYCx6JkCJocTouf8ydv0TsIrEdF0TM2DAAEydOlXuEJo/f74mCVFiNNksDEqHBCgxlBgddluG7EAErCIxeuNBidFbizFerRKgxGhPYl74/mRMCvK9qcuMGOqp1S7EuEigXwSsIjHijdR//etf5TSSOP7jP/5DPsNFjMpo8aDEaLFVGJMeCVBitCcx82eYsGFb59OFf/PCTIwbfZ8euxdjJoE7ErCKxGRmZsrntYwaNUo+12Xfvn149dVX8corr9wxAHucQImxB3WW6YgEKDGUGEfs16yTfghYRWLEg+XEu46ee+45Ofoinq4rBKa21vKeE60dlBittQjj0SsBSgwlRq99l3E7BgGrSIyPjw/+9re/yWkkcYit1f/+7/+OM2fOaJISJUaTzcKgdEiAEkOJ0WG3ZcgORMAqEiMeTiceePf9738fISEh+OSTTzB69Ghs2rRJk6goMZpsFgalQwKUGEqMDrstQ3YgAlaRmNOnT0O8LkA8bVccjz/+uHyXkVgfo8WDEqPFVmFMeiRAiaHE6LHfMmbHIWAViemK4+LFi7j33nsxcOBAzVKixGi2aRiYzghQYigxOuuyDNfBCPRLYsSbpP/zP/8Tc+bMwaxZsySa1atXy4W9JSUlcHd31yQuSowmm4VB6ZAAJYYSo8Nuy5AdiEC/JOYXv/gF/vu//xt5eXn4t3/7N4nlgw8+wPPPP48f/ehHvX4BpK24UmJsRZrlODoBSgwlxtH7OOunbQL9kpgxY8bgl7/8JRYuXHhTLcVozDvvvIO6ujpN1p4So8lmYVA6JECJocTosNsyZAci0C+JEVur33vvPfnG6q5Hbm6unGYSC361eFBitNgqjEmPBCgxlBg99lvG7DgE+iUxMTExGDduHN5+++2biKSkpODYsWPYunWrJklRYjTZLAxKBwQy3//ypiiPn76EU+e+lX+bbn4AZf9oQEvbdZlOmDYWn+48qJyfGB2CjTtqlHRSTChyiquU9FMxJnxY3Pm4/HnTx+Oj7dXK97OjxmFTqeUBmuKlszMnj0HRnsMy7ePlhkD/wdhTc1Kmg0YOkZ+Hjp+XnxEh/jh88gLOXWyW6biIQGwtr0dHR4dMd81bpLuXPT/WhA1fdMbWPfbudXti2ljk/avuLs73IHLCKGyvOCLL8vPxwPAh7qg89I1Mmx4YisvNrTjaeFGmp00chX2HG3HpSqtMx08NQv5Xhzo5PBSCTSWdHG+Jla8dUFjxH45PoF8SU1BQgMceewxPP/00TCaTpFVZWYmPPvoI27ZtQ2xsrCYJUmI02SwMSgcElmR9jgNHLA+xDAvyReP5y5QYAJQYHXRehuiQBPolMYKIGG35r//6L1RUVMDFxQVhYWEQC37FKI1WD0qMVluGcWmdACXG0kIcidF6T2V8RiHQb4nRIyhKjB5bjTFrgQAlhhKjhX7IGEjgBgG7Scz169flU37Flmyxfqb7IeaqlyxZgrKyMgQEBOAPf/gDvLy85I6n1NRUtLW1ITo6WtnGLd6kXVhYCGdnZ2RlZSnTW7drakoMbwAS6BsBSgwlpm89h1eRgDoE7CYxQiSElLz++usQQXQ/Pv30U7lgWLx/ad26dfj222+RlpaGxMREKT8RERFITk6GWETs7e0tX3MgdkWJN2enp6ejqKioR2KUGHU6E3N1fAKUGEqM4/dy1lBPBOwmMc3NzXBzc0NgYOBtJeYnP/kJHn30UTzxxBM38QwNDUVVlWVHQ05OjlxILJ4M7OvrK4VGHOHh4di1axdcXV1v2xaUGD11UcaqJQKUGEqMlvojYyEBu0nMDfQ9ScyCBQsQGRkpZUQ8VO+FF16QshIfHy+nmMQh3py9fv16OaIjdkLdePVBXFwcsrOz5TTU7Q5KDDs+CfSNACWGEtO3nsOrSEAdApqVGDFtNHHiRLz00kvytQZbtmzBn/70p15LjHiHU2lp6S30kpKS1CHKXEnAgQn8fvMB1H9jeS7M2BFeOHepBWcvtcj05OD7sO+f59F6rV2moycOx479jQqNGWF+2FZ5SknHmUegqOKEkn7U7I/CCstzXsQxc5Iftn7deX7MRF8U77c8W0U8J2bquKEoq7E8UNPbfRBG+rih6liTTI8aeq/8bDhzRX6GjvbG8XPNaLpsefZKZMgwfFV7RnlOTNe8ZdlmP2yt6Cy7e2xxZn8UdYl1RpgvtlVaYute90EDB+DBgCEorzsrv7vP0wU+ni44eMLyXJgxvh5obrmGUxeuyvSkMUNQd/ISLl+9JtMPmYaj5EAnx5gH/VC8rzO2mWZ/bO0SS1y4P4r2dnL82WwTHhjuocTGf5CAIxEQ62eDgoJ6rJJTx42nQalU655GYn74wx/KNS9iq7ZYDyMW8e7duxd3M51kNpvlaA2nk1RqNGZrWAIcibE0PbdYG/YWYMU1RkBTIzFix1F5ebmcRvrb3/6GAwcOYMWKFRCLfP/+97/LBb5z585FRkYGpkyZAjHlJBb7enh4YNmyZdi8eTOqq6uxaNEiiAfx9XRwOkljvZDh6IYAJYYSo5vOykANQcBuEiO2T4uRFTHVExUVhSeffFI++Vf8u6amBu3t7XKLtRAZMRgkdiqNGjUK9fX1cgFva2srxNqX5cuXy4YSu5PEtJNYLCzWwwQHB1NiDNGFWUlbEqDEUGJs2d9YFgnciYDdJKanwMT26VWrVt0p7n59z5GYfuHjxQYmQImhxBi4+7PqGiSgKYkRoy/5+flISEhQFRUlRlW8zNyBCVBiKDEO3L1ZNR0S0JTE2IofJcZWpFmOoxGgxOhPYn6xYBoC/AcrXdF54D0YNtiye4sHCeidACVG7y3I+EnAhgQoMfqTmHkxJnxUfEDpJe9mzKLE2PCeYVHqEqDEqMuXuZOAQxGgxFBiHKpDszK6J0CJ0X0TsgIkYDsClBhKjO16G0sigTsToMTcmRHPIAES+BcBSgwlhjcDCWiJACVGS63BWEhA4wQoMZQYjXdRhmcwApQYgzU4q0sC/SFAiaHE9Kf/8FoSsDYBSoy1iTI/EnBgApQYSowDd29WTYcEKDE6bDSGTAK2IrBlZ+1NRe2oPIYDR87Iv4UF+aLx/GWcOmd5q/V08wMo+0cDWtquy3TCtLH4dOdB5frE6BBs3FGjpLu/RPGpGBM+7LIVeN708fhoe7Vy/uyocdhUaolHvMV65uQxKNpzWKZ9vNwQ6D8Ye2osb28OGjlEfh46fl5+RoT44/DJCzh3sVmm4yICsbW8XnmLdde8xffdy54fa8KGLzq3KevpBZDcYm2ru4Xl2IMAJcYe1FkmCeiEwOoPSrFzf4OM9v7hXnB3G0SJ0dlbrCkxOrnZGGafCFBi+oSNF5GAMQhQYiztzJEYY/R31lJ/BCgx+mszRkwCNiNAiaHE2KyzsSAS6AMBSkwfoPESEjAKAUoMJcYofZ311CcBSow+241Rk4BNCFBiKDE26WgshAT6SIAS00dwvIwEjECAEkOJMUI/Zx31S4ASo9+2Y+QkoDoBSgwlRvVOxgJIoB8EKDH9gMdLScDRCVBiKDGO3sdZP30ToMTou/0YPQmoSoASQ4lRtYMxcxLoJwFKTD8B8nIScGQClBhKjCP3b9ZN/wTsJjHXr1/H0qVL8cEHH+DYsWM9kqysrERERATOnTsHDw8P1NXVITU1FW1tbYiOjsaaNWvktZmZmSgsLISzszOysrJgMpl6zHPt2rXIyMjQf+uxBiSgMgFKDCVG5S7G7EmgXwTsJjFCJLy8vPD6669DBNHTkZCQgPr6euzevVtKTBJ0KDIAACAASURBVGJiopQfITbJyclISUmBt7c3Vq5cidzcXNTW1iI9PR1FRUWUmH51DV5MAgAlhhLD+4AEtEzAbhLT3NwMNzc3BAYG9igx69atgzhv/fr1+Oyzz6TEhIaGoqqqSjLNycmBGKlxd3eHr6+vFBpxhIeHY9euXXB1db0te47EaLlLMjYtEaDEUGK01B8ZCwl0J2A3ibkRSE8Sc+nSJTz77LPYuHEjHn74YSkxYgopPj4eZWVl8vLi4mIpOGJEJzY2FrNmzZJ/j4uLQ3Z2NgICAigx7PMk0AsCJ85cuuns/y6o5Asg+e6kXvQgnkoCtiWgWYlZsmQJFi5ciPHjx/dLYkpKSlBaWnoL1aSkJNuSZmkkoAMCH5UewY6qRhmpu+tABPt74uv68zLtN9gVbi4DUf/NtzI9doQXzl1qwdlLLTI9Ofg+7PvnebRea5fp6InDsWO/JS9xzAjzw7bKU0o6zjwCRRUnlPSjZn8UVpxU0jMn+WHr153nx0z0RfH+b+T3Tk5OmDpuKMpqTsu0t/sgjPRxQ9WxJpkeNfRe+dlw5or8DB3tjePnmtF0uVWmI0OG4avaM+jo6JDprnmL9EyzH7ZWdJbdPbY4sz+KusQ6I8wX2yotsXWv+6CBA/BgwBCU152V393n6QIfTxccPHFRpsf4eqC55RpOXbgq05PGDEHdyUu4fPWaTD9kGo6SA50cYx70Q/G+zthmmv2xtUssceH+KNrbM8fMpydhiMcgJVb+gwT0TEDcw0FBQT1Wwanjxl2uUi1vNxIjFv2KqaBr1yw38Y1DjMSEhYXdcTrJbDbL0RpOJ6nUaMzWYQlkbSrHp2V1sn6e9w7Cg4HDORLDkRiH7e+smP4JaGokRkhKeXk5IiMjbyJ7YzpJrImZO3eu3Fk0ZcoULFiwAGlpaXKtzLJly7B582ZUV1dj0aJFKCgo6LF1uCZG/x2XNVCHACXGwnXe9PH4aHu1Anl+rAkbvjigpJNiQpFTbFmbJ47E6BBs3FGjpJ+YNhZ5Ow/KtIvzPYicMArbK47ItJ+PB4YPcUflIcvIjemBobjc3IqjjZaRmWkTR2Hf4UZcumIZNYqfGoT8rw4pec9+KASbSjrLuiXWGSZs2NYZ67wYEz4q7kyvfi4WPl5uSn4iloH3DFCnQzFXElCZgN0kRkwX7d27V071REVF4cknn8TTTz8t/11T03mDivp3lRixU0ks4G1tbZVrX5YvXy4Rid1JeXl5crGwWA8THBzcIzpKjMq9itnrlgAlxtJ0jiwx3SVo48okSoxu71gGbjeJ6Qm92D69atUqVVuGEqMqXmauYwKUGEqMjrsvQzcgAU1JTHt7O/Lz8yGeDaPmQYlRky7z1jMBSgwlRs/9l7Ebj4CmJMZW+CkxtiLNcvRGgBJDidFbn2W8xiZAiTF2+7P2JHATAUoMJYa3BAnoiQAlRk+txVhJQGUClBhKjMpdjNmTgFUJUGKsipOZkYC+CVBiKDH67sGM3mgEKDFGa3HWlwS+gwAlhhLDG4QE9ESAEqOn1mKsJKAyAUoMJUblLsbsScCqBCgxVsXJzEhA3wQoMcaTmD8uegz3dHli74ihnvruxIzeUAQoMYZqblaWBL6bACXGeBLT9bUG4n1Zf/1lIm8TEtANAUqMbpqKgZKA+gQoMZQYSoz69xlLsB4BSoz1WDInEtA9AUoMJYYSo/vb2FAVoMQYqrlZWRLgdJIgEBcRiK3l9ejo6JBAZkeNw6bSWgWOkV4Ayekk/iromQAlRs+tx9hJwMoEOBLDkRiOxFj5pmJ2qhKgxKiKl5mTgL4IUGIoMZQYfd2zRo+WEmP0HsD6k0AXApQYSgwlhj8JeiJAidFTazFWErAygS07O9eBiKyPNV5E/leHZCliu+2DgcOxc3+DTN8/3AvuboNw4MgZmQ4L8kXj+cs4de5bmZ5ufgBl/2hAS9t1mU6YNhaf7jyoRJwYHYKNO2qUdFJMKHKKq5T0UzEmfFh8QEl3X5fSdd2Kk5MTZk4eg6I9h+X5Pl5uCPQfjD01J2U6aOQQ+Xno+Hn5GRHij8MnL+DcxWaZ5pqYznbgmhgr31TMzqYEKDE2xc3CSEBbBP72+T/w1637laC6/weNEmNBMz/WhA1fdApWdwHrLmhPTBuLvH8JnIvzPYicMArbK47IvPx8PDB8iDsqD30j06YHhuJycyuONl6U6WkTR2Hf4UZcutIq013bRKRnPxSCTSWdEnLLIuQZJmzY1kUGY0z4qIscdr+eEqOte5LR9I4AJaZ3vHg2CTgUAUoMdydRYhzqljZcZSgxhmtyVpgEOglQYigxlBj+IuiZgN0k5vr161i6dCk++OADHDt27BaGjY2NeOGFF3DkyBEMHz4cb775JoKCglBXV4fU1FS0tbUhOjoaa9askddmZmaisLAQzs7OyMrKgslk6rFd1q5di4yMDD23G2MnAasQoMRQYigxVrmVmImdCNhNYoRIeHl54fXXX4cIovvx85//HC4uLli+fDl+/etfo6GhAb///e+RmJgo5SciIgLJyclISUmBt7c3Vq5cidzcXNTW1iI9PR1FRUWUGDt1KharHwKUGEoMJUY/9ysjvZWA3SSmubkZbm5uCAwMvK3ENDU1YcCAAfD09MQXX3yBd999F+vWrUNoaCiqqiw7GnJyclBZWQl3d3f4+vpKoRFHeHg4du3aBVdX19u2OUdieCuQgIUAJYYSQ4nhr4GeCdhNYm5A60libnwvpo3i4+Px8ssvSzkR/y4rK5NfFxcXY/369XJEJzY2FrNmzZJ/j4uLQ3Z2NgICAigxeu6djF11ApQYSgwlRvXbjAWoSEDTEtPa2ipHV4S8vPTSSzh//jwlRsXOwKyNR4ASQ4mhxBjvvnekGmtaYn76059CPNTqt7/9rcL8bqaTzGazHK0R00klJSUoLS29pc2SkpIcqR1ZFxLoE4H/+d8TyC8/rlz7kGkYSg6clml314EI9vfE1/WWB8b5DXaFm8tA1H9jebjd2BFeOHepBWcvtcj05OD7sO+f59F6rV2moycOx479jUreM8L8sK3ylJKOM49AUcUJJf2o2R+FFZaH1Ylj5iQ/bP268/yYib4o3m95tor4XZg6bijKaiyxersPwkgfN1Qda5LpUUPvlZ8NZ67Iz9DR3jh+rhlNly3PXokMGYavas8oL4Dsmrcs2+yHrRWdZXePLc7sj6Iusc4I88W2Skts3es+aOAAPBgwBOV1Z+V393m6wMfTBQdPWJ4LM8bXA80t13DqwlWZnjRmCOpOXsLlq9dk+iHTcJQc6OQY86Afivd1xjbT7I+tXWKJC/dH0d7v4Njt+u5t/l/J4Uo9+A8S0DoB8RJXsemnp8Op48ZrXlWqSdfpJDF1VF5ejsjISOTl5cndRmJXUtdj7ty5cmfRlClTsGDBAqSlpcHDwwPLli3D5s2bUV1djUWLFqGgoKDHiLkmRqXGZLa6I8CRGI7EcCRGd7ctA+5CwG4jMUuWLMHevXvlKElUVBSefPJJPP300/LfNTU1ePzxx3H69GkMHjxYhitMS2ydrq+vl1NMYqpJrH0Ru5fEIXYnCfERi4XFepjg4GBKDLs6CdyBACWGEkOJ4c+EngnYTWJ6gia2T69atUpVphyJURUvM9cRAUoMJYYSo6MblqHeQkBTEtPe3o78/HwkJCSo2lSUGFXxMnMdEaDEUGIoMTq6YRmqtiXGVu1DibEVaZajdQKUGEoMJUbrdynj+y4CmhqJsVVTUWJsRZrlaI3AiTOXbgrps68O3fRGZL7F2oLnljdD8y3WWuvKjIcEJAFKDDsCCRiIwP/sPoQ/bNyj1Hj2QyGUGACzo8ZhU2mtwoUSY6CbglXVNQFKjK6bj8GTQO8IUGKaJbC4iEBsLa9XnhNDiTkkuXjeOwgvzo+8qVNNDvHvXSfj2SRgQwKUGBvCZlEkYG8ClBhKTG9H3/7w03h7d1uWTwI9EqDEsHOQgIEIUGIoMZQYA93wBqgqJcYAjcwqksANApQYSgwlhr8HjkSAEuNIrcm6kMAdCFBiKDGUGP5MOBIBSowjtSbrQgKUGEkgaOQQ+XnouOXllREh/jh88gLOXaTEUGL4M+FIBCgxjtSarAsJUGIoMTNM2LDtgNIT5sWY8FFxZ5oSw58JRyJAiXGk1mRdSIASQ4mhxPB3wEAEKDEGamxWlQS4JobTSRyJ4e+AIxGgxDhSa7IuJMCRGI7EcCSGvwMGIkCJMVBjs6okwJEYjsRwJIa/A45EgBLjSK3JupAAR2I4EsORGP4OGIgAJcZAjc2qkgBHYjgSw5EY/g44EgFKjCO1JutCAhyJ4UgMR2L4O2AgApQYAzU2q2o8AifOXLqp0l9WHsUHRfuVv/X2/8rd3QbhwJEz8vqwIF80nr+MU+e+lenp5gdQ9o8GtLRdl+mEaWPx6c6DSlmJ0SHYuKNGSSfFhCKnuEpJPxVjwoddnmcyb/p4fLS9ujPWqHHYVFor005OTpg5eQyK9hyWaR8vNwT6D8aempOUGEqM8W50A9eYEmPgxmfVHZ/AVweOY+X/V6JUtL8PPqPEWFB2F7DugvbEtLHI+5fAuTjfg8gJo7C94oi81s/HA8OHuKPy0DcybXpgKC43t+Jo40WZnjZxFPYdbsSlK60yHT81CPlfHeqUuYdCsKmkUwa7y958Sozj39isoULAbhJz/fp1LF26FB988AGOHTt2S5NcuXIFKSkpOHnyJIYNG4b3338fnp6eqKurQ2pqKtra2hAdHY01a9bIazMzM1FYWAhnZ2dkZWXBZDL12Mxr165FRkYGuwEJODwBSgxfO2BtcV2VGuPw9w0rqB8CdpMYIRJeXl54/fXXIYLofvzud79DR0cHfvazn+Gdd95BQ0MDXn31VSQmJkr5iYiIQHJyshQdb29vrFy5Erm5uaitrUV6ejqKioooMfrph4xUJQKUGEoMJUalm4vZaoKA3SSmubkZbm5uCAwMvK3EJCQk4K233pLfNzY2Yv78+SguLkZoaCiqqizz6Dk5OaisrIS7uzt8fX2l0IgjPDwcu3btgqur620hcyRGE32PQdiAACWGEkOJscGNxiLsRsBuEnOjxj1JzPe+9z18/vnncrSmvb0dISEh2L17N+Lj41FWViYvF1Kzfv16eU5sbCxmzZol/x4XF4fs7GwEBARQYuzWtViwFghQYigxlBgt3ImMQS0CupEYscZFyEtvJaakpASlpaW38EtKSlKLKfMlAc0Q2HfkPP5SWKfEM3OSH7Z+fUpJxzzoh+J9nemHTMNQcuC0/N7ddSCC/T3xdb1FBPwGu8LNZSDqv7HsRho7wgvnLrXg7KUWmZ4cfB/2/fM8Wq+1y3T0xOHYsb9RKWtGmB+2VXaWFWcegaKKE8r3j5r9UVhh2V0kjltineiL4v2WxbBid9LUcUNRVmOJ1dt9EEb6uKHqWJNMjxp6r/xsOHNFfoaO9sbxc81oumxZLBsZMgxf1Z6RU9biiOmStyzb7IetFZ2xdo8tzuyPoi6xzgjzxbZKS2zd6z5o4AA8GDAE5XVn5Xf3ebrAx9MFB09YFvKO8fVAc8s1nLpwVaYnjRmCupOXcPnqNZl+yDQcJQc6OXZvs5lmf2ztEktcuD+K9n4Hx362eXpCiFJP/oME7E1A3MNBQUE9huHUceMuVylSNaaTzGazFB5OJ6nUaMxWNwQ4EsORGI7E6OZ2ZaB9IKCpkRix46i8vByRkZF444030NraisWLF+PPf/4zzp49i5dffhlz586VO4umTJmCBQsWIC0tDR4eHli2bBk2b96M6upqLFq0CAUFBT3i4JqYPvQUXqJLApQYSgwlRpe3LoO+SwJ2k5glS5Zg7969cqonKioKTz75JJ5++mn575qaGoiFv2Kh7okTJ+Dn54f33ntPLuCtr6+XfxeCI9a+LF++XFZV7E7Ky8uTi4XFepjg4GBKzF12Ap7muAQoMZQYSozj3t+sGeTGIDGj09Oh+nRS94LF9ulVq1ap2jYciVEVLzPXEAFKDCWGEqOhG5KhWJ2ApiRG7ELKz8+H2F6t5kGJUZMu89YSAUoMJYYSo6U7krFYm4CmJMbalespP0qMrUizHHsToMRQYigx9r4LWb6aBCgxatJl3iRgYwK1x86i5phlK684Lly+ig3bDihpa/8HjS+AtKB15HcndX9fFl87YOObmsV9JwFKDDsICTgQASExL/5xq1Ija78MkC+AtKA10gsgKTEO9APhgFWhxDhgo7JKxiVAibE85C1o5BD5eeg4p5OsPfrGkRjj/r5oseaUGC22CmMigT4SoMRQYtQefaPE9PHm5GWqEKDEqIKVmZKAfQhQYigxlBj73Hss1T4EKDH24c5SSUAVApQYSgwlRpVbi5lqlAAlRqMNw7BIoC8EKDGUGEpMX+4cXqNXApQYvbYc4yaB2xCgxFBiKDH8aTASAUqMkVqbdXV4ApQYSgwlxuFvc1awCwFKDLsDCTgQAUoMJYYS40A3NKtyRwKUmDsi4gkkoB8ClBhKjNoS0/0pzS89FamfG4SROhwBSozDNSkrZGQClBhKDCXGyL8Axqs7JcZ4bc4aOzABSgwlhhLjwDc4q3YLAUoMOwUJOBABSgwlhhLjQDc0q3JHApSYOyLiCSSgHwKUGEoMJUY/9ysj7T8BSkz/GTIHEtAMAUoMJYYSo5nbkYHYgAAlxgaQWQQJ2IoAJYYSQ4mx1d3GcrRAQLMSU1tbi1deeQXnz5+Ht7c3VqxYgdDQUNTV1SE1NRVtbW2Ijo7GmjVrJMfMzEwUFhbC2dkZWVlZMJlMPfJdu3YtMjIytMCfMZCAVQlQYigxlBir3lLMTOMENCsx6enpeOSRR5CYmIj169dj27ZtePfdd2V66dKliIiIQHJyMlJSUqTkrFy5Erm5uRDyI64tKiqixGi88zE86xOgxFBiKDHWv6+Yo3YJaFZiVq9eDTc3NyxatAhvv/02GhoalNGYqqoqSTQnJweVlZVwd3eHr6+vFBpxhIeHY9euXXB1db0teY7EaLdDMrL+EaDEUGIoMf27h3i1vghoVmJOnTqFSZMmYcqUKThw4AB27twpp4ri4+NRVlYmKRcXF8tRGi8vL8TGxmLWrFny73FxccjOzkZAQAAlRl/9kdH2kwAlhhJDiennTcTLdUVAsxKzePFiua5l4cKF2LBhAz7//HO5/oUSo6v+xWBtTIASQ4mhxNj4pmNxdiWgWYmZPn06/vKXv2Ds2LG4cOECYmJiUFFRIRf33mk6yWw2y9EaMZ1UUlKC0tLSWyAnJSXZFTwLJwE1CBxp/Ba/3XRAyTou3B9Fey3/YRfHzEl+2Pr1KSUd86Afivd1ph8yDUPJgdPye3fXgQj298TX9edl2m+wK9xcBqL+m29leuwIL5y71IKzl1pkenLwfdj3z/NovdYu09ETh2PH/kalrBlhfthW2VlWnHkEiipOKN8/avZHYcV3xDrRF8X7v5HnOzk5Yeq4oSirscTq7T4II33cUHWsSaZHDb1XfjacuSI/Q0d74/i5ZjRdbpXpyJBh+Kr2DDo6OmQ6pkvekpPZD1srOmPtHluc2R9FXWKdEeaLbZWW2LrXfdDAAXgwYAjK687K7+7zdIGPpwsOnrgo02N8PdDccg2nLlyV6UljhqDu5CVcvnpNph8yDUfJgU6O3dtsptkfW7vEYus2fzY2UKk3/0ECtiYg7uGgoKAei3XquHGX2ziy559/HhMmTMCPf/xjbNmyRY7GrFu3DnPnzpU7i8Q004IFC5CWlgYPDw8sW7YMmzdvRnV1tVxHU1BQ0GPEXBNj48ZkcTYjwJEYjsRwJMZmtxsL0gABzY7ECBl57LHHMGzYMIwcORJ//OMfMWLECNTX18sFvK2trXLty/LlyyVGsTspLy9PLgYW62GCg4MpMRroYAzBtgQoMZQYSoxt7zmWZl8CmpUYNbFwJEZNuszbngQoMZQYSow970CWbWsClBhbE2d5JKAiAUoMJYYSo+INxqw1R4ASo7kmYUAk0HcClBhKjK0lxuteF6XD3nOPE374uLnvHZhXkkAvCVBiegmMp5OAlglQYigxtpaYsn80oKXturwtvh8dQonR8g+EA8ZGiXHARmWVjEuAEkOJocQY9/43Ys0pMUZsddbZYQlQYigxlBiHvb1ZsdsQoMSwW5CAAxGgxFBiKDEOdEOzKnckQIm5IyKeQAL6IUCJocRQYvRzvzLS/hOgxPSfIXMgAbsROH3hCo5+Y3nUvjiOn76I7E8rlLQ9/4OWMG0sPt15UIklMToEG3fUKOmkmFDkFFveSC+Op2JM+LC485UJ86aPx0fbq5XvZ0eNw6bSWpkWrx2YOXkMivYclmkfLzcE+g/GnhpKjD3bnAt77fZTYNiCKTGGbXpW3BEICIlZuHaLUpXu/+G353/QKDEWgXNxvgeRE0Zhe8URmfbz8cDwIe6oPGR515LpgaG43NyKo42WdylNmzgK+w434tIVy3ue4qcGIf+rQ50y91AINpV0yqCW2pwS4wi/KvqqAyVGX+3FaEngJgKUGI7EUGL4o2BkApQYI7c+6657ApQYSgwlRve3MSvQDwKUmH7A46UkYG8ClBhKDCXG3nchy7cnAUqMPemzbBLoJwFKDCWGEtPPm4iX65oAJUbXzcfgjU6AEkOJ0ZLEiMXce2tPKbfloxFjMHe6yei3KeuvIgFKjIpwmTUJqE2AEkOJ0ZrEdN1W/4PHwigxav8IGDx/SozBOwCrr28ClBhKDCVG3/cwo+8fAUpM//jxahKwKwFKDCWGEmPXW5CF25kAJcbODcDiSaA/BCgxlBhKTH/uIF6rdwKUGL23IOM3NAFKDCWGEmPonwDDV54SY/guQAB6InDtejsSX8lRQp6t4UfQ87UDxnvtQPc258JePf266DNWzUpMR0cHlixZgrKyMgQEBOAPf/gDvLy8UFdXh9TUVLS1tSE6Ohpr1qyR5DMzM1FYWAhnZ2dkZWXBZOp5W9/atWuRkZGhzxZj1IYmQInhCyD1JK6UGEP/XNmk8pqVmE8//RRvv/02Nm3ahHXr1uHbb79FWloaEhMTsXTpUkRERCA5ORkpKSnw9vbGypUrkZubi9raWqSnp6Po/2/vXMCqrNK+/0flJCieATUHAkXwBGnqeApMnLHxMA6Z5ZRlOc1oTtnh1XlzxtCsT7/pm9f8mrKcZiqdMWNGS+0gmGFCamkimihiaJqaBzwQiqjwXvfasvdmCwr79Bz2f12XFy54nrXu9VuH5//caz1rZWXVCZAixitti5l4gABFDEUMRYwHOhaTNCwB3YqYxx9/HMOHD8fIkSNrwE1ISMCePXvU7zIyMpCfn4+QkBCEh4crQSMhKSkJmzdvRlBQUK0VQxFj2Pbq84ZTxFDEUMT4/DBAAHYEdCtiJkyYgP79+ysxEh0djalTpyqxMmLECDXFJCE7OxvLli1T00wpKSkYNWqU+n1qaiqWLFmipqFqCxQx7ANGJUARQxFDEWPU3ku7PUFAtyJGpo26d++OZ555BmvXrsWaNWvw2muvNVjE5OTkIDc39zp248aN8wRPpkkCHiVwtbIKT725zZpHco8IZO+ybfM+LDES6/OOWf+emhSJrB22+LBeEVi/03a94/2D4tsip+Ckuj8kqAliI5thZ/EZFY9oEYTgwCYo/uFHFe/cvjlKSi/hdOklFe8d2xq7Dp5BxZVKFR/cvR027T5htWVozwhsyLflnZrYHll5R61/H54YiUw726+ztXs4snf/oK738/NDvy5tsGWfxdawkAB0aBWMPYfPqXjHNk3VzyOnLqifCbeE4fuSizhXVqHi/ePaYmvhKcjaOwnJdmlLfFhiBNbn2W2f72BbamIksuxsHdozHBvyLbY5lj2gSSP0iGqJ7UWn1d9aNwtEq2aB2H/0vIpHh4fi4qUrOH62XMV7RbdE0bFSlJVfUfFB8e2QU2DjaKQ6H923I+7sFWnlwv+QgLsJSB+OiYmpM1m/qupe7u6cb5LeI488ota8JCcnq/Uwsoh3x44dqM90UmJiovLWcDrJy5XG7DxOgJ4YemLoifF4N2MGBiKgW0/M8uXLUVBQgLlz50IW+b777rtqgW9aWpr6sqhv376QKSdZ7BsaGorZs2dj9erV2Lt3L6ZPn45169bVWQ2cTjJQC6Wp+O3/+8hKoVdMO3y89YA1bqQH2tjBcVi1aZ/V9nHJCcjItqxvkzA+OR4rsgusccf9T8YM7IIPcilijFTn/DqJA5inCehWxFRWVqpPrEXIiDNIvlTq2LEjiouL1QLeiooKtfZlzpw5ipF8nSTTTsHBwWo9TGxsLEWMp1sP0/cKgQnPr0LpBcs0yIh+MRQx16aThvWORtY2bnbHze680g2ZiU4J6FbEeJIXPTGepMu03U2AIsZClJ6YaxwMtsHh1gLbuqfxKQkYelvtH1y4u98wPd8gQBHjG/XMUhqYAEUMRYxZphCfHNePIsbAY5EeTaeI0WOt0CYSsCNAEUMRQxHDIYEEaidAEcOWQQI6J0ARQxFDEaPzTkrzNCNAEaMZemZMAvUjQBFDEUMRU7++wqt8jwBFjO/VOUtsMAIUMRQxFDEG67Q012sEKGK8hpoZkYBzBChiKGIoYpzrO7zL/AQoYsxfxyyhwQlQxFDEUMQYvBPTfI8RoIjxGFomTALuIUARQxFDEeOevsRUzEeAIsZ8dcoSmYwARQxFDEWMyTo1i+M2AhQxbkPJhEjAMwQoYihiKGI807eYqvEJUMQYvw5ZApMROHqqtEaJnnltPc9O4rED1jZhpAMgazv0s7ziirUst3eNRFLnCJP1YBbHmwQoYrxJm3mRQD0IPPY/H+O7E+fVlQO6d8Sub09QxFDEmEbE2J9cPvfhOyhi6jEm8JK6CVDEsHWQgM4IUMRYKsTxdGYeAHltWs1gB0Cu2rTP2sPGJSeAIkZnA47BzaGIMXgFmlQrNAAAHaBJREFU0nzzEaCIoYjxFe8bPTHmG7+8XSKKGG8TZ34kcBMCFDEUMb4iYsYnx+NCxVVrjxh+ezSiIlpwjCCBehOgiKk3Kl5IAt4hQBFDEeNLImZFdoG1Y/3/J35GEeOdYcY0uVDEmKYqWRCzEKCIoYihiDFLb2Y5PE2AIsbThJk+CTSQAEUMRQxFTAM7DS/3WQIUMT5b9Sy4XglQxFDEUMTotXfSLr0R0L2Iyc/PR58+fVBSUoLQ0FAUFRVh8uTJuHz5MgYPHoz58+crpunp6cjMzIS/vz8WL16M+Pj4OlkvWLAAM2fO1Ftd0B4SUAQoYihiKGI4GJBA/QjoXsT84he/QHFxMb788kslYsaOHYtZs2YpYfPAAw9g0qRJCAsLw7x587By5UoUFhZi2rRpyMrKooipXxvgVRoTcNyh94WlOdzsjvvE+OQGh1zYq/FgZMDsdS1ili5diosXL2LZsmX46KOPlIhJSEjAnj17FOqMjAyIpyYkJATh4eFK0EhISkrC5s2bERQUVGuV0BNjwJZqYpNn/S0b+Qd+UCWM/0kblF2soIihiKGIMXGfZ9HcR0C3Iqa0tBQTJ07EqlWrMGTIECViZAppxIgR2LJliyKQnZ2tBE7z5s2RkpKCUaNGqd+npqZiyZIliIqKoohxX1thSh4iQBFjASt7hth/bssdeysUlxH9YmCWAyAdd+x1rHN6Yjw0yJg4Wd2KmBkzZuDhhx9G165dKWJM3ABZNIAihiKG3jdLG6CI4YjYUAK6FDFXr15VU0FXrthOO5WCiSemZ8+eN51OSkxMVN4aSSMnJwe5ubnXcRk3blxDWfF6EvAIgVc+3If9Ry0HPkaHh+LipSs4frZcxXtFt0TRsVKUlVv6wqD4dsgpOGG1I7lHBLJ3HbfGhyVGYn3eMWs8NSkSWTts8WG9IrB+p+16x/sHxbdFTsFJdX9IUBPERjbDzuIzKh7RIgjBgU1Q/MOPKt65fXOUlF7C6dJLKt47tjV2HTyDiiuVKj64ezts2m2zdWjPCGzIt+WdmtgeWXlHrbYOT4xEpp3t19naPRzZuy3Tbn5+fujXpQ227LPYGhYSgA6tgrHn8DkV79imqfp55NQF9TPhljB8X3IR58os3o3+cW2xtfAUqqqqVDzZLm2JD0uMwPo8m62OtqUmRiLLztahPcOxId9im2PZA5o0Qo+olthedFr9rXWzQLRqFsg6B+DIdWZaN7RvZak7BhKoDwHpwzExMXVe6ldV3cvrk5qHrqmeTpI1MWlpaerLor59+2LChAmYMmWKWisze/ZsrF69Gnv37sX06dOxbt26Oq3hmhgPVRSTdYoAPTEWbJxO4snljlOIy2aNQVho7WsbnepsvMl0BHTpiXGkbC9i5EslWcBbUVGh1r7MmTNHXS5fJ61duxbBwcFqPUxsbCxFjOmaqzkLRBFDEcPpJEsboIgx5xjnyVIZQsS4GwA9Me4myvQaQsDxk+q/vr+dXyfRE8Mv0ihiGjKM8NprBChi2BRIwMsEXlqxBRvzDqlcI1qFol3LEIoYihiKGIoYL49E5siOIsYc9chSGIgARYylsm72uS0/sfa9T6w5nWSggUwnplLE6KQiaIbvEKCIoYih961+66C4sNd3xkVnS0oR4yw53kcCThKgiKGIoYihiHFy+OBtDgQoYtgkSMDLBChiKGIoYihivDzsmDY7ihjTVi0LplcCFDEUMRQxFDF6HZ+MZhdFjNFqjPYangBFDEUMRUz9RMxLU+5Es6aB1j7fvk0zw/d/FsC9BChi3MuTqZHATQlQxFDEUMTUT8SMGdgFH+QWqovlqInVL95z0/7FC3yLAEWMb9U3S6sDAhQxFDEUMRQxOhiKTGECRYwpqpGF0DOBNz/Kw/ub9ikTA/0bo3+3jtzsjvvEcINDJzY4pCdGzyOdNrZRxGjDnbn6EAGKGEtljx0ch1XXxJzEudmd5dTr+J+0Ac9OsrSRm21wSBHjQwNnPYtKEVNPULyMBJwlQBFDEUPvm3umEClinB2FzHsfRYx565Yl04jAfzYWIHNbsTX327pEYO0X+zmdRE+MagM8L2uPtW+MT47HiuwCa5yeGI0GLQNnSxFj4Mqj6fokICLmrU/yrcaNHNCZIobTSVwH5YYpRHpi9DnmaWkVRYyW9Jm3KQlQxFxV9fqLAZ3x4TUPlMS5JoYnl7u6DooixpRDpkuFoohxCR9vJoHrCVDEUMTQ+2bpF+4WrhQxHHEdCVDEsE2QgJsJUMRQxFDEUMS4eVhhcnUQoIhh0yABNxOgiKGIoYjxjIh57sHBNXpr77hIN/deJmc0AhQxRqsx2qt7AhQxFDEUMZ4RMcN6RyNr27cq8VbNg/H2f4/W/XhAAz1LgCLGs3yZug8SoIihiKGIoYjxwaFPkyLrVsScOHECU6dOxaFDh9CuXTssWrQIMTExKCoqwuTJk3H58mUMHjwY8+fPV+DS09ORmZkJf39/LF68GPHx8XUCXbBgAWbOnKkJcGZqfgIUMRQxFDEUMeYf6fRRQt2KmD/84Q8IDAzEnDlz8NJLL+HIkSNYuHAhxo4di1mzZqFPnz544IEHMGnSJISFhWHevHlYuXIlCgsLMW3aNGRlZVHE6KONmd6KDV8fxP9kbLWW0/GLDD7QvPNAuzWyBbbtO6Yyi+nQUv088P0Z9bNPXCS+PXYWJecvqnhqn1uxfnsxqqqqVNz+tGSJO266dk9KPN77zLYpm+OnwqxzbYQrp5NMP7zetIC6FTHnzp1Do0aN0KxZM3z22Wf4+9//jqVLlyIhIQF79lh2fMzIyEB+fj5CQkIQHh6uBI2EpKQkbN68GUFBQbUCoCfmpu2CFzSAAEXMj4rWHYk/wZZvjuDSZW0eaBQxlkZ7z9B4vLfBbhfc5Hj8225X3DGD4vBBjuVAUgkj+sXg460H1P+bNQ1Aj1vb4YvdR1S8U7vmCAkOQMGhUyreMyYcJ86U4XiJfurcIkMtIf2hIQ3oubzUDAR0K2Kq4cq00YgRI/Dss88qcSL/37Jli/pzdnY2li1bhubNmyMlJQWjRo1Sv09NTcWSJUsQFRVVax1RxJih6eqnDBQx+nmg0RPjeyLGvs4XThuun4GBlniFgK5FTEVFhfKuiHh55plncObMmQaLmJycHOTm5l4Hc9y4cV4BzEzMT+Cr/aexLNvyxYSEoT3DsSHfckKxhMHd22HT7hPq/wFNGqFHVEtsLzqt4q2bBaJVs0DsP3pexaPDQ3Hx0hUcP1uu4r2iW6LoWCnKyq+o+KD4dsgpsKQlIblHBLJ3HbfGhyVGYn2eZUpFQmpSJLJ22OLDekVg/U7b9Y73D4pvi5yCk+rekKAmiI1shp3FlimZiBZBCA5sguIfLKKlc/vmKCm9hNOll1S8d2xr7Dp4BhVXKlXcvtwSH9ozAhvybXmnJrZHVt5Rq63DEyORaWf7dbZ2D0f2bgtXPz8/9OvSBlv2WWwNCwlAh1bB2HP4nIp3bNNU/Txy6oL6mXBLGL4vuYhzZRUq3j+uLbYWnrJOJyXbpS1/H5YYgfV5NlsdbUtNjESWna2sc33U+X+N7WZtT/yPbxCQKWFZL1tX8KuqnjTWgMeTTz6pBqu//OUv1tzrM52UmJiovDWcTtKg0nwwS3pi6Inhmhh9TCHSE+N7A7BuPTFr165VXxvJV0n2IS0tTX1Z1LdvX0yYMAFTpkxBaGgoZs+ejdWrV2Pv3r2YPn061q1bV2dtcjrJ9xq6J0tMEUMRQxFDEePJMYZp101AtyLmrrvuwsmTJ9GiRQtlvbiL5NPp4uJiNcUkU02y9kW+XpIgXyeJ8AkODlbrYWJjYyli2PK9QoAihiKGIkafIuaNNTtqjAGPjkryypjATLxHQLcixpMI6InxJF3fS5sihiKGIkafIubB/7O6xmf1j6fd7nsDlMlLTBFj8gpm8TxPgCKGIoYiRh8ipkWobVsNP+C6vYEoYjw/Hno7B4oYbxNnfqYjQBFDEUMRow8RI4PLjTY4pIgx3fALihjz1SlL5GYCB4+fxe9fti0Un3nfTzGoZydrLhQxFDEUMRQxbh52mFw9CVDE1BMUL/NdAo4iRragz9ll2dFUwsDutyAj27KLtAQ+0IzxQOOxA5b2avQdexuywSE9MeYbxylizFenLJGbCdQmYniOjj63oG/IA40ihiLGzUMFk9OAAEWMBtCZpbEIUMQY5xwdihjfPnZARhauiTHW+OqqtRQxrhLk/aYjcO7HcpSVX7aW6/tT5zH37RxrnCca6/cwQIoYipgbiZiB3TvWGK96x0WabvzytQJRxPhajbO8NyUgIub+Fz6wXnf3HV3x7417KWIMcKIxRQxFzI1EjP0U4j0pCXhgeI+bjge8QN8EKGL0XT+0TgMCFDEHFPVmTQPQ49Z2+GI3p5PofTOf940iRoPB1QNZUsR4ACqTNB4B++3JG/kBH+QW0hNDEUPvm4m9bxQxxhuna7OYIsYc9chSuEhg9LPvofrA9jEDu1DE0BPDKUQAnShiXBxZeLunCVDEeJow0zcEAYoYSzX50p4h/MSadV5ZZRueIluHYNSALoYYr2ikjQBFDFsDCQCgiOEDjVOIvr0OSk64pogx3uOAIsZ4dUaLnSBw9FRpjbvWbi5yiO/ndBI9MVwH5eProFo1D7a2gZahQTWOF3Fi2OEtXiBAEeMFyMxCewLTX8m84SZYnFqgJ4aeGN/2xDhupeB4Rpr2oxgtqI0ARQzbhU8QoIixVPPdyfH4d3aBtc7HDIrDBzn7rHGuibnGiXsDKRBmXthbnwX8B46etfPOxaN7dFufGC+NVEiKGCPVFm2tNwHH6aP/++5memIoYlBy/qJqQ6l9bgW9b/S+ueJ9W/z0XejQplm9xyRe6BkCFDGe4cpUNSYw563Pwd1buXtrfXdvrc9bOQ/95KGf9qfVU8RoPMhfy54iRh/1QCsaSGBp5i7k7DpsvatbVFt8c/CkNd6+dShFDChiKGI4hegt79uK9F+haaB/A0cyXu4qAYoYVwnyfk0IiIh577M9Km8/Pz8M6x2NrG3fqrh8YXBrZAuKGIoYTiFyCtFrU4gUMZo8CmAaEZOeno7MzEz4+/tj8eLFiI+Pr5PoggULMHPmTG2IM1e3EKCIsWB0XJh73WGVQ+Px3gbbQl4u7OWaGC7mtuxw54kpxK8Lj1vHt84dW+HHixXWePpDQ9wy9jGRmgRMIWK2b9+OefPmYeXKlSgsLMS0adOQlZVFEaOj1n7h0mWcLS2vYVH7BiyKW/NFIezPN7IfgOiJsX1dRBFzTLWxmA4t1U9OJ3E6yVvTSSMHdMbaL/ardhfo3xj9u3XExrxDKh7RKhS/G31bjfHv6Omae1e1b21bJHy1sgqN5RA3u9A7LlJHI7p+TDGFiJk/fz7Cw8MxadIkRTYpKQmbN29GUFBQraTpifFMA9y+z/IAqQ72nU5EzPj0lda/jR0ch60FR63xgd1vQbeoNtZ4wcGTKDpm+7wxOiKsxlk2FDEWVPTEcAqRwtX8wnXCsO64785u1vHR8etL+UNDXgo98wTQJlVTiJinnnoKKSkpGDVqlKKYmpqKJUuWICoqyuMi5tLlqyivuGLNJzigCQL8G2tSm6Le7d2X/k0ao2lgE6stP5wpwyE7YdClU2u0CLUJvdILFaissh0mcuj4OZRfumy9v29ChxrlKrZLS/7w4rJcHC/5UV1zR+JPkDakq/V6se3JVzJriJhVm2wehHHJCbBf+T8+OR4r7PYzcRyoKWIoYrgOytIGKGLML2LGp3TDwB4drePnybNleP6dHGt80l2JOHLyvDU+IKEjKisrbeNvVSWOl5RZ40mdI2A31F/3vIqObFHjd+fKLtWIh4UE1vmMc3wOQR4pdk6loIAmylPlrmB6EZOTk4Pc3NwavJo2bYoLFy64hWElGtVoDH6oQiM/u1PF3JJL/RKpgh8qq+xai58fGuOq9ebySpugkV829quCv5/t71erGtXI6LJDPKiRTazJhRWVNRtiQCNbWvX5e/1KxatIgARIwLcJyLh+xWE8th9vHcfiS1VNaoztlfCTJ5UVojynak5W1eTrOJY7Phsa+9kEkmPNOD6HxHb7Z6KfH9AIdd/f0JpOSEiwOjBqu9evqupGeq2h2XnmesfppMTERGzZsqXO6SSxwnFKSc9x2mZbhO0KC1fu9Xab0bOterbNsZ5oK/uOntsAbXNP+7yRsjCEiNmxYwdmz56N1atXY+/evZg+fTrWrVt3Q8Wk58ZjpIGYHN3XCe1Z6pmrnm0zUt8xkq2sc/ZzvbeBuh74hhAxYrx8nbR27VoEBwer9TCxsbEUMdcIeLLxeTJtd3s/aKt7BmJydA9Hihjf48g690ydG94T48wkFQdi9zQmcnQPRw5uvseRdc461/P4qWfbanvBNbwnpqFCRhb8Dho0yHqbnuO0zT31pGeO0hDt7dOzrXq2zUgcjWQr69w9YxDr3DMcfdIT01DRw+tJgARIgARIgASMRcAwa2Lqi7W8vFwt/pUgRxMEBtb9vXt903TXdbTNOZLkRm7OEXDuLrY357jJXWTnHDtyc46b3GUaEXPkyBHMmDFD7eQbGWnZvvnYsWP46U9/ij//+c/o0KHmRm7OI2v4nbSt4czkDnIjN+cIOHcX25tz3NhXyc15Aq7faRoRU9cuvkVFReqspU8++cR1Wk6mQNucA0du5OYcAefuYntzjpvcRXbOsSM357jZ32UaESOLeGVxWm2hf//+anM8rQJtc448uZGbcwScu4vtzTluchfZOceO3JzjZkoRI7v6fvfddxgzZoxaB3P69GnIJnkbNmxAWloann76addpOZkCbXMOHLmRm3MEnLuL7c05bnIX2TnHjtyc42ZKESOFysvLw4cffmg9GKtx48bqzIUePXq4TsrFFGibcwDJjdycI+DcXWxvznHj+EtuzhNw7U7TTCe5hkG7uxcvXozf/e53mhkgq+LlCIejR4/innvuQevWra22aG3b5cuXsXTpUvTp0wc9e/ZUAnXfvn247bbblPu6SZOaB15qBvFaxo8//jgWLVqktRn48ssv0bdvX2WHMHzllVewadMmDBw4UK0P0/KLPTmq7YsvvlC2yP9lCnj79u1ISkpSdSovHlqFF154ARMnTsQtt9yilQl15nv16lW88847ipOcHSdr/L755hsVHzJkiC76wuHDh7Fr1y4UFBQgNDQUnTt3Rq9evWqMKVqBFbsyMjKUbRLkUMG7775bFy+4dTHRevzV87PBtJ4YrTqIK/nKA/nrr792JQmX7v3Vr36lHiYdO3ZUA6M8hEeMGKHS1Nq2Rx99FBUVFdi9ezfuuOMOFBYW4v7778eqVavUg/jtt992qeyu3CwL8hyDPIx79+6tfp2VleVK8i7dK4IvPz9fpSHTqMLt17/+NVauXAk54f2tt95yKX1Xbp48ebISVlJ3zz77LPbs2YMJEyYo2+RIkX/84x+uJO/SvTExMbj33nsREhKCBx98UNMvGh0LMnXqVIiQOXPmDFq0aKF+jhs3Dh999JHqv1r2BbH1xRdfxPr16yHrD+WFKCgoSNWnjClPPPGEpi9qL730kuoD8jJU/ZXq999/r9ZJSl+Rs/j0GLQef/X8bKCI8XKL9ZOzyW8QtDxIXN7kZO2QBFlT9Jvf/AbPPfccBgwYoLmIqV6QXVpaqt6OT5w4gYCAAGWrTBHK25VWYdasWcjNzYW8vYtXQYK8EX/++edamWTN117EiKiSbQequdnXtxaGij0i9iSkpKSoB1+190XrQbua28mTJyFbskv9ShuUvtC2bVskJydrgUzleeedd+LTTz9V/xfvhkx7VY8rQ4cOVWv/tAzi+du6davVJhFY4vkoKytT3L766ivNzJP+KXVZW5C6Fc+gVoHPBtfJczrJdYY3TeGpp55CXFwcfvvb3153rdYDtwww4qbu1KmTsq2kpER9LileEHFnVgucmxbSAxfI4LNmzRq0atUKr776KuRtVMLOnTvVG3O1a9gDWdcryf379+PJJ59U3pc//elPkIeJ3kTMpEmT1OGp8gZ66tQp5dGSaQitgohkEQYydSnMpJ2Ja1/eimXaa9myZVqZpt7Kqz1YYoSI+uXLl2Pjxo3Ke6Sld036gng1xAMjgkE8MDJ2iCdL+oK93VoAFFtk6rdbt25KMEib+/jjj3HgwAGMHDlS0746fPhwvPHGG4iKirKiuXDhAj777DMsXLhQ03rls8H11koR4zrDm6ZQWVmJl19+WblUxcVqH2RQl1O5tQoiUuRB8v7771tdrTLwpKenY8WKFWo6R6sgg4w82P7zn/9YTZCTzOUBKO5zedvTQxCb/vWvf6kHirwhax1ETIkYPXfuHM6ePYu5c+fi97//PX75y1/iscceUyJVqyB94W9/+5uaEjx//rz1LVgedK+//jrat2+vlWnXiRjNDKklY1nT9PDDDysP5MyZM/HII4/A398fhw4dUtODo0eP1tRcESwyBSfT0iKWpX5F3Iu3TYS+lvYdPHgQ4jmVKSRhJl+uyguQfMkqG6FquQaKzwbXmy1FjOsMmYIXCcjDWaYfwsLCvJjrzbOSN/Vt27apHaIZSIAESMBVAlov7HXVfm/dTxHjLdLMhwRIgARIQFcEtPaE3wiG1ksNbmSbnrhRxOiqS9EYEiABEiABdxLIzs6uMzlZpyjbNmgV9LywV8/c7OuLIkar1st8SYAESIAEPE5A1iHKYvLa9pWSPZVk7ZhWQc8Le/XMjSJGqxbLfEmABEiABLxK4L333lMbZda2l47WUzZ6XtirZ24UMV7tQsyMBEiABEhASwKyN1HXrl3VRob2gYtnb1wrRuDG6SQtexbzJgESIAESIAEScJoARYzT6HgjCZAACZAACZCAlgQoYrSkz7xJgARIgARIgAScJkAR4zQ63kgCJEACJEACJKAlAYoYLekzbxIgARIgARIgAacJUMQ4jY43kgAJOEtADuUrKirCt99+a01i9uzZ6lTwo0ePIjw8/Lqk5WDBQYMGYd26dZD7GUiABEiAIoZtgARIwOsE3nzzTUyePFmdviyHGkq4/fbb1YnlIlJqCxQxXq8mZkgCuidAEaP7KqKBJGA+AmfOnFEnVs+ZMwczZsxQJwzLCchywrWcLvzHP/4Rcjp4REQEpk2bhoceegj2IubixYvqVG45hT0xMRFPP/00RBjJqd1lZWUqTTn9XA4KlRO8JY3Dhw/j+eefVxufderUSZ0ELUKKgQRIwLgEKGKMW3e0nAQMTSAtLU2Jjk8//RRvvPEGnnjiCTWVJOJD/v31r39Vv1+0aBHk9HLZeKt6OulGIubFF19U923cuBHfffcdhgwZgp07d+Kdd97BypUrsWnTJuUBWr58ORYuXKi8PwwkQALGJEARY8x6o9UkYHgCK1aswIQJE5RAmTRpkiqPiIwNGzZg7ty5yvNy5coV9fvi4mLlramPiPnZz36GzMzMGnxee+01JVbGjx+PYcOGqXTuvfdexMXFGZ4jC0ACvkyAIsaXa59lJwENCYg3JTIyEq+++iqmTJmC119/XQmLfv36ISAgAJ9//rmaXnr00UevEzHl5eVq2kkO8JO1NI899hj++c9/Ks/Oz3/+c5w+fRpfffXVdaWTKSqZgsrKykJeXp7KQ6ajGEiABIxJgCLGmPVGq0nAFARkrYuIiQMHDuD48ePqbJukpCS0adMG77//Pu677z6sWbMGu3fvVgKl2hMja13kZOL58+dj9OjRkKkpmYqSa2Q66bnnnsPevXtRWFiopqNkvUxGRobKQ7w8OTk5GDp0qJpSEuHEQAIkYEwCFDHGrDdaTQKmICCLbEeOHIn7778fS5cuVWWSnxMnTkS3bt3U2haZApLw7rvvWkVMamoq7rrrLnzyySdKzMgU0csvv4zz58+rhb0zZ85UoiU6OhrTp09XQkWulcW8InbE+yL3p6enw9/f3xQsWQgS8EUCFDG+WOssMwmQAAmQAAmYgABFjAkqkUUgARIgARIgAV8kQBHji7XOMpMACZAACZCACQhQxJigElkEEiABEiABEvBFAhQxvljrLDMJkAAJkAAJmIAARYwJKpFFIAESIAESIAFfJEAR44u1zjKTAAmQAAmQgAkI/C8eW/fPjgdDKAAAAABJRU5ErkJggg==\"}",
       "_model_module": "jupyter-progressivis",
       "_model_module_version": "^0.1.0",
       "_opt_source": "null",
       "_spec_source": "{\"data\": {\"name\": \"data\"}, \"height\": 500, \"width\": 500, \"layer\": [{\"mark\": \"bar\", \"$schema\": \"https://vega.github.io/schema/vega-lite/v4.8.1.json\", \"encoding\": {\"x\": {\"type\": \"ordinal\", \"field\": \"nbins\", \"title\": \"Values\", \"axis\": {\"format\": \".2e\", \"labelExpr\": \"(datum.value%10>0 ? null : datum.value)\"}}, \"y\": {\"type\": \"quantitative\", \"field\": \"level\", \"title\": \"Count\"}}}, {\"mark\": \"rule\", \"encoding\": {\"x\": {\"aggregate\": \"min\", \"field\": \"bins\", \"title\": null, \"axis\": {\"tickCount\": 0}}, \"color\": {\"value\": \"red\"}, \"size\": {\"value\": 1}}}, {\"mark\": \"rule\", \"encoding\": {\"x\": {\"aggregate\": \"max\", \"field\": \"bins\", \"title\": null, \"axis\": {\"tickCount\": 0}}, \"color\": {\"value\": \"red\"}, \"size\": {\"value\": 1}}}]}",
       "_view_module": "jupyter-progressivis",
       "_view_module_version": "^0.1.0",
       "layout": "IPY_MODEL_2071f1b001544ff5bd017adc2a709203"
      }
     },
     "c65614cbc222414d806f660caa7d7712": {
      "model_module": "@jupyter-widgets/base",
      "model_module_version": "2.0.0",
      "model_name": "LayoutModel",
      "state": {}
     },
     "c7dfd3fdc0a349fda939e28cdc7d2ccd": {
      "model_module": "@jupyter-widgets/controls",
      "model_module_version": "2.0.0",
      "model_name": "LabelStyleModel",
      "state": {
       "description_width": "",
       "font_family": null,
       "font_size": null,
       "font_style": null,
       "font_variant": null,
       "font_weight": null,
       "text_color": null,
       "text_decoration": null
      }
     },
     "c8931045b3c64fbdb6fbbd5b5db4c12f": {
      "model_module": "@jupyter-widgets/controls",
      "model_module_version": "2.0.0",
      "model_name": "LabelModel",
      "state": {
       "layout": "IPY_MODEL_8bea52949ce9465ba16c3bd7bdf70df7",
       "style": "IPY_MODEL_505363afb4e943a6bea28bf4df3ef3a5",
       "value": "Rows"
      }
     },
     "c9f4b6382aee4f7c87b760feef14a9ae": {
      "model_module": "@jupyter-widgets/controls",
      "model_module_version": "2.0.0",
      "model_name": "SliderStyleModel",
      "state": {
       "description_width": ""
      }
     },
     "cb715c1275c84341b1b0961d27defa51": {
      "buffers": [
       {
        "data": "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",
        "encoding": "base64",
        "path": [
         "value"
        ]
       }
      ],
      "model_module": "@jupyter-widgets/controls",
      "model_module_version": "2.0.0",
      "model_name": "ImageModel",
      "state": {
       "height": "512",
       "layout": "IPY_MODEL_5006dba13291433aaf65932634382d2e",
       "width": "512"
      }
     },
     "ce4fb2c3ad8c4bd0bd24e3c94f954e84": {
      "model_module": "@jupyter-widgets/controls",
      "model_module_version": "2.0.0",
      "model_name": "HBoxModel",
      "state": {
       "children": [
        "IPY_MODEL_a15904c18f6348b39e52152870a20a23",
        "IPY_MODEL_17c49fafc4074d33aab2c2f7edd10ae2"
       ],
       "layout": "IPY_MODEL_dbdcc04d6baf4c9bb2d9f80d889301d4"
      }
     },
     "d516eff12eea4b509dc6edbb2a53a6c4": {
      "model_module": "@jupyter-widgets/base",
      "model_module_version": "2.0.0",
      "model_name": "LayoutModel",
      "state": {
       "grid_template_columns": "repeat(2, 120px)"
      }
     },
     "d5eb5f78da4e419da17a8d6d504043f4": {
      "model_module": "@jupyter-widgets/base",
      "model_module_version": "2.0.0",
      "model_name": "LayoutModel",
      "state": {}
     },
     "dbda1603d86540c382b3ae5254e06017": {
      "model_module": "@jupyter-widgets/base",
      "model_module_version": "2.0.0",
      "model_name": "LayoutModel",
      "state": {}
     },
     "dbdcc04d6baf4c9bb2d9f80d889301d4": {
      "model_module": "@jupyter-widgets/base",
      "model_module_version": "2.0.0",
      "model_name": "LayoutModel",
      "state": {}
     },
     "e5e3e567eaff49159fe9234bc6e6e2f0": {
      "model_module": "@jupyter-widgets/base",
      "model_module_version": "2.0.0",
      "model_name": "LayoutModel",
      "state": {}
     },
     "e63db4a494ac4280a12d90ff60799d64": {
      "model_module": "@jupyter-widgets/base",
      "model_module_version": "2.0.0",
      "model_name": "LayoutModel",
      "state": {}
     },
     "ea21ccea3bb840798b446170a4cbf498": {
      "model_module": "@jupyter-widgets/controls",
      "model_module_version": "2.0.0",
      "model_name": "LabelStyleModel",
      "state": {
       "description_width": "",
       "font_family": null,
       "font_size": null,
       "font_style": null,
       "font_variant": null,
       "font_weight": null,
       "text_color": null,
       "text_decoration": null
      }
     },
     "ea83630eaff249368fec450aaa39c710": {
      "model_module": "@jupyter-widgets/base",
      "model_module_version": "2.0.0",
      "model_name": "LayoutModel",
      "state": {}
     },
     "ebc86f5f72bc43bc92e4d8afe8305c60": {
      "model_module": "@jupyter-widgets/base",
      "model_module_version": "2.0.0",
      "model_name": "LayoutModel",
      "state": {}
     },
     "ec13a0c0897a428fb8a671ce3fe5eda5": {
      "model_module": "@jupyter-widgets/controls",
      "model_module_version": "2.0.0",
      "model_name": "LabelStyleModel",
      "state": {
       "description_width": "",
       "font_family": null,
       "font_size": null,
       "font_style": null,
       "font_variant": null,
       "font_weight": null,
       "text_color": null,
       "text_decoration": null
      }
     },
     "ee10a92c82b340858e6a51fb2577e78e": {
      "model_module": "@jupyter-widgets/base",
      "model_module_version": "2.0.0",
      "model_name": "LayoutModel",
      "state": {}
     },
     "f56617edf6934880860ec44c807a63c8": {
      "model_module": "@jupyter-widgets/controls",
      "model_module_version": "2.0.0",
      "model_name": "LabelStyleModel",
      "state": {
       "description_width": "",
       "font_family": null,
       "font_size": null,
       "font_style": null,
       "font_variant": null,
       "font_weight": null,
       "text_color": null,
       "text_decoration": null
      }
     },
     "ff56a085c095439b93328e778a2a9f05": {
      "model_module": "@jupyter-widgets/base",
      "model_module_version": "2.0.0",
      "model_name": "LayoutModel",
      "state": {}
     }
    },
    "version_major": 2,
    "version_minor": 0
   }
  }
 },
 "nbformat": 4,
 "nbformat_minor": 5
}

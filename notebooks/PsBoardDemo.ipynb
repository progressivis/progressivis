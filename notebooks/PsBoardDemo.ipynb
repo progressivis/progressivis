{
 "cells": [
  {
   "cell_type": "code",
   "execution_count": 1,
   "metadata": {},
   "outputs": [],
   "source": [
    "from progressivis_nb_widgets.nbwidgets import *"
   ]
  },
  {
   "cell_type": "code",
   "execution_count": 2,
   "metadata": {},
   "outputs": [],
   "source": [
    "import pandas as pd\n",
    "from progressivis.core import Scheduler, Every\n",
    "from progressivis.core.utils import gather_and_run\n",
    "from progressivis.table import Table\n",
    "from progressivis.vis import MCScatterPlot\n",
    "from progressivis.io import CSVLoader\n",
    "#from progressivis.datasets import get_dataset\n",
    "from progressivis.table.constant import Constant\n",
    "import asyncio as aio\n",
    "import threading\n",
    "import os\n",
    "\n",
    "def _quiet(x): pass\n",
    "\n",
    "def _filter(df):\n",
    "    pklon = df['pickup_longitude']\n",
    "    pklat = df['pickup_latitude']\n",
    "    dolon = df['dropoff_longitude']\n",
    "    dolat = df['dropoff_latitude']\n",
    "\n",
    "\n",
    "    return df[(pklon > -74.08) & (pklon < -73.5) & (pklat > 40.55) & (pklat < 41.00) &\n",
    "                  (dolon > -74.08) & (dolon < -73.5) & (dolat > 40.55) & (dolat < 41.00)]\n",
    "\n",
    "try:\n",
    "    s = scheduler\n",
    "except NameError:\n",
    "    s = Scheduler()\n",
    "PREFIX = '../../nyc-taxi/'\n",
    "\n",
    "SUFFIX = '.bz2'\n",
    "\n",
    "URLS = [\n",
    "    PREFIX+'yellow_tripdata_2015-01.csv'+SUFFIX,\n",
    "    PREFIX+'yellow_tripdata_2015-02.csv'+SUFFIX,\n",
    "    PREFIX+'yellow_tripdata_2015-03.csv'+SUFFIX,\n",
    "    PREFIX+'yellow_tripdata_2015-04.csv'+SUFFIX,\n",
    "    PREFIX+'yellow_tripdata_2015-05.csv'+SUFFIX,\n",
    "    PREFIX+'yellow_tripdata_2015-06.csv'+SUFFIX,\n",
    "]\n",
    "\n",
    "FILENAMES = pd.DataFrame({'filename': URLS})\n",
    "CST = Constant(Table('filenames', data=FILENAMES), scheduler=s)\n",
    "CSV = CSVLoader(index_col=False, skipinitialspace=True,\n",
    "                usecols=['pickup_longitude', 'pickup_latitude',\n",
    "                             'dropoff_longitude', 'dropoff_latitude'],\n",
    "                filter_=_filter, scheduler=s) # TODO: reimplement filter in read_csv.py\n",
    "\n",
    "CSV.input.filenames = CST.output.table\n",
    "PR = Every(scheduler=s, proc=_quiet)\n",
    "PR.input.df = CSV.output.table\n",
    "\n",
    "\n",
    "MULTICLASS = MCScatterPlot(scheduler=s, classes=[\n",
    "    ('pickup', 'pickup_longitude', 'pickup_latitude'),\n",
    "    ('dropoff', 'dropoff_longitude', 'dropoff_latitude')], approximate=True)\n",
    "MULTICLASS.create_dependent_modules(CSV, 'table')\n",
    "\n",
    "# Create the dashboard object\n",
    "psboard = PsBoard(s)\n",
    "# Visualisations require registration :\n",
    "# 1) When widget provides the link_module() method do :\n",
    "psboard.register_visualisation(Scatterplot(disable=['init_centroids']), MULTICLASS)\n",
    "# 2) When widget is generic or for overloading the link_module() method do:\n",
    "# psboard.register_visualisation(FooWidget(), bar_module, glue=glue_func)\n",
    "# NB: glue_func(widget, module)-> [coroutine] must be provided\n",
    "# Start application :\n",
    "\n",
    "gather_and_run(s.start(), *psboard.coroutines)"
   ]
  },
  {
   "cell_type": "code",
   "execution_count": 3,
   "metadata": {},
   "outputs": [
    {
     "data": {
      "application/vnd.jupyter.widget-view+json": {
       "model_id": "0f4da43bcdd345ad9641401a2ff49607",
       "version_major": 2,
       "version_minor": 0
      },
      "text/plain": [
       "PsBoard(children=(ControlPanel(children=(Button(description='Resume', disabled=True, icon='play', style=Button…"
      ]
     },
     "metadata": {},
     "output_type": "display_data"
    },
    {
     "name": "stdout",
     "output_type": "stream",
     "text": [
      "************************"
     ]
    }
   ],
   "source": [
    "from sidecar import Sidecar\n",
    "sc = Sidecar(title='Sidecar Output')\n",
    "with sc:\n",
    "    display(psboard)"
   ]
  },
  {
   "cell_type": "code",
   "execution_count": null,
   "metadata": {},
   "outputs": [],
   "source": []
  }
 ],
 "metadata": {
  "kernelspec": {
   "display_name": "Python 3",
   "language": "python",
   "name": "python3"
  },
  "language_info": {
   "codemirror_mode": {
    "name": "ipython",
    "version": 3
   },
   "file_extension": ".py",
   "mimetype": "text/x-python",
   "name": "python",
   "nbconvert_exporter": "python",
   "pygments_lexer": "ipython3",
   "version": "3.8.5"
  }
 },
 "nbformat": 4,
 "nbformat_minor": 4
}

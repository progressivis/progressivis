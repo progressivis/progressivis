{
 "cells": [
  {
   "cell_type": "markdown",
   "id": "242f51ec",
   "metadata": {},
   "source": [
    "# Progressive Loading and Visualization\n",
    "\n",
    "This notebook shows a simple code to download and visualize all the New York Yellow Taxi trips from January 2015, knowing the bounds of NYC.\n",
    "The trip data is stored in multiple CSV files, containing geolocated taxi trips.\n",
    "We visualize progressively the pickup locations (where people have been picked up by the taxis)."
   ]
  },
  {
   "cell_type": "code",
   "execution_count": 1,
   "id": "b85c8555",
   "metadata": {},
   "outputs": [],
   "source": [
    "# We make sure the libraries are reloaded when modified, and avoid warning messages\n",
    "# %load_ext autoreload\n",
    "# %autoreload 2\n",
    "import warnings\n",
    "warnings.filterwarnings(\"ignore\")"
   ]
  },
  {
   "cell_type": "code",
   "execution_count": 2,
   "id": "e074d5ba",
   "metadata": {},
   "outputs": [],
   "source": [
    "# Some constants we'll need: the data file to download and final image size\n",
    "LARGE_TAXI_FILE = \"https://www.aviz.fr/nyc-taxi/yellow_tripdata_2015-01.csv.bz2\"\n",
    "RESOLUTION=512"
   ]
  },
  {
   "cell_type": "markdown",
   "id": "fed4681b",
   "metadata": {},
   "source": [
    "## Define NYC Bounds\n",
    "If we know the bounds, this will simplify the code.\n",
    "See https://en.wikipedia.org/wiki/Module:Location_map/data/USA_New_York_City"
   ]
  },
  {
   "cell_type": "code",
   "execution_count": 3,
   "id": "0a1296f7",
   "metadata": {},
   "outputs": [],
   "source": [
    "from dataclasses import dataclass\n",
    "@dataclass\n",
    "class Bounds:\n",
    "    top: float = 40.92\n",
    "    bottom: float = 40.49\n",
    "    left: float = -74.27\n",
    "    right: float = -73.68\n",
    "\n",
    "bounds = Bounds()"
   ]
  },
  {
   "cell_type": "markdown",
   "id": "51c62d05",
   "metadata": {},
   "source": [
    "## Create Modules\n",
    "First, create the four modules we need."
   ]
  },
  {
   "cell_type": "code",
   "execution_count": 4,
   "id": "a8b3dbcc",
   "metadata": {},
   "outputs": [],
   "source": [
    "from progressivis import CSVLoader, Histogram2D, ConstDict, Heatmap, PDict\n",
    "\n",
    "# Create a CSVLoader module, two min/max constant modules, a Histogram2D module, and a Heatmap module.\n",
    "\n",
    "csv = CSVLoader(LARGE_TAXI_FILE, usecols=['pickup_longitude', 'pickup_latitude'])\n",
    "min = ConstDict(PDict({'pickup_longitude': bounds.left, 'pickup_latitude': bounds.bottom}))\n",
    "max = ConstDict(PDict({'pickup_longitude': bounds.right, 'pickup_latitude': bounds.top}))\n",
    "histogram2d = Histogram2D('pickup_longitude', 'pickup_latitude', xbins=RESOLUTION, ybins=RESOLUTION)\n",
    "heatmap = Heatmap()"
   ]
  },
  {
   "cell_type": "markdown",
   "id": "e899be92",
   "metadata": {},
   "source": [
    "## Connect Modules\n",
    "\n",
    "Then, connect the modules."
   ]
  },
  {
   "cell_type": "code",
   "execution_count": 5,
   "id": "7a3cf6c4",
   "metadata": {},
   "outputs": [],
   "source": [
    "histogram2d.input.table = csv.output.result\n",
    "histogram2d.input.min = min.output.result\n",
    "histogram2d.input.max = max.output.result\n",
    "heatmap.input.array = histogram2d.output.result"
   ]
  },
  {
   "cell_type": "markdown",
   "id": "b2ea0e1a",
   "metadata": {},
   "source": [
    "## Display the Heatmap"
   ]
  },
  {
   "cell_type": "code",
   "execution_count": 6,
   "id": "e40c60ad",
   "metadata": {},
   "outputs": [
    {
     "data": {
      "application/vnd.jupyter.widget-view+json": {
       "model_id": "8e4d338205224dfe85cc59621b036b56",
       "version_major": 2,
       "version_minor": 0
      },
      "text/plain": [
       "VBox(children=(HBox(children=(IntProgress(value=0, description='0/0', max=1000), Button(description='Save', ic…"
      ]
     },
     "metadata": {},
     "output_type": "display_data"
    }
   ],
   "source": [
    "heatmap.display_notebook()"
   ]
  },
  {
   "cell_type": "markdown",
   "id": "0e4cf779",
   "metadata": {},
   "source": [
    "## Start the scheduler"
   ]
  },
  {
   "cell_type": "code",
   "execution_count": 7,
   "id": "849bafd4",
   "metadata": {},
   "outputs": [
    {
     "data": {
      "text/plain": [
       "<Task pending name='Task-9' coro=<Scheduler.start() running at /home/fekete/src/progressivis/progressivis/core/scheduler.py:277>>"
      ]
     },
     "execution_count": 7,
     "metadata": {},
     "output_type": "execute_result"
    },
    {
     "name": "stdout",
     "output_type": "stream",
     "text": [
      "Starting scheduler\n",
      "# Scheduler added module(s): ['const_dict_1', 'const_dict_2', 'csv_loader_1', 'heatmap_1', 'histogram2_d_1']\n",
      "Leaving run loop\n"
     ]
    }
   ],
   "source": [
    "csv.scheduler.task_start()"
   ]
  },
  {
   "cell_type": "markdown",
   "id": "f60ff9d8",
   "metadata": {},
   "source": [
    "## Show the modules\n",
    "printing the scheduler shows all the modules and their states"
   ]
  },
  {
   "cell_type": "code",
   "execution_count": 8,
   "id": "9383aa00",
   "metadata": {},
   "outputs": [
    {
     "data": {
      "text/html": [
       "\n",
       "<style scoped>\n",
       "    .dataframe tbody tr th:only-of-type {\n",
       "        vertical-align: middle;\n",
       "    }\n",
       "\n",
       "    .dataframe tbody tr th {\n",
       "        vertical-align: top;\n",
       "    }\n",
       "\n",
       "    .dataframe thead th {\n",
       "        text-align: right;\n",
       "    }\n",
       "</style>\n",
       "<p><b>Scheduler</b> 0x7412be3ac440\n",
       "        <b>running</b>,\n",
       "        <b>modules:</b> 5,\n",
       "        <b>run number:</b> 49\n",
       "</p>\n",
       "<table border=\"1\" class=\"dataframe\">\n",
       "  <thead>\n",
       "    <tr style=\"text-align: right;\">\n",
       "      <th>Id</th><th>Class</th><th>State</th><th>Last Update</th><th>Order</th>\n",
       "    </tr>\n",
       "  </thead>\n",
       "  <tbody><tr><td>csv_loader_1</td><td>csv_loader</td><td>state_ready</td><td>47</td><td>0</td><tr><td>histogram2_d_1</td><td>histogram2_d</td><td>state_blocked</td><td>48</td><td>3</td><tr><td>heatmap_1</td><td>heatmap</td><td>state_blocked</td><td>49</td><td>4</td></tbody></table>"
      ],
      "text/plain": [
       "<progressivis.core.scheduler.Scheduler at 0x7412be3ac440>"
      ]
     },
     "execution_count": 8,
     "metadata": {},
     "output_type": "execute_result"
    }
   ],
   "source": [
    "csv.scheduler"
   ]
  },
  {
   "cell_type": "markdown",
   "id": "06a44f2e",
   "metadata": {},
   "source": [
    "## Stop the scheduler\n",
    "To stop the scheduler, uncomment the next cell and run it"
   ]
  },
  {
   "cell_type": "code",
   "execution_count": 10,
   "id": "4f72e35a",
   "metadata": {},
   "outputs": [
    {
     "data": {
      "text/plain": [
       "<Task pending name='Task-12' coro=<Scheduler.stop() running at /home/fekete/src/progressivis/progressivis/core/scheduler.py:616>>"
      ]
     },
     "execution_count": 10,
     "metadata": {},
     "output_type": "execute_result"
    }
   ],
   "source": [
    "\n",
    "# csv.scheduler.task_stop()"
   ]
  },
  {
   "cell_type": "code",
   "execution_count": null,
   "id": "46df6f5e-791a-4bea-b723-36cb426ee199",
   "metadata": {},
   "outputs": [],
   "source": []
  }
 ],
 "metadata": {
  "jupytext": {
   "comment_magics": false,
   "formats": "ipynb,py:percent"
  },
  "kernelspec": {
   "display_name": "Python 3 (ipykernel)",
   "language": "python",
   "name": "python3"
  },
  "language_info": {
   "codemirror_mode": {
    "name": "ipython",
    "version": 3
   },
   "file_extension": ".py",
   "mimetype": "text/x-python",
   "name": "python",
   "nbconvert_exporter": "python",
   "pygments_lexer": "ipython3",
   "version": "3.13.7"
  },
  "widgets": {
   "application/vnd.jupyter.widget-state+json": {
    "state": {
     "0ad26bee51454c95b0dd88962999ae45": {
      "model_module": "@jupyter-widgets/controls",
      "model_module_version": "2.0.0",
      "model_name": "ButtonStyleModel",
      "state": {
       "font_family": null,
       "font_size": null,
       "font_style": null,
       "font_variant": null,
       "font_weight": null,
       "text_color": null,
       "text_decoration": null
      }
     },
     "2500e9f224a04c4dbe264e0217fdbf18": {
      "model_module": "@jupyter-widgets/base",
      "model_module_version": "2.0.0",
      "model_name": "LayoutModel",
      "state": {}
     },
     "2e2212a865da4019a15a71d2b54079d7": {
      "model_module": "@jupyter-widgets/base",
      "model_module_version": "2.0.0",
      "model_name": "LayoutModel",
      "state": {}
     },
     "3342a940a63b45789fe6b84b6616d957": {
      "model_module": "@jupyter-widgets/controls",
      "model_module_version": "2.0.0",
      "model_name": "HBoxModel",
      "state": {
       "children": [
        "IPY_MODEL_4477d573b0504e9e9fecb53565de6342",
        "IPY_MODEL_95edb839edc64259afc1af0ed06cda80"
       ],
       "layout": "IPY_MODEL_4d7b1d1e882642a5addca89d959caac9"
      }
     },
     "42d3f546b58e4ad2afdb091dcdb955d4": {
      "model_module": "@jupyter-widgets/base",
      "model_module_version": "2.0.0",
      "model_name": "LayoutModel",
      "state": {}
     },
     "4477d573b0504e9e9fecb53565de6342": {
      "model_module": "@jupyter-widgets/controls",
      "model_module_version": "2.0.0",
      "model_name": "IntProgressModel",
      "state": {
       "description": "16%",
       "layout": "IPY_MODEL_84f52b47f193427b98bee4486bfbc874",
       "max": 12708826,
       "style": "IPY_MODEL_ec5e7810c59c42118d17292597ac4c95",
       "value": 2155861
      }
     },
     "4d7b1d1e882642a5addca89d959caac9": {
      "model_module": "@jupyter-widgets/base",
      "model_module_version": "2.0.0",
      "model_name": "LayoutModel",
      "state": {}
     },
     "84f52b47f193427b98bee4486bfbc874": {
      "model_module": "@jupyter-widgets/base",
      "model_module_version": "2.0.0",
      "model_name": "LayoutModel",
      "state": {}
     },
     "8e4d338205224dfe85cc59621b036b56": {
      "model_module": "@jupyter-widgets/controls",
      "model_module_version": "2.0.0",
      "model_name": "VBoxModel",
      "state": {
       "children": [
        "IPY_MODEL_3342a940a63b45789fe6b84b6616d957",
        "IPY_MODEL_deda570b9e084bea82260477a6b5e4b9"
       ],
       "layout": "IPY_MODEL_42d3f546b58e4ad2afdb091dcdb955d4"
      }
     },
     "95edb839edc64259afc1af0ed06cda80": {
      "model_module": "@jupyter-widgets/controls",
      "model_module_version": "2.0.0",
      "model_name": "ButtonModel",
      "state": {
       "description": "Save",
       "icon": "save",
       "layout": "IPY_MODEL_2e2212a865da4019a15a71d2b54079d7",
       "style": "IPY_MODEL_0ad26bee51454c95b0dd88962999ae45",
       "tooltip": null
      }
     },
     "deda570b9e084bea82260477a6b5e4b9": {
      "buffers": [
       {
        "data": "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",
        "encoding": "base64",
        "path": [
         "value"
        ]
       }
      ],
      "model_module": "@jupyter-widgets/controls",
      "model_module_version": "2.0.0",
      "model_name": "ImageModel",
      "state": {
       "height": "512",
       "layout": "IPY_MODEL_2500e9f224a04c4dbe264e0217fdbf18",
       "width": "512"
      }
     },
     "ec5e7810c59c42118d17292597ac4c95": {
      "model_module": "@jupyter-widgets/controls",
      "model_module_version": "2.0.0",
      "model_name": "ProgressStyleModel",
      "state": {
       "description_width": ""
      }
     }
    },
    "version_major": 2,
    "version_minor": 0
   }
  }
 },
 "nbformat": 4,
 "nbformat_minor": 5
}

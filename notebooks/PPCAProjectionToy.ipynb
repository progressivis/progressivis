{
 "cells": [
  {
   "cell_type": "code",
   "execution_count": 1,
   "metadata": {},
   "outputs": [],
   "source": [
    "from progressivis_nb_widgets import *"
   ]
  },
  {
   "cell_type": "code",
   "execution_count": 2,
   "metadata": {},
   "outputs": [],
   "source": [
    "from progressivis import Scheduler, Every#, log_level\n",
    "from progressivis.io import CSVLoader\n",
    "from progressivis.stats.ppca import PPCA\n",
    "from progressivis.core import aio\n",
    "from progressivis.stats.blobs_table import BlobsPTable\n",
    "from progressivis.vis import MCScatterPlot\n",
    "from progressivis.utils.psdict import PDict\n",
    "import numpy as np\n",
    "import pandas as pd\n",
    "\n",
    "async def moderator(a, b):\n",
    "    await aio.sleep(0.05)\n",
    "\n",
    "try:\n",
    "    s = scheduler\n",
    "except NameError:\n",
    "    s = Scheduler()\n",
    "\n",
    "n_samples = 10_000_000\n",
    "n_components = 2\n",
    "rtol = 0.01\n",
    "centers = [(0.1, 0.3, 0.5), (0.7, 0.5, 3.3), (-0.4, -0.3, -11.1)]\n",
    "data = BlobsPTable(columns=['_0', '_1', '_2'],  centers=centers,\n",
    "                          cluster_std=0.2, rows=n_samples, scheduler=s)\n",
    "ppca = PPCA(scheduler=s)\n",
    "ppca.input[0] = data.output.result\n",
    "ppca.params.n_components = n_components\n",
    "ppca.create_dependent_modules(rtol=rtol)\n",
    "cnames = ['samples', 'prev_samples']\n",
    "classes = []\n",
    "for cn in cnames:\n",
    "    classes.append({'name': cn, 'x_column': '_pc0',\n",
    "                    'y_column': '_pc1', 'sample': ppca.reduced, 'sample_slot': cn,\n",
    "                    'input_module': ppca.reduced, 'input_slot': 'result'})\n",
    "sp = MCScatterPlot(scheduler=s, classes=classes)\n",
    "sp.create_dependent_modules()\n",
    "for cn in cnames:\n",
    "    sp[cn].min_value.result.update({'_pc0': -np.inf, '_pc1': -np.inf})\n",
    "    sp[cn].max_value.result.update({'_pc0': np.inf, '_pc1': np.inf})\n",
    "sp_widget = Scatterplot()\n",
    "sp_widget.link_module(sp)\n",
    "s.task_start(tick_proc=moderator);"
   ]
  },
  {
   "cell_type": "code",
   "execution_count": 3,
   "metadata": {
    "scrolled": false
   },
   "outputs": [
    {
     "data": {
      "application/vnd.jupyter.widget-view+json": {
       "model_id": "add2bf295809437a9f07112593a3dc6a",
       "version_major": 2,
       "version_minor": 0
      },
      "text/plain": [
       "Scatterplot(to_hide=[])"
      ]
     },
     "metadata": {},
     "output_type": "display_data"
    },
    {
     "name": "stdout",
     "output_type": "stream",
     "text": [
      "Starting scheduler\n",
      "# Scheduler added module(s): ['blobs_table_1', 'dyn_var_1', 'dyn_var_2', 'histogram_index_1', 'histogram_index_2', 'histogram_index_3', 'histogram_index_4', 'max_1', 'max_2', 'max_3', 'max_4', 'mc_histogram2_d_1', 'mc_histogram2_d_2', 'mc_scatter_plot_1', 'merge_dict_1', 'merge_dict_2', 'merge_dict_3', 'merge_dict_4', 'min_1', 'min_2', 'min_3', 'min_4', 'ppca_1', 'ppca_transformer_1', 'range_query2d_1', 'range_query2d_2', 'sample_1']\n"
     ]
    }
   ],
   "source": [
    "display(sp_widget)"
   ]
  }
 ],
 "metadata": {
  "kernelspec": {
   "display_name": "Python 3 (ipykernel)",
   "language": "python",
   "name": "python3"
  },
  "language_info": {
   "codemirror_mode": {
    "name": "ipython",
    "version": 3
   },
   "file_extension": ".py",
   "mimetype": "text/x-python",
   "name": "python",
   "nbconvert_exporter": "python",
   "pygments_lexer": "ipython3",
   "version": "3.9.10"
  }
 },
 "nbformat": 4,
 "nbformat_minor": 2
}

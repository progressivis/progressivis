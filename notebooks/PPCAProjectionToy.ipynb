{
 "cells": [
  {
   "cell_type": "code",
   "execution_count": 1,
   "metadata": {},
   "outputs": [],
   "source": [
    "from ipyprogressivis.widgets.scatterplot import Scatterplot"
   ]
  },
  {
   "cell_type": "code",
   "execution_count": 2,
   "metadata": {},
   "outputs": [
    {
     "name": "stdout",
     "output_type": "stream",
     "text": [
      "Starting scheduler\n",
      "# Scheduler added module(s): ['binning_index_nd_1', 'binning_index_nd_2', 'blobs_p_table_1', 'mc_histogram2_d_1', 'mc_histogram2_d_2', 'mc_scatter_plot_1', 'ppca_1', 'ppca_transformer_1', 'range_query2_d_1', 'range_query2_d_2', 'sample_1', 'variable_1', 'variable_2']\n"
     ]
    },
    {
     "name": "stderr",
     "output_type": "stream",
     "text": [
      "/home/poli/JDF2016/github/progressivis/progressivis/table/binning_index.py:280: RuntimeWarning: invalid value encountered in scalar floor_divide\n",
      "  lower_bin = int((lower - origin) // bin_w)\n",
      "/home/poli/JDF2016/github/progressivis/progressivis/table/binning_index.py:289: RuntimeWarning: invalid value encountered in scalar floor_divide\n",
      "  upper_bin = int((upper - origin) // bin_w)\n",
      "/home/poli/JDF2016/github/progressivis/progressivis/table/binning_index.py:392: RuntimeWarning: invalid value encountered in scalar floor_divide\n",
      "  lower_bin = int((lower - origin) // bin_w)\n",
      "/home/poli/JDF2016/github/progressivis/progressivis/table/binning_index.py:401: RuntimeWarning: invalid value encountered in scalar floor_divide\n",
      "  upper_bin = int((upper - origin) // bin_w)\n",
      "/home/poli/JDF2016/github/progressivis/progressivis/table/binning_index.py:392: RuntimeWarning: invalid value encountered in scalar floor_divide\n",
      "  lower_bin = int((lower - origin) // bin_w)\n",
      "/home/poli/JDF2016/github/progressivis/progressivis/table/binning_index.py:401: RuntimeWarning: invalid value encountered in scalar floor_divide\n",
      "  upper_bin = int((upper - origin) // bin_w)\n",
      "/home/poli/JDF2016/github/progressivis/progressivis/table/binning_index.py:392: RuntimeWarning: invalid value encountered in scalar floor_divide\n",
      "  lower_bin = int((lower - origin) // bin_w)\n",
      "/home/poli/JDF2016/github/progressivis/progressivis/table/binning_index.py:401: RuntimeWarning: invalid value encountered in scalar floor_divide\n",
      "  upper_bin = int((upper - origin) // bin_w)\n",
      "/home/poli/JDF2016/github/progressivis/progressivis/table/binning_index.py:392: RuntimeWarning: invalid value encountered in scalar floor_divide\n",
      "  lower_bin = int((lower - origin) // bin_w)\n",
      "/home/poli/JDF2016/github/progressivis/progressivis/table/binning_index.py:401: RuntimeWarning: invalid value encountered in scalar floor_divide\n",
      "  upper_bin = int((upper - origin) // bin_w)\n",
      "/home/poli/JDF2016/github/progressivis/progressivis/table/binning_index.py:392: RuntimeWarning: invalid value encountered in scalar floor_divide\n",
      "  lower_bin = int((lower - origin) // bin_w)\n",
      "/home/poli/JDF2016/github/progressivis/progressivis/table/binning_index.py:401: RuntimeWarning: invalid value encountered in scalar floor_divide\n",
      "  upper_bin = int((upper - origin) // bin_w)\n",
      "/home/poli/JDF2016/github/progressivis/progressivis/table/binning_index.py:392: RuntimeWarning: invalid value encountered in scalar floor_divide\n",
      "  lower_bin = int((lower - origin) // bin_w)\n",
      "/home/poli/JDF2016/github/progressivis/progressivis/table/binning_index.py:401: RuntimeWarning: invalid value encountered in scalar floor_divide\n",
      "  upper_bin = int((upper - origin) // bin_w)\n",
      "/home/poli/JDF2016/github/progressivis/progressivis/table/binning_index.py:392: RuntimeWarning: invalid value encountered in scalar floor_divide\n",
      "  lower_bin = int((lower - origin) // bin_w)\n",
      "/home/poli/JDF2016/github/progressivis/progressivis/table/binning_index.py:401: RuntimeWarning: invalid value encountered in scalar floor_divide\n",
      "  upper_bin = int((upper - origin) // bin_w)\n",
      "/home/poli/JDF2016/github/progressivis/progressivis/table/binning_index.py:392: RuntimeWarning: invalid value encountered in scalar floor_divide\n",
      "  lower_bin = int((lower - origin) // bin_w)\n",
      "/home/poli/JDF2016/github/progressivis/progressivis/table/binning_index.py:401: RuntimeWarning: invalid value encountered in scalar floor_divide\n",
      "  upper_bin = int((upper - origin) // bin_w)\n",
      "/home/poli/JDF2016/github/progressivis/progressivis/table/binning_index.py:392: RuntimeWarning: invalid value encountered in scalar floor_divide\n",
      "  lower_bin = int((lower - origin) // bin_w)\n",
      "/home/poli/JDF2016/github/progressivis/progressivis/table/binning_index.py:401: RuntimeWarning: invalid value encountered in scalar floor_divide\n",
      "  upper_bin = int((upper - origin) // bin_w)\n",
      "/home/poli/JDF2016/github/progressivis/progressivis/table/binning_index.py:392: RuntimeWarning: invalid value encountered in scalar floor_divide\n",
      "  lower_bin = int((lower - origin) // bin_w)\n",
      "/home/poli/JDF2016/github/progressivis/progressivis/table/binning_index.py:401: RuntimeWarning: invalid value encountered in scalar floor_divide\n",
      "  upper_bin = int((upper - origin) // bin_w)\n",
      "/home/poli/JDF2016/github/progressivis/progressivis/table/binning_index.py:392: RuntimeWarning: invalid value encountered in scalar floor_divide\n",
      "  lower_bin = int((lower - origin) // bin_w)\n",
      "/home/poli/JDF2016/github/progressivis/progressivis/table/binning_index.py:401: RuntimeWarning: invalid value encountered in scalar floor_divide\n",
      "  upper_bin = int((upper - origin) // bin_w)\n",
      "/home/poli/JDF2016/github/progressivis/progressivis/table/binning_index.py:392: RuntimeWarning: invalid value encountered in scalar floor_divide\n",
      "  lower_bin = int((lower - origin) // bin_w)\n",
      "/home/poli/JDF2016/github/progressivis/progressivis/table/binning_index.py:401: RuntimeWarning: invalid value encountered in scalar floor_divide\n",
      "  upper_bin = int((upper - origin) // bin_w)\n",
      "/home/poli/JDF2016/github/progressivis/progressivis/table/binning_index.py:392: RuntimeWarning: invalid value encountered in scalar floor_divide\n",
      "  lower_bin = int((lower - origin) // bin_w)\n",
      "/home/poli/JDF2016/github/progressivis/progressivis/table/binning_index.py:401: RuntimeWarning: invalid value encountered in scalar floor_divide\n",
      "  upper_bin = int((upper - origin) // bin_w)\n",
      "/home/poli/JDF2016/github/progressivis/progressivis/table/binning_index.py:392: RuntimeWarning: invalid value encountered in scalar floor_divide\n",
      "  lower_bin = int((lower - origin) // bin_w)\n",
      "/home/poli/JDF2016/github/progressivis/progressivis/table/binning_index.py:401: RuntimeWarning: invalid value encountered in scalar floor_divide\n",
      "  upper_bin = int((upper - origin) // bin_w)\n"
     ]
    }
   ],
   "source": [
    "from progressivis import Scheduler, Every#, log_level\n",
    "from progressivis.io.api import CSVLoader\n",
    "from progressivis.stats.ppca import PPCA\n",
    "from progressivis.core import aio\n",
    "from progressivis.stats.blobs_table import BlobsPTable\n",
    "from progressivis.vis import MCScatterPlot\n",
    "from progressivis.utils.psdict import PDict\n",
    "import numpy as np\n",
    "import pandas as pd\n",
    "\n",
    "async def moderator(a, b):\n",
    "    await aio.sleep(0.05)\n",
    "\n",
    "try:\n",
    "    s = scheduler\n",
    "except NameError:\n",
    "    s = Scheduler()\n",
    "\n",
    "n_samples = 10_000_000\n",
    "n_components = 2\n",
    "rtol = 0.01\n",
    "centers = [(0.1, 0.3, 0.5), (0.7, 0.5, 3.3), (-0.4, -0.3, -11.1)]\n",
    "data = BlobsPTable(columns=['_0', '_1', '_2'],  centers=centers,\n",
    "                          cluster_std=0.2, rows=n_samples, scheduler=s)\n",
    "ppca = PPCA(scheduler=s)\n",
    "ppca.input[0] = data.output.result\n",
    "ppca.params.n_components = n_components\n",
    "ppca.create_dependent_modules(rtol=rtol)\n",
    "cnames = ['samples', 'prev_samples']\n",
    "classes = []\n",
    "for cn in cnames:\n",
    "    classes.append({'name': cn, 'x_column': '_pc0',\n",
    "                    'y_column': '_pc1', 'sample': ppca.dep.reduced, 'sample_slot': cn,\n",
    "                    'input_module': ppca.dep.reduced, 'input_slot': 'result'})\n",
    "sp = MCScatterPlot(scheduler=s, classes=classes)\n",
    "sp.create_dependent_modules()\n",
    "for cn in cnames:\n",
    "    sp[cn].min_value.result.update({'_pc0': -np.inf, '_pc1': -np.inf})\n",
    "    sp[cn].max_value.result.update({'_pc0': np.inf, '_pc1': np.inf})\n",
    "sp_widget = Scatterplot()\n",
    "sp_widget.link_module(sp)\n",
    "s.task_start(tick_proc=moderator);"
   ]
  },
  {
   "cell_type": "code",
   "execution_count": 3,
   "metadata": {},
   "outputs": [
    {
     "data": {
      "application/vnd.jupyter.widget-view+json": {
       "model_id": "325fa93b5d114237a9fe0f1b082e25e2",
       "version_major": 2,
       "version_minor": 0
      },
      "text/plain": [
       "Scatterplot()"
      ]
     },
     "metadata": {},
     "output_type": "display_data"
    }
   ],
   "source": [
    "display(sp_widget)"
   ]
  }
 ],
 "metadata": {
  "kernelspec": {
   "display_name": "Python 3 (ipykernel)",
   "language": "python",
   "name": "python3"
  },
  "language_info": {
   "codemirror_mode": {
    "name": "ipython",
    "version": 3
   },
   "file_extension": ".py",
   "mimetype": "text/x-python",
   "name": "python",
   "nbconvert_exporter": "python",
   "pygments_lexer": "ipython3",
   "version": "3.13.2"
  },
  "widgets": {
   "application/vnd.jupyter.widget-state+json": {
    "state": {
     "325fa93b5d114237a9fe0f1b082e25e2": {
      "buffers": [
       {
        "data": "",
        "encoding": "base64",
        "path": [
         "hists",
         "buffer"
        ]
       },
       {
        "data": "",
        "encoding": "base64",
        "path": [
         "samples",
         "buffer"
        ]
       }
      ],
      "model_module": "jupyter-progressivis",
      "model_module_version": "^0.1.0",
      "model_name": "ScatterplotModel",
      "state": {
       "_model_module_version": "^0.1.0",
       "_view_module_version": "^0.1.0",
       "data": "{}",
       "hists": {
        "dtype": "int32",
        "shape": [
         0
        ]
       },
       "layout": "IPY_MODEL_7615447428a142cca2a31315e7a87202",
       "move_point": "{}",
       "samples": {
        "dtype": "float32",
        "shape": [
         0,
         0,
         0
        ]
       },
       "value": "{}"
      }
     },
     "7615447428a142cca2a31315e7a87202": {
      "model_module": "@jupyter-widgets/base",
      "model_module_version": "2.0.0",
      "model_name": "LayoutModel",
      "state": {}
     }
    },
    "version_major": 2,
    "version_minor": 0
   }
  }
 },
 "nbformat": 4,
 "nbformat_minor": 4
}

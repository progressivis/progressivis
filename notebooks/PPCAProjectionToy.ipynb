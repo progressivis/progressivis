{
 "cells": [
  {
   "cell_type": "code",
   "execution_count": null,
   "metadata": {},
   "outputs": [],
   "source": [
    "from progressivis_nb_widgets import *"
   ]
  },
  {
   "cell_type": "code",
   "execution_count": null,
   "metadata": {},
   "outputs": [],
   "source": [
    "from progressivis import Scheduler, Every#, log_level\n",
    "from progressivis.io import CSVLoader\n",
    "from progressivis.stats.ppca import PPCA\n",
    "from progressivis.core import aio\n",
    "from progressivis.stats.blobs_table import BlobsTable\n",
    "from progressivis.vis import MCScatterPlot\n",
    "from progressivis.utils.psdict import PsDict\n",
    "from progressivis.core.utils import gather_and_run\n",
    "import numpy as np\n",
    "import pandas as pd\n",
    "\n",
    "async def moderator(a, b):\n",
    "    await aio.sleep(0.05)\n",
    "\n",
    "try:\n",
    "    s = scheduler\n",
    "except NameError:\n",
    "    s = Scheduler()\n",
    "\n",
    "n_samples = 10_000_000\n",
    "n_components = 2\n",
    "rtol = 0.01\n",
    "centers = [(0.1, 0.3, 0.5), (0.7, 0.5, 3.3), (-0.4, -0.3, -11.1)]\n",
    "data = BlobsTable(columns=['_0', '_1', '_2'],  centers=centers,\n",
    "                          cluster_std=0.2, rows=n_samples, scheduler=s)\n",
    "ppca = PPCA(scheduler=s)\n",
    "ppca.input[0] = data.output.result\n",
    "ppca.params.n_components = n_components\n",
    "ppca.create_dependent_modules(rtol=rtol)\n",
    "cnames = ['samples', 'prev_samples']\n",
    "classes = []\n",
    "for cn in cnames:\n",
    "    classes.append({'name': cn, 'x_column': '_pc0',\n",
    "                    'y_column': '_pc1', 'sample': ppca.reduced, 'sample_slot': cn,\n",
    "                    'input_module': ppca.reduced, 'input_slot': 'result'})\n",
    "sp = MCScatterPlot(scheduler=s, classes=classes)\n",
    "sp.create_dependent_modules()\n",
    "for cn in cnames:\n",
    "    sp[cn].min_value.result = PsDict({'_pc0': -np.inf, '_pc1': -np.inf})\n",
    "    sp[cn].max_value.result = PsDict({'_pc0': np.inf, '_pc1': np.inf})\n",
    "sp_widget = Scatterplot()\n",
    "widget_coros = sp_widget.link_module(sp)\n",
    "gather_and_run(s.start(tick_proc=moderator), *widget_coros)"
   ]
  },
  {
   "cell_type": "code",
   "execution_count": null,
   "metadata": {
    "scrolled": false
   },
   "outputs": [],
   "source": [
    "display(sp_widget)"
   ]
  }
 ],
 "metadata": {
  "kernelspec": {
   "display_name": "Python 3",
   "language": "python",
   "name": "python3"
  },
  "language_info": {
   "codemirror_mode": {
    "name": "ipython",
    "version": 3
   },
   "file_extension": ".py",
   "mimetype": "text/x-python",
   "name": "python",
   "nbconvert_exporter": "python",
   "pygments_lexer": "ipython3",
   "version": "3.7.4"
  }
 },
 "nbformat": 4,
 "nbformat_minor": 2
}

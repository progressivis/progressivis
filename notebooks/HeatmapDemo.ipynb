{
 "cells": [
  {
   "cell_type": "markdown",
   "id": "partial-springer",
   "metadata": {},
   "source": [
    "## Listing 1. Visualizing the Heatmap of a large data table with ProgressiVis"
   ]
  },
  {
   "cell_type": "code",
   "execution_count": 1,
   "id": "055a7afc-58ae-467b-bbce-064f1080038a",
   "metadata": {},
   "outputs": [],
   "source": [
    "from progressivis import Scheduler\n",
    "from progressivis.io import CSVLoader\n",
    "from progressivis.stats import Histogram2D, Min, Max\n",
    "from progressivis.vis import Heatmap"
   ]
  },
  {
   "cell_type": "code",
   "execution_count": 2,
   "id": "f6708ee2-4c10-4f6c-9208-1af4a5d020a0",
   "metadata": {},
   "outputs": [],
   "source": [
    "# URLS = [f\"https://s3.amazonaws.com/nyc-tlc/trip+data/yellow_tripdata_2015-0{n}.csv\" for n in range(1,7)]\n",
    "URLS = [f\"/home/fekete/src/nyc-taxi/yellow_tripdata_2015-0{n}.csv.bz2\" for n in range(1,7)]\n",
    "def filter_(df):\n",
    "    lon = df['pickup_longitude']\n",
    "    lat = df['pickup_latitude']\n",
    "    return df[(lon>-74.10)&(lon<-73.7)&(lat>40.60)&(lat<41)]\n",
    "\n"
   ]
  },
  {
   "cell_type": "code",
   "execution_count": 3,
   "id": "geographic-shannon",
   "metadata": {},
   "outputs": [],
   "source": [
    "s = Scheduler.default = Scheduler()\n",
    "\n",
    "csv_module = CSVLoader(URLS,\n",
    "                       index_col=False,\n",
    "                       skipinitialspace=True,\n",
    "                       filter_=filter_,\n",
    "                        usecols=['pickup_longitude', 'pickup_latitude']) # load many compressed CSV files\n",
    "min_module = Min() # computes the min value of each column\n",
    "min_module.input.table = csv_module.output.result\n",
    "max_module = Max() # computes the max value of each column\n",
    "max_module.input.table = csv_module.output.result\n",
    "histogram2d = Histogram2D('pickup_longitude', # compute a 2d histogram\n",
    "                          'pickup_latitude', \n",
    "                          xbins=256, ybins=256)\n",
    "histogram2d.input.table = csv_module.output.result\n",
    "histogram2d.input.min = min_module.output.result\n",
    "histogram2d.input.max = max_module.output.result\n",
    "heatmap=Heatmap() # compute the Heatmap\n",
    "heatmap.input.array = histogram2d.output.result"
   ]
  },
  {
   "cell_type": "markdown",
   "id": "revised-kuwait",
   "metadata": {},
   "source": [
    "**NB:** the results will appear below after running all cells :"
   ]
  },
  {
   "cell_type": "code",
   "execution_count": 4,
   "id": "fleet-final",
   "metadata": {},
   "outputs": [
    {
     "data": {
      "application/vnd.jupyter.widget-view+json": {
       "model_id": "8b115e90891f48938047562a489922fa",
       "version_major": 2,
       "version_minor": 0
      },
      "text/plain": [
       "Image(value=b'\\x00', height='512', width='512')"
      ]
     },
     "metadata": {},
     "output_type": "display_data"
    },
    {
     "data": {
      "application/vnd.jupyter.widget-view+json": {
       "model_id": "e6a6411481ad4fd4960ddf2ad7e78a3c",
       "version_major": 2,
       "version_minor": 0
      },
      "text/plain": [
       "HBox(children=(IntText(value=0, disabled=True), Button(description='Stop', style=ButtonStyle())))"
      ]
     },
     "metadata": {},
     "output_type": "display_data"
    }
   ],
   "source": [
    "import ipywidgets as ipw\n",
    "from IPython.display import display\n",
    "wg = ipw.Image(value=b'\\x00', width=512, height=512)\n",
    "wint = ipw.IntText(value=0, disabled=True)\n",
    "bstop = ipw.Button(description=\"Stop\")\n",
    "def stop(b):\n",
    "    s.task_stop()\n",
    "bstop.on_click(stop)\n",
    "\n",
    "display(wg, ipw.HBox([wint, bstop]))\n",
    "async def _after_run(m, run_number):\n",
    "    global wg, wint\n",
    "    img = m.get_image_bin()\n",
    "    if img is None:\n",
    "        return\n",
    "    wg.value = img\n",
    "    wint.value = m.last_update()\n",
    "heatmap.on_after_run(_after_run)"
   ]
  },
  {
   "cell_type": "code",
   "execution_count": 5,
   "id": "recent-marks",
   "metadata": {},
   "outputs": [
    {
     "data": {
      "text/plain": [
       "<Task pending name='Task-5' coro=<Scheduler.start() running at /home/fekete/src/progressivis/progressivis/core/scheduler.py:273>>"
      ]
     },
     "execution_count": 5,
     "metadata": {},
     "output_type": "execute_result"
    }
   ],
   "source": [
    "s.task_start()"
   ]
  },
  {
   "cell_type": "code",
   "execution_count": 6,
   "id": "7e5eb5b1-57af-495c-8a3d-4699c422e912",
   "metadata": {},
   "outputs": [],
   "source": [
    "# s.task_stop()\n",
    "# heatmap.params.transform = 4"
   ]
  },
  {
   "cell_type": "code",
   "execution_count": 7,
   "id": "b9aa5fa3-75c6-4bf6-86a4-19233231c6c6",
   "metadata": {},
   "outputs": [
    {
     "name": "stdout",
     "output_type": "stream",
     "text": [
      "Starting scheduler\n",
      "# Scheduler added module(s): ['csv_loader_1', 'heatmap_1', 'histogram2_d_1', 'max_1', 'min_1']\n"
     ]
    },
    {
     "data": {
      "text/plain": [
       "0"
      ]
     },
     "execution_count": 7,
     "metadata": {},
     "output_type": "execute_result"
    }
   ],
   "source": [
    "s.run_number()"
   ]
  },
  {
   "cell_type": "code",
   "execution_count": null,
   "id": "a6806f8f-a6b2-4358-8721-a62de8cb795b",
   "metadata": {},
   "outputs": [],
   "source": []
  }
 ],
 "metadata": {
  "kernelspec": {
   "display_name": "Python 3 (ipykernel)",
   "language": "python",
   "name": "python3"
  },
  "language_info": {
   "codemirror_mode": {
    "name": "ipython",
    "version": 3
   },
   "file_extension": ".py",
   "mimetype": "text/x-python",
   "name": "python",
   "nbconvert_exporter": "python",
   "pygments_lexer": "ipython3",
   "version": "3.11.10"
  }
 },
 "nbformat": 4,
 "nbformat_minor": 5
}

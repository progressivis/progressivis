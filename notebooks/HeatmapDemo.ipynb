{
 "cells": [
  {
   "cell_type": "markdown",
   "id": "partial-springer",
   "metadata": {},
   "source": [
    "## Listing 1. Visualizing the Heatmap of a large data table with ProgressiVis"
   ]
  },
  {
   "cell_type": "code",
   "execution_count": 1,
   "id": "055a7afc-58ae-467b-bbce-064f1080038a",
   "metadata": {},
   "outputs": [],
   "source": [
    "from progressivis import Scheduler\n",
    "from progressivis.io.api import CSVLoader\n",
    "from progressivis.stats.api import Histogram2D, Min, Max\n",
    "from progressivis.vis import Heatmap"
   ]
  },
  {
   "cell_type": "code",
   "execution_count": 2,
   "id": "f6708ee2-4c10-4f6c-9208-1af4a5d020a0",
   "metadata": {},
   "outputs": [],
   "source": [
    "# URLS = [f\"https://s3.amazonaws.com/nyc-tlc/trip+data/yellow_tripdata_2015-0{n}.csv\" for n in range(1,7)]\n",
    "URLS = [f\"https://www.aviz.fr/nyc-taxi/yellow_tripdata_2015-0{n}.csv.bz2\" for n in range(1,7)]\n",
    "def filter_(df):\n",
    "    lon = df['pickup_longitude']\n",
    "    lat = df['pickup_latitude']\n",
    "    return df[(lon>-74.10)&(lon<-73.7)&(lat>40.60)&(lat<41)]\n",
    "\n"
   ]
  },
  {
   "cell_type": "code",
   "execution_count": 3,
   "id": "geographic-shannon",
   "metadata": {},
   "outputs": [],
   "source": [
    "s = Scheduler.default = Scheduler()\n",
    "\n",
    "csv_module = CSVLoader(URLS,\n",
    "                       skipinitialspace=True,\n",
    "                       filter_=filter_,\n",
    "                        usecols=['pickup_longitude', 'pickup_latitude']) # load many compressed CSV files\n",
    "min_module = Min() # computes the min value of each column\n",
    "min_module.input.table = csv_module.output.result\n",
    "max_module = Max() # computes the max value of each column\n",
    "max_module.input.table = csv_module.output.result\n",
    "histogram2d = Histogram2D('pickup_longitude', # compute a 2d histogram\n",
    "                          'pickup_latitude', \n",
    "                          xbins=256, ybins=256)\n",
    "histogram2d.input.table = csv_module.output.result\n",
    "histogram2d.input.min = min_module.output.result\n",
    "histogram2d.input.max = max_module.output.result\n",
    "heatmap=Heatmap() # compute the Heatmap\n",
    "heatmap.input.array = histogram2d.output.result"
   ]
  },
  {
   "cell_type": "markdown",
   "id": "revised-kuwait",
   "metadata": {},
   "source": [
    "**NB:** the results will appear below after running all cells :"
   ]
  },
  {
   "cell_type": "code",
   "execution_count": 4,
   "id": "fleet-final",
   "metadata": {},
   "outputs": [
    {
     "data": {
      "application/vnd.jupyter.widget-view+json": {
       "model_id": "90ebdf29e64340d391a14297044fdb5f",
       "version_major": 2,
       "version_minor": 0
      },
      "text/plain": [
       "Image(value=b'\\x00', height='512', width='512')"
      ]
     },
     "metadata": {},
     "output_type": "display_data"
    },
    {
     "data": {
      "application/vnd.jupyter.widget-view+json": {
       "model_id": "1e2f0fdee26b4d0aa004fbf833dd5dee",
       "version_major": 2,
       "version_minor": 0
      },
      "text/plain": [
       "HBox(children=(IntText(value=0, disabled=True), Button(description='Stop', style=ButtonStyle())))"
      ]
     },
     "metadata": {},
     "output_type": "display_data"
    }
   ],
   "source": [
    "import ipywidgets as ipw\n",
    "from IPython.display import display\n",
    "wg = ipw.Image(value=b'\\x00', width=512, height=512)\n",
    "wint = ipw.IntText(value=0, disabled=True)\n",
    "bstop = ipw.Button(description=\"Stop\")\n",
    "def stop(b):\n",
    "    s.task_stop()\n",
    "bstop.on_click(stop)\n",
    "\n",
    "display(wg, ipw.HBox([wint, bstop]))\n",
    "async def _after_run(m, run_number):\n",
    "    global wg, wint\n",
    "    img = m.get_image_bin()\n",
    "    if img is None:\n",
    "        return\n",
    "    wg.value = img\n",
    "    wint.value = m.last_update()\n",
    "heatmap.on_after_run(_after_run)"
   ]
  },
  {
   "cell_type": "code",
   "execution_count": 5,
   "id": "recent-marks",
   "metadata": {},
   "outputs": [
    {
     "data": {
      "text/plain": [
       "<Task pending name='Task-5' coro=<Scheduler.start() running at /home/poli/JDF2016/github/progressivis/progressivis/core/scheduler.py:277>>"
      ]
     },
     "execution_count": 5,
     "metadata": {},
     "output_type": "execute_result"
    },
    {
     "name": "stdout",
     "output_type": "stream",
     "text": [
      "Starting scheduler\n",
      "# Scheduler added module(s): ['csv_loader_1', 'heatmap_1', 'histogram2_d_1', 'max_1', 'min_1']\n"
     ]
    }
   ],
   "source": [
    "s.task_start()"
   ]
  },
  {
   "cell_type": "code",
   "execution_count": 6,
   "id": "7e5eb5b1-57af-495c-8a3d-4699c422e912",
   "metadata": {},
   "outputs": [],
   "source": [
    "# s.task_stop()\n",
    "# heatmap.params.transform = 4"
   ]
  },
  {
   "cell_type": "code",
   "execution_count": 7,
   "id": "b9aa5fa3-75c6-4bf6-86a4-19233231c6c6",
   "metadata": {},
   "outputs": [
    {
     "name": "stdout",
     "output_type": "stream",
     "text": [
      "Starting scheduler\n",
      "# Scheduler added module(s): ['csv_loader_1', 'heatmap_1', 'histogram2_d_1', 'max_1', 'min_1']\n"
     ]
    },
    {
     "data": {
      "text/plain": [
       "0"
      ]
     },
     "execution_count": 7,
     "metadata": {},
     "output_type": "execute_result"
    }
   ],
   "source": [
    "s.run_number()"
   ]
  },
  {
   "cell_type": "code",
   "execution_count": null,
   "id": "a6806f8f-a6b2-4358-8721-a62de8cb795b",
   "metadata": {},
   "outputs": [],
   "source": []
  }
 ],
 "metadata": {
  "kernelspec": {
   "display_name": "Python 3 (ipykernel)",
   "language": "python",
   "name": "python3"
  },
  "language_info": {
   "codemirror_mode": {
    "name": "ipython",
    "version": 3
   },
   "file_extension": ".py",
   "mimetype": "text/x-python",
   "name": "python",
   "nbconvert_exporter": "python",
   "pygments_lexer": "ipython3",
   "version": "3.13.2"
  },
  "widgets": {
   "application/vnd.jupyter.widget-state+json": {
    "state": {
     "14a68ee009744819ac58a713a5f001c1": {
      "model_module": "@jupyter-widgets/controls",
      "model_module_version": "2.0.0",
      "model_name": "ButtonModel",
      "state": {
       "description": "Stop",
       "layout": "IPY_MODEL_6efed19e7d5a4c2f873f42a794683720",
       "style": "IPY_MODEL_ef5fd055e7544a0abd21f988e15b29d8",
       "tooltip": null
      }
     },
     "1e2f0fdee26b4d0aa004fbf833dd5dee": {
      "model_module": "@jupyter-widgets/controls",
      "model_module_version": "2.0.0",
      "model_name": "HBoxModel",
      "state": {
       "children": [
        "IPY_MODEL_e40b48898cfa47bb926cc5d4731e74e3",
        "IPY_MODEL_14a68ee009744819ac58a713a5f001c1"
       ],
       "layout": "IPY_MODEL_e103c6a2267d4d8788b9c9f47f102c09"
      }
     },
     "3b2d7482c1324cee9bc16521e0137750": {
      "model_module": "@jupyter-widgets/base",
      "model_module_version": "2.0.0",
      "model_name": "LayoutModel",
      "state": {}
     },
     "6efed19e7d5a4c2f873f42a794683720": {
      "model_module": "@jupyter-widgets/base",
      "model_module_version": "2.0.0",
      "model_name": "LayoutModel",
      "state": {}
     },
     "90ebdf29e64340d391a14297044fdb5f": {
      "buffers": [
       {
        "data": "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",
        "encoding": "base64",
        "path": [
         "value"
        ]
       }
      ],
      "model_module": "@jupyter-widgets/controls",
      "model_module_version": "2.0.0",
      "model_name": "ImageModel",
      "state": {
       "height": "512",
       "layout": "IPY_MODEL_c3ba8a64eca345b69af62274858b5084",
       "width": "512"
      }
     },
     "c3ba8a64eca345b69af62274858b5084": {
      "model_module": "@jupyter-widgets/base",
      "model_module_version": "2.0.0",
      "model_name": "LayoutModel",
      "state": {}
     },
     "e103c6a2267d4d8788b9c9f47f102c09": {
      "model_module": "@jupyter-widgets/base",
      "model_module_version": "2.0.0",
      "model_name": "LayoutModel",
      "state": {}
     },
     "e2e990fd446341dfa5c77c8863116113": {
      "model_module": "@jupyter-widgets/controls",
      "model_module_version": "2.0.0",
      "model_name": "DescriptionStyleModel",
      "state": {
       "description_width": ""
      }
     },
     "e40b48898cfa47bb926cc5d4731e74e3": {
      "model_module": "@jupyter-widgets/controls",
      "model_module_version": "2.0.0",
      "model_name": "IntTextModel",
      "state": {
       "disabled": true,
       "layout": "IPY_MODEL_3b2d7482c1324cee9bc16521e0137750",
       "step": 1,
       "style": "IPY_MODEL_e2e990fd446341dfa5c77c8863116113",
       "value": 265
      }
     },
     "ef5fd055e7544a0abd21f988e15b29d8": {
      "model_module": "@jupyter-widgets/controls",
      "model_module_version": "2.0.0",
      "model_name": "ButtonStyleModel",
      "state": {
       "font_family": null,
       "font_size": null,
       "font_style": null,
       "font_variant": null,
       "font_weight": null,
       "text_color": null,
       "text_decoration": null
      }
     }
    },
    "version_major": 2,
    "version_minor": 0
   }
  }
 },
 "nbformat": 4,
 "nbformat_minor": 5
}

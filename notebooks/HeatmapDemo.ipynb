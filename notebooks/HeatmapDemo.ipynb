{
 "cells": [
  {
   "cell_type": "markdown",
   "id": "partial-springer",
   "metadata": {},
   "source": [
    "## Listing 1. Visualizing the Heatmap of a large data table with ProgressiVis"
   ]
  },
  {
   "cell_type": "code",
   "execution_count": 1,
   "id": "geographic-shannon",
   "metadata": {},
   "outputs": [],
   "source": [
    "from progressivis import Scheduler\n",
    "from progressivis.io import CSVLoader\n",
    "from progressivis.stats import Histogram2D, Min, Max\n",
    "from progressivis.datasets import get_dataset\n",
    "from progressivis.vis import Heatmap\n",
    "s = Scheduler.default = Scheduler()\n",
    "URLS = [f\"https://s3.amazonaws.com/nyc-tlc/trip+data/yellow_tripdata_2015-0{n}.csv\" for n in range(1,7)]\n",
    "csv_module = CSVLoader(URLS, index_col=False, skipinitialspace=True,\n",
    "                usecols=['pickup_longitude', 'pickup_latitude']) # load many compressed CSV files\n",
    "min_module = Min() # computes the min value of each column\n",
    "min_module.input.table = csv_module.output.result\n",
    "max_module = Max() # computes the max value of each column\n",
    "max_module.input.table = csv_module.output.result\n",
    "histogram2d = Histogram2D('pickup_longitude', # compute a 2d histogram\n",
    "                          'pickup_latitude', \n",
    "                          xbins=256, ybins=256)\n",
    "histogram2d.input.table = csv_module.output.result\n",
    "histogram2d.input.min = min_module.output.result\n",
    "histogram2d.input.max = max_module.output.result\n",
    "heatmap=Heatmap() # compute the Heatmap\n",
    "heatmap.input.array = histogram2d.output.result"
   ]
  },
  {
   "cell_type": "markdown",
   "id": "revised-kuwait",
   "metadata": {},
   "source": [
    "**NB:** the results will appear below after running all cells :"
   ]
  },
  {
   "cell_type": "code",
   "execution_count": 2,
   "id": "fleet-final",
   "metadata": {},
   "outputs": [
    {
     "data": {
      "application/vnd.jupyter.widget-view+json": {
       "model_id": "7fa382a1f4f74a7987fab2eb99908c87",
       "version_major": 2,
       "version_minor": 0
      },
      "text/plain": [
       "Image(value=b'\\x89PNG\\r\\n\\x1a\\n\\x00\\x00\\x00\\rIHDR\\x00\\x00\\x01\\x00\\x00\\x00\\x01\\x00\\x10\\x00\\x00\\x00\\x00)\\x89+\\xf…"
      ]
     },
     "metadata": {},
     "output_type": "display_data"
    }
   ],
   "source": [
    "import ipywidgets as ipw\n",
    "from IPython.display import display\n",
    "wg = None\n",
    "async def _after_run(m, run_number):\n",
    "    global wg\n",
    "    img = m.get_image_bin()\n",
    "    if img is None:\n",
    "        return\n",
    "    if wg is None:\n",
    "        wg = ipw.Image(value=img, width=512, height=512)\n",
    "        display(wg)\n",
    "    else:\n",
    "        wg.value = img\n",
    "heatmap.after_run_proc = _after_run\n",
    "\n",
    "s.task_start();"
   ]
  },
  {
   "cell_type": "code",
   "execution_count": 3,
   "id": "recent-marks",
   "metadata": {},
   "outputs": [
    {
     "data": {
      "text/html": [
       "\n",
       "<style scoped>\n",
       "    .dataframe tbody tr th:only-of-type {\n",
       "        vertical-align: middle;\n",
       "    }\n",
       "\n",
       "    .dataframe tbody tr th {\n",
       "        vertical-align: top;\n",
       "    }\n",
       "\n",
       "    .dataframe thead th {\n",
       "        text-align: right;\n",
       "    }\n",
       "</style>\n",
       "<p><b>Scheduler</b> 0x7f7a904dae50 <b>modules:</b> 5,\n",
       "        <b>running</b>,\n",
       "        <b>run number:</b> 68\n",
       "</p>\n",
       "<table border=\"1\" class=\"dataframe\">\n",
       "  <thead>\n",
       "    <tr style=\"text-align: right;\">\n",
       "      <th>Id</th><th>Class</th><th>State</th><th>Last Update</th><th>Order</th>\n",
       "    </tr>\n",
       "  </thead>\n",
       "  <tbody><tr><td>csv_loader_1</td><td>csv_loader</td><td>ready</td><td>66</td><td>0</td><tr><td>min_1</td><td>min</td><td>blocked</td><td>67</td><td>1</td><tr><td>max_1</td><td>max</td><td>blocked</td><td>68</td><td>2</td><tr><td>histogram2_d_1</td><td>histogram2_d</td><td>blocked</td><td>64</td><td>3</td><tr><td>heatmap_1</td><td>heatmap</td><td>blocked</td><td>65</td><td>4</td></tbody></table>"
      ],
      "text/plain": [
       "<progressivis.core.scheduler.Scheduler at 0x7f7a904dae50>"
      ]
     },
     "execution_count": 3,
     "metadata": {},
     "output_type": "execute_result"
    }
   ],
   "source": [
    "s"
   ]
  },
  {
   "cell_type": "code",
   "execution_count": 4,
   "id": "convenient-arrow",
   "metadata": {},
   "outputs": [
    {
     "data": {
      "text/html": [
       "\n",
       "<style scoped>\n",
       "    .dataframe tbody tr th:only-of-type {\n",
       "        vertical-align: middle;\n",
       "    }\n",
       "\n",
       "    .dataframe tbody tr th {\n",
       "        vertical-align: top;\n",
       "    }\n",
       "\n",
       "    .dataframe thead th {\n",
       "        text-align: right;\n",
       "    }\n",
       "</style>\n",
       "<p><b>Scheduler</b> 0x7f7a904dae50 <b>modules:</b> 5,\n",
       "        <b>running</b>,\n",
       "        <b>run number:</b> 248\n",
       "</p>\n",
       "<table border=\"1\" class=\"dataframe\">\n",
       "  <thead>\n",
       "    <tr style=\"text-align: right;\">\n",
       "      <th>Id</th><th>Class</th><th>State</th><th>Last Update</th><th>Order</th>\n",
       "    </tr>\n",
       "  </thead>\n",
       "  <tbody><tr><td>csv_loader_1</td><td>csv_loader</td><td>ready</td><td>246</td><td>0</td><tr><td>min_1</td><td>min</td><td>blocked</td><td>247</td><td>1</td><tr><td>max_1</td><td>max</td><td>blocked</td><td>248</td><td>2</td><tr><td>histogram2_d_1</td><td>histogram2_d</td><td>blocked</td><td>244</td><td>3</td><tr><td>heatmap_1</td><td>heatmap</td><td>blocked</td><td>245</td><td>4</td></tbody></table>"
      ],
      "text/plain": [
       "<progressivis.core.scheduler.Scheduler at 0x7f7a904dae50>"
      ]
     },
     "execution_count": 4,
     "metadata": {},
     "output_type": "execute_result"
    }
   ],
   "source": [
    "s"
   ]
  },
  {
   "cell_type": "code",
   "execution_count": 5,
   "id": "regional-florist",
   "metadata": {},
   "outputs": [
    {
     "data": {
      "text/plain": [
       "<Task pending name='Task-4' coro=<Scheduler.stop() running at /home/fekete/src/progressivis/progressivis/core/scheduler.py:509>>"
      ]
     },
     "execution_count": 5,
     "metadata": {},
     "output_type": "execute_result"
    }
   ],
   "source": [
    "s.task_stop()"
   ]
  },
  {
   "cell_type": "code",
   "execution_count": null,
   "id": "radical-illustration",
   "metadata": {},
   "outputs": [],
   "source": []
  }
 ],
 "metadata": {
  "kernelspec": {
   "display_name": "Python 3",
   "language": "python",
   "name": "python3"
  },
  "language_info": {
   "codemirror_mode": {
    "name": "ipython",
    "version": 3
   },
   "file_extension": ".py",
   "mimetype": "text/x-python",
   "name": "python",
   "nbconvert_exporter": "python",
   "pygments_lexer": "ipython3",
   "version": "3.8.5"
  }
 },
 "nbformat": 4,
 "nbformat_minor": 5
}

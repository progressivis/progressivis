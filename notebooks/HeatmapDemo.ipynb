{
 "cells": [
  {
   "cell_type": "code",
   "execution_count": null,
   "id": "geographic-shannon",
   "metadata": {},
   "outputs": [],
   "source": [
    "from progressivis import Scheduler\n",
    "from progressivis.io import CSVLoader\n",
    "from progressivis.stats import Histogram2D, Min, Max\n",
    "from progressivis.datasets import get_dataset\n",
    "from progressivis.vis import Heatmap\n",
    "s = Scheduler.default = Scheduler()\n",
    "URLS = [f\"https://s3.amazonaws.com/nyc-tlc/trip+data/yellow_tripdata_2015-0{n}.csv\" for n in range(1,7)]\n",
    "csv_module = CSVLoader(URLS, index_col=False, skipinitialspace=True,\n",
    "                usecols=['pickup_longitude', 'pickup_latitude']) # load many compressed CSV files\n",
    "min_module = Min() # computes the min value of each column\n",
    "min_module.input.table = csv_module.output.result\n",
    "max_module = Max() # computes the max value of each column\n",
    "max_module.input.table = csv_module.output.result\n",
    "histogram2d = Histogram2D('pickup_longitude', # compute a 2d histogram\n",
    "                          'pickup_latitude', \n",
    "                          xbins=256, ybins=256)\n",
    "histogram2d.input.table = csv_module.output.result\n",
    "histogram2d.input.min = min_module.output.result\n",
    "histogram2d.input.max = max_module.output.result\n",
    "heatmap=Heatmap(filename='histo_tmp.png') # compute the Heatmap\n",
    "heatmap.input.array = histogram2d.output.result"
   ]
  },
  {
   "cell_type": "code",
   "execution_count": null,
   "id": "lesbian-tattoo",
   "metadata": {},
   "outputs": [],
   "source": [
    "import ipywidgets as ipw\n",
    "from IPython.display import display\n",
    "wg = None\n",
    "async def _after_run(m, run_number):\n",
    "    global wg\n",
    "    if m.result is None or not len(m.result):\n",
    "        return\n",
    "    filename = m.result.last()['filename']\n",
    "    img = open(filename, 'rb').read()\n",
    "    if wg is None:\n",
    "        wg = ipw.Image(value=img)\n",
    "        display(wg)\n",
    "    else:\n",
    "        wg.value = img\n",
    "    \n",
    "heatmap.after_run_proc = _after_run\n",
    "\n",
    "await s.start()"
   ]
  }
 ],
 "metadata": {
  "kernelspec": {
   "display_name": "Python 3",
   "language": "python",
   "name": "python3"
  },
  "language_info": {
   "codemirror_mode": {
    "name": "ipython",
    "version": 3
   },
   "file_extension": ".py",
   "mimetype": "text/x-python",
   "name": "python",
   "nbconvert_exporter": "python",
   "pygments_lexer": "ipython3",
   "version": "3.8.8"
  }
 },
 "nbformat": 4,
 "nbformat_minor": 5
}

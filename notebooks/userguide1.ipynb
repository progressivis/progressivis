{
 "cells": [
  {
   "cell_type": "markdown",
   "id": "3dad9130-6e52-48a9-ac21-c05abd33b923",
   "metadata": {},
   "source": [
    "# Progressive Loading and Visualization\n",
    "\n",
    "This notebook shows the simplest code to download all the New York Yellow Taxi trips from 2015. They were all geolocated and the trip data is stored in multiple CSV files.\n",
    "We visualize progressively the pickup locations (where people have been picked up by the taxis).\n",
    "\n",
    "First, we define a few constants, where the file is located, the desired resolution, and the bounds of New York City."
   ]
  },
  {
   "cell_type": "code",
   "execution_count": 1,
   "id": "41a07fd5",
   "metadata": {},
   "outputs": [],
   "source": [
    "%load_ext autoreload\n",
    "%autoreload 2\n",
    "\n",
    "LARGE_TAXI_FILE = \"https://www.aviz.fr/nyc-taxi/yellow_tripdata_2015-01.csv.bz2\"\n",
    "RESOLUTION=512\n",
    "\n",
    "# See https://en.wikipedia.org/wiki/Module:Location_map/data/USA_New_York_City\n",
    "bounds = {\n",
    "\t\"top\": 40.92,\n",
    "\t\"bottom\": 40.49,\n",
    "\t\"left\": -74.27,\n",
    "\t\"right\": -73.68,\n",
    "}"
   ]
  },
  {
   "cell_type": "code",
   "execution_count": 2,
   "id": "b8f78c43-19bd-4bcc-8d86-35262edf81e1",
   "metadata": {},
   "outputs": [
    {
     "name": "stderr",
     "output_type": "stream",
     "text": [
      "Unexpected slot hint 0.03 for Slot(quantiles_1[result]->histogram2_d_1[min])\n",
      "Unexpected slot hint 0.97 for Slot(quantiles_1[result]->histogram2_d_1[max])\n"
     ]
    }
   ],
   "source": [
    "from progressivis.io import CSVLoader\n",
    "from progressivis.stats import Histogram2D, Min, Max, Quantiles\n",
    "from progressivis.vis import Heatmap\n",
    "\n",
    "# Function to filter out trips outside of NYC.\n",
    "# Since there are outliers in the files.\n",
    "def filter_(df):\n",
    "    lon = df['pickup_longitude']\n",
    "    lat = df['pickup_latitude']\n",
    "    return df[\n",
    "        (lon>bounds[\"left\"]) &\n",
    "        (lon<bounds[\"right\"]) &\n",
    "        (lat>bounds[\"bottom\"]) &\n",
    "        (lat<bounds[\"top\"])\n",
    "    ]\n",
    "\n",
    "# Create a csv loader filtering out data outside NYC\n",
    "csv = CSVLoader(LARGE_TAXI_FILE, index_col=False, usecols=['pickup_longitude', 'pickup_latitude'])  # , filter_=filter_)\n",
    "\n",
    "# Create a module to compute the min value progressively\n",
    "# min = Min()\n",
    "# Connect it to the output of the csv module\n",
    "# min.input.table = csv.output.result\n",
    "# Create a module to compute the max value progressively\n",
    "# max = Max()\n",
    "# Connect it to the output of the csv module\n",
    "# max.input.table = csv.output.result\n",
    "\n",
    "quantiles = Quantiles()\n",
    "quantiles.input.table = csv.output.result\n",
    "# Create a module to compute the 2D histogram of the two columns specified\n",
    "# with the given resolution\n",
    "histogram2d = Histogram2D('pickup_longitude', 'pickup_latitude', xbins=RESOLUTION, ybins=RESOLUTION)\n",
    "# Connect the module to the csv results and the min,max bounds to rescale\n",
    "histogram2d.input.table = csv.output.result\n",
    "histogram2d.input.min = quantiles.output.result[0.03]  # min.output.result\n",
    "histogram2d.input.max = quantiles.output.result[0.97]  # max.output.result\n",
    "# Create a module to create an heatmap image from the histogram2d\n",
    "heatmap = Heatmap()\n",
    "# Connect it to the histogram2d\n",
    "heatmap.input.array = histogram2d.output.result"
   ]
  },
  {
   "cell_type": "code",
   "execution_count": 3,
   "id": "7dbd2da4-f497-4380-9580-b5a718426eb1",
   "metadata": {},
   "outputs": [
    {
     "data": {
      "application/vnd.jupyter.widget-view+json": {
       "model_id": "e09216a0053a4d8ab71fa800f0551ef2",
       "version_major": 2,
       "version_minor": 0
      },
      "text/plain": [
       "Image(value=b'\\x00', height='512', width='512')"
      ]
     },
     "metadata": {},
     "output_type": "display_data"
    }
   ],
   "source": [
    "heatmap.display_notebook()"
   ]
  },
  {
   "cell_type": "code",
   "execution_count": 4,
   "id": "2c1f0951-2b29-44e5-9fca-6806bdabf803",
   "metadata": {},
   "outputs": [
    {
     "data": {
      "text/plain": [
       "<Task pending name='Task-5' coro=<Scheduler.start() running at /home/fekete/src/progressivis/progressivis/core/scheduler.py:273>>"
      ]
     },
     "execution_count": 4,
     "metadata": {},
     "output_type": "execute_result"
    },
    {
     "name": "stdout",
     "output_type": "stream",
     "text": [
      "Starting scheduler\n",
      "# Scheduler added module(s): ['csv_loader_1', 'heatmap_1', 'histogram2_d_1', 'quantiles_1']\n",
      "Leaving run loop\n"
     ]
    }
   ],
   "source": [
    "# Start the scheduler\n",
    "csv.scheduler().task_start()"
   ]
  },
  {
   "cell_type": "code",
   "execution_count": 5,
   "id": "7741831c-7a31-4aee-be94-455bee16805d",
   "metadata": {},
   "outputs": [
    {
     "data": {
      "text/html": [
       "\n",
       "<style scoped>\n",
       "    .dataframe tbody tr th:only-of-type {\n",
       "        vertical-align: middle;\n",
       "    }\n",
       "\n",
       "    .dataframe tbody tr th {\n",
       "        vertical-align: top;\n",
       "    }\n",
       "\n",
       "    .dataframe thead th {\n",
       "        text-align: right;\n",
       "    }\n",
       "</style>\n",
       "<p><b>Scheduler</b> 0x7a50b1573090\n",
       "        <b>running</b>,\n",
       "        <b>modules:</b> 4,\n",
       "        <b>run number:</b> 814\n",
       "</p>\n",
       "<table border=\"1\" class=\"dataframe\">\n",
       "  <thead>\n",
       "    <tr style=\"text-align: right;\">\n",
       "      <th>Id</th><th>Class</th><th>State</th><th>Last Update</th><th>Order</th>\n",
       "    </tr>\n",
       "  </thead>\n",
       "  <tbody><tr><td>csv_loader_1</td><td>csv_loader</td><td>state_ready</td><td>813</td><td>0</td><tr><td>quantiles_1</td><td>quantiles</td><td>state_blocked</td><td>814</td><td>1</td><tr><td>histogram2_d_1</td><td>histogram2_d</td><td>state_ready</td><td>811</td><td>2</td><tr><td>heatmap_1</td><td>heatmap</td><td>state_blocked</td><td>812</td><td>3</td></tbody></table>"
      ],
      "text/plain": [
       "<progressivis.core.scheduler.Scheduler at 0x7a50b1573090>"
      ]
     },
     "execution_count": 5,
     "metadata": {},
     "output_type": "execute_result"
    }
   ],
   "source": [
    "csv.scheduler()"
   ]
  },
  {
   "cell_type": "code",
   "execution_count": 6,
   "id": "570f93a3-55f4-403a-9799-f63466777d5f",
   "metadata": {
    "lines_to_next_cell": 2
   },
   "outputs": [
    {
     "data": {
      "text/plain": [
       "<Task pending name='Task-8' coro=<Scheduler.stop() running at /home/fekete/src/progressivis/progressivis/core/scheduler.py:610>>"
      ]
     },
     "execution_count": 6,
     "metadata": {},
     "output_type": "execute_result"
    }
   ],
   "source": [
    "csv.scheduler().task_stop()"
   ]
  },
  {
   "cell_type": "code",
   "execution_count": null,
   "id": "f3619423-28ce-4961-b458-6cc70ab06d72",
   "metadata": {},
   "outputs": [],
   "source": []
  }
 ],
 "metadata": {
  "jupytext": {
   "formats": "ipynb,py:percent",
   "rst2md": false
  },
  "kernelspec": {
   "display_name": "Python 3 (ipykernel)",
   "language": "python",
   "name": "python3"
  },
  "language_info": {
   "codemirror_mode": {
    "name": "ipython",
    "version": 3
   },
   "file_extension": ".py",
   "mimetype": "text/x-python",
   "name": "python",
   "nbconvert_exporter": "python",
   "pygments_lexer": "ipython3",
   "version": "3.11.10"
  }
 },
 "nbformat": 4,
 "nbformat_minor": 5
}

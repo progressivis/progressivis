{
 "cells": [
  {
   "cell_type": "markdown",
   "id": "3dad9130-6e52-48a9-ac21-c05abd33b923",
   "metadata": {},
   "source": [
    "# Progressive Loading and Visualization\n",
    "\n",
    "This notebook shows the simplest code to download all the New York Yellow Taxi trips from 2015. They were all geolocated and the trip data is stored in multiple CSV files.\n",
    "We visualize progressively the pickup locations (where people have been picked up by the taxis).\n",
    "\n",
    "First, we define a few constants, where the file is located, the desired resolution, and the bounds of New York City."
   ]
  },
  {
   "cell_type": "code",
   "execution_count": 1,
   "id": "41a07fd5",
   "metadata": {},
   "outputs": [],
   "source": [
    "LARGE_TAXI_FILE = \"https://www.aviz.fr/nyc-taxi/yellow_tripdata_2015-01.csv.bz2\"\n",
    "RESOLUTION=512\n",
    "\n",
    "# See https://en.wikipedia.org/wiki/Module:Location_map/data/USA_New_York_City\n",
    "bounds = {\n",
    "\t\"top\": 40.92,\n",
    "\t\"bottom\": 40.49,\n",
    "\t\"left\": -74.27,\n",
    "\t\"right\": -73.68,\n",
    "}"
   ]
  },
  {
   "cell_type": "code",
   "execution_count": 2,
   "id": "b8f78c43-19bd-4bcc-8d86-35262edf81e1",
   "metadata": {},
   "outputs": [],
   "source": [
    "import progressivis as pv\n",
    "from progressivis.io import CSVLoader\n",
    "from progressivis.stats import Histogram2D, Min, Max\n",
    "from progressivis.vis import Heatmap\n",
    "\n",
    "# Function to filter out trips outside of NYC.\n",
    "# Since there are outliers in the files.\n",
    "def filter_(df):\n",
    "    lon = df['pickup_longitude']\n",
    "    lat = df['pickup_latitude']\n",
    "    #return df[(lon>-74.10)&(lon<-73.7)&(lat>40.60)&(lat<41)]\n",
    "    return df[\n",
    "        (lon>bounds[\"left\"]) &\n",
    "        (lon<bounds[\"right\"]) &\n",
    "        (lat>bounds[\"bottom\"]) &\n",
    "        (lat<bounds[\"top\"])\n",
    "    ]\n",
    "\n",
    "# Create a csv loader filtering out data outside NYC\n",
    "csv = CSVLoader(LARGE_TAXI_FILE, index_col=False, filter_=filter_)\n",
    "\n",
    "# Create a module to compute the min value progressively\n",
    "min = Min()\n",
    "# Connect it to the output of the csv module\n",
    "min.input.table = csv.output.result\n",
    "# Create a module to compute the max value progressively\n",
    "max = Max()\n",
    "# Connect it to the output of the csv module\n",
    "max.input.table = csv.output.result\n",
    "# Create a module to compute the 2D histogram of the two columns specified\n",
    "# with the given resolution\n",
    "histogram2d = Histogram2D('pickup_longitude', 'pickup_latitude', xbins=RESOLUTION, ybins=RESOLUTION)\n",
    "# Connect the module to the csv results and the min,max bounds to rescale\n",
    "histogram2d.input.table = csv.output.result\n",
    "histogram2d.input.min = min.output.result\n",
    "histogram2d.input.max = max.output.result\n",
    "# Create a module to create an heatmap image from the histogram2d\n",
    "heatmap = Heatmap()\n",
    "# Connect it to the histogram2d\n",
    "heatmap.input.array = histogram2d.output.result"
   ]
  },
  {
   "cell_type": "markdown",
   "id": "cad1077c-75cf-4f1a-ac2d-feb896390a0e",
   "metadata": {},
   "source": [
    "# Visualize the results\n",
    "\n",
    "We use barebone JupyterLab widgets to visualize the results.\n",
    "We will visualize an image each time the heatmap module is updated."
   ]
  },
  {
   "cell_type": "code",
   "execution_count": 3,
   "id": "8032c51f-55f1-4a3d-846d-7f298c6ebbb6",
   "metadata": {},
   "outputs": [
    {
     "data": {
      "application/vnd.jupyter.widget-view+json": {
       "model_id": "8782d93c9e3546be80d5a1227679bd50",
       "version_major": 2,
       "version_minor": 0
      },
      "text/plain": [
       "Image(value=b'\\x00', height='512', width='512')"
      ]
     },
     "metadata": {},
     "output_type": "display_data"
    },
    {
     "data": {
      "application/vnd.jupyter.widget-view+json": {
       "model_id": "d5562026b8624867a4ba1a63ede5e2a2",
       "version_major": 2,
       "version_minor": 0
      },
      "text/plain": [
       "HBox(children=(IntText(value=0, disabled=True), Button(description='Stop', style=ButtonStyle())))"
      ]
     },
     "metadata": {},
     "output_type": "display_data"
    }
   ],
   "source": [
    "import ipywidgets as ipw\n",
    "from IPython.display import display\n",
    "\n",
    "# Create an ipywidget showing an image. It will be update when\n",
    "# the heatmap is updated\n",
    "wg = ipw.Image(value=b'\\x00', width=RESOLUTION, height=RESOLUTION)\n",
    "# Create a textbox to show the run number (akin to an epoch in ml)\n",
    "wint = ipw.IntText(value=0, disabled=True)\n",
    "# Create a button to stop the progressive program\n",
    "bstop = ipw.Button(description=\"Stop\")\n",
    "\n",
    "# Stopping boils down to calling Scheduler.task_stop on the right scheduler\n",
    "def stop(b):\n",
    "    csv.scheduler().task_stop()\n",
    "bstop.on_click(stop)\n",
    "\n",
    "display(wg, ipw.HBox([wint, bstop]))\n",
    "\n",
    "# Callback to update the image\n",
    "async def _after_run(m, run_number):\n",
    "    global wg, wint\n",
    "    img = m.get_image_bin()  # get the image from the heatmap\n",
    "    if img is None:\n",
    "        return\n",
    "    wg.value = img  # Replace the displayed image with this new one\n",
    "    wint.value = m.last_update()  # also show the run number\n",
    "\n",
    "# Install the callback\n",
    "heatmap.on_after_run(_after_run)\n",
    "\n",
    "# The image is shown below, and will be updated in place"
   ]
  },
  {
   "cell_type": "code",
   "execution_count": 4,
   "id": "2c1f0951-2b29-44e5-9fca-6806bdabf803",
   "metadata": {},
   "outputs": [
    {
     "data": {
      "text/plain": [
       "<Task pending name='Task-5' coro=<Scheduler.start() running at /home/fekete/miniforge3/envs/pv311/lib/python3.11/site-packages/progressivis/core/scheduler.py:273>>"
      ]
     },
     "execution_count": 4,
     "metadata": {},
     "output_type": "execute_result"
    },
    {
     "name": "stdout",
     "output_type": "stream",
     "text": [
      "Starting scheduler\n",
      "# Scheduler added module(s): ['csv_loader_1', 'heatmap_1', 'histogram2_d_1', 'max_1', 'min_1']\n",
      "Leaving run loop\n"
     ]
    }
   ],
   "source": [
    "# Start the scheduler\n",
    "csv.scheduler().task_start()"
   ]
  },
  {
   "cell_type": "code",
   "execution_count": null,
   "id": "7741831c-7a31-4aee-be94-455bee16805d",
   "metadata": {},
   "outputs": [],
   "source": []
  }
 ],
 "metadata": {
  "jupytext": {
   "formats": "ipynb,auto:percent",
   "rst2md": true
  },
  "kernelspec": {
   "display_name": "Python 3 (ipykernel)",
   "language": "python",
   "name": "python3"
  },
  "language_info": {
   "codemirror_mode": {
    "name": "ipython",
    "version": 3
   },
   "file_extension": ".py",
   "mimetype": "text/x-python",
   "name": "python",
   "nbconvert_exporter": "python",
   "pygments_lexer": "ipython3",
   "version": "3.11.10"
  }
 },
 "nbformat": 4,
 "nbformat_minor": 5
}

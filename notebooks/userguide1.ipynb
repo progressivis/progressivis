{
 "cells": [
  {
   "cell_type": "markdown",
   "id": "3dad9130-6e52-48a9-ac21-c05abd33b923",
   "metadata": {},
   "source": [
    "# Progressive Loading and Visualization\n",
    "\n",
    "This notebook shows the simplest code to download all the New York Yellow Taxi trips from 2015. They were all geolocated and the trip data is stored in multiple CSV files.\n",
    "We visualize progressively the pickup locations (where people have been picked up by the taxis).\n",
    "\n",
    "First, we define a few constants, where the file is located and the desired resolution."
   ]
  },
  {
   "cell_type": "code",
   "execution_count": 1,
   "id": "1dace858-ebde-4875-bd0d-3641245b340b",
   "metadata": {},
   "outputs": [],
   "source": [
    "# We make sure the libraries are reloaded when modified\n",
    "%load_ext autoreload\n",
    "%autoreload 2"
   ]
  },
  {
   "cell_type": "code",
   "execution_count": 2,
   "id": "41a07fd5",
   "metadata": {},
   "outputs": [],
   "source": [
    "import warnings\n",
    "warnings.filterwarnings(\"ignore\")\n",
    "LARGE_TAXI_FILE = \"https://www.aviz.fr/nyc-taxi/yellow_tripdata_2015-01.csv.bz2\"\n",
    "RESOLUTION=512"
   ]
  },
  {
   "cell_type": "code",
   "execution_count": 3,
   "id": "b8f78c43-19bd-4bcc-8d86-35262edf81e1",
   "metadata": {},
   "outputs": [
    {
     "name": "stderr",
     "output_type": "stream",
     "text": [
      "Unexpected slot hint 0.03 for Slot(quantiles_1[result]->histogram2_d_1[min])\n",
      "Unexpected slot hint 0.97 for Slot(quantiles_1[result]->histogram2_d_1[max])\n"
     ]
    }
   ],
   "source": [
    "import progressivis as pv\n",
    "\n",
    "# Create a csv loader filtering out data outside NYC\n",
    "csv = pv.ThreadedCSVLoader(LARGE_TAXI_FILE, index_col=False, usecols=['pickup_longitude', 'pickup_latitude'])  # , filter_=filter_)\n",
    "csv.on_ending(lambda mod, rn : print(f\"Finished in {round(csv.scheduler().timer())} second(s)\"))\n",
    "\n",
    "# Create a Quantile module to get rid of the 3% outliers both sides\n",
    "quantiles = pv.Quantiles()\n",
    "quantiles.input.table = csv.output.result\n",
    "# Create a module to compute the 2D histogram of the two columns specified\n",
    "# with the given resolution\n",
    "histogram2d = pv.Histogram2D('pickup_longitude', 'pickup_latitude', xbins=RESOLUTION, ybins=RESOLUTION)\n",
    "# Connect the module to the csv results and the min,max bounds to rescale\n",
    "histogram2d.input.table = csv.output.result\n",
    "histogram2d.input.min = quantiles.output.result[0.03]\n",
    "histogram2d.input.max = quantiles.output.result[0.97]\n",
    "# Create a module to create an heatmap image from the histogram2d\n",
    "heatmap = pv.Heatmap()\n",
    "# Connect it to the histogram2d\n",
    "heatmap.input.array = histogram2d.output.result"
   ]
  },
  {
   "cell_type": "code",
   "execution_count": 4,
   "id": "7dbd2da4-f497-4380-9580-b5a718426eb1",
   "metadata": {},
   "outputs": [
    {
     "data": {
      "application/vnd.jupyter.widget-view+json": {
       "model_id": "40db852a5eaa45f6898123ff0e05b805",
       "version_major": 2,
       "version_minor": 0
      },
      "text/plain": [
       "VBox(children=(HBox(children=(IntProgress(value=0, description='0/0', max=1000), Button(description='Save', ic…"
      ]
     },
     "metadata": {},
     "output_type": "display_data"
    }
   ],
   "source": [
    "heatmap.display_notebook()"
   ]
  },
  {
   "cell_type": "code",
   "execution_count": 5,
   "id": "2c1f0951-2b29-44e5-9fca-6806bdabf803",
   "metadata": {},
   "outputs": [
    {
     "data": {
      "text/plain": [
       "<Task pending name='Task-5' coro=<Scheduler.start() running at /home/fekete/src/progressivis/progressivis/core/scheduler.py:271>>"
      ]
     },
     "execution_count": 5,
     "metadata": {},
     "output_type": "execute_result"
    },
    {
     "name": "stdout",
     "output_type": "stream",
     "text": [
      "Starting scheduler\n",
      "# Scheduler added module(s): ['heatmap_1', 'histogram2_d_1', 'quantiles_1', 'threaded_csv_loader_1']\n",
      "Finished in 69 second(s)\n",
      "Leaving run loop\n"
     ]
    }
   ],
   "source": [
    "# Start the scheduler\n",
    "csv.scheduler().task_start()"
   ]
  },
  {
   "cell_type": "code",
   "execution_count": 6,
   "id": "7741831c-7a31-4aee-be94-455bee16805d",
   "metadata": {},
   "outputs": [
    {
     "data": {
      "text/html": [
       "\n",
       "<style scoped>\n",
       "    .dataframe tbody tr th:only-of-type {\n",
       "        vertical-align: middle;\n",
       "    }\n",
       "\n",
       "    .dataframe tbody tr th {\n",
       "        vertical-align: top;\n",
       "    }\n",
       "\n",
       "    .dataframe thead th {\n",
       "        text-align: right;\n",
       "    }\n",
       "</style>\n",
       "<p><b>Scheduler</b> 0x70c25356acf0\n",
       "        <b>running</b>,\n",
       "        <b>modules:</b> 4,\n",
       "        <b>run number:</b> 0\n",
       "</p>\n",
       "<table border=\"1\" class=\"dataframe\">\n",
       "  <thead>\n",
       "    <tr style=\"text-align: right;\">\n",
       "      <th>Id</th><th>Class</th><th>State</th><th>Last Update</th><th>Order</th>\n",
       "    </tr>\n",
       "  </thead>\n",
       "  <tbody><tr><td>threaded_csv_loader_1</td><td>threaded_csv_loader</td><td>state_ready</td><td>0</td><td>0</td><tr><td>quantiles_1</td><td>quantiles</td><td>state_ready</td><td>0</td><td>1</td><tr><td>histogram2_d_1</td><td>histogram2_d</td><td>state_ready</td><td>0</td><td>2</td><tr><td>heatmap_1</td><td>heatmap</td><td>state_ready</td><td>0</td><td>3</td></tbody></table>"
      ],
      "text/plain": [
       "<progressivis.core.scheduler.Scheduler at 0x70c25356acf0>"
      ]
     },
     "execution_count": 6,
     "metadata": {},
     "output_type": "execute_result"
    }
   ],
   "source": [
    "csv.scheduler()"
   ]
  },
  {
   "cell_type": "code",
   "execution_count": 7,
   "id": "570f93a3-55f4-403a-9799-f63466777d5f",
   "metadata": {
    "lines_to_next_cell": 2
   },
   "outputs": [],
   "source": [
    "# csv.scheduler().task_stop()"
   ]
  },
  {
   "cell_type": "code",
   "execution_count": null,
   "id": "0fbb4e40-2bf5-458f-859b-df7570e9a008",
   "metadata": {},
   "outputs": [],
   "source": []
  }
 ],
 "metadata": {
  "jupytext": {
   "formats": "ipynb,py:percent",
   "rst2md": false
  },
  "kernelspec": {
   "display_name": "Python 3 (ipykernel)",
   "language": "python",
   "name": "python3"
  },
  "language_info": {
   "codemirror_mode": {
    "name": "ipython",
    "version": 3
   },
   "file_extension": ".py",
   "mimetype": "text/x-python",
   "name": "python",
   "nbconvert_exporter": "python",
   "pygments_lexer": "ipython3",
   "version": "3.13.1"
  }
 },
 "nbformat": 4,
 "nbformat_minor": 5
}

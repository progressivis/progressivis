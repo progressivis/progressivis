{
 "cells": [
  {
   "cell_type": "markdown",
   "id": "partial-springer",
   "metadata": {},
   "source": [
    "## Steerable MinMaxScaler"
   ]
  },
  {
   "cell_type": "code",
   "execution_count": 1,
   "id": "geographic-shannon",
   "metadata": {},
   "outputs": [],
   "source": [
    "import pandas as pd\n",
    "import numpy as np\n",
    "import tempfile as tf\n",
    "import os\n",
    "from progressivis import Scheduler, Print\n",
    "from progressivis.io import SimpleCSVLoader, DynVar\n",
    "from progressivis.stats import Histogram2D, Min, Max\n",
    "from progressivis.datasets import get_dataset\n",
    "from progressivis.vis import Heatmap\n",
    "from progressivis.table.constant import Constant\n",
    "from progressivis.utils.psdict import PsDict\n",
    "from progressivis.stats.scaling import MinMaxScaler\n",
    "from progressivis.core.utils import gather_and_run\n",
    "from progressivis_nb_widgets.nbwidgets import IScalerIn, IScalerOut\n",
    "from progressivis.datasets import get_dataset\n",
    "\n",
    "s = Scheduler.default = Scheduler()\n",
    "cols = ['A', 'B']\n",
    "csv = SimpleCSVLoader(get_dataset('bigfile_multiscale'), usecols=cols, throttle=100)\n",
    "dvar = DynVar({'delta': -5, 'ignore_max':10})\n",
    "sc = MinMaxScaler(reset_threshold=10_000)\n",
    "sc.create_dependent_modules(csv)\n",
    "sc.control = dvar\n",
    "sc.input.control = dvar.output.result\n",
    "pr=Print(proc=lambda x: None, scheduler=s)\n",
    "pr.input[0] = sc.output.info\n",
    "histogram2d = Histogram2D('A', # compute a 2d histogram\n",
    "                          'B', \n",
    "                          xbins=256, ybins=256)\n",
    "histogram2d.input.table = sc.output.result\n",
    "cmin = Constant(table=PsDict({'A': 0.0, 'B':0.0}))\n",
    "cmax = Constant(table=PsDict({'A': 1.0, 'B':1.0}))\n",
    "histogram2d.input.min = cmin.output.result\n",
    "histogram2d.input.max = cmax.output.result\n",
    "heatmap=Heatmap() # compute the Heatmap\n",
    "heatmap.input.array = histogram2d.output.result"
   ]
  },
  {
   "cell_type": "markdown",
   "id": "revised-kuwait",
   "metadata": {},
   "source": [
    "**NB:** the results will appear below after running all cells :"
   ]
  },
  {
   "cell_type": "code",
   "execution_count": 2,
   "id": "fleet-final",
   "metadata": {
    "scrolled": false
   },
   "outputs": [
    {
     "data": {
      "application/vnd.jupyter.widget-view+json": {
       "model_id": "c93007d3cafc47c782a06dad8ac72427",
       "version_major": 2,
       "version_minor": 0
      },
      "text/plain": [
       "IScalerIn(children=(Label(value='Reset threshold:'), IntSlider(value=1000, continuous_update=False, max=100000…"
      ]
     },
     "metadata": {},
     "output_type": "display_data"
    },
    {
     "data": {
      "application/vnd.jupyter.widget-view+json": {
       "model_id": "b7646e3e990242bf985a53ea6bf52847",
       "version_major": 2,
       "version_minor": 0
      },
      "text/plain": [
       "IScalerOut(children=(Label(value='Clipped:'), Label(value=''), Label(value='Ignored:'), Label(value=''), Label…"
      ]
     },
     "metadata": {},
     "output_type": "display_data"
    },
    {
     "data": {
      "application/vnd.jupyter.widget-view+json": {
       "model_id": "705cf6909788493ebe7fe3d7e32eacc5",
       "version_major": 2,
       "version_minor": 0
      },
      "text/plain": [
       "Image(value=b'\\x89PNG\\r\\n\\x1a\\n\\x00\\x00\\x00\\rIHDR\\x00\\x00\\x01\\x00\\x00\\x00\\x01\\x00\\x10\\x00\\x00\\x00\\x00)\\x89+\\xf…"
      ]
     },
     "metadata": {},
     "output_type": "display_data"
    }
   ],
   "source": [
    "import ipywidgets as ipw\n",
    "from IPython.display import display\n",
    "wg = None\n",
    "async def _after_run(m, run_number):\n",
    "    global wg\n",
    "    img = m.get_image_bin()\n",
    "    if img is None:\n",
    "        return\n",
    "    if wg is None:\n",
    "        wg = ipw.Image(value=img, width=512, height=512)\n",
    "        display(wg)\n",
    "    else:\n",
    "        wg.value = img\n",
    "heatmap.after_run_proc = _after_run\n",
    "isc = IScalerIn(sc)\n",
    "display(isc)\n",
    "isco = IScalerOut(sc)\n",
    "display(isco)\n",
    "s.task_start();"
   ]
  }
 ],
 "metadata": {
  "kernelspec": {
   "display_name": "Python 3",
   "language": "python",
   "name": "python3"
  },
  "language_info": {
   "codemirror_mode": {
    "name": "ipython",
    "version": 3
   },
   "file_extension": ".py",
   "mimetype": "text/x-python",
   "name": "python",
   "nbconvert_exporter": "python",
   "pygments_lexer": "ipython3",
   "version": "3.7.9"
  }
 },
 "nbformat": 4,
 "nbformat_minor": 5
}

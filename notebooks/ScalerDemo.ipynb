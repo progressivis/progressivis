{
 "cells": [
  {
   "cell_type": "markdown",
   "id": "partial-springer",
   "metadata": {},
   "source": [
    "## Steerable MinMaxScaler"
   ]
  },
  {
   "cell_type": "code",
   "execution_count": null,
   "id": "geographic-shannon",
   "metadata": {},
   "outputs": [],
   "source": [
    "import pandas as pd\n",
    "import numpy as np\n",
    "import tempfile as tf\n",
    "import os\n",
    "from progressivis import Scheduler, Print\n",
    "from progressivis.io import SimpleCSVLoader, DynVar\n",
    "from progressivis.stats import Histogram2D, Min, Max\n",
    "from progressivis.datasets import get_dataset\n",
    "from progressivis.vis import Heatmap\n",
    "from progressivis.table.constant import Constant\n",
    "from progressivis.utils.psdict import PsDict\n",
    "from progressivis.stats.scaling import MinMaxScaler\n",
    "from progressivis.core.utils import gather_and_run\n",
    "from progressivis_nb_widgets.nbwidgets import IScaler\n",
    "from progressivis.datasets import get_dataset\n",
    "\n",
    "s = Scheduler.default = Scheduler()\n",
    "cols = ['A', 'B']\n",
    "csv = SimpleCSVLoader(get_dataset('bigfile_multiscale'), usecols=cols, throttle=100)\n",
    "dvar = DynVar({'delta': -5, 'ignore_max':10})\n",
    "sc = MinMaxScaler(reset_threshold=10_000)\n",
    "sc.create_dependent_modules(csv)\n",
    "sc.control = dvar\n",
    "sc.input.control = dvar.output.result\n",
    "pr=Print(proc=lambda x: None, scheduler=s)\n",
    "pr.input[0] = sc.output.info\n",
    "histogram2d = Histogram2D('A', # compute a 2d histogram\n",
    "                          'B', \n",
    "                          xbins=256, ybins=256)\n",
    "histogram2d.input.table = sc.output.result\n",
    "histogram2d.input.min = sc.min.output.result\n",
    "histogram2d.input.max = sc.max.output.result\n",
    "heatmap=Heatmap() # compute the Heatmap\n",
    "heatmap.input.array = histogram2d.output.result"
   ]
  },
  {
   "cell_type": "markdown",
   "id": "revised-kuwait",
   "metadata": {},
   "source": [
    "**NB:** the results will appear below after running all cells :"
   ]
  },
  {
   "cell_type": "code",
   "execution_count": null,
   "id": "fleet-final",
   "metadata": {
    "scrolled": true
   },
   "outputs": [],
   "source": [
    "import ipywidgets as ipw\n",
    "from IPython.display import display\n",
    "wg = None\n",
    "async def _after_run(m, run_number):\n",
    "    global wg\n",
    "    img = m.get_image_bin()\n",
    "    if img is None:\n",
    "        return\n",
    "    if wg is None:\n",
    "        wg = ipw.Image(value=img, width=512, height=512)\n",
    "        display(wg)\n",
    "    else:\n",
    "        wg.value = img\n",
    "heatmap.after_run_proc = _after_run\n",
    "isc = IScaler(sc)\n",
    "display(isc)\n",
    "gather_and_run(s.start(), *isc.coroutines)\n",
    "\n"
   ]
  }
 ],
 "metadata": {
  "kernelspec": {
   "display_name": "Python 3",
   "language": "python",
   "name": "python3"
  },
  "language_info": {
   "codemirror_mode": {
    "name": "ipython",
    "version": 3
   },
   "file_extension": ".py",
   "mimetype": "text/x-python",
   "name": "python",
   "nbconvert_exporter": "python",
   "pygments_lexer": "ipython3",
   "version": "3.7.9"
  }
 },
 "nbformat": 4,
 "nbformat_minor": 5
}

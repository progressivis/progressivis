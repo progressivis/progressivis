{
 "cells": [
  {
   "cell_type": "markdown",
   "id": "partial-springer",
   "metadata": {},
   "source": [
    "## Steerable MinMaxScaler"
   ]
  },
  {
   "cell_type": "code",
   "execution_count": 3,
   "id": "geographic-shannon",
   "metadata": {},
   "outputs": [],
   "source": [
    "import pandas as pd\n",
    "import numpy as np\n",
    "import tempfile as tf\n",
    "import os\n",
    "from progressivis import Scheduler, Print\n",
    "from progressivis.io import SimpleCSVLoader, DynVar\n",
    "from progressivis.stats import Histogram2D, Min, Max\n",
    "from progressivis.datasets import get_dataset\n",
    "from progressivis.vis import Heatmap\n",
    "from progressivis.table.constant import Constant\n",
    "from progressivis.utils.psdict import PDict\n",
    "from progressivis.stats.scaling import MinMaxScaler\n",
    "from progressivis_nb_widgets.nbwidgets import IScalerIn, IScalerOut\n",
    "from progressivis.datasets import get_dataset\n",
    "\n",
    "s = Scheduler.default = Scheduler()\n",
    "cols = ['A', 'B']\n",
    "csv = SimpleCSVLoader(get_dataset('bigfile_multiscale'), usecols=cols, throttle=100)\n",
    "dvar = DynVar({'delta': -5, 'ignore_max':10})\n",
    "sc = MinMaxScaler(reset_threshold=10_000)\n",
    "sc.create_dependent_modules(csv)\n",
    "sc.control = dvar\n",
    "sc.input.control = dvar.output.result\n",
    "pr=Print(proc=lambda x: None, scheduler=s)\n",
    "pr.input[0] = sc.output.info\n",
    "histogram2d = Histogram2D('A', # compute a 2d histogram\n",
    "                          'B', \n",
    "                          xbins=256, ybins=256)\n",
    "histogram2d.input.table = sc.output.result\n",
    "cmin = Constant(table=PDict({'A': 0.0, 'B':0.0}))\n",
    "cmax = Constant(table=PDict({'A': 1.0, 'B':1.0}))\n",
    "histogram2d.input.min = cmin.output.result\n",
    "histogram2d.input.max = cmax.output.result\n",
    "heatmap=Heatmap() # compute the Heatmap\n",
    "heatmap.input.array = histogram2d.output.result"
   ]
  },
  {
   "cell_type": "markdown",
   "id": "revised-kuwait",
   "metadata": {},
   "source": [
    "**NB:** the results will appear below after running all cells :"
   ]
  },
  {
   "cell_type": "code",
   "execution_count": 4,
   "id": "fleet-final",
   "metadata": {
    "scrolled": false
   },
   "outputs": [
    {
     "data": {
      "application/vnd.jupyter.widget-view+json": {
       "model_id": "03893fd42dd24ca4b191306c66bfc9e1",
       "version_major": 2,
       "version_minor": 0
      },
      "text/plain": [
       "IScalerIn(children=(Label(value='Reset threshold:'), IntSlider(value=1000, continuous_update=False, max=100000…"
      ]
     },
     "metadata": {},
     "output_type": "display_data"
    },
    {
     "data": {
      "application/vnd.jupyter.widget-view+json": {
       "model_id": "813c9d0cd5824631a803a28fbc8bcde3",
       "version_major": 2,
       "version_minor": 0
      },
      "text/plain": [
       "IScalerOut(children=(GridBox(children=(Label(value='Clipped:'), Label(value=''), Label(value='Ignored:'), Labe…"
      ]
     },
     "metadata": {},
     "output_type": "display_data"
    },
    {
     "name": "stdout",
     "output_type": "stream",
     "text": [
      "Starting scheduler\n",
      "# Scheduler added module(s): ['constant_1', 'constant_2', 'dyn_var_1', 'heatmap_1', 'histogram2_d_1', 'max_1', 'min_1', 'min_max_scaler_1', 'print_1', 'simple_csv_loader_1']\n"
     ]
    },
    {
     "data": {
      "application/vnd.jupyter.widget-view+json": {
       "model_id": "949cd5e3d44140d0800aaa397d6de4a6",
       "version_major": 2,
       "version_minor": 0
      },
      "text/plain": [
       "Image(value=b'\\x89PNG\\r\\n\\x1a\\n\\x00\\x00\\x00\\rIHDR\\x00\\x00\\x01\\x00\\x00\\x00\\x01\\x00\\x10\\x00\\x00\\x00\\x00)\\x89+\\xf…"
      ]
     },
     "metadata": {},
     "output_type": "display_data"
    }
   ],
   "source": [
    "import ipywidgets as ipw\n",
    "from IPython.display import display\n",
    "wg = None\n",
    "async def _after_run(m, run_number):\n",
    "    global wg\n",
    "    img = m.get_image_bin()\n",
    "    if img is None:\n",
    "        return\n",
    "    if wg is None:\n",
    "        wg = ipw.Image(value=img, width=512, height=512)\n",
    "        display(wg)\n",
    "    else:\n",
    "        wg.value = img\n",
    "heatmap.on_after_run(_after_run)\n",
    "isc = IScalerIn(sc)\n",
    "display(isc)\n",
    "isco = IScalerOut(sc)\n",
    "display(isco)\n",
    "s.task_start();"
   ]
  }
 ],
 "metadata": {
  "hide_input": false,
  "kernelspec": {
   "display_name": "Python 3 (ipykernel)",
   "language": "python",
   "name": "python3"
  },
  "language_info": {
   "codemirror_mode": {
    "name": "ipython",
    "version": 3
   },
   "file_extension": ".py",
   "mimetype": "text/x-python",
   "name": "python",
   "nbconvert_exporter": "python",
   "pygments_lexer": "ipython3",
   "version": "3.9.13"
  },
  "latex_envs": {
   "LaTeX_envs_menu_present": true,
   "autoclose": false,
   "autocomplete": true,
   "bibliofile": "biblio.bib",
   "cite_by": "apalike",
   "current_citInitial": 1,
   "eqLabelWithNumbers": true,
   "eqNumInitial": 1,
   "hotkeys": {
    "equation": "Ctrl-E",
    "itemize": "Ctrl-I"
   },
   "labels_anchors": false,
   "latex_user_defs": false,
   "report_style_numbering": false,
   "user_envs_cfg": false
  },
  "toc": {
   "base_numbering": 1,
   "nav_menu": {},
   "number_sections": true,
   "sideBar": true,
   "skip_h1_title": false,
   "title_cell": "PTable of Contents",
   "title_sidebar": "Contents",
   "toc_cell": true,
   "toc_position": {},
   "toc_section_display": true,
   "toc_window_display": false
  }
 },
 "nbformat": 4,
 "nbformat_minor": 5
}

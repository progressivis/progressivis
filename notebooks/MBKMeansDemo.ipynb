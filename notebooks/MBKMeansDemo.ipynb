{
 "cells": [
  {
   "cell_type": "code",
   "execution_count": null,
   "metadata": {},
   "outputs": [],
   "source": [
    "from progressivis_nb_widgets import *"
   ]
  },
  {
   "cell_type": "code",
   "execution_count": null,
   "metadata": {},
   "outputs": [],
   "source": [
    "\"\"\"\n",
    "Clustering datasets may be found at\n",
    "https://cs.joensuu.fi/sipu/datasets/\n",
    "\"\"\"\n",
    "from progressivis import Scheduler, Every#, log_level\n",
    "from progressivis.cluster import MBKMeans\n",
    "from progressivis.io import CSVLoader\n",
    "from progressivis.vis import MCScatterPlot\n",
    "from progressivis.datasets import get_dataset\n",
    "from progressivis.stats import RandomTable\n",
    "from progressivis.core.utils import gather_and_run\n",
    "from progressivis.utils.psdict import PsDict\n",
    "import numpy as np\n",
    "try:\n",
    "    s = scheduler\n",
    "except NameError:\n",
    "    s = Scheduler()\n",
    "    #log_level(package=\"progressivis.cluster\")\n",
    "\n",
    "data = CSVLoader(get_dataset('cluster:s1'),sep='\\\\s+',skipinitialspace=True,header=None,index_col=False,scheduler=s)\n",
    "mbkmeans = MBKMeans(columns=['_0', '_1'], n_clusters=15, batch_size=100, is_input=False, scheduler=s)\n",
    "sp = MCScatterPlot(scheduler=s, classes=[('Scatterplot', '_0', '_1', mbkmeans)])\n",
    "sp.create_dependent_modules(data,'result')\n",
    "sp['Scatterplot'].min_value.result = PsDict({'_0': -np.inf, '_1': -np.inf})\n",
    "sp['Scatterplot'].max_value.result = PsDict({'_0': np.inf, '_1': np.inf})\n",
    "mbkmeans.create_dependent_modules(sp['Scatterplot'].range_query_2d)\n",
    "\n",
    "sp.move_point = mbkmeans.moved_center # for input management\n",
    "# Create the dashboard object\n",
    "\n",
    "psboard = PsBoard(s, order='desc')\n",
    "# Visualisations require registration :\n",
    "# 1) When widget provides the link_module() method do :\n",
    "psboard.register_visualisation(Scatterplot(), sp)\n",
    "# 2) When widget is generic or for overloading the link_module() method do:\n",
    "# psboard.register_visualisation(FooWidget(), bar_module, glue=glue_func)\n",
    "# NB: glue_func(widget, module)-> [coroutine] must be provided\n",
    "# Start application :\n",
    "gather_and_run(s.start(), *psboard.coroutines)"
   ]
  },
  {
   "cell_type": "markdown",
   "metadata": {},
   "source": [
    "#### Click  _&#x1f441; mc_scatter_plot_1_ below to display the scatterplot:"
   ]
  },
  {
   "cell_type": "code",
   "execution_count": null,
   "metadata": {
    "scrolled": false
   },
   "outputs": [],
   "source": [
    "display(psboard)"
   ]
  }
 ],
 "metadata": {
  "kernelspec": {
   "display_name": "Python 3",
   "language": "python",
   "name": "python3"
  },
  "language_info": {
   "codemirror_mode": {
    "name": "ipython",
    "version": 3
   },
   "file_extension": ".py",
   "mimetype": "text/x-python",
   "name": "python",
   "nbconvert_exporter": "python",
   "pygments_lexer": "ipython3",
   "version": "3.8.8"
  }
 },
 "nbformat": 4,
 "nbformat_minor": 4
}

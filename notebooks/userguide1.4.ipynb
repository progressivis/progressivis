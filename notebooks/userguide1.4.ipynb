{
 "cells": [
  {
   "cell_type": "markdown",
   "id": "0abae6ac",
   "metadata": {},
   "source": [
    "# Progressive Loading and Visualization\n",
    "\n",
    "This notebook shows a simple code to download and visualize all the New York Yellow Taxi trips from January 2015, knowing the bounds of NYC.\n",
    "The trip data is stored in multiple CSV files, containing geolocated taxi trips.\n",
    "We visualize progressively the pickup locations (where people have been picked up by the taxis)."
   ]
  },
  {
   "cell_type": "code",
   "execution_count": 1,
   "id": "93ed9209",
   "metadata": {},
   "outputs": [],
   "source": [
    "# We make sure the libraries are reloaded when modified, and avoid warning messages\n",
    "# %load_ext autoreload\n",
    "# %autoreload 2\n",
    "import warnings\n",
    "warnings.filterwarnings(\"ignore\")"
   ]
  },
  {
   "cell_type": "code",
   "execution_count": 2,
   "id": "f587695f",
   "metadata": {},
   "outputs": [],
   "source": [
    "# Some constants we'll need: the data file to download and final image size\n",
    "LARGE_TAXI_FILE = \"https://www.aviz.fr/nyc-taxi/yellow_tripdata_2015-01.csv.bz2\"\n",
    "RESOLUTION=512"
   ]
  },
  {
   "cell_type": "markdown",
   "id": "d20b72f3",
   "metadata": {},
   "source": [
    "## Define NYC Bounds\n",
    "If we know the bounds, this will simplify the code.\n",
    "See https://en.wikipedia.org/wiki/Module:Location_map/data/USA_New_York_City"
   ]
  },
  {
   "cell_type": "code",
   "execution_count": 3,
   "id": "5843da22",
   "metadata": {},
   "outputs": [],
   "source": [
    "from dataclasses import dataclass\n",
    "@dataclass\n",
    "class Bounds:\n",
    "    top: float = 40.92\n",
    "    bottom: float = 40.49\n",
    "    left: float = -74.27\n",
    "    right: float = -73.68\n",
    "\n",
    "bounds = Bounds()"
   ]
  },
  {
   "cell_type": "markdown",
   "id": "9349bc88",
   "metadata": {},
   "source": [
    "## Create Modules\n",
    "First, create the four modules we need."
   ]
  },
  {
   "cell_type": "code",
   "execution_count": 4,
   "id": "a434a819",
   "metadata": {},
   "outputs": [],
   "source": [
    "from progressivis import CSVLoader, Histogram2D, ConstDict, Heatmap, PDict\n",
    "\n",
    "# Create a CSVLoader module, two min/max constant modules, a Histogram2D module, and a Heatmap module.\n",
    "\n",
    "csv = CSVLoader(LARGE_TAXI_FILE, usecols=['pickup_longitude', 'pickup_latitude'])\n",
    "min = ConstDict(PDict({'pickup_longitude': bounds.left, 'pickup_latitude': bounds.bottom}))\n",
    "max = ConstDict(PDict({'pickup_longitude': bounds.right, 'pickup_latitude': bounds.top}))\n",
    "histogram2d = Histogram2D('pickup_longitude', 'pickup_latitude', xbins=RESOLUTION, ybins=RESOLUTION)\n",
    "heatmap = Heatmap()"
   ]
  },
  {
   "cell_type": "markdown",
   "id": "da073c9a",
   "metadata": {},
   "source": [
    "## Connect Modules\n",
    "\n",
    "Then, connect the modules."
   ]
  },
  {
   "cell_type": "code",
   "execution_count": 5,
   "id": "003f6cee",
   "metadata": {},
   "outputs": [],
   "source": [
    "histogram2d.input.table = csv.output.result\n",
    "histogram2d.input.min = min.output.result\n",
    "histogram2d.input.max = max.output.result\n",
    "heatmap.input.array = histogram2d.output.result"
   ]
  },
  {
   "cell_type": "markdown",
   "id": "82b34114",
   "metadata": {},
   "source": [
    "## Display the Heatmap"
   ]
  },
  {
   "cell_type": "code",
   "execution_count": 6,
   "id": "a19b1f1a",
   "metadata": {},
   "outputs": [
    {
     "data": {
      "application/vnd.jupyter.widget-view+json": {
       "model_id": "d25534bd059b4cae8c6187fa69937338",
       "version_major": 2,
       "version_minor": 0
      },
      "text/plain": [
       "VBox(children=(HBox(children=(IntProgress(value=0, description='0/0', max=1000), Button(description='Save', ic…"
      ]
     },
     "metadata": {},
     "output_type": "display_data"
    }
   ],
   "source": [
    "heatmap.display_notebook()"
   ]
  },
  {
   "cell_type": "markdown",
   "id": "b8e0118d",
   "metadata": {},
   "source": [
    "## Start the scheduler"
   ]
  },
  {
   "cell_type": "code",
   "execution_count": 7,
   "id": "83b4139e",
   "metadata": {},
   "outputs": [
    {
     "data": {
      "text/plain": [
       "<Task pending name='Task-14' coro=<Scheduler.start() running at /home/fekete/src/progressivis/progressivis/core/scheduler.py:277>>"
      ]
     },
     "execution_count": 7,
     "metadata": {},
     "output_type": "execute_result"
    },
    {
     "name": "stdout",
     "output_type": "stream",
     "text": [
      "Starting scheduler\n",
      "# Scheduler added module(s): ['const_dict_1', 'const_dict_2', 'csv_loader_1', 'heatmap_1', 'histogram2_d_1']\n",
      "Leaving run loop\n"
     ]
    }
   ],
   "source": [
    "csv.scheduler.task_start()"
   ]
  },
  {
   "cell_type": "markdown",
   "id": "93eb1a77",
   "metadata": {},
   "source": [
    "## Show the modules\n",
    "printing the scheduler shows all the modules and their states"
   ]
  },
  {
   "cell_type": "code",
   "execution_count": 8,
   "id": "6694238b",
   "metadata": {},
   "outputs": [
    {
     "data": {
      "text/html": [
       "\n",
       "<style scoped>\n",
       "    .dataframe tbody tr th:only-of-type {\n",
       "        vertical-align: middle;\n",
       "    }\n",
       "\n",
       "    .dataframe tbody tr th {\n",
       "        vertical-align: top;\n",
       "    }\n",
       "\n",
       "    .dataframe thead th {\n",
       "        text-align: right;\n",
       "    }\n",
       "</style>\n",
       "<p><b>Scheduler</b> 0x7abbd171f770\n",
       "        <b>running</b>,\n",
       "        <b>modules:</b> 5,\n",
       "        <b>run number:</b> 40\n",
       "</p>\n",
       "<table border=\"1\" class=\"dataframe\">\n",
       "  <thead>\n",
       "    <tr style=\"text-align: right;\">\n",
       "      <th>Id</th><th>Class</th><th>State</th><th>Last Update</th><th>Order</th>\n",
       "    </tr>\n",
       "  </thead>\n",
       "  <tbody><tr><td>csv_loader_1</td><td>csv_loader</td><td>state_ready</td><td>38</td><td>0</td><tr><td>histogram2_d_1</td><td>histogram2_d</td><td>state_blocked</td><td>39</td><td>3</td><tr><td>heatmap_1</td><td>heatmap</td><td>state_blocked</td><td>40</td><td>4</td></tbody></table>"
      ],
      "text/plain": [
       "<progressivis.core.scheduler.Scheduler at 0x7abbd171f770>"
      ]
     },
     "execution_count": 8,
     "metadata": {},
     "output_type": "execute_result"
    }
   ],
   "source": [
    "csv.scheduler"
   ]
  },
  {
   "cell_type": "markdown",
   "id": "963b5db5",
   "metadata": {},
   "source": [
    "## Module Quality\n",
    "Most modules performing a computation can return a \"quality\" measure.\n",
    "What is a \"quality\" is a long question, but for ProgressiVis, it is a floating point number;\n",
    "the higher, the better. A module's output can only be trusted if its quality is stable.\n",
    "Unfortunately, there are cases when the quality will remain stable for a while and change again,\n",
    "but we'll ignore them for now.\n",
    "\n",
    "For the `Min` module, the quality is simply the negative value of the columns. The higher, the better, and when they stabilize, the module becomes trustworthy. Here, `min` is a constant so it does not return a quality.\n",
    "\n",
    "The `Histogram2D` module has a more complex quality based on the difference between the array values between runs, 0 being best.\n"
   ]
  },
  {
   "cell_type": "code",
   "execution_count": 12,
   "id": "5d153656",
   "metadata": {},
   "outputs": [
    {
     "data": {
      "text/plain": [
       "{'histogram2d_(pickup_longitude,pickup_latitude)': -0.0027032723018820697}"
      ]
     },
     "execution_count": 12,
     "metadata": {},
     "output_type": "execute_result"
    }
   ],
   "source": [
    "histogram2d.get_quality()"
   ]
  },
  {
   "cell_type": "markdown",
   "id": "b52e4880",
   "metadata": {},
   "source": [
    "## Module Progress\n",
    "Module can return their progress, a pair of two values: (current, maximum).\n",
    "Both can vary each time the module is run, since the maximum is usually an estimate."
   ]
  },
  {
   "cell_type": "code",
   "execution_count": 10,
   "id": "eb2c7ddb",
   "metadata": {},
   "outputs": [
    {
     "data": {
      "text/plain": [
       "(0, 0)"
      ]
     },
     "execution_count": 10,
     "metadata": {},
     "output_type": "execute_result"
    }
   ],
   "source": [
    "min.get_progress()"
   ]
  },
  {
   "cell_type": "markdown",
   "id": "e3ba003c",
   "metadata": {},
   "source": [
    "## Visualizing the Quality and Progress Bar\n",
    "We define two functions to monitor the quality and progress here."
   ]
  },
  {
   "cell_type": "code",
   "execution_count": 14,
   "id": "e3197071",
   "metadata": {},
   "outputs": [],
   "source": [
    "import ipywidgets as ipw\n",
    "\n",
    "from progressivis import Module\n",
    "from ipyprogressivis.widgets import QualityVisualization\n",
    "\n",
    "def display_quality(mods, period: float = 3) -> QualityVisualization:\n",
    "    qv = QualityVisualization()\n",
    "    last = 0  # show immediately\n",
    "    if isinstance(mods, Module):\n",
    "        mods = [mods]\n",
    "\n",
    "    async def _after_run(m: Module, run_number: int) -> None:\n",
    "        nonlocal last\n",
    "        now = m.last_time()\n",
    "        if (now - last) < period:\n",
    "            return\n",
    "        last = now\n",
    "        measures = m.get_quality()\n",
    "        if measures is not None:\n",
    "            qv.update(measures, now)\n",
    "\n",
    "    for mod in mods:\n",
    "        mod.on_after_run(_after_run)\n",
    "    return qv\n",
    "\n",
    "\n",
    "def display_progress_bar(mod: Module, period: float = 3) -> ipw.IntProgress:\n",
    "    prog_wg = ipw.IntProgress(\n",
    "        description=\"Progress\", min=0, max=1000, layout={\"width\": \"200\"}\n",
    "    )\n",
    "\n",
    "    def _proc(m: Module, r: int) -> None:\n",
    "        val_, max_ = m.get_progress()\n",
    "        prog_wg.value = val_\n",
    "        if prog_wg.max != max_:\n",
    "            prog_wg.max = max_\n",
    "    mod.on_after_run(_proc) \n",
    "    return prog_wg"
   ]
  },
  {
   "cell_type": "markdown",
   "id": "fce9aaba-55da-4b9e-bb88-a5673a7c4570",
   "metadata": {},
   "source": [
    "## Monitoring the Quality\n",
    "\n",
    "The quality can be visualized when the module runs, with a controlled updated every 3s to avoid flooding the notebook and the user."
   ]
  },
  {
   "cell_type": "code",
   "execution_count": 15,
   "id": "16eca73d",
   "metadata": {},
   "outputs": [
    {
     "data": {
      "application/vnd.jupyter.widget-view+json": {
       "model_id": "d32a42cffa0440ebb340e216df9f1cd2",
       "version_major": 2,
       "version_minor": 0
      },
      "text/plain": [
       "QualityVisualization()"
      ]
     },
     "execution_count": 15,
     "metadata": {},
     "output_type": "execute_result"
    }
   ],
   "source": [
    "heatq = display_quality(heatmap)\n",
    "heatq"
   ]
  },
  {
   "cell_type": "markdown",
   "id": "d1eba57a-f750-4f29-a93b-7d1a396f8183",
   "metadata": {},
   "source": [
    "The quality widget can be manipulated dynamically to change its size according to, e.g., its level of interest."
   ]
  },
  {
   "cell_type": "code",
   "execution_count": 17,
   "id": "60f81e89",
   "metadata": {},
   "outputs": [],
   "source": [
    "heatq.width = \"100%\"\n",
    "heatq.height = 100"
   ]
  },
  {
   "cell_type": "code",
   "execution_count": 18,
   "id": "fab806d5",
   "metadata": {},
   "outputs": [
    {
     "data": {
      "application/vnd.jupyter.widget-view+json": {
       "model_id": "39265016484a425399141fb5705608be",
       "version_major": 2,
       "version_minor": 0
      },
      "text/plain": [
       "IntProgress(value=0, description='Progress', layout=Layout(width='200'), max=1000)"
      ]
     },
     "execution_count": 18,
     "metadata": {},
     "output_type": "execute_result"
    }
   ],
   "source": [
    "display_progress_bar(heatmap)"
   ]
  },
  {
   "cell_type": "markdown",
   "id": "522eebd4",
   "metadata": {},
   "source": [
    "## Stop the scheduler\n",
    "To stop the scheduler, uncomment the next cell and run it"
   ]
  },
  {
   "cell_type": "code",
   "execution_count": null,
   "id": "47341d46",
   "metadata": {},
   "outputs": [],
   "source": [
    "\n",
    "# csv.scheduler.task_stop()"
   ]
  }
 ],
 "metadata": {
  "jupytext": {
   "comment_magics": false,
   "formats": "ipynb,py:percent"
  },
  "kernelspec": {
   "display_name": "Python 3 (ipykernel)",
   "language": "python",
   "name": "python3"
  },
  "language_info": {
   "codemirror_mode": {
    "name": "ipython",
    "version": 3
   },
   "file_extension": ".py",
   "mimetype": "text/x-python",
   "name": "python",
   "nbconvert_exporter": "python",
   "pygments_lexer": "ipython3",
   "version": "3.13.7"
  },
  "widgets": {
   "application/vnd.jupyter.widget-state+json": {
    "state": {
     "04dcf2e6bd964c40ab5709f6ed841d13": {
      "model_module": "@jupyter-widgets/base",
      "model_module_version": "2.0.0",
      "model_name": "LayoutModel",
      "state": {
       "width": "200"
      }
     },
     "285394f92d464ed0b022948f3f7213d0": {
      "model_module": "@jupyter-widgets/base",
      "model_module_version": "2.0.0",
      "model_name": "LayoutModel",
      "state": {}
     },
     "39265016484a425399141fb5705608be": {
      "model_module": "@jupyter-widgets/controls",
      "model_module_version": "2.0.0",
      "model_name": "IntProgressModel",
      "state": {
       "description": "Progress",
       "layout": "IPY_MODEL_04dcf2e6bd964c40ab5709f6ed841d13",
       "max": 1000,
       "style": "IPY_MODEL_8fb5e53a1e8c4d7785ab98d40c1d3aec"
      }
     },
     "4fb8d0115ddd491cb823cd5693ddf3b8": {
      "model_module": "@jupyter-widgets/controls",
      "model_module_version": "2.0.0",
      "model_name": "ButtonStyleModel",
      "state": {
       "font_family": null,
       "font_size": null,
       "font_style": null,
       "font_variant": null,
       "font_weight": null,
       "text_color": null,
       "text_decoration": null
      }
     },
     "523caa1f02354d54b8b42318afb0aff5": {
      "model_module": "@jupyter-widgets/base",
      "model_module_version": "2.0.0",
      "model_name": "LayoutModel",
      "state": {}
     },
     "68d39f8eaffd4174bc8be32bcb60cb8e": {
      "model_module": "@jupyter-widgets/base",
      "model_module_version": "2.0.0",
      "model_name": "LayoutModel",
      "state": {}
     },
     "6ca227f3147c424ca233fffae833184f": {
      "model_module": "@jupyter-widgets/base",
      "model_module_version": "2.0.0",
      "model_name": "LayoutModel",
      "state": {}
     },
     "7c2e54c57f574b82af60508bf7ead6e6": {
      "model_module": "@jupyter-widgets/controls",
      "model_module_version": "2.0.0",
      "model_name": "HBoxModel",
      "state": {
       "children": [
        "IPY_MODEL_c69ddc50d5d44c93bfd5a66d00b3c274",
        "IPY_MODEL_8785db589f294bafa6ddc8f44a434ec3"
       ],
       "layout": "IPY_MODEL_285394f92d464ed0b022948f3f7213d0"
      }
     },
     "8785db589f294bafa6ddc8f44a434ec3": {
      "model_module": "@jupyter-widgets/controls",
      "model_module_version": "2.0.0",
      "model_name": "ButtonModel",
      "state": {
       "description": "Save",
       "icon": "save",
       "layout": "IPY_MODEL_523caa1f02354d54b8b42318afb0aff5",
       "style": "IPY_MODEL_4fb8d0115ddd491cb823cd5693ddf3b8",
       "tooltip": null
      }
     },
     "8fb5e53a1e8c4d7785ab98d40c1d3aec": {
      "model_module": "@jupyter-widgets/controls",
      "model_module_version": "2.0.0",
      "model_name": "ProgressStyleModel",
      "state": {
       "description_width": ""
      }
     },
     "bb14d821c11e44c6aed31a96749cda42": {
      "buffers": [
       {
        "data": "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",
        "encoding": "base64",
        "path": [
         "value"
        ]
       }
      ],
      "model_module": "@jupyter-widgets/controls",
      "model_module_version": "2.0.0",
      "model_name": "ImageModel",
      "state": {
       "height": "512",
       "layout": "IPY_MODEL_68d39f8eaffd4174bc8be32bcb60cb8e",
       "width": "512"
      }
     },
     "bbd8a36ed309476fb3071ee7ac350dd0": {
      "model_module": "@jupyter-widgets/base",
      "model_module_version": "2.0.0",
      "model_name": "LayoutModel",
      "state": {}
     },
     "c69ddc50d5d44c93bfd5a66d00b3c274": {
      "model_module": "@jupyter-widgets/controls",
      "model_module_version": "2.0.0",
      "model_name": "IntProgressModel",
      "state": {
       "description": "100%",
       "layout": "IPY_MODEL_6ca227f3147c424ca233fffae833184f",
       "max": 12748986,
       "style": "IPY_MODEL_e00ad72e92d54c999bf14578a8442522",
       "value": 12743641
      }
     },
     "d25534bd059b4cae8c6187fa69937338": {
      "model_module": "@jupyter-widgets/controls",
      "model_module_version": "2.0.0",
      "model_name": "VBoxModel",
      "state": {
       "children": [
        "IPY_MODEL_7c2e54c57f574b82af60508bf7ead6e6",
        "IPY_MODEL_bb14d821c11e44c6aed31a96749cda42"
       ],
       "layout": "IPY_MODEL_bbd8a36ed309476fb3071ee7ac350dd0"
      }
     },
     "d32a42cffa0440ebb340e216df9f1cd2": {
      "model_module": "jupyter-progressivis",
      "model_module_version": "^0.1.0",
      "model_name": "QualityVisualizationModel",
      "state": {
       "_img_url": "%3Csvg%20id%3D%22quality_vis_2%22%20class%3D%22quality-vis%22%20width%3D%22100%25%22%20height%3D%22100%22%3E%3Cg%3E%3C%2Fg%3E%3Cg%20class%3D%22qaxis%22%3E%3C%2Fg%3E%3C%2Fsvg%3E",
       "_model_module_version": "^0.1.0",
       "_view_module_version": "^0.1.0",
       "height": 100,
       "layout": "IPY_MODEL_fae1da1942b34270bfa3119443e926b4",
       "width": "100%"
      }
     },
     "e00ad72e92d54c999bf14578a8442522": {
      "model_module": "@jupyter-widgets/controls",
      "model_module_version": "2.0.0",
      "model_name": "ProgressStyleModel",
      "state": {
       "description_width": ""
      }
     },
     "fae1da1942b34270bfa3119443e926b4": {
      "model_module": "@jupyter-widgets/base",
      "model_module_version": "2.0.0",
      "model_name": "LayoutModel",
      "state": {}
     }
    },
    "version_major": 2,
    "version_minor": 0
   }
  }
 },
 "nbformat": 4,
 "nbformat_minor": 5
}

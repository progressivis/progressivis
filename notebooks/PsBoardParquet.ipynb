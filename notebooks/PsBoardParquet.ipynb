{
 "cells": [
  {
   "cell_type": "code",
   "execution_count": null,
   "metadata": {
    "lines_to_next_cell": 2
   },
   "outputs": [],
   "source": [
    "from progressivis_nb_widgets.nbwidgets import *"
   ]
  },
  {
   "cell_type": "code",
   "execution_count": null,
   "metadata": {},
   "outputs": [],
   "source": [
    "import pandas as pd\n",
    "from progressivis.core import Scheduler, Every\n",
    "from progressivis.table import Table\n",
    "from progressivis.vis import MCScatterPlot\n",
    "from progressivis.io import ParquetLoader\n",
    "#from progressivis.datasets import get_dataset\n",
    "from progressivis.table.constant import Constant\n",
    "import asyncio as aio\n",
    "import pyarrow as pa\n",
    "import threading\n",
    "import os\n",
    "\n",
    "def _quiet(x): pass\n",
    "\n",
    "def _filter(bat):\n",
    "    df = bat.to_pandas()\n",
    "    pklon = df['pickup_longitude']\n",
    "    pklat = df['pickup_latitude']\n",
    "    dolon = df['dropoff_longitude']\n",
    "    dolat = df['dropoff_latitude']\n",
    "    res = df[(pklon > -74.08) & (pklon < -73.5) & (pklat > 40.55) & (pklat < 41.00) &\n",
    "                  (dolon > -74.08) & (dolon < -73.5) & (dolat > 40.55) & (dolat < 41.00)]\n",
    "    return pa.RecordBatch.from_pandas(res)\n",
    "\n",
    "try:\n",
    "    s = scheduler\n",
    "except NameError:\n",
    "    s = Scheduler()\n",
    "\n",
    "PREFIX = \"../nyc-taxi/bk_500k_yellow_tripdata_2015\"\n",
    "\n",
    "URLS = [f\"{PREFIX}-{month:0>2}.parquet\" for month in range(1,7)]\n",
    "\n",
    "\n",
    "FILENAMES = pd.DataFrame({'filename': URLS})\n",
    "CST = Constant(Table('filenames', data=FILENAMES), scheduler=s)\n",
    "CSV = ParquetLoader(index_col=False, skipinitialspace=True,\n",
    "                columns=['pickup_longitude', 'pickup_latitude',\n",
    "                             'dropoff_longitude', 'dropoff_latitude'],\n",
    "                filter_=_filter, scheduler=s) # TODO: reimplement filter in read_csv.py\n",
    "\n",
    "CSV.input.filenames = CST.output[0]\n",
    "PR = Every(scheduler=s, proc=_quiet)\n",
    "PR.input[0] = CSV.output.result\n",
    "\n",
    "\n",
    "MULTICLASS = MCScatterPlot(scheduler=s, classes=[\n",
    "    ('pickup', 'pickup_longitude', 'pickup_latitude'),\n",
    "    ('dropoff', 'dropoff_longitude', 'dropoff_latitude')], approximate=True)\n",
    "MULTICLASS.create_dependent_modules(CSV)\n",
    "\n",
    "# Create the dashboard object\n",
    "psboard = PsBoard(s, order='desc')\n",
    "# Visualisations require registration :\n",
    "# 1) When widget provides the link_module() method do :\n",
    "psboard.register_visualisation(Scatterplot(disable=['init_centroids']), MULTICLASS)\n",
    "# 2) When widget is generic or for overloading the link_module() method do:\n",
    "# psboard.register_visualisation(FooWidget(), bar_module, glue=glue_func)\n",
    "# NB: glue_func(widget, module)-> [coroutine] must be provided\n",
    "# Start application :\n",
    "\n",
    "s.task_start();"
   ]
  },
  {
   "cell_type": "markdown",
   "metadata": {},
   "source": [
    "#### Click  _&#x1f441; mc_scatter_plot_1_ below to display the scatterplot:"
   ]
  },
  {
   "cell_type": "code",
   "execution_count": null,
   "metadata": {},
   "outputs": [],
   "source": [
    "display(psboard)"
   ]
  }
 ],
 "metadata": {
  "jupytext": {
   "encoding": "# -*- coding: utf-8 -*-",
   "formats": "ipynb,py:light"
  },
  "kernelspec": {
   "display_name": "Python 3 (ipykernel)",
   "language": "python",
   "name": "python3"
  },
  "language_info": {
   "codemirror_mode": {
    "name": "ipython",
    "version": 3
   },
   "file_extension": ".py",
   "mimetype": "text/x-python",
   "name": "python",
   "nbconvert_exporter": "python",
   "pygments_lexer": "ipython3",
   "version": "3.9.13"
  }
 },
 "nbformat": 4,
 "nbformat_minor": 4
}

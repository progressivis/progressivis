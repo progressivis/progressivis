{
 "cells": [
  {
   "cell_type": "code",
   "execution_count": 1,
   "metadata": {
    "lines_to_next_cell": 2
   },
   "outputs": [],
   "source": [
    "from progressivis_nb_widgets.nbwidgets import *"
   ]
  },
  {
   "cell_type": "code",
   "execution_count": 2,
   "metadata": {},
   "outputs": [
    {
     "name": "stdout",
     "output_type": "stream",
     "text": [
      "Starting scheduler\n",
      "# Scheduler added module(s): ['constant_1', 'dyn_var_1', 'dyn_var_2', 'every_1', 'histogram_index_1', 'histogram_index_2', 'histogram_index_3', 'histogram_index_4', 'max_1', 'max_2', 'max_3', 'max_4', 'mc_histogram2_d_1', 'mc_histogram2_d_2', 'mc_scatter_plot_1', 'merge_dict_1', 'merge_dict_2', 'merge_dict_3', 'merge_dict_4', 'min_1', 'min_2', 'min_3', 'min_4', 'parquet_loader_1', 'range_query2d_1', 'range_query2d_2', 'sample_1', 'sample_2']\n"
     ]
    }
   ],
   "source": [
    "from progressivis.core import Scheduler, Every\n",
    "from progressivis.table import PTable\n",
    "from progressivis.vis import MCScatterPlot\n",
    "from progressivis.io import ParquetLoader\n",
    "from progressivis.table.constant import Constant\n",
    "import asyncio as aio\n",
    "import pyarrow as pa\n",
    "import pyarrow.compute as pc\n",
    "from functools import reduce\n",
    "\n",
    "def _quiet(x): pass\n",
    "\n",
    "gt = pc.greater\n",
    "lt = pc.less\n",
    "\n",
    "def _filter(bat):\n",
    "    pklon = bat['pickup_longitude']\n",
    "    pklat = bat['pickup_latitude']\n",
    "    dolon = bat['dropoff_longitude']\n",
    "    dolat = bat['dropoff_latitude']\n",
    "    mask = [gt(pklon, -74.08), lt(pklon, -73.5), gt(pklat, 40.55), lt(pklat, 41.00),\n",
    "                  gt(dolon, -74.08), lt(dolon, -73.5), gt(dolat, 40.55), lt(dolat, 41.00)]\n",
    "    return bat.filter(reduce(pc.and_, mask))\n",
    "\n",
    "\n",
    "try:\n",
    "    s = scheduler\n",
    "except NameError:\n",
    "    s = Scheduler()\n",
    "\n",
    "PREFIX = \"../nyc-taxi/bk_500k_yellow_tripdata_2015\"\n",
    "\n",
    "URLS = [f\"{PREFIX}-{month:0>2}.parquet\" for month in range(1,7)]\n",
    "\n",
    "\n",
    "FILENAMES = {'filename': URLS}\n",
    "CST = Constant(PTable('filenames', data=FILENAMES), scheduler=s)\n",
    "CSV = ParquetLoader(index_col=False, skipinitialspace=True,\n",
    "                columns=['pickup_longitude', 'pickup_latitude',\n",
    "                             'dropoff_longitude', 'dropoff_latitude'],\n",
    "                filter_=_filter, scheduler=s) # TODO: reimplement filter in read_csv.py\n",
    "\n",
    "CSV.input.filenames = CST.output[0]\n",
    "PR = Every(scheduler=s, proc=_quiet)\n",
    "PR.input[0] = CSV.output.result\n",
    "\n",
    "\n",
    "MULTICLASS = MCScatterPlot(scheduler=s, classes=[\n",
    "    ('pickup', 'pickup_longitude', 'pickup_latitude'),\n",
    "    ('dropoff', 'dropoff_longitude', 'dropoff_latitude')], approximate=True)\n",
    "MULTICLASS.create_dependent_modules(CSV)\n",
    "\n",
    "# Create the dashboard object\n",
    "psboard = PsBoard(s, order='desc')\n",
    "# Visualisations require registration :\n",
    "# 1) When widget provides the link_module() method do :\n",
    "psboard.register_visualisation(Scatterplot(disable=['init_centroids']), MULTICLASS)\n",
    "# 2) When widget is generic or for overloading the link_module() method do:\n",
    "# psboard.register_visualisation(FooWidget(), bar_module, glue=glue_func)\n",
    "# NB: glue_func(widget, module)-> [coroutine] must be provided\n",
    "# Start application :\n",
    "\n",
    "s.task_start();"
   ]
  },
  {
   "cell_type": "markdown",
   "metadata": {},
   "source": [
    "#### Click  _&#x1f441; mc_scatter_plot_1_ below to display the scatterplot:"
   ]
  },
  {
   "cell_type": "code",
   "execution_count": 3,
   "metadata": {},
   "outputs": [
    {
     "data": {
      "application/vnd.jupyter.widget-view+json": {
       "model_id": "f8ebac77e40347ae9f69149c70336eb9",
       "version_major": 2,
       "version_minor": 0
      },
      "text/plain": [
       "PsBoard(children=(ControlPanel(children=(Button(description='Resume', disabled=True, icon='play', style=Button…"
      ]
     },
     "metadata": {},
     "output_type": "display_data"
    },
    {
     "name": "stderr",
     "output_type": "stream",
     "text": [
      "\n",
      "\n",
      "\n",
      "\n",
      "\n",
      "\n",
      "\n",
      "\n",
      "\n",
      "\n",
      "\n",
      "\n",
      "\n",
      "\n",
      "\n",
      "\n",
      "\n",
      "\n",
      "\n",
      "\n",
      "\n",
      "\n"
     ]
    }
   ],
   "source": [
    "display(psboard)"
   ]
  }
 ],
 "metadata": {
  "jupytext": {
   "encoding": "# -*- coding: utf-8 -*-",
   "formats": "ipynb,py:light"
  },
  "kernelspec": {
   "display_name": "Python 3 (ipykernel)",
   "language": "python",
   "name": "python3"
  },
  "language_info": {
   "codemirror_mode": {
    "name": "ipython",
    "version": 3
   },
   "file_extension": ".py",
   "mimetype": "text/x-python",
   "name": "python",
   "nbconvert_exporter": "python",
   "pygments_lexer": "ipython3",
   "version": "3.9.13"
  }
 },
 "nbformat": 4,
 "nbformat_minor": 4
}

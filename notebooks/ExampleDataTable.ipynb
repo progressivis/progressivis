{
 "cells": [
  {
   "cell_type": "code",
   "execution_count": 1,
   "metadata": {},
   "outputs": [],
   "source": [
    "from progressivis_nb_widgets import *\n",
    "dt = DataTable()"
   ]
  },
  {
   "cell_type": "code",
   "execution_count": 2,
   "metadata": {},
   "outputs": [],
   "source": [
    "import numpy as np\n",
    "from progressivis.table import Table \n",
    "from progressivis.core import JSONEncoderNp\n",
    "t = Table('table_at', dshape=\"{a: int, b: float32}\", create=True)\n",
    "sz = 100\n",
    "t.resize(sz)\n",
    "ivalues = np.random.randint(100,size=sz)\n",
    "t['a'] = ivalues\n",
    "fvalues = np.random.rand(sz)\n",
    "t['b'] = fvalues"
   ]
  },
  {
   "cell_type": "code",
   "execution_count": 3,
   "metadata": {},
   "outputs": [
    {
     "data": {
      "application/vnd.jupyter.widget-view+json": {
       "model_id": "5d9b2b62ddc9467bafd1edf4e87213d1",
       "version_major": 2,
       "version_minor": 0
      },
      "text/plain": [
       "DataTable(columns='[\"index\", \"a\", \"b\"]', data='{\"data\": [[0, 78, 0.4830804169178009], [1, 32, 0.67952984571456…"
      ]
     },
     "metadata": {},
     "output_type": "display_data"
    }
   ],
   "source": [
    "dt.columns = JSONEncoderNp.dumps(['index']+t.columns)\n",
    "data = t.iloc[0:10].to_json(orient='datatable')\n",
    "js_data = {'data': data, 'recordsTotal': len(t), \n",
    "           'recordsFiltered': len(t), 'length': len(t), 'draw':1}\n",
    "dt.data = JSONEncoderNp.dumps(js_data)\n",
    "dt"
   ]
  },
  {
   "cell_type": "code",
   "execution_count": 4,
   "metadata": {},
   "outputs": [
    {
     "data": {
      "application/vnd.jupyter.widget-view+json": {
       "model_id": "5d9b2b62ddc9467bafd1edf4e87213d1",
       "version_major": 2,
       "version_minor": 0
      },
      "text/plain": [
       "DataTable(columns='[\"index\", \"a\", \"b\"]', data='{\"data\": [[0, 78, 0.4830804169178009], [1, 32, 0.67952984571456…"
      ]
     },
     "metadata": {},
     "output_type": "display_data"
    },
    {
     "data": {
      "application/vnd.jupyter.widget-view+json": {
       "model_id": "348beb494a1647cd9240f8179d5f8299",
       "version_major": 2,
       "version_minor": 0
      },
      "text/plain": [
       "Output()"
      ]
     },
     "metadata": {},
     "output_type": "display_data"
    }
   ],
   "source": [
    "output2 = widgets.Output()\n",
    "display(dt, output2)\n",
    "\n",
    "def on_value_change(change):\n",
    "    info = change['new']\n",
    "    data = t.iloc[info['start']:info['end']].to_json(orient='datatable')\n",
    "    js_data = {'data': data, 'recordsTotal': len(t), 'recordsFiltered': len(t), \n",
    "               'length': len(t), 'draw':info['draw'], 'page':info['page']}\n",
    "    dt.data = JSONEncoderNp.dumps(js_data)\n",
    "    with output2:\n",
    "        print(change['new'])\n",
    "dt.observe(on_value_change, \"page\")"
   ]
  },
  {
   "cell_type": "code",
   "execution_count": null,
   "metadata": {},
   "outputs": [],
   "source": []
  }
 ],
 "metadata": {
  "kernelspec": {
   "display_name": "Python 3",
   "language": "python",
   "name": "python3"
  },
  "language_info": {
   "codemirror_mode": {
    "name": "ipython",
    "version": 3
   },
   "file_extension": ".py",
   "mimetype": "text/x-python",
   "name": "python",
   "nbconvert_exporter": "python",
   "pygments_lexer": "ipython3",
   "version": "3.8.5"
  }
 },
 "nbformat": 4,
 "nbformat_minor": 2
}

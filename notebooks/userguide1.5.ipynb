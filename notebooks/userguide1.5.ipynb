{
 "cells": [
  {
   "cell_type": "markdown",
   "id": "0d883740",
   "metadata": {},
   "source": [
    "# Dynamic Modification of a ProgressiVis Program\n",
    "\n",
    "This notebook shows how a running ProgressiVis program can be modified.\n",
    "A simple program is created that loads a CSV file, compute the minumum, and prints a dot for each chunk.\n",
    "Then, the program is modified; a max module is added after the CSV module and a slash is printed at each chunk.\n",
    "Finally, the initial min module is deleted, triggering the deletion of the first print a **collateral dammage**."
   ]
  },
  {
   "cell_type": "code",
   "execution_count": null,
   "id": "a43a95f4",
   "metadata": {},
   "outputs": [],
   "source": [
    "from progressivis import (\n",
    "    CSVLoader,\n",
    "    Print,\n",
    "    Min, Max,\n",
    ")"
   ]
  },
  {
   "cell_type": "code",
   "execution_count": null,
   "id": "005b172e",
   "metadata": {},
   "outputs": [],
   "source": [
    "import warnings\n",
    "warnings.filterwarnings(\"ignore\")\n",
    "LARGE_TAXI_FILE = \"https://www.aviz.fr/nyc-taxi/yellow_tripdata_2015-01.csv.bz2\"\n",
    "\n",
    "# prints a dot at each chunk (run_step)\n",
    "def terse(x):\n",
    "    print(\".\", end=\"\", flush=True)\n",
    "\n",
    "# prints a slash at each chunk\n",
    "def terse2(x):\n",
    "    print(\"/\", end=\"\", flush=True)"
   ]
  },
  {
   "cell_type": "markdown",
   "id": "e6ad5047",
   "metadata": {},
   "source": [
    "## Creates the initial program\n",
    "\n",
    "The print module calls the function `terse` at each chunk, showing a dot when run."
   ]
  },
  {
   "cell_type": "code",
   "execution_count": null,
   "id": "7108cc19",
   "metadata": {},
   "outputs": [],
   "source": [
    "csv = CSVLoader(LARGE_TAXI_FILE, usecols=['pickup_longitude', 'pickup_latitude'])\n",
    "m = Min(name=\"min\")\n",
    "prt = Print(proc=terse)\n",
    "m.input.table = csv.output.result\n",
    "prt.input.df = m.output.result"
   ]
  },
  {
   "cell_type": "code",
   "execution_count": null,
   "id": "869d52f7",
   "metadata": {},
   "outputs": [],
   "source": [
    "csv.scheduler.task_start()"
   ]
  },
  {
   "cell_type": "code",
   "execution_count": null,
   "id": "0ad5e4c9",
   "metadata": {},
   "outputs": [],
   "source": [
    "csv.scheduler"
   ]
  },
  {
   "cell_type": "markdown",
   "id": "52dec3ef",
   "metadata": {},
   "source": [
    "# Adds a branch\n",
    "\n",
    "Compute the max and prints each chunk with a slash.\n",
    "The branch is validated at the end of the `with` construct and, if valid, is run. Otherwise, an exception is raised and the initial program is not modified."
   ]
  },
  {
   "cell_type": "code",
   "execution_count": null,
   "id": "259e9e70",
   "metadata": {},
   "outputs": [],
   "source": [
    "with csv.scheduler as dataflow:\n",
    "    M = Max(name=\"max\")\n",
    "    prt2 = Print(proc=terse2)\n",
    "    M.input.table = csv.output.result\n",
    "    prt2.input.df = M.output.result"
   ]
  },
  {
   "cell_type": "code",
   "execution_count": null,
   "id": "c1d7c4c5",
   "metadata": {},
   "outputs": [],
   "source": [
    "csv.scheduler"
   ]
  },
  {
   "cell_type": "markdown",
   "id": "9d52170e",
   "metadata": {},
   "source": [
    "# Removes the initial branch\n",
    "\n",
    "The min module is deleted, which also deletes the first print module."
   ]
  },
  {
   "cell_type": "code",
   "execution_count": null,
   "id": "62d373e5",
   "metadata": {},
   "outputs": [],
   "source": [
    "with csv.scheduler as dataflow:\n",
    "    deps = dataflow.collateral_damage(\"min\")\n",
    "    print(\"The collateral damage of deleting min is:\", deps)\n",
    "    dataflow.delete_modules(*deps)"
   ]
  },
  {
   "cell_type": "code",
   "execution_count": null,
   "id": "5a9b1cc7",
   "metadata": {},
   "outputs": [],
   "source": [
    "csv.scheduler"
   ]
  },
  {
   "cell_type": "code",
   "execution_count": null,
   "id": "c997b38a",
   "metadata": {},
   "outputs": [],
   "source": [
    "# csv.scheduler.task_stop()"
   ]
  }
 ],
 "metadata": {
  "jupytext": {
   "comment_magics": false,
   "formats": "ipynb,py:percent"
  },
  "kernelspec": {
   "display_name": "Python 3 (ipykernel)",
   "language": "python",
   "name": "python3"
  }
 },
 "nbformat": 4,
 "nbformat_minor": 5
}

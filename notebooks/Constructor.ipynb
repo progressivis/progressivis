{
 "cells": [
  {
   "cell_type": "code",
   "execution_count": 1,
   "id": "fleet-final",
   "metadata": {},
   "outputs": [
    {
     "name": "stdout",
     "output_type": "stream",
     "text": [
      "no doc\n",
      "finalize: nothing to do on <class 'progressivis.io.csv_loader.CSVLoader'>\n",
      "params doc <class 'progressivis.io.csv_loader.CSVLoader'> {}\n",
      "finalize: nothing to do on <class 'progressivis.io.pa_csv_loader.PACSVLoader'>\n",
      "params doc <class 'progressivis.io.pa_csv_loader.PACSVLoader'> {}\n",
      "finalize: nothing to do on <class 'progressivis.io.parquet_loader.ParquetLoader'>\n",
      "params doc <class 'progressivis.io.parquet_loader.ParquetLoader'> {}\n",
      "finalize: nothing to do on <class 'progressivis.io.simple_csv_loader.SimpleCSVLoader'>\n",
      "params doc <class 'progressivis.io.simple_csv_loader.SimpleCSVLoader'> {}\n",
      "finalize: nothing to do on <class 'progressivis.io.variable.Variable'>\n",
      "params doc <class 'progressivis.io.variable.Variable'> {}\n",
      "finalize: nothing to do on <class 'progressivis.stats.stats.Stats'>\n",
      "params doc <class 'progressivis.stats.stats.Stats'> {}\n",
      "finalize: nothing to do on <class 'progressivis.stats.min.Min'>\n",
      "params doc <class 'progressivis.stats.min.Min'> {}\n",
      "finalize: nothing to do on <class 'progressivis.stats.max.Max'>\n",
      "params doc <class 'progressivis.stats.max.Max'> {}\n",
      "finalize: nothing to do on <class 'progressivis.stats.idxmax.IdxMax'>\n",
      "params doc <class 'progressivis.stats.idxmax.IdxMax'> {}\n",
      "finalize: nothing to do on <class 'progressivis.stats.idxmin.IdxMin'>\n",
      "params doc <class 'progressivis.stats.idxmin.IdxMin'> {}\n",
      "finalize: nothing to do on <class 'progressivis.stats.var.VarH'>\n",
      "params doc <class 'progressivis.stats.var.VarH'> {}\n",
      "finalize: nothing to do on <class 'progressivis.stats.var.Var'>\n",
      "params doc <class 'progressivis.stats.var.Var'> {}\n",
      "finalize: nothing to do on <class 'progressivis.stats.histogram1d.Histogram1D'>\n",
      "params doc <class 'progressivis.stats.histogram1d.Histogram1D'> {}\n",
      "finalize: nothing to do on <class 'progressivis.stats.histogram1d_categorical.Histogram1DCategorical'>\n",
      "params doc <class 'progressivis.stats.histogram1d_categorical.Histogram1DCategorical'> {}\n",
      "finalize: nothing to do on <class 'progressivis.stats.histogram2d.Histogram2D'>\n",
      "params doc <class 'progressivis.stats.histogram2d.Histogram2D'> {}\n",
      "finalize: nothing to do on <class 'progressivis.stats.sample.Sample'>\n",
      "params doc <class 'progressivis.stats.sample.Sample'> {}\n",
      "finalize: nothing to do on <class 'progressivis.table.constant.Constant'>\n",
      "params doc <class 'progressivis.table.constant.Constant'> {}\n",
      "finalize: nothing to do on <class 'progressivis.table.constant.ConstDict'>\n",
      "params doc <class 'progressivis.table.constant.ConstDict'> {}\n",
      "finalize: nothing to do on <class 'progressivis.stats.random_table.RandomPTable'>\n",
      "params doc <class 'progressivis.stats.random_table.RandomPTable'> {}\n",
      "finalize: nothing to do on <class 'progressivis.stats.random_table.RandomDict'>\n",
      "params doc <class 'progressivis.stats.random_table.RandomDict'> {}\n",
      "finalize: nothing to do on <class 'progressivis.table.hist_index.HistogramIndex'>\n",
      "params doc <class 'progressivis.table.hist_index.HistogramIndex'> {}\n",
      "finalize: nothing to do on <class 'progressivis.table.range_query_2d.RangeQuery2d'>\n",
      "params doc <class 'progressivis.table.range_query_2d.RangeQuery2d'> {}\n",
      "finalize: nothing to do on <class 'progressivis.table.range_query.RangeQuery'>\n",
      "params doc <class 'progressivis.table.range_query.RangeQuery'> {}\n"
     ]
    },
    {
     "ename": "TypeError",
     "evalue": "cleanup_cells() missing 1 required positional argument: 'manager'",
     "output_type": "error",
     "traceback": [
      "\u001b[0;31m---------------------------------------------------------------------------\u001b[0m",
      "\u001b[0;31mTypeError\u001b[0m                                 Traceback (most recent call last)",
      "Cell \u001b[0;32mIn[1], line 2\u001b[0m\n\u001b[1;32m      1\u001b[0m \u001b[38;5;28;01mfrom\u001b[39;00m \u001b[38;5;21;01mipyprogressivis\u001b[39;00m\u001b[38;5;21;01m.\u001b[39;00m\u001b[38;5;21;01mnbwidgets\u001b[39;00m \u001b[38;5;28;01mimport\u001b[39;00m cleanup_cells, Constructor\n\u001b[0;32m----> 2\u001b[0m \u001b[43mcleanup_cells\u001b[49m\u001b[43m(\u001b[49m\u001b[43m)\u001b[49m\n\u001b[1;32m      3\u001b[0m Constructor()\n",
      "\u001b[0;31mTypeError\u001b[0m: cleanup_cells() missing 1 required positional argument: 'manager'"
     ]
    }
   ],
   "source": [
    "from ipyprogressivis.nbwidgets import cleanup_cells, Constructor\n",
    "cleanup_cells()\n",
    "Constructor()"
   ]
  },
  {
   "cell_type": "code",
   "execution_count": null,
   "id": "fbfa42b1",
   "metadata": {},
   "outputs": [],
   "source": [
    "sc = Constructor.widget('Scaler', 0)\n",
    "sc.children[0][\"delta\"][\"val\"].description = \"X\""
   ]
  },
  {
   "cell_type": "code",
   "execution_count": null,
   "id": "e3c51684",
   "metadata": {},
   "outputs": [],
   "source": [
    "o = Constructor.widget('Scaler', 0)\n",
    "o.children[0][\"inp\"].children"
   ]
  },
  {
   "cell_type": "code",
   "execution_count": null,
   "id": "0ef2924b",
   "metadata": {},
   "outputs": [],
   "source": [
    "o = Constructor.widget('Scaler', 0)\n",
    "o.children[0].output_module.table.name"
   ]
  }
 ],
 "metadata": {
  "celltoolbar": "Éditer les Méta-Données",
  "hide_input": false,
  "kernelspec": {
   "display_name": "Python 3 (ipykernel)",
   "language": "python",
   "name": "python3"
  },
  "language_info": {
   "codemirror_mode": {
    "name": "ipython",
    "version": 3
   },
   "file_extension": ".py",
   "mimetype": "text/x-python",
   "name": "python",
   "nbconvert_exporter": "python",
   "pygments_lexer": "ipython3",
   "version": "3.11.4"
  },
  "latex_envs": {
   "LaTeX_envs_menu_present": true,
   "autoclose": false,
   "autocomplete": true,
   "bibliofile": "biblio.bib",
   "cite_by": "apalike",
   "current_citInitial": 1,
   "eqLabelWithNumbers": true,
   "eqNumInitial": 1,
   "hotkeys": {
    "equation": "Ctrl-E",
    "itemize": "Ctrl-I"
   },
   "labels_anchors": false,
   "latex_user_defs": false,
   "report_style_numbering": false,
   "user_envs_cfg": false
  },
  "toc": {
   "base_numbering": 1,
   "nav_menu": {},
   "number_sections": false,
   "sideBar": true,
   "skip_h1_title": true,
   "title_cell": "PTable of Contents",
   "title_sidebar": "Contents",
   "toc_cell": false,
   "toc_position": {
    "height": "836.875px",
    "left": "59px",
    "top": "111.125px",
    "width": "340px"
   },
   "toc_section_display": true,
   "toc_window_display": true
  }
 },
 "nbformat": 4,
 "nbformat_minor": 5
}

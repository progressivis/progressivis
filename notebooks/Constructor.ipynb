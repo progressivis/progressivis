{
 "cells": [
  {
   "cell_type": "markdown",
   "id": "cd098fb2",
   "metadata": {},
   "source": [
    "# Main"
   ]
  },
  {
   "cell_type": "code",
   "execution_count": 1,
   "id": "fleet-final",
   "metadata": {
    "scrolled": false
   },
   "outputs": [
    {
     "data": {
      "application/javascript": [
       "\n",
       "(function(){{\n",
       "  let indices = [];\n",
       "  IPython.notebook.get_cells().forEach( function(cell) {{\n",
       "    if (cell.metadata !== undefined){{\n",
       "      if(cell.metadata.progressivis_tag !== undefined){{\n",
       "        cell.metadata.editable = true;\n",
       "        cell.metadata.deletable = true;\n",
       "        let i = IPython.notebook.find_cell_index(cell);\n",
       "        indices.push(i);\n",
       "      }}\n",
       "    }}\n",
       "  }});\n",
       "  let uIndices = [...new Set(indices)];\n",
       "  IPython.notebook.delete_cells(uIndices);\n",
       "}})();\n"
      ],
      "text/plain": [
       "<IPython.core.display.Javascript object>"
      ]
     },
     "metadata": {},
     "output_type": "display_data"
    }
   ],
   "source": [
    "from progressivis_nb_widgets.nbwidgets import cleanup_cells, Constructor\n",
    "cleanup_cells()\n",
    "Constructor()"
   ]
  }
 ],
 "metadata": {
  "celltoolbar": "Éditer les Méta-Données",
  "hide_input": false,
  "kernelspec": {
   "display_name": "Python 3 (ipykernel)",
   "language": "python",
   "name": "python3"
  },
  "language_info": {
   "codemirror_mode": {
    "name": "ipython",
    "version": 3
   },
   "file_extension": ".py",
   "mimetype": "text/x-python",
   "name": "python",
   "nbconvert_exporter": "python",
   "pygments_lexer": "ipython3",
   "version": "3.9.13"
  },
  "toc": {
   "base_numbering": 1,
   "nav_menu": {},
   "number_sections": false,
   "sideBar": true,
   "skip_h1_title": true,
   "title_cell": "Table of Contents",
   "title_sidebar": "Contents",
   "toc_cell": false,
   "toc_position": {
    "height": "calc(100% - 180px)",
    "left": "10px",
    "top": "150px",
    "width": "303.188px"
   },
   "toc_section_display": true,
   "toc_window_display": true
  }
 },
 "nbformat": 4,
 "nbformat_minor": 5
}

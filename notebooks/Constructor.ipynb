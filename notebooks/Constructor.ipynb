{
 "cells": [
  {
   "cell_type": "code",
   "execution_count": 1,
   "id": "fleet-final",
   "metadata": {
    "scrolled": true
   },
   "outputs": [
    {
     "data": {
      "application/javascript": [
       "\n",
       "(function(){{\n",
       "  let indices = [];\n",
       "  IPython.notebook.get_cells().forEach( function(cell) {{\n",
       "    if (cell.metadata !== undefined){{\n",
       "      if(cell.metadata.progressivis_tag !== undefined){{\n",
       "        cell.metadata.editable = true;\n",
       "        cell.metadata.deletable = true;\n",
       "        let i = IPython.notebook.find_cell_index(cell);\n",
       "        indices.push(i);\n",
       "      }}\n",
       "    }}\n",
       "  }});\n",
       "  let uIndices = [...new Set(indices)];\n",
       "  IPython.notebook.delete_cells(uIndices);\n",
       "}})();\n"
      ],
      "text/plain": [
       "<IPython.core.display.Javascript object>"
      ]
     },
     "metadata": {},
     "output_type": "display_data"
    },
    {
     "data": {
      "application/vnd.jupyter.widget-view+json": {
       "model_id": "3abe0cc4538f478389987c177c2c4d59",
       "version_major": 2,
       "version_minor": 0
      },
      "text/plain": [
       "Constructor(children=(HTML(value=\"<h2 id='prog_139724801613728'>root</h2>\"), Button(description='Start schedul…"
      ]
     },
     "metadata": {},
     "output_type": "display_data"
    },
    {
     "name": "stdout",
     "output_type": "stream",
     "text": [
      "Starting scheduler\n",
      "# Scheduler added module(s): ['dyn_var_1', 'sink_1']\n"
     ]
    },
    {
     "data": {
      "application/javascript": [
       "\n",
       "(function(){\n",
       "  let i = -1;\n",
       "  IPython.notebook.get_cells().forEach( function(cell) {\n",
       "    if (cell.metadata !== undefined){\n",
       "      if(cell.metadata.progressivis_tag === \"no_previous\"){\n",
       "        cell.metadata.editable = true;\n",
       "        cell.metadata.deletable = true;\n",
       "        i = IPython.notebook.find_cell_index(cell);\n",
       "      }\n",
       "    }\n",
       "  });\n",
       "  if(i<0){\n",
       "   i = IPython.notebook.get_cell_elements().length;\n",
       "  } else {\n",
       "    i = i+1;\n",
       "  }\n",
       "  IPython.notebook.insert_cell_at_index(\"markdown\", i).set_text(\"## CSV loader\");\n",
       "  IPython.notebook.select(i);\n",
       "  IPython.notebook.execute_cell(i);\n",
       "  let meta = {\n",
       "    \"trusted\": true,\n",
       "    \"editable\": false,\n",
       "    \"deletable\": false,\n",
       "    \"progressivis_tag\": \"139722749787008\"\n",
       "   };\n",
       "  IPython.notebook.get_cell(i).metadata = meta;\n",
       "  IPython.notebook.insert_cell_at_index(\"code\", i+1).set_text(\"Constructor.widget('CSV loader')\");\n",
       "  IPython.notebook.select(i+1);\n",
       "  IPython.notebook.execute_cell(i+1);\n",
       "  IPython.notebook.get_cell(i+1).metadata = meta;\n",
       "})();\n"
      ],
      "text/plain": [
       "<IPython.core.display.Javascript object>"
      ]
     },
     "metadata": {},
     "output_type": "display_data"
    }
   ],
   "source": [
    "from progressivis_nb_widgets.nbwidgets import cleanup_cells, Constructor\n",
    "cleanup_cells()\n",
    "Constructor()"
   ]
  },
  {
   "cell_type": "code",
   "execution_count": null,
   "id": "fbfa42b1",
   "metadata": {},
   "outputs": [],
   "source": [
    "sc = Constructor.widget('Scaler', 0)\n",
    "sc.children[0][\"delta\"][\"val\"].description = \"X\""
   ]
  },
  {
   "cell_type": "code",
   "execution_count": null,
   "id": "e3c51684",
   "metadata": {},
   "outputs": [],
   "source": [
    "o = Constructor.widget('Scaler', 0)\n",
    "o.children[0][\"inp\"].children"
   ]
  },
  {
   "cell_type": "code",
   "execution_count": null,
   "id": "0ef2924b",
   "metadata": {},
   "outputs": [],
   "source": [
    "o = Constructor.widget('Scaler', 0)\n",
    "o.children[0].output_module.table.name"
   ]
  },
  {
   "cell_type": "markdown",
   "id": "2d13ddf6",
   "metadata": {
    "progressivis_tag": "139722749787008"
   },
   "source": [
    "## CSV loader"
   ]
  },
  {
   "cell_type": "code",
   "execution_count": 2,
   "id": "a7abaca9",
   "metadata": {
    "progressivis_tag": "139722749787008"
   },
   "outputs": [
    {
     "data": {
      "application/vnd.jupyter.widget-view+json": {
       "model_id": "974e378ad45247d48db1514f3dc82c27",
       "version_major": 2,
       "version_minor": 0
      },
      "text/plain": [
       "NodeCarrier(children=(CsvLoaderW(children=(Textarea(value='/home/poli/JDF2016/github/weather-us/nyc_2015.csv /…"
      ]
     },
     "metadata": {},
     "output_type": "display_data"
    },
    {
     "name": "stdout",
     "output_type": "stream",
     "text": [
      "# Scheduler added module(s): ['constant_1', 'simple_csv_loader_1']\n"
     ]
    },
    {
     "data": {
      "application/javascript": [
       "\n",
       "(function(){\n",
       "  let i = -1;\n",
       "  IPython.notebook.get_cells().forEach( function(cell) {\n",
       "    if (cell.metadata !== undefined){\n",
       "      if(cell.metadata.progressivis_tag === \"139722749787008\"){\n",
       "        cell.metadata.editable = true;\n",
       "        cell.metadata.deletable = true;\n",
       "        i = IPython.notebook.find_cell_index(cell);\n",
       "      }\n",
       "    }\n",
       "  });\n",
       "  if(i<0){\n",
       "   i = IPython.notebook.get_cell_elements().length;\n",
       "  } else {\n",
       "    i = i+1;\n",
       "  }\n",
       "  IPython.notebook.insert_cell_at_index(\"markdown\", i).set_text(\"## Scaler\");\n",
       "  IPython.notebook.select(i);\n",
       "  IPython.notebook.execute_cell(i);\n",
       "  let meta = {\n",
       "    \"trusted\": true,\n",
       "    \"editable\": false,\n",
       "    \"deletable\": false,\n",
       "    \"progressivis_tag\": \"139722740999888\"\n",
       "   };\n",
       "  IPython.notebook.get_cell(i).metadata = meta;\n",
       "  IPython.notebook.insert_cell_at_index(\"code\", i+1).set_text(\"Constructor.widget('Scaler', 0)\");\n",
       "  IPython.notebook.select(i+1);\n",
       "  IPython.notebook.execute_cell(i+1);\n",
       "  IPython.notebook.get_cell(i+1).metadata = meta;\n",
       "})();\n"
      ],
      "text/plain": [
       "<IPython.core.display.Javascript object>"
      ]
     },
     "metadata": {},
     "output_type": "display_data"
    }
   ],
   "source": [
    "Constructor.widget('CSV loader')"
   ]
  },
  {
   "cell_type": "markdown",
   "id": "b8d5bce7",
   "metadata": {
    "deletable": false,
    "editable": false,
    "progressivis_tag": "139722740999888"
   },
   "source": [
    "## Scaler"
   ]
  },
  {
   "cell_type": "code",
   "execution_count": 3,
   "id": "3f277430",
   "metadata": {
    "deletable": false,
    "editable": false,
    "progressivis_tag": "139722740999888"
   },
   "outputs": [
    {
     "data": {
      "application/vnd.jupyter.widget-view+json": {
       "model_id": "181e2e7cff7b47fcb0d811346861691f",
       "version_major": 2,
       "version_minor": 0
      },
      "text/plain": [
       "NodeCarrier(children=(ScalerW(children=(IScalerIn(children=(Label(value='Scaled columns'), SelectMultiple(opti…"
      ]
     },
     "metadata": {},
     "output_type": "display_data"
    },
    {
     "name": "stdout",
     "output_type": "stream",
     "text": [
      "# Scheduler added module(s): ['dyn_var_2', 'histogram1_d_1', 'histogram1_d_2', 'histogram1_d_3', 'max_1', 'min_1', 'min_max_scaler_1', 'sink_2', 'sink_3', 'sink_4', 'sink_5', 'sink_6']\n"
     ]
    }
   ],
   "source": [
    "Constructor.widget('Scaler', 0)"
   ]
  }
 ],
 "metadata": {
  "celltoolbar": "Éditer les Méta-Données",
  "hide_input": false,
  "kernelspec": {
   "display_name": "Python 3 (ipykernel)",
   "language": "python",
   "name": "python3"
  },
  "language_info": {
   "codemirror_mode": {
    "name": "ipython",
    "version": 3
   },
   "file_extension": ".py",
   "mimetype": "text/x-python",
   "name": "python",
   "nbconvert_exporter": "python",
   "pygments_lexer": "ipython3",
   "version": "3.9.13"
  },
  "latex_envs": {
   "LaTeX_envs_menu_present": true,
   "autoclose": false,
   "autocomplete": true,
   "bibliofile": "biblio.bib",
   "cite_by": "apalike",
   "current_citInitial": 1,
   "eqLabelWithNumbers": true,
   "eqNumInitial": 1,
   "hotkeys": {
    "equation": "Ctrl-E",
    "itemize": "Ctrl-I"
   },
   "labels_anchors": false,
   "latex_user_defs": false,
   "report_style_numbering": false,
   "user_envs_cfg": false
  },
  "toc": {
   "base_numbering": 1,
   "nav_menu": {},
   "number_sections": false,
   "sideBar": true,
   "skip_h1_title": true,
   "title_cell": "PTable of Contents",
   "title_sidebar": "Contents",
   "toc_cell": false,
   "toc_position": {
    "height": "836.875px",
    "left": "59px",
    "top": "111.125px",
    "width": "340px"
   },
   "toc_section_display": true,
   "toc_window_display": true
  }
 },
 "nbformat": 4,
 "nbformat_minor": 5
}

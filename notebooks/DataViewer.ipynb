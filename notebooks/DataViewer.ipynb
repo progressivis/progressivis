{
 "cells": [
  {
   "cell_type": "markdown",
   "id": "partial-springer",
   "metadata": {},
   "source": [
    "## Steerable MinMaxScaler"
   ]
  },
  {
   "cell_type": "code",
   "execution_count": 1,
   "id": "geographic-shannon",
   "metadata": {},
   "outputs": [],
   "source": [
    "import pandas as pd\n",
    "import numpy as np\n",
    "import tempfile as tf\n",
    "import os\n",
    "from progressivis import Scheduler, Print\n",
    "from progressivis.io import SimpleCSVLoader, DynVar\n",
    "from progressivis.stats import Histogram2D, Min, Max\n",
    "from progressivis.datasets import get_dataset\n",
    "from progressivis.vis import StatsExtender\n",
    "from progressivis.table import PTable\n",
    "from progressivis.table.constant import Constant\n",
    "from progressivis.utils.psdict import PDict\n",
    "from progressivis.stats.scaling import MinMaxScaler\n",
    "from progressivis_nb_widgets.nbwidgets import DataViewer\n",
    "from progressivis.datasets import get_dataset\n",
    "from progressivis.core import Sink\n",
    "\n",
    "s = Scheduler.default = Scheduler()\n",
    "\n",
    "PREFIX = '../../nyc-taxi/'\n",
    "\n",
    "SUFFIX = '.bz2'\n",
    "\n",
    "URLS = [\n",
    "    PREFIX+'yellow_tripdata_2015-01.csv'+SUFFIX,\n",
    "    PREFIX+'yellow_tripdata_2015-02.csv'+SUFFIX,\n",
    "    PREFIX+'yellow_tripdata_2015-03.csv'+SUFFIX,\n",
    "    PREFIX+'yellow_tripdata_2015-04.csv'+SUFFIX,\n",
    "    PREFIX+'yellow_tripdata_2015-05.csv'+SUFFIX,\n",
    "    PREFIX+'yellow_tripdata_2015-06.csv'+SUFFIX,\n",
    "]\n",
    "cols = ['pickup_longitude', 'pickup_latitude','dropoff_longitude',\n",
    "        'dropoff_latitude', 'trip_distance', 'store_and_fwd_flag', 'RateCodeID']\n",
    "#cols = ['pickup_longitude', 'pickup_latitude']\n",
    "#df = pd.read_csv(URLS[0], nrows=1000)\n",
    "#cols = df.dtypes.to_dict()\n",
    "FILENAMES = pd.DataFrame({'filename': URLS})\n",
    "CST = Constant(PTable('filenames', data=FILENAMES), scheduler=s)\n",
    "CSV = SimpleCSVLoader(index_col=False, skipinitialspace=True,\n",
    "                usecols=cols, scheduler=s, throttle=100)\n",
    "CSV.input.filenames = CST.output[0]\n",
    "stext = StatsExtender(usecols=cols)\n",
    "stext.create_dependent_modules(CSV, hist=True, min_=True,\n",
    "                              max_=True,\n",
    "                              var=True, distinct=True, \n",
    "                              corr=True)\n",
    "sink = Sink(scheduler=s)\n",
    "sink.input.inp = stext.output.result"
   ]
  },
  {
   "cell_type": "markdown",
   "id": "revised-kuwait",
   "metadata": {},
   "source": [
    "**NB:** the results will appear below after running all cells :"
   ]
  },
  {
   "cell_type": "code",
   "execution_count": 2,
   "id": "fleet-final",
   "metadata": {},
   "outputs": [
    {
     "data": {
      "application/vnd.jupyter.widget-view+json": {
       "model_id": "8e7c1b33977a4a12beb4265a14ff29ac",
       "version_major": 2,
       "version_minor": 0
      },
      "text/plain": [
       "DataViewer()"
      ]
     },
     "metadata": {},
     "output_type": "display_data"
    },
    {
     "name": "stdout",
     "output_type": "stream",
     "text": [
      "# Scheduler added module(s): ['constant_1', 'corr_1', 'distinct_1', 'dyn_var_1', 'dyn_var_198f494f-d461-4653-944c-367a472bfdd8', 'dyn_var_2', 'dyn_var_3', 'dyn_var_3613c20a-2514-49f1-b13a-6a9c67ff1f13', 'dyn_var_4', 'dyn_var_5', 'dyn_var_6', 'dyn_var_6285ffcd-c578-4976-bf8f-03bf7ca4af8d', 'dyn_var_7', 'dyn_var_8', 'dyn_var_807b087c-6fb9-4110-9fbd-afa96322dc3c', 'dyn_var_9', 'dyn_var_b8f44918-5a06-4481-8e05-b724bca25eba', 'histogram1_d_categorical_if_1', 'histogram1_d_categorical_if_2', 'histogram1_d_categorical_if_3', 'histogram1_d_categorical_if_4', 'histogram1_d_categorical_if_5', 'histogram1_d_categorical_if_6', 'histogram1_d_categorical_if_7', 'histogram1_d_if_1', 'histogram1_d_if_2', 'histogram1_d_if_3', 'histogram1_d_if_4', 'histogram1_d_if_5', 'histogram1_d_if_6', 'histogram1_d_if_7', 'histogram_index_if_1', 'histogram_index_if_2', 'histogram_index_if_3', 'histogram_index_if_4', 'histogram_index_if_5', 'histogram_index_if_6', 'histogram_index_if_7', 'kll_sketch_if_1', 'kll_sketch_if_2', 'kll_sketch_if_3', 'kll_sketch_if_4', 'kll_sketch_if_5', 'kll_sketch_if_6', 'kll_sketch_if_7', 'max_1', 'min_1', 'print_1', 'range_query_if_1', 'range_query_if_2', 'range_query_if_3', 'range_query_if_4', 'range_query_if_5', 'range_query_if_6', 'range_query_if_7', 'simple_csv_loader_1', 'sink_1', 'sink_12379bbd-0217-4572-8b56-1e59cc795210', 'sink_2', 'sink_3', 'sink_32862214-3b94-44a1-ae79-4fbbd0c8a35c', 'sink_4', 'sink_4b422f34-713d-4290-982e-8e5cbc23e942', 'sink_5', 'sink_6', 'sink_6f4c21c8-63e0-46e9-952b-08feac25e142', 'sink_7', 'sink_729d8606-b51d-4938-a55c-816ec99d094a', 'sink_764e1a84-61bf-40af-8063-e3fd2c6b3949', 'sink_7ec41b4f-679a-49d9-9570-941780d4297f', 'sink_8', 'sink_81868aea-726e-40dc-bd55-8a099320db3e', 'sink_85bf64a5-0f04-447b-937f-c496737fbc48', 'sink_9', 'sink_9e37814d-6eb3-4cd1-99f4-afa0079328ad', 'sink_9e7e19f3-6f0f-42aa-af68-f3a8e2a9b66f', 'sink_bc1bd6a6-fd4c-4124-be78-73f6edebe5f9', 'sink_cd1d5c04-d1af-4a52-a738-2af7de4ebae4', 'stats_extender_1', 'var_1']\n"
     ]
    }
   ],
   "source": [
    "import ipywidgets as ipw\n",
    "from IPython.display import display\n",
    "isco = DataViewer(stext)\n",
    "#print(isco)\n",
    "display(isco)\n",
    "s.task_start();"
   ]
  }
 ],
 "metadata": {
  "kernelspec": {
   "display_name": "Python 3 (ipykernel)",
   "language": "python",
   "name": "python3"
  },
  "language_info": {
   "codemirror_mode": {
    "name": "ipython",
    "version": 3
   },
   "file_extension": ".py",
   "mimetype": "text/x-python",
   "name": "python",
   "nbconvert_exporter": "python",
   "pygments_lexer": "ipython3",
   "version": "3.11.4"
  }
 },
 "nbformat": 4,
 "nbformat_minor": 5
}

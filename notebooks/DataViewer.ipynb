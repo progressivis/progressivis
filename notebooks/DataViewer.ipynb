{
 "cells": [
  {
   "cell_type": "markdown",
   "id": "partial-springer",
   "metadata": {},
   "source": [
    "## Steerable MinMaxScaler"
   ]
  },
  {
   "cell_type": "code",
   "execution_count": null,
   "id": "geographic-shannon",
   "metadata": {},
   "outputs": [],
   "source": [
    "import pandas as pd\n",
    "import numpy as np\n",
    "import tempfile as tf\n",
    "import os\n",
    "from progressivis import Scheduler, Print\n",
    "from progressivis.io import SimpleCSVLoader, DynVar\n",
    "from progressivis.stats import Histogram2D, Min, Max\n",
    "from progressivis.datasets import get_dataset\n",
    "from progressivis.vis import StatsExtender\n",
    "from progressivis.table import Table\n",
    "from progressivis.table.constant import Constant\n",
    "from progressivis.utils.psdict import PsDict\n",
    "from progressivis.stats.scaling import MinMaxScaler\n",
    "from progressivis_nb_widgets.nbwidgets import DataViewer\n",
    "from progressivis.datasets import get_dataset\n",
    "\n",
    "s = Scheduler.default = Scheduler()\n",
    "\n",
    "PREFIX = '../../nyc-taxi/'\n",
    "\n",
    "SUFFIX = '.bz2'\n",
    "\n",
    "URLS = [\n",
    "    PREFIX+'yellow_tripdata_2015-01.csv'+SUFFIX,\n",
    "    PREFIX+'yellow_tripdata_2015-02.csv'+SUFFIX,\n",
    "    PREFIX+'yellow_tripdata_2015-03.csv'+SUFFIX,\n",
    "    PREFIX+'yellow_tripdata_2015-04.csv'+SUFFIX,\n",
    "    PREFIX+'yellow_tripdata_2015-05.csv'+SUFFIX,\n",
    "    PREFIX+'yellow_tripdata_2015-06.csv'+SUFFIX,\n",
    "]\n",
    "num_cols = ['pickup_longitude', 'pickup_latitude','dropoff_longitude',\n",
    "        'dropoff_latitude', 'trip_distance', 'RateCodeID']\n",
    "cols = num_cols #+ ['store_and_fwd_flag']\n",
    "FILENAMES = pd.DataFrame({'filename': URLS})\n",
    "CST = Constant(Table('filenames', data=FILENAMES), scheduler=s)\n",
    "CSV = SimpleCSVLoader(index_col=False, skipinitialspace=True,\n",
    "                usecols=cols, scheduler=s, throttle=100)\n",
    "\n",
    "CSV.input.filenames = CST.output[0]\n",
    "#pr=Print(proc=lambda x: None, scheduler=s)\n",
    "#pr.input[0] = CSV.output.result\n",
    "stext = StatsExtender(usecols=cols)\n",
    "stext.create_dependent_modules(CSV, hist=True, min_=True,\n",
    "                              max_=True,\n",
    "                              var=True, distinct=True, \n",
    "                              corr=True)"
   ]
  },
  {
   "cell_type": "markdown",
   "id": "revised-kuwait",
   "metadata": {},
   "source": [
    "**NB:** the results will appear below after running all cells :"
   ]
  },
  {
   "cell_type": "code",
   "execution_count": null,
   "id": "fleet-final",
   "metadata": {
    "scrolled": true
   },
   "outputs": [],
   "source": [
    "import ipywidgets as ipw\n",
    "from IPython.display import display\n",
    "isco = DataViewer(stext)\n",
    "display(isco)\n",
    "s.task_start();"
   ]
  }
 ],
 "metadata": {
  "kernelspec": {
   "display_name": "Python 3",
   "language": "python",
   "name": "python3"
  },
  "language_info": {
   "codemirror_mode": {
    "name": "ipython",
    "version": 3
   },
   "file_extension": ".py",
   "mimetype": "text/x-python",
   "name": "python",
   "nbconvert_exporter": "python",
   "pygments_lexer": "ipython3",
   "version": "3.9.7"
  }
 },
 "nbformat": 4,
 "nbformat_minor": 5
}

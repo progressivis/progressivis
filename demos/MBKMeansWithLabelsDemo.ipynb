{
 "cells": [
  {
   "cell_type": "code",
   "execution_count": null,
   "metadata": {},
   "outputs": [],
   "source": [
    "from progressivis_nb_widgets import *"
   ]
  },
  {
   "cell_type": "code",
   "execution_count": null,
   "metadata": {},
   "outputs": [],
   "source": [
    "from progressivis import Scheduler\n",
    "from progressivis.cluster import MBKMeans, MBKMeansFilter\n",
    "from progressivis.io import CSVLoader\n",
    "from progressivis.vis import MCScatterPlot\n",
    "from progressivis.core.utils import gather_and_run\n",
    "from progressivis.utils.psdict import PsDict\n",
    "from progressivis.stats.blobs_table import BlobsTable, MVBlobsTable\n",
    "import numpy as np\n",
    "\n",
    "s = Scheduler()\n",
    "MULTIVARIATE_NORMAL = True\n",
    "if not MULTIVARIATE_NORMAL: # simple isotropic blobs (using scikit-learn make_blobs)\n",
    "    centers = [(0.1, 0.3), (0.7, 0.5), (-0.4, -0.3)]\n",
    "    data = BlobsTable(columns=['_0', '_1'],  centers=centers, cluster_std=0.2, rows=999999, scheduler=s)\n",
    "else: # i.e. control each cluster's covariance matrix (using numpy.random.multivariate_normal)\n",
    "    means = [0.1, 0.3], [0.7, 0.5], [-0.4, -0.3]\n",
    "    covs = [[0.01, 0], [0, 0.09]], [[0.04, 0], [0, 0.01]], [[0.09, 0.04], [0.04, 0.02]]\n",
    "    data = MVBlobsTable(columns=['_0', '_1'], means=means, covs=covs, rows=2_000_000, scheduler=s)\n",
    "n_clusters = 3\n",
    "mbkmeans = MBKMeans(columns=['_0', '_1'], n_clusters=n_clusters, \n",
    "                    batch_size=100, tol=0.01, is_input=False, scheduler=s)\n",
    "mbkmeans.create_dependent_modules(data)\n",
    "classes = []\n",
    "for i in range(n_clusters):\n",
    "    cname = f\"k{i}\"\n",
    "    filt = MBKMeansFilter(i, scheduler=s)\n",
    "    filt.create_dependent_modules(mbkmeans, data, 'result')\n",
    "    classes.append({'name': cname, 'x_column': '_0',\n",
    "                    'y_column': '_1', 'sample': mbkmeans if i==0 else None,\n",
    "                    'sample_slot': 'result',\n",
    "                    'input_module': filt, 'input_slot': 'result'})\n",
    "sp = MCScatterPlot(scheduler=s, classes=classes)\n",
    "sp.create_dependent_modules()\n",
    "for i in range(n_clusters):\n",
    "    cname = f\"k{i}\"\n",
    "    sp[cname].min_value.result = PsDict({'_0': -np.inf, '_1': -np.inf})\n",
    "    sp[cname].max_value.result = PsDict({'_0': np.inf, '_1': np.inf})\n",
    "\n",
    "sp.move_point = mbkmeans.moved_center # for input management\n",
    "# Create the dashboard object\n",
    "psboard = PsBoard(s, order='desc')\n",
    "# Visualisations require registration :\n",
    "# 1) When widget provides the link_module() method do :\n",
    "psboard.register_visualisation(Scatterplot(disable=['filter']), sp)\n",
    "# 2) When widget is generic or for overloading the link_module() method do:\n",
    "# psboard.register_visualisation(FooWidget(), bar_module, glue=glue_func)\n",
    "# NB: glue_func(widget, module)-> [coroutine] must be provided\n",
    "# Start application :\n",
    "gather_and_run(s.start(), *psboard.coroutines)"
   ]
  },
  {
   "cell_type": "markdown",
   "metadata": {},
   "source": [
    "#### Click  _&#x1f441; mc_scatter_plot_1_ below to display the scatterplot:"
   ]
  },
  {
   "cell_type": "code",
   "execution_count": null,
   "metadata": {
    "scrolled": false
   },
   "outputs": [],
   "source": [
    "display(psboard)"
   ]
  }
 ],
 "metadata": {
  "kernelspec": {
   "display_name": "Python 3",
   "language": "python",
   "name": "python3"
  },
  "language_info": {
   "codemirror_mode": {
    "name": "ipython",
    "version": 3
   },
   "file_extension": ".py",
   "mimetype": "text/x-python",
   "name": "python",
   "nbconvert_exporter": "python",
   "pygments_lexer": "ipython3",
   "version": "3.7.9"
  }
 },
 "nbformat": 4,
 "nbformat_minor": 2
}

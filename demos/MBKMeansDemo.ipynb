{
 "cells": [
  {
   "cell_type": "code",
   "execution_count": 1,
   "metadata": {},
   "outputs": [],
   "source": [
    "from progressivis_nb_widgets import *"
   ]
  },
  {
   "cell_type": "code",
   "execution_count": 2,
   "metadata": {},
   "outputs": [
    {
     "name": "stdout",
     "output_type": "stream",
     "text": [
      "# Scheduler added module(s): ['csv_loader_1', 'dyn_var_1', 'dyn_var_2', 'dyn_var_3', 'histogram_index_1', 'histogram_index_2', 'max_1', 'max_2', 'mbk_means_1', 'mc_histogram2_d_1', 'mc_scatter_plot_1', 'merge_dict_1', 'merge_dict_2', 'min_1', 'min_2', 'range_query2d_1', 'var_1']\n"
     ]
    },
    {
     "name": "stderr",
     "output_type": "stream",
     "text": [
      "Exception in thread Thread-8:\n",
      "Traceback (most recent call last):\n",
      "  File \"/home/poli/anaconda3/envs/progressivis/lib/python3.9/threading.py\", line 973, in _bootstrap_inner\n",
      "    self.run()\n",
      "  File \"/home/poli/anaconda3/envs/progressivis/lib/python3.9/threading.py\", line 910, in run\n",
      "    self._target(*self._args, **self._kwargs)\n",
      "  File \"/home/poli/JDF2016/github/progressivis/progressivis/core/utils.py\", line 940, in func_\n",
      "    loop.run_until_complete(gath())\n",
      "  File \"/home/poli/anaconda3/envs/progressivis/lib/python3.9/asyncio/base_events.py\", line 642, in run_until_complete\n",
      "    return future.result()\n",
      "  File \"/home/poli/JDF2016/github/progressivis/progressivis/core/utils.py\", line 935, in gath\n",
      "    await aio.gather(*args)\n",
      "  File \"/home/poli/JDF2016/github/progressivis/widgets/progressivis_nb_widgets/nbwidgets/psboard.py\", line 71, in refresh_fun\n",
      "    json_ = psboard.scheduler.to_json(short=False)\n",
      "  File \"/home/poli/JDF2016/github/progressivis/progressivis/core/scheduler.py\", line 184, in to_json\n",
      "    mods[name] = module.to_json(short=short)\n",
      "  File \"/home/poli/JDF2016/github/progressivis/progressivis/cluster/mb_k_means.py\", line 247, in to_json\n",
      "    return self._centers_to_json(json)\n",
      "  File \"/home/poli/JDF2016/github/progressivis/progressivis/cluster/mb_k_means.py\", line 250, in _centers_to_json\n",
      "    json[\"cluster_centers\"] = self.result.to_json()\n",
      "AttributeError: 'NoneType' object has no attribute 'to_json'\n"
     ]
    }
   ],
   "source": [
    "\"\"\"\n",
    "Clustering datasets may be found at\n",
    "https://cs.joensuu.fi/sipu/datasets/\n",
    "\"\"\"\n",
    "from progressivis import Scheduler, Every#, log_level\n",
    "from progressivis.cluster import MBKMeans\n",
    "from progressivis.io import CSVLoader\n",
    "from progressivis.vis import MCScatterPlot\n",
    "from progressivis.datasets import get_dataset\n",
    "from progressivis.stats import RandomTable\n",
    "from progressivis.utils.psdict import PsDict\n",
    "import numpy as np\n",
    "try:\n",
    "    s = scheduler\n",
    "except NameError:\n",
    "    s = Scheduler()\n",
    "    #log_level(package=\"progressivis.cluster\")\n",
    "\n",
    "data = CSVLoader(get_dataset('cluster:s1'),sep='\\\\s+',skipinitialspace=True,header=None,index_col=False,scheduler=s)\n",
    "mbkmeans = MBKMeans(columns=['_0', '_1'], n_clusters=15, batch_size=100, is_input=False, scheduler=s)\n",
    "sp = MCScatterPlot(scheduler=s, classes=[('Scatterplot', '_0', '_1', mbkmeans)])\n",
    "sp.create_dependent_modules(data,'result')\n",
    "sp['Scatterplot'].min_value.result.update({'_0': -np.inf, '_1': -np.inf})\n",
    "sp['Scatterplot'].max_value.result.update({'_0': np.inf, '_1': np.inf})\n",
    "mbkmeans.create_dependent_modules(sp['Scatterplot'].range_query_2d)\n",
    "\n",
    "sp.move_point = mbkmeans.moved_center # for input management\n",
    "# Create the dashboard object\n",
    "\n",
    "psboard = PsBoard(s, order='desc')\n",
    "# Visualisations require registration :\n",
    "# 1) When widget provides the link_module() method do :\n",
    "psboard.register_visualisation(Scatterplot(), sp)\n",
    "# 2) When widget is generic or for overloading the link_module() method do:\n",
    "# psboard.register_visualisation(FooWidget(), bar_module, glue=glue_func)\n",
    "# NB: glue_func(widget, module)-> [coroutine] must be provided\n",
    "# Start application :\n",
    "s.task_start();"
   ]
  },
  {
   "cell_type": "markdown",
   "metadata": {},
   "source": [
    "#### Click  _&#x1f441; mc_scatter_plot_1_ below to display the scatterplot:"
   ]
  },
  {
   "cell_type": "code",
   "execution_count": 3,
   "metadata": {
    "scrolled": false
   },
   "outputs": [
    {
     "data": {
      "application/vnd.jupyter.widget-view+json": {
       "model_id": "3920bacdf68e42c6b50523fec5dc0ecb",
       "version_major": 2,
       "version_minor": 0
      },
      "text/plain": [
       "PsBoard(children=(ControlPanel(children=(Button(description='Resume', disabled=True, icon='play', style=Button…"
      ]
     },
     "metadata": {},
     "output_type": "display_data"
    }
   ],
   "source": [
    "display(psboard)"
   ]
  }
 ],
 "metadata": {
  "kernelspec": {
   "display_name": "Python 3 (ipykernel)",
   "language": "python",
   "name": "python3"
  },
  "language_info": {
   "codemirror_mode": {
    "name": "ipython",
    "version": 3
   },
   "file_extension": ".py",
   "mimetype": "text/x-python",
   "name": "python",
   "nbconvert_exporter": "python",
   "pygments_lexer": "ipython3",
   "version": "3.9.7"
  }
 },
 "nbformat": 4,
 "nbformat_minor": 4
}
